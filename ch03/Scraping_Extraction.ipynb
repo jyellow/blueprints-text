{
  "cells": [
    {
      "cell_type": "markdown",
      "metadata": {
        "id": "SaVi4yl5Q6oo"
      },
      "source": [
        "[**Blueprints for Text Analysis Using Python**](https://github.com/blueprints-for-text-analytics-python/blueprints-text)  \n",
        "Jens Albrecht, Sidharth Ramachandran, Christian Winkler\n",
        "\n",
        "# Chapter 3:<div class='tocSkip'/>"
      ]
    },
    {
      "cell_type": "markdown",
      "metadata": {
        "id": "6HcLtn6oQ6op"
      },
      "source": [
        "# Scraping Websites and Extracting Data"
      ]
    },
    {
      "cell_type": "markdown",
      "metadata": {
        "id": "Xl6GiO3bQ6op"
      },
      "source": [
        "## Remark<div class='tocSkip'/>\n",
        "\n",
        "The code in this notebook differs slightly from the printed book. The Reuters website has changed significantly and is now obfuscated. For the illustractive examples we use the version from the Internet Archive. There are some utility functions which explain how to handle obfuscation though.\n",
        "\n",
        "Moreover, several layout and formatting commands, like `figsize` to control figure size or subplot commands are removed in the book.\n",
        "\n",
        "All of this is done to simplify the code in the book and put the focus on the important parts instead of formatting."
      ]
    },
    {
      "cell_type": "markdown",
      "metadata": {
        "id": "wOtrQ3X6Q6oq"
      },
      "source": [
        "## Setup<div class='tocSkip'/>\n",
        "\n",
        "Set directory locations. If working on Google Colab: copy files and install required libraries."
      ]
    },
    {
      "cell_type": "code",
      "execution_count": 1,
      "metadata": {
        "id": "38pMhr-WQ6oq",
        "outputId": "1325bbd8-ef30-4bfe-9498-b7f904c3950f",
        "colab": {
          "base_uri": "https://localhost:8080/"
        }
      },
      "outputs": [
        {
          "output_type": "stream",
          "name": "stdout",
          "text": [
            "You are working on Google Colab.\n",
            "Files will be downloaded to \"/content\".\n",
            "Downloading required files ...\n",
            "!wget -P /content https://github.com/blueprints-for-text-analytics-python/blueprints-text/raw/master/settings.py\n",
            "!wget -P /content/ch03 https://github.com/blueprints-for-text-analytics-python/blueprints-text/raw/master/ch03/requirements.txt\n",
            "\n",
            "Additional setup ...\n",
            "!pip install -r ch03/requirements.txt\n"
          ]
        }
      ],
      "source": [
        "import sys, os\n",
        "ON_COLAB = 'google.colab' in sys.modules\n",
        "\n",
        "if ON_COLAB:\n",
        "    GIT_ROOT = 'https://github.com/blueprints-for-text-analytics-python/blueprints-text/raw/master'\n",
        "    os.system(f'wget {GIT_ROOT}/ch03/setup.py')\n",
        "\n",
        "%run -i setup.py"
      ]
    },
    {
      "cell_type": "markdown",
      "metadata": {
        "id": "Z1Ba84D7Q6oq"
      },
      "source": [
        "## Load Python Settings<div class=\"tocSkip\"/>\n",
        "\n",
        "Common imports, defaults for formatting in Matplotlib, Pandas etc."
      ]
    },
    {
      "cell_type": "code",
      "execution_count": 2,
      "metadata": {
        "id": "nk0uy4a7Q6or"
      },
      "outputs": [],
      "source": [
        "%run \"$BASE_DIR/settings.py\"\n",
        "\n",
        "%reload_ext autoreload\n",
        "%autoreload 2\n",
        "%config InlineBackend.figure_format = 'png'"
      ]
    },
    {
      "cell_type": "markdown",
      "metadata": {
        "id": "bg6vXOpUoGq4"
      },
      "source": [
        "# Blueprint: download and interpret robots.txt"
      ]
    },
    {
      "cell_type": "code",
      "execution_count": 3,
      "metadata": {
        "id": "XgVenIOToGq7"
      },
      "outputs": [],
      "source": [
        "import urllib.robotparser\n",
        "rp = urllib.robotparser.RobotFileParser()\n",
        "rp.set_url(\"https://www.reuters.com/robots.txt\")\n",
        "rp.read()"
      ]
    },
    {
      "cell_type": "code",
      "execution_count": 4,
      "metadata": {
        "colab": {
          "base_uri": "https://localhost:8080/"
        },
        "id": "iuxWAarsoGq-",
        "outputId": "c17e071a-4679-4b09-86cc-5e0974cf91b7"
      },
      "outputs": [
        {
          "output_type": "execute_result",
          "data": {
            "text/plain": [
              "True"
            ]
          },
          "metadata": {},
          "execution_count": 4
        }
      ],
      "source": [
        "rp.can_fetch(\"*\", \"https://www.reuters.com/arc/outboundfeeds/news-sitemap/?outputType=xml\")"
      ]
    },
    {
      "cell_type": "code",
      "execution_count": 5,
      "metadata": {
        "colab": {
          "base_uri": "https://localhost:8080/"
        },
        "id": "3L101T-5oGrB",
        "outputId": "47fda887-843d-4247-f8ed-6ead06ec419a"
      },
      "outputs": [
        {
          "output_type": "execute_result",
          "data": {
            "text/plain": [
              "False"
            ]
          },
          "metadata": {},
          "execution_count": 5
        }
      ],
      "source": [
        "rp.can_fetch(\"*\", \"https://www.reuters.com/finance/stocks/option\")"
      ]
    },
    {
      "cell_type": "markdown",
      "metadata": {
        "id": "mzwDF3nOoGrD"
      },
      "source": [
        "# Blueprint: finding URLs from sitemap.xml"
      ]
    },
    {
      "cell_type": "code",
      "execution_count": 6,
      "metadata": {
        "id": "W852mFHOoGrE",
        "scrolled": true
      },
      "outputs": [],
      "source": [
        "# might need to install xmltodict\n",
        "import xmltodict\n",
        "import requests\n",
        "\n",
        "sitemap = xmltodict.parse(requests.get('https://www.reuters.com/arc/outboundfeeds/news-sitemap/?outputType=xml').text)"
      ]
    },
    {
      "cell_type": "code",
      "execution_count": 7,
      "metadata": {
        "colab": {
          "base_uri": "https://localhost:8080/"
        },
        "id": "841uffIloGrH",
        "outputId": "60c29374-c986-4e8a-e3e7-f08af62c35a3"
      },
      "outputs": [
        {
          "output_type": "stream",
          "name": "stdout",
          "text": [
            "https://www.reuters.com/pt/desportivo/OAMMQGSYQZIGLCP3CG4VIKIRNQ-2024-12-12/\n",
            "https://www.reuters.com/business/healthcare-pharmaceuticals/european-drug-regulator-allows-novo-include-reduction-kidney-disease-ozempic-2024-12-12/\n",
            "https://www.reuters.com/fact-check/miscaptioned-video-does-not-show-unitedhealthcare-ceo-brian-thompson-2024-12-12/\n"
          ]
        }
      ],
      "source": [
        "# just see some of the URLs\n",
        "urls = [url[\"loc\"] for url in sitemap[\"urlset\"][\"url\"]]\n",
        "print(\"\\n\".join(urls[0:3]))"
      ]
    },
    {
      "cell_type": "markdown",
      "metadata": {
        "id": "EiIUx1sSoGrL"
      },
      "source": [
        "# Blueprint: finding URLs from RSS"
      ]
    },
    {
      "cell_type": "markdown",
      "metadata": {
        "id": "_3p6MD1iQ6os"
      },
      "source": [
        "Reuters removed its RSS feed after the book was published. We therefore use a saved copy from the Internet archive"
      ]
    },
    {
      "cell_type": "code",
      "execution_count": 8,
      "metadata": {
        "id": "7MGKtBAKoGrM"
      },
      "outputs": [],
      "source": [
        "# might need to install feedparser\n",
        "import feedparser\n",
        "feed = feedparser.parse('http://web.archive.org/web/20200613003232if_/http://feeds.reuters.com/Reuters/worldNews')"
      ]
    },
    {
      "cell_type": "code",
      "execution_count": 9,
      "metadata": {
        "colab": {
          "base_uri": "https://localhost:8080/"
        },
        "id": "7gEmDJtRoGrP",
        "outputId": "8a307e6f-fa59-4b52-f3e0-2fd40315767d"
      },
      "outputs": [
        {
          "output_type": "execute_result",
          "data": {
            "text/plain": [
              "[('Mexico City to begin gradual exit from lockdown on Monday',\n",
              "  'http://feeds.reuters.com/~r/Reuters/worldNews/~3/OQtkVdAqHos/mexico-city-to-begin-gradual-exit-from-lockdown-on-monday-idUSKBN23K00R'),\n",
              " ('Mexico reports record tally of 5,222 new coronavirus cases',\n",
              "  'http://feeds.reuters.com/~r/Reuters/worldNews/~3/Rkz9j2G7lJU/mexico-reports-record-tally-of-5222-new-coronavirus-cases-idUSKBN23K00B'),\n",
              " ('Venezuela supreme court to swear in new electoral council leaders, government says',\n",
              "  'http://feeds.reuters.com/~r/Reuters/worldNews/~3/cc3R5aq4Ksk/venezuela-supreme-court-to-swear-in-new-electoral-council-leaders-government-says-idUSKBN23J39T'),\n",
              " (\"One-fifth of Britain's coronavirus patients were infected in hospitals: Telegraph\",\n",
              "  'http://feeds.reuters.com/~r/Reuters/worldNews/~3/1_7Wb0S_6-8/one-fifth-of-britains-coronavirus-patients-were-infected-in-hospitals-telegraph-idUSKBN23J382'),\n",
              " ('France to lift border controls for EU travellers on June 15',\n",
              "  'http://feeds.reuters.com/~r/Reuters/worldNews/~3/59BfrIYmz5w/france-to-lift-border-controls-for-eu-travellers-on-june-15-idUSKBN23J385'),\n",
              " (\"Brazil's COVID-19 deaths surge past UK, WHO says hospital system coping\",\n",
              "  'http://feeds.reuters.com/~r/Reuters/worldNews/~3/SVdaoPH85n4/brazils-covid-19-deaths-surge-past-uk-who-says-hospital-system-coping-idUSKBN23J30F'),\n",
              " (\"Canada's Trudeau calls arrest video of indigenous leader 'shocking'\",\n",
              "  'http://feeds.reuters.com/~r/Reuters/worldNews/~3/I7SImHlpjnM/canadas-trudeau-calls-arrest-video-of-indigenous-leader-shocking-idUSKBN23J2YF'),\n",
              " ('Egypt registers highest daily rise in coronavirus cases in nearly two weeks',\n",
              "  'http://feeds.reuters.com/~r/Reuters/worldNews/~3/EYyoma3WpSU/egypt-registers-highest-daily-rise-in-coronavirus-cases-in-nearly-two-weeks-idUSKBN23J36C'),\n",
              " ('Artists around the world pay tribute to George Floyd',\n",
              "  'http://feeds.reuters.com/~r/Reuters/worldNews/~3/r1LKkd3sJbs/artists-around-the-world-pay-tribute-to-george-floyd-idUSKBN23J35M'),\n",
              " (\"Brazil's COVID-19 death toll passes Britain, world's second highest\",\n",
              "  'http://feeds.reuters.com/~r/Reuters/worldNews/~3/g_uEz1XDgII/brazils-covid-19-death-toll-passes-britain-worlds-second-highest-idUSKBN23J35Q'),\n",
              " ('Lebanon protesters burn roads, clash with security in second night of unrest',\n",
              "  'http://feeds.reuters.com/~r/Reuters/worldNews/~3/nlJrlQbdQaw/lebanon-protesters-burn-roads-clash-with-security-in-second-night-of-unrest-idUSKBN23J33Z'),\n",
              " (\"'Stop buying social peace at our expense', French police tell government\",\n",
              "  'http://feeds.reuters.com/~r/Reuters/worldNews/~3/ZXOifRQXcjc/stop-buying-social-peace-at-our-expense-french-police-tell-government-idUSKBN23J17H'),\n",
              " ('Soccer team mobs coffin of murdered Mexican teen after moving tribute',\n",
              "  'http://feeds.reuters.com/~r/Reuters/worldNews/~3/KlaKFzEWF5s/soccer-team-mobs-coffin-of-murdered-mexican-teen-after-moving-tribute-idUSKBN23J33O'),\n",
              " (\"Chile's military moves through shadows to spot coronavirus curfew breakers\",\n",
              "  'http://feeds.reuters.com/~r/Reuters/worldNews/~3/kWg9jn4jS18/chiles-military-moves-through-shadows-to-spot-coronavirus-curfew-breakers-idUSKBN23J33D'),\n",
              " (\"Somalia's Islamist group al Shabaab says sets up COVID-19 treatment centre\",\n",
              "  'http://feeds.reuters.com/~r/Reuters/worldNews/~3/1AzaAZSLi50/somalias-islamist-group-al-shabaab-says-sets-up-covid-19-treatment-centre-idUSKBN23J32C'),\n",
              " (\"Congo's gold being smuggled out by the tonne, U.N. report finds\",\n",
              "  'http://feeds.reuters.com/~r/Reuters/worldNews/~3/0h7HNifS-EA/congos-gold-being-smuggled-out-by-the-tonne-u-n-report-finds-idUSKBN23J324'),\n",
              " ('Brazil drops police from human rights report amid global protests against racism and abuse',\n",
              "  'http://feeds.reuters.com/~r/Reuters/worldNews/~3/keFB_DL2_3Q/brazil-drops-police-from-human-rights-report-amid-global-protests-against-racism-and-abuse-idUSKBN23J316'),\n",
              " ('Slovenia to open borders for Italians, Montenegrins on June 15',\n",
              "  'http://feeds.reuters.com/~r/Reuters/worldNews/~3/Lp-FVxxomp8/slovenia-to-open-borders-for-italians-montenegrins-on-june-15-idUSKBN23J31U'),\n",
              " ('Botswana reinstates strict coronavirus lockdown in capital city',\n",
              "  'http://feeds.reuters.com/~r/Reuters/worldNews/~3/alBNYMaCpxA/botswana-reinstates-strict-coronavirus-lockdown-in-capital-city-idUSKBN23J31Q'),\n",
              " ('Coronavirus hitting the Americas hardest says World Health Organization',\n",
              "  'http://feeds.reuters.com/~r/Reuters/worldNews/~3/nOWjc9tZhig/coronavirus-hitting-the-americas-hardest-says-world-health-organization-idUSKBN23J2K3')]"
            ]
          },
          "metadata": {},
          "execution_count": 9
        }
      ],
      "source": [
        "[(e.title, e.link) for e in feed.entries]"
      ]
    },
    {
      "cell_type": "code",
      "execution_count": 10,
      "metadata": {
        "colab": {
          "base_uri": "https://localhost:8080/"
        },
        "id": "kJoqad-EoGrS",
        "outputId": "d99bbddd-f093-4ece-c1c6-c8bddfc42c42"
      },
      "outputs": [
        {
          "output_type": "execute_result",
          "data": {
            "text/plain": [
              "['https://www.reuters.com/article/us-health-coronavirus-mexico-city/mexico-city-to-begin-gradual-exit-from-lockdown-on-monday-idUSKBN23K00R?feedType=RSS&feedName=worldNews',\n",
              " 'https://www.reuters.com/article/us-health-coronavirus-mexico/mexico-reports-record-tally-of-5222-new-coronavirus-cases-idUSKBN23K00B?feedType=RSS&feedName=worldNews',\n",
              " 'https://www.reuters.com/article/us-venezuela-politics/venezuela-supreme-court-to-swear-in-new-electoral-council-leaders-government-says-idUSKBN23J39T?feedType=RSS&feedName=worldNews',\n",
              " 'https://www.reuters.com/article/us-health-coronavirus-britain-hospitals/one-fifth-of-britains-coronavirus-patients-were-infected-in-hospitals-telegraph-idUSKBN23J382?feedType=RSS&feedName=worldNews',\n",
              " 'https://www.reuters.com/article/us-health-coronavirus-france-borders/france-to-lift-border-controls-for-eu-travellers-on-june-15-idUSKBN23J385?feedType=RSS&feedName=worldNews',\n",
              " 'https://www.reuters.com/article/us-health-coronavirus-brazil/brazils-covid-19-deaths-surge-past-uk-who-says-hospital-system-coping-idUSKBN23J30F?feedType=RSS&feedName=worldNews',\n",
              " 'https://www.reuters.com/article/us-canada-police-trudeau/canadas-trudeau-calls-arrest-video-of-indigenous-leader-shocking-idUSKBN23J2YF?feedType=RSS&feedName=worldNews',\n",
              " 'https://www.reuters.com/article/us-health-coronavirus-egypt-toll/egypt-registers-highest-daily-rise-in-coronavirus-cases-in-nearly-two-weeks-idUSKBN23J36C?feedType=RSS&feedName=worldNews',\n",
              " 'https://www.reuters.com/article/us-minneapolis-police-protests-art/artists-around-the-world-pay-tribute-to-george-floyd-idUSKBN23J35M?feedType=RSS&feedName=worldNews',\n",
              " 'https://www.reuters.com/article/us-health-coronavirus-brazil-numbers/brazils-covid-19-death-toll-passes-britain-worlds-second-highest-idUSKBN23J35Q?feedType=RSS&feedName=worldNews',\n",
              " 'https://www.reuters.com/article/us-lebanon-crisis-protests/lebanon-protesters-burn-roads-clash-with-security-in-second-night-of-unrest-idUSKBN23J33Z?feedType=RSS&feedName=worldNews',\n",
              " 'https://www.reuters.com/article/us-france-security-police/stop-buying-social-peace-at-our-expense-french-police-tell-government-idUSKBN23J17H?feedType=RSS&feedName=worldNews',\n",
              " 'https://www.reuters.com/article/us-minneapolis-police-mexico/soccer-team-mobs-coffin-of-murdered-mexican-teen-after-moving-tribute-idUSKBN23J33O?feedType=RSS&feedName=worldNews',\n",
              " 'https://www.reuters.com/article/us-health-coronavirus-chile-army/chiles-military-moves-through-shadows-to-spot-coronavirus-curfew-breakers-idUSKBN23J33D?feedType=RSS&feedName=worldNews',\n",
              " 'https://www.reuters.com/article/us-health-coronavirus-somalia/somalias-islamist-group-al-shabaab-says-sets-up-covid-19-treatment-centre-idUSKBN23J32C?feedType=RSS&feedName=worldNews',\n",
              " 'https://www.reuters.com/article/us-congo-gold/congos-gold-being-smuggled-out-by-the-tonne-u-n-report-finds-idUSKBN23J324?feedType=RSS&feedName=worldNews',\n",
              " 'https://www.reuters.com/article/us-brazil-violence/brazil-drops-police-from-human-rights-report-amid-global-protests-against-racism-and-abuse-idUSKBN23J316?feedType=RSS&feedName=worldNews',\n",
              " 'https://www.reuters.com/article/us-health-coronavirus-slovenia-italy/slovenia-to-open-borders-for-italians-montenegrins-on-june-15-idUSKBN23J31U?feedType=RSS&feedName=worldNews',\n",
              " 'https://www.reuters.com/article/us-health-coronavirus-botswana/botswana-reinstates-strict-coronavirus-lockdown-in-capital-city-idUSKBN23J31Q?feedType=RSS&feedName=worldNews',\n",
              " 'https://www.reuters.com/article/us-health-coronavirus-who/coronavirus-hitting-the-americas-hardest-says-world-health-organization-idUSKBN23J2K3?feedType=RSS&feedName=worldNews']"
            ]
          },
          "metadata": {},
          "execution_count": 10
        }
      ],
      "source": [
        "[e.id for e in feed.entries]"
      ]
    },
    {
      "cell_type": "code",
      "source": [
        "urls[0:10]"
      ],
      "metadata": {
        "id": "rhNeTEWzSGJz",
        "outputId": "313175bc-9d0a-4904-e6a7-989030f7bbd4",
        "colab": {
          "base_uri": "https://localhost:8080/"
        }
      },
      "execution_count": 13,
      "outputs": [
        {
          "output_type": "execute_result",
          "data": {
            "text/plain": [
              "['https://www.reuters.com/pt/desportivo/OAMMQGSYQZIGLCP3CG4VIKIRNQ-2024-12-12/',\n",
              " 'https://www.reuters.com/business/healthcare-pharmaceuticals/european-drug-regulator-allows-novo-include-reduction-kidney-disease-ozempic-2024-12-12/',\n",
              " 'https://www.reuters.com/fact-check/miscaptioned-video-does-not-show-unitedhealthcare-ceo-brian-thompson-2024-12-12/',\n",
              " 'https://www.reuters.com/it/azienda/usa-richieste-disoccupazione-settimanali-aumentano-inaspettatamente-2024-12-12/',\n",
              " 'https://www.reuters.com/ar/business/FUTGQ54C4BLATHPUR4MQROAJEA-2024-12-12/',\n",
              " 'https://www.reuters.com/ar/world/VORPSTUBENP3VLHEH6MQRQPGJU-2024-12-12/',\n",
              " 'https://www.reuters.com/markets/global-cenbank-liquidity-market-headwind-tailwind-mcgeever-2024-12-12/',\n",
              " 'https://www.reuters.com/latam/negocio/OLW25KWYOBJOTA33SISVMNI7S4-2024-12-12/',\n",
              " 'https://www.reuters.com/es/mundo/EZGTK4KFZNOZLD3I4EJLKXRJIA-2024-12-12/',\n",
              " 'https://www.reuters.com/markets/deals/triton-acquires-boschs-security-communications-unit-2024-12-12/']"
            ]
          },
          "metadata": {},
          "execution_count": 13
        }
      ]
    },
    {
      "cell_type": "markdown",
      "metadata": {
        "id": "chlsxEoAoGrU"
      },
      "source": [
        "# Example: Downloading HTML pages with Python"
      ]
    },
    {
      "cell_type": "code",
      "execution_count": 20,
      "metadata": {
        "id": "dIwBH0daoGrV"
      },
      "outputs": [],
      "source": [
        "# 这段代码有问题，暂时运行不起来\n",
        "# # %%time\n",
        "s = requests.Session()\n",
        "# for url in urls[0:10]:\n",
        "#     # get the part after the last / in URL and use as filename\n",
        "#     file = url.split(\"/\")[-1]\n",
        "\n",
        "#     r = s.get(url)\n",
        "#     with open(file, \"w+b\") as f:\n",
        "#         f.write(r.text.encode('utf-8'))"
      ]
    },
    {
      "cell_type": "code",
      "execution_count": null,
      "metadata": {
        "id": "xlBeX4pWoGrY"
      },
      "outputs": [],
      "source": [
        "with open(\"urls.txt\", \"w+b\") as f:\n",
        "    f.write(\"\\n\".join(urls).encode('utf-8'))"
      ]
    },
    {
      "cell_type": "markdown",
      "metadata": {
        "id": "71lE3mouoGra"
      },
      "source": [
        "# Blueprint: Extraction with regular expressions"
      ]
    },
    {
      "cell_type": "markdown",
      "metadata": {
        "id": "dsiYQP65oGrb"
      },
      "source": [
        "We first have to download a single article"
      ]
    },
    {
      "cell_type": "code",
      "execution_count": 18,
      "metadata": {
        "id": "js5blgHuoGrc"
      },
      "outputs": [],
      "source": [
        "url = 'https://www.reuters.com/article/us-health-vaping-marijuana-idUSKBN1WG4KT'\n",
        "\n",
        "file = url.split(\"/\")[-1] + \".html\"\n",
        "\n",
        "r = requests.get(url)\n",
        "\n",
        "with open(file, \"w+\") as f:\n",
        "    f.write(r.text)"
      ]
    },
    {
      "cell_type": "code",
      "execution_count": 19,
      "metadata": {
        "colab": {
          "base_uri": "https://localhost:8080/"
        },
        "id": "4W9USWj5oGrg",
        "outputId": "6b8f2a39-8b78-464d-866b-3c772cb59326"
      },
      "outputs": [
        {
          "output_type": "stream",
          "name": "stdout",
          "text": [
            "reuters.com\n"
          ]
        }
      ],
      "source": [
        "import re\n",
        "with open(file, \"r\") as f:\n",
        "    html = f.read()\n",
        "    g = re.search(r'<title>(.*)</title>', html, re.MULTILINE|re.DOTALL)\n",
        "    if g:\n",
        "        print(g.groups()[0])"
      ]
    },
    {
      "cell_type": "markdown",
      "metadata": {
        "id": "8YoId1bpoGrj"
      },
      "source": [
        "# Using an HTML parser for extraction"
      ]
    },
    {
      "cell_type": "markdown",
      "metadata": {
        "id": "XpaYc9n9Q6ot"
      },
      "source": [
        "Reuters changed its content structure after the book was published. Unfortunately, they *obfuscated* the content so that the methods in the book don't work without massive changes.\n",
        "\n",
        "In this notebook, we stick to the text in the book and download the articles from the Internet archive which still has the old HTML structure."
      ]
    },
    {
      "cell_type": "code",
      "execution_count": 21,
      "metadata": {
        "id": "KU8Xg5x4Q6ot"
      },
      "outputs": [],
      "source": [
        "WA_PREFIX = \"http://web.archive.org/web/20200118131624/\"\n",
        "html = s.get(WA_PREFIX + url).text"
      ]
    },
    {
      "cell_type": "code",
      "execution_count": 22,
      "metadata": {
        "colab": {
          "base_uri": "https://localhost:8080/"
        },
        "id": "WD_RSPvooGrj",
        "outputId": "fcd2a453-701a-491d-ab05-0385bf6cbeac"
      },
      "outputs": [
        {
          "output_type": "execute_result",
          "data": {
            "text/plain": [
              "[<h1 class=\"ArticleHeader_headline\">Banned in Boston: Without vaping, medical marijuana patients must adapt</h1>]"
            ]
          },
          "metadata": {},
          "execution_count": 22
        }
      ],
      "source": [
        "from bs4 import BeautifulSoup\n",
        "soup = BeautifulSoup(html, 'html.parser')\n",
        "soup.select(\"h1.ArticleHeader_headline\")"
      ]
    },
    {
      "cell_type": "markdown",
      "metadata": {
        "id": "Dlnd63dmoGrn"
      },
      "source": [
        "## Blueprint: extracting the title/headline"
      ]
    },
    {
      "cell_type": "code",
      "execution_count": 23,
      "metadata": {
        "colab": {
          "base_uri": "https://localhost:8080/"
        },
        "id": "UgQCE-sxoGrn",
        "outputId": "5d69fa79-74f8-469d-a4b6-dbbd5139759c"
      },
      "outputs": [
        {
          "output_type": "execute_result",
          "data": {
            "text/plain": [
              "<h1 class=\"ArticleHeader_headline\">Banned in Boston: Without vaping, medical marijuana patients must adapt</h1>"
            ]
          },
          "metadata": {},
          "execution_count": 23
        }
      ],
      "source": [
        "soup.h1"
      ]
    },
    {
      "cell_type": "code",
      "execution_count": 24,
      "metadata": {
        "colab": {
          "base_uri": "https://localhost:8080/",
          "height": 35
        },
        "id": "0ZCqzQMWoGrr",
        "outputId": "5f837e1d-4292-4f1e-8019-de668afa3bdb"
      },
      "outputs": [
        {
          "output_type": "execute_result",
          "data": {
            "text/plain": [
              "'Banned in Boston: Without vaping, medical marijuana patients must adapt'"
            ],
            "application/vnd.google.colaboratory.intrinsic+json": {
              "type": "string"
            }
          },
          "metadata": {},
          "execution_count": 24
        }
      ],
      "source": [
        "soup.h1.text"
      ]
    },
    {
      "cell_type": "code",
      "execution_count": 25,
      "metadata": {
        "colab": {
          "base_uri": "https://localhost:8080/",
          "height": 35
        },
        "id": "Ew_1sC08oGru",
        "outputId": "cbe53d08-c8ab-43b8-cbe5-52d1f4e03bcd"
      },
      "outputs": [
        {
          "output_type": "execute_result",
          "data": {
            "text/plain": [
              "'\\n                Banned in Boston: Without vaping, medical marijuana patients must adapt - Reuters'"
            ],
            "application/vnd.google.colaboratory.intrinsic+json": {
              "type": "string"
            }
          },
          "metadata": {},
          "execution_count": 25
        }
      ],
      "source": [
        "soup.title.text"
      ]
    },
    {
      "cell_type": "code",
      "execution_count": 26,
      "metadata": {
        "colab": {
          "base_uri": "https://localhost:8080/",
          "height": 35
        },
        "id": "RZuzfNv4oGry",
        "outputId": "5696a8ca-bb16-456b-8a0f-6db3e9cf594b"
      },
      "outputs": [
        {
          "output_type": "execute_result",
          "data": {
            "text/plain": [
              "'Banned in Boston: Without vaping, medical marijuana patients must adapt - Reuters'"
            ],
            "application/vnd.google.colaboratory.intrinsic+json": {
              "type": "string"
            }
          },
          "metadata": {},
          "execution_count": 26
        }
      ],
      "source": [
        "soup.title.text.strip()"
      ]
    },
    {
      "cell_type": "markdown",
      "metadata": {
        "id": "hxJFTkKKoGr1"
      },
      "source": [
        "## Blueprint: extracting the article text"
      ]
    },
    {
      "cell_type": "code",
      "execution_count": null,
      "metadata": {
        "id": "F0mU9XmZoGr2"
      },
      "outputs": [],
      "source": [
        "soup.select_one(\"div.StandardArticleBody_body\").text"
      ]
    },
    {
      "cell_type": "markdown",
      "metadata": {
        "id": "ptO1-Fz8oGr5"
      },
      "source": [
        "## Blueprint: extracting image captions"
      ]
    },
    {
      "cell_type": "code",
      "execution_count": null,
      "metadata": {
        "id": "E0FhMlqAoGr5"
      },
      "outputs": [],
      "source": [
        "soup.select(\"div.StandardArticleBody_body figure\")"
      ]
    },
    {
      "cell_type": "markdown",
      "metadata": {
        "id": "hDz5FhDaoGr9"
      },
      "source": [
        "Variant"
      ]
    },
    {
      "cell_type": "code",
      "execution_count": null,
      "metadata": {
        "id": "BhvgNfE4oGr-"
      },
      "outputs": [],
      "source": [
        "soup.select(\"div.StandardArticleBody_body figure img\")"
      ]
    },
    {
      "cell_type": "code",
      "execution_count": null,
      "metadata": {
        "id": "fYs5JpEIoGsB"
      },
      "outputs": [],
      "source": [
        "soup.select(\"div.StandardArticleBody_body figcaption\")"
      ]
    },
    {
      "cell_type": "markdown",
      "metadata": {
        "id": "y3FiDGEwoGsE"
      },
      "source": [
        "## Blueprint: extracting the URL"
      ]
    },
    {
      "cell_type": "code",
      "execution_count": null,
      "metadata": {
        "id": "gBSlxZ_YoGsE"
      },
      "outputs": [],
      "source": [
        "soup.find(\"link\", {'rel': 'canonical'})['href']"
      ]
    },
    {
      "cell_type": "code",
      "execution_count": null,
      "metadata": {
        "id": "foiJRIbqoGsI"
      },
      "outputs": [],
      "source": [
        "soup.select_one(\"link[rel=canonical]\")['href']"
      ]
    },
    {
      "cell_type": "markdown",
      "metadata": {
        "id": "YLTcC-5noGsP"
      },
      "source": [
        "## Blueprint: extracting list information (authors)"
      ]
    },
    {
      "cell_type": "code",
      "execution_count": null,
      "metadata": {
        "id": "zlZ8yscxoGsP"
      },
      "outputs": [],
      "source": [
        "soup.find(\"meta\", {'name': 'Author'})['content']"
      ]
    },
    {
      "cell_type": "markdown",
      "metadata": {
        "id": "GOQ5THTUoGsS"
      },
      "source": [
        "Variant"
      ]
    },
    {
      "cell_type": "code",
      "execution_count": null,
      "metadata": {
        "id": "7jmcyPksoGsT"
      },
      "outputs": [],
      "source": [
        "sel = \"div.BylineBar_first-container.ArticleHeader_byline-bar div.BylineBar_byline span\"\n",
        "soup.select(sel)"
      ]
    },
    {
      "cell_type": "code",
      "execution_count": null,
      "metadata": {
        "id": "9e2XK_1noGsV"
      },
      "outputs": [],
      "source": [
        "[a.text for a in soup.select(sel)]"
      ]
    },
    {
      "cell_type": "markdown",
      "metadata": {
        "id": "CIrBNBLDoGsX"
      },
      "source": [
        "## Blueprint: Extracting text of links (section)\n"
      ]
    },
    {
      "cell_type": "code",
      "execution_count": null,
      "metadata": {
        "id": "qJn4FH22oGsX"
      },
      "outputs": [],
      "source": [
        "soup.select_one(\"div.ArticleHeader_channel a\").text"
      ]
    },
    {
      "cell_type": "markdown",
      "metadata": {
        "id": "zDbe8eYHoGsZ"
      },
      "source": [
        "## Blueprint: Extracting reading time"
      ]
    },
    {
      "cell_type": "code",
      "execution_count": null,
      "metadata": {
        "id": "c0CXIk3CoGsa"
      },
      "outputs": [],
      "source": [
        "soup.select_one(\"p.BylineBar_reading-time\").text"
      ]
    },
    {
      "cell_type": "markdown",
      "metadata": {
        "id": "ICCaNKEKoGse"
      },
      "source": [
        "## Blueprint: extracting attributes (id)"
      ]
    },
    {
      "cell_type": "code",
      "execution_count": null,
      "metadata": {
        "id": "bh16e7BDoGsf"
      },
      "outputs": [],
      "source": [
        "soup.select_one(\"div.StandardArticle_inner-container\")['id']"
      ]
    },
    {
      "cell_type": "markdown",
      "metadata": {
        "id": "-SQdx0SeoGsh"
      },
      "source": [
        "Alternative: URL"
      ]
    },
    {
      "cell_type": "markdown",
      "metadata": {
        "id": "nKV2JMERoGsi"
      },
      "source": [
        "## Blueprint: Extracting Attribution"
      ]
    },
    {
      "cell_type": "code",
      "execution_count": null,
      "metadata": {
        "id": "QJdtBuLCoGsi"
      },
      "outputs": [],
      "source": [
        "soup.select_one(\"p.Attribution_content\").text"
      ]
    },
    {
      "cell_type": "markdown",
      "metadata": {
        "id": "QIPmYxxwoGsl"
      },
      "source": [
        "## Blueprint: Extracting Timestamp"
      ]
    },
    {
      "cell_type": "code",
      "execution_count": null,
      "metadata": {
        "id": "jzY1mJF2oGsl"
      },
      "outputs": [],
      "source": [
        "ptime = soup.find(\"meta\", { 'property': \"og:article:published_time\"})['content']\n",
        "print(ptime)"
      ]
    },
    {
      "cell_type": "code",
      "execution_count": null,
      "metadata": {
        "id": "jDg1g_AOoGsn"
      },
      "outputs": [],
      "source": [
        "from dateutil import parser\n",
        "parser.parse(ptime)"
      ]
    },
    {
      "cell_type": "code",
      "execution_count": null,
      "metadata": {
        "id": "Hflw65HJoGsq"
      },
      "outputs": [],
      "source": [
        "parser.parse(soup.find(\"meta\", { 'property': \"og:article:modified_time\"})['content'])"
      ]
    },
    {
      "cell_type": "markdown",
      "metadata": {
        "id": "9bMrACxCoGsv"
      },
      "source": [
        "# Blueprint: Spidering"
      ]
    },
    {
      "cell_type": "code",
      "execution_count": null,
      "metadata": {
        "id": "sN3CuAbLoGsw"
      },
      "outputs": [],
      "source": [
        "import requests\n",
        "from bs4 import BeautifulSoup\n",
        "import os.path\n",
        "from dateutil import parser\n",
        "\n",
        "def download_archive_page(page):\n",
        "    filename = \"page-%06d.html\" % page\n",
        "    if not os.path.isfile(filename):\n",
        "        url = \"https://www.reuters.com/news/archive/\" + \\\n",
        "              \"?view=page&page=%d&pageSize=10\" % page\n",
        "        r = requests.get(url)\n",
        "        with open(filename, \"w+\") as f:\n",
        "            f.write(r.text)\n",
        "\n",
        "def parse_archive_page(page_file):\n",
        "    with open(page_file, \"r\") as f:\n",
        "        html = f.read()\n",
        "    soup = BeautifulSoup(html, 'html.parser')\n",
        "    hrefs = [\"https://www.reuters.com\" + a['href']\n",
        "               for a in soup.select(\"article.story div.story-content a\")]\n",
        "    return hrefs\n",
        "\n",
        "def download_article(url):\n",
        "    # check if article already there\n",
        "    filename = url.split(\"/\")[-1] + \".html\"\n",
        "    if not os.path.isfile(filename):\n",
        "        r = requests.get(url)\n",
        "        with open(filename, \"w+\") as f:\n",
        "            f.write(r.text)\n",
        "\n",
        "def parse_article(article_file):\n",
        "    def find_obfuscated_class(soup, klass):\n",
        "        return soup.find_all(lambda tag: tag.has_attr(\"class\") and (klass in \" \".join(tag[\"class\"])))\n",
        "\n",
        "    with open(article_file, \"r\") as f:\n",
        "        html = f.read()\n",
        "    r = {}\n",
        "    soup = BeautifulSoup(html, 'html.parser')\n",
        "    r['url'] = soup.find(\"link\", {'rel': 'canonical'})['href']\n",
        "    r['id'] = r['url'].split(\"-\")[-1]\n",
        "    r['headline'] = soup.h1.text\n",
        "    r['section'] = find_obfuscated_class(soup, \"ArticleHeader-channel\")[0].text\n",
        "\n",
        "    r['text'] = \"\\n\".join([t.text for t in find_obfuscated_class(soup, \"Paragraph-paragraph\")])\n",
        "    r['authors'] = find_obfuscated_class(soup, \"Attribution-attribution\")[0].text\n",
        "    r['time'] = soup.find(\"meta\", { 'property': \"og:article:published_time\"})['content']\n",
        "    return r"
      ]
    },
    {
      "cell_type": "code",
      "execution_count": null,
      "metadata": {
        "id": "gXg3w6XpoGsz"
      },
      "outputs": [],
      "source": [
        "# download 10 pages of archive\n",
        "for p in range(1, 10):\n",
        "    download_archive_page(p)"
      ]
    },
    {
      "cell_type": "code",
      "execution_count": null,
      "metadata": {
        "id": "HiANkSUPoGs1"
      },
      "outputs": [],
      "source": [
        "# parse archive and add to article_urls\n",
        "import glob\n",
        "\n",
        "article_urls = []\n",
        "for page_file in glob.glob(\"page-*.html\"):\n",
        "    article_urls += parse_archive_page(page_file)"
      ]
    },
    {
      "cell_type": "code",
      "execution_count": null,
      "metadata": {
        "id": "-hCFPEwQoGs3"
      },
      "outputs": [],
      "source": [
        "# download articles\n",
        "for url in article_urls:\n",
        "    download_article(url)"
      ]
    },
    {
      "cell_type": "code",
      "execution_count": null,
      "metadata": {
        "id": "LB9q54DZoGs8"
      },
      "outputs": [],
      "source": [
        "# arrange in pandas DataFrame\n",
        "import pandas as pd\n",
        "\n",
        "df = pd.DataFrame()\n",
        "for article_file in glob.glob(\"*-id???????????.html\"):\n",
        "    df = df.append(parse_article(article_file), ignore_index=True)\n",
        "df['time'] = pd.to_datetime(df.time)"
      ]
    },
    {
      "cell_type": "code",
      "execution_count": null,
      "metadata": {
        "id": "fgopjGE_oGtA"
      },
      "outputs": [],
      "source": [
        "df"
      ]
    },
    {
      "cell_type": "code",
      "execution_count": null,
      "metadata": {
        "id": "bxHMZZAIoGtG"
      },
      "outputs": [],
      "source": [
        "df.sort_values(\"time\")"
      ]
    },
    {
      "cell_type": "code",
      "execution_count": null,
      "metadata": {
        "id": "NhCZINTsoGtL"
      },
      "outputs": [],
      "source": [
        "%matplotlib inline\n",
        "df[df[\"time\"]>='2020-01-01'].set_index(\"time\").resample('D').agg({'id': 'count'}).plot.bar()"
      ]
    },
    {
      "cell_type": "markdown",
      "metadata": {
        "id": "sEOq6qbhoGtS"
      },
      "source": [
        "# Blueprint Density extraction"
      ]
    },
    {
      "cell_type": "code",
      "execution_count": null,
      "metadata": {
        "id": "nSXyuG3koGtS"
      },
      "outputs": [],
      "source": [
        "from readability import Document\n",
        "\n",
        "doc = Document(html)\n",
        "doc.title()"
      ]
    },
    {
      "cell_type": "code",
      "execution_count": null,
      "metadata": {
        "id": "pIdpL1uioGtV"
      },
      "outputs": [],
      "source": [
        "doc.short_title()"
      ]
    },
    {
      "cell_type": "code",
      "execution_count": null,
      "metadata": {
        "id": "miUQs2hSoGtY"
      },
      "outputs": [],
      "source": [
        "doc.summary()"
      ]
    },
    {
      "cell_type": "code",
      "execution_count": null,
      "metadata": {
        "id": "djroMQLJoGtb"
      },
      "outputs": [],
      "source": [
        "doc.url"
      ]
    },
    {
      "cell_type": "code",
      "execution_count": null,
      "metadata": {
        "id": "jP7u6JetoGtm",
        "scrolled": true
      },
      "outputs": [],
      "source": [
        "density_soup = BeautifulSoup(doc.summary(), 'html.parser')\n",
        "density_soup.body.text"
      ]
    },
    {
      "cell_type": "markdown",
      "metadata": {
        "id": "gRII_OGyoGto"
      },
      "source": [
        "# Blueprint: Scrapy"
      ]
    },
    {
      "cell_type": "markdown",
      "metadata": {
        "id": "p36RzBi4Q6oy"
      },
      "source": [
        "Unfortunately, the code for `scrapy` cannot be changed easily. One more argument for using *up to date* separate libraries. In this version, it still collects the titles of the articles but not more."
      ]
    },
    {
      "cell_type": "code",
      "execution_count": null,
      "metadata": {
        "id": "Ca8x2bg_oGto"
      },
      "outputs": [],
      "source": [
        "# might need to install scrapy\n",
        "import scrapy\n",
        "import logging\n",
        "\n",
        "\n",
        "class ReutersArchiveSpider(scrapy.Spider):\n",
        "    name = 'reuters-archive'\n",
        "\n",
        "    custom_settings = {\n",
        "        'LOG_LEVEL': logging.WARNING,\n",
        "        'FEED_FORMAT': 'json',\n",
        "        'FEED_URI': 'reuters-archive.json'\n",
        "    }\n",
        "\n",
        "    start_urls = [\n",
        "        'https://www.reuters.com/news/archive/',\n",
        "    ]\n",
        "\n",
        "    def parse(self, response):\n",
        "        for article in response.css(\"article.story div.story-content a\"):\n",
        "            yield response.follow(article.css(\"a::attr(href)\").extract_first(), self.parse_article)\n",
        "\n",
        "        next_page_url = response.css('a.control-nav-next::attr(href)').extract_first()\n",
        "        if (next_page_url is not None) & ('page=2' not in next_page_url):\n",
        "            yield response.follow(next_page_url, self.parse)\n",
        "\n",
        "    def parse_article(self, response):\n",
        "        yield {\n",
        "          'title': response.css('h1::text').extract_first().strip(),\n",
        "        }"
      ]
    },
    {
      "cell_type": "code",
      "execution_count": null,
      "metadata": {
        "id": "Mxs6xAtnoGtr",
        "scrolled": false
      },
      "outputs": [],
      "source": [
        "# this can be run only once from a Jupyter notebook due to Twisted\n",
        "from scrapy.crawler import CrawlerProcess\n",
        "process = CrawlerProcess()\n",
        "\n",
        "process.crawl(ReutersArchiveSpider)\n",
        "process.start()"
      ]
    },
    {
      "cell_type": "code",
      "execution_count": null,
      "metadata": {
        "id": "l_jfvbozoGty"
      },
      "outputs": [],
      "source": [
        "glob.glob(\"*.json\")"
      ]
    },
    {
      "cell_type": "code",
      "execution_count": null,
      "metadata": {
        "id": "2SZPLsUqoGt0"
      },
      "outputs": [],
      "source": [
        "!cat 'reuters-archive.json'"
      ]
    },
    {
      "cell_type": "code",
      "execution_count": null,
      "metadata": {
        "id": "3IrOHX-rr_fZ"
      },
      "outputs": [],
      "source": []
    }
  ],
  "metadata": {
    "colab": {
      "name": "Crawling_Code.ipynb",
      "provenance": []
    },
    "kernelspec": {
      "display_name": "Python 3",
      "language": "python",
      "name": "python3"
    },
    "language_info": {
      "codemirror_mode": {
        "name": "ipython",
        "version": 3
      },
      "file_extension": ".py",
      "mimetype": "text/x-python",
      "name": "python",
      "nbconvert_exporter": "python",
      "pygments_lexer": "ipython3",
      "version": "3.8.10"
    },
    "toc": {
      "base_numbering": 1,
      "nav_menu": {},
      "number_sections": true,
      "sideBar": true,
      "skip_h1_title": false,
      "title_cell": "Table of Contents",
      "title_sidebar": "Contents",
      "toc_cell": false,
      "toc_position": {},
      "toc_section_display": true,
      "toc_window_display": false
    },
    "varInspector": {
      "cols": {
        "lenName": 16,
        "lenType": 16,
        "lenVar": 40
      },
      "kernels_config": {
        "python": {
          "delete_cmd_postfix": "",
          "delete_cmd_prefix": "del ",
          "library": "var_list.py",
          "varRefreshCmd": "print(var_dic_list())"
        },
        "r": {
          "delete_cmd_postfix": ") ",
          "delete_cmd_prefix": "rm(",
          "library": "var_list.r",
          "varRefreshCmd": "cat(var_dic_list()) "
        }
      },
      "types_to_exclude": [
        "module",
        "function",
        "builtin_function_or_method",
        "instance",
        "_Feature"
      ],
      "window_display": false
    }
  },
  "nbformat": 4,
  "nbformat_minor": 0
}