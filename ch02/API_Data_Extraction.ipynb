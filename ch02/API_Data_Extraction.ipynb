{
  "cells": [
    {
      "cell_type": "markdown",
      "metadata": {
        "id": "juHIBktAGfHY"
      },
      "source": [
        "[**Blueprints for Text Analysis Using Python**](https://github.com/blueprints-for-text-analytics-python/blueprints-text)  \n",
        "Jens Albrecht, Sidharth Ramachandran, Christian Winkler\n",
        "\n",
        "**If you like the book or the code examples here, please leave a friendly comment on [Amazon.com](https://www.amazon.com/Blueprints-Text-Analytics-Using-Python/dp/149207408X)!**\n",
        "<img src=\"https://github.com/blueprints-for-text-analytics-python/blueprints-text/blob/master/rating.png?raw=1\" width=\"100\"/>\n",
        "\n",
        "# Chapter 02:<div class='tocSkip'/>"
      ]
    },
    {
      "cell_type": "markdown",
      "metadata": {
        "id": "riyU-sQXGfHa"
      },
      "source": [
        "## Remark<div class='tocSkip'/>\n",
        "\n",
        "The code in this notebook differs slightly from the printed book. For example we frequently use pretty print (`pp.pprint`) instead of `print` and `tqdm`'s `progress_apply` instead of Pandas' `apply`.\n",
        "\n",
        "Moreover, several layout and formatting commands, like `figsize` to control figure size or subplot commands are removed in the book.\n",
        "\n",
        "You may also find some lines marked with three hashes ###. Those are not in the book as well as they don't contribute to the concept.\n",
        "\n",
        "All of this is done to simplify the code in the book and put the focus on the important parts instead of formatting."
      ]
    },
    {
      "cell_type": "markdown",
      "metadata": {
        "id": "BEnpHPeDGfHa"
      },
      "source": [
        "## Setup<div class='tocSkip'/>\n",
        "\n",
        "Set directory locations. If working on Google Colab: copy files and install required libraries."
      ]
    },
    {
      "cell_type": "code",
      "execution_count": 1,
      "metadata": {
        "id": "-KTYMDWIGfHb",
        "outputId": "19e29d42-0e2c-4f21-cbe5-e8169f4d81a1",
        "colab": {
          "base_uri": "https://localhost:8080/"
        }
      },
      "outputs": [
        {
          "output_type": "stream",
          "name": "stdout",
          "text": [
            "You are working on Google Colab.\n",
            "Files will be downloaded to \"/content\".\n",
            "Downloading required files ...\n",
            "!wget -P /content https://github.com/blueprints-for-text-analytics-python/blueprints-text/raw/master/settings.py\n",
            "!wget -P /content/packages/blueprints https://github.com/blueprints-for-text-analytics-python/blueprints-text/raw/master/packages/blueprints/exploration.py\n",
            "!wget -P /content/ch02 https://github.com/blueprints-for-text-analytics-python/blueprints-text/raw/master/ch02/requirements.txt\n",
            "\n",
            "Additional setup ...\n",
            "!pip install -r ch02/requirements.txt\n",
            "!python -m nltk.downloader stopwords\n"
          ]
        }
      ],
      "source": [
        "import sys, os\n",
        "ON_COLAB = 'google.colab' in sys.modules\n",
        "\n",
        "if ON_COLAB:\n",
        "    GIT_ROOT = 'https://github.com/blueprints-for-text-analytics-python/blueprints-text/raw/master'\n",
        "    os.system(f'wget {GIT_ROOT}/ch02/setup.py')\n",
        "\n",
        "%run -i setup.py"
      ]
    },
    {
      "cell_type": "markdown",
      "metadata": {
        "id": "kTyASt24GfHb"
      },
      "source": [
        "## Load Python Settings<div class=\"tocSkip\"/>\n",
        "\n",
        "Common imports, defaults for formatting in Matplotlib, Pandas etc."
      ]
    },
    {
      "cell_type": "code",
      "execution_count": 2,
      "metadata": {
        "id": "5su3cFWxGfHc"
      },
      "outputs": [],
      "source": [
        "%run \"$BASE_DIR/settings.py\"\n",
        "\n",
        "%reload_ext autoreload\n",
        "%autoreload 2\n",
        "%config InlineBackend.figure_format = 'png'\n",
        "\n",
        "# to print output of all statements and not just the last\n",
        "from IPython.core.interactiveshell import InteractiveShell\n",
        "InteractiveShell.ast_node_interactivity = \"all\"\n",
        "\n",
        "# otherwise text between $ signs will be interpreted as formula and printed in italic\n",
        "pd.set_option('display.html.use_mathjax', False)\n",
        "\n",
        "# path to import blueprints packages\n",
        "sys.path.append(BASE_DIR + '/packages')"
      ]
    },
    {
      "cell_type": "code",
      "execution_count": 3,
      "metadata": {
        "id": "F6tzOoDUGfHc"
      },
      "outputs": [],
      "source": [
        "# adjust matplotlib resolution for book version\n",
        "matplotlib.rcParams.update({'figure.dpi': 200 })"
      ]
    },
    {
      "cell_type": "markdown",
      "metadata": {
        "id": "t_GfCYHYGfHc"
      },
      "source": [
        "# How to use APIs to extract and derive insights from text data"
      ]
    },
    {
      "cell_type": "markdown",
      "metadata": {
        "id": "THPtR0vvGfHd"
      },
      "source": [
        "# Application Programming Interface"
      ]
    },
    {
      "cell_type": "markdown",
      "metadata": {
        "heading_collapsed": true,
        "id": "tHL7ewdrGfHd"
      },
      "source": [
        "# Blueprint - Extracting data from an API using the requests module"
      ]
    },
    {
      "cell_type": "code",
      "execution_count": 4,
      "metadata": {
        "hidden": true,
        "id": "6kD06KsIGfHd",
        "outputId": "1c7fdc2d-1a30-4755-896e-4c4e4f97445b",
        "colab": {
          "base_uri": "https://localhost:8080/"
        }
      },
      "outputs": [
        {
          "output_type": "stream",
          "name": "stdout",
          "text": [
            "200\n"
          ]
        }
      ],
      "source": [
        "import requests\n",
        "\n",
        "response = requests.get('https://api.github.com/repositories',\n",
        "                        headers={'Accept': 'application/vnd.github.v3+json'})\n",
        "print(response.status_code)"
      ]
    },
    {
      "cell_type": "code",
      "execution_count": 5,
      "metadata": {
        "hidden": true,
        "id": "exVqbsucGfHd",
        "outputId": "3aed32ed-8c17-4fd3-fcc8-d91929c74636",
        "colab": {
          "base_uri": "https://localhost:8080/"
        }
      },
      "outputs": [
        {
          "output_type": "stream",
          "name": "stdout",
          "text": [
            "utf-8\n",
            "application/json; charset=utf-8\n",
            "github.com\n"
          ]
        }
      ],
      "source": [
        "print (response.encoding)\n",
        "print (response.headers['Content-Type'])\n",
        "print (response.headers['server'])"
      ]
    },
    {
      "cell_type": "code",
      "execution_count": 6,
      "metadata": {
        "hidden": true,
        "id": "HMqytXOAGfHd",
        "outputId": "4dba613f-d775-4dab-f1c8-b0f98d08bfa0",
        "colab": {
          "base_uri": "https://localhost:8080/"
        }
      },
      "outputs": [
        {
          "output_type": "execute_result",
          "data": {
            "text/plain": [
              "{'Date': 'Thu, 12 Dec 2024 13:43:22 GMT', 'Content-Type': 'application/json; charset=utf-8', 'Cache-Control': 'public, max-age=60, s-maxage=60', 'Vary': 'Accept,Accept-Encoding, Accept, X-Requested-With', 'ETag': 'W/\"4e83084a9c0f5b8c1c69e77e2ea268281aca3e0759bc752b45c58dc9958979aa\"', 'X-GitHub-Media-Type': 'github.v3; format=json', 'Link': '<https://api.github.com/repositories?since=369>; rel=\"next\", <https://api.github.com/repositories{?since}>; rel=\"first\"', 'x-github-api-version-selected': '2022-11-28', 'Access-Control-Expose-Headers': 'ETag, Link, Location, Retry-After, X-GitHub-OTP, X-RateLimit-Limit, X-RateLimit-Remaining, X-RateLimit-Used, X-RateLimit-Resource, X-RateLimit-Reset, X-OAuth-Scopes, X-Accepted-OAuth-Scopes, X-Poll-Interval, X-GitHub-Media-Type, X-GitHub-SSO, X-GitHub-Request-Id, Deprecation, Sunset', 'Access-Control-Allow-Origin': '*', 'Strict-Transport-Security': 'max-age=31536000; includeSubdomains; preload', 'X-Frame-Options': 'deny', 'X-Content-Type-Options': 'nosniff', 'X-XSS-Protection': '0', 'Referrer-Policy': 'origin-when-cross-origin, strict-origin-when-cross-origin', 'Content-Security-Policy': \"default-src 'none'\", 'Content-Encoding': 'gzip', 'Server': 'github.com', 'X-RateLimit-Limit': '60', 'X-RateLimit-Remaining': '59', 'X-RateLimit-Reset': '1734014602', 'X-RateLimit-Resource': 'core', 'X-RateLimit-Used': '1', 'Accept-Ranges': 'bytes', 'Transfer-Encoding': 'chunked', 'X-GitHub-Request-Id': 'E60E:201BBC:1793EBD:2EE62C0:675AE87A'}"
            ]
          },
          "metadata": {},
          "execution_count": 6
        }
      ],
      "source": [
        "response.headers"
      ]
    },
    {
      "cell_type": "code",
      "execution_count": 7,
      "metadata": {
        "hidden": true,
        "id": "SebfdlH3GfHd",
        "outputId": "cb2e4001-4195-4e27-ce1b-6cbff016891e",
        "colab": {
          "base_uri": "https://localhost:8080/"
        }
      },
      "outputs": [
        {
          "output_type": "stream",
          "name": "stdout",
          "text": [
            "{\n",
            "  \"id\": 1,\n",
            "  \"node_id\": \"MDEwOlJlcG9zaXRvcnkx\",\n",
            "  \"name\": \"grit\",\n",
            "  \"full_name\": \"mojombo/grit\",\n",
            "  \"private\": false,\n",
            "  \"owner\": {\n",
            "    \"login\": \"mojombo\",\n",
            "    \"id\": 1,\n",
            "    \"node_id\": \"MDQ6VXNlcjE=\",\n",
            "\n"
          ]
        }
      ],
      "source": [
        "import json\n",
        "print (json.dumps(response.json()[0], indent=2)[:200])"
      ]
    },
    {
      "cell_type": "code",
      "execution_count": 9,
      "metadata": {
        "hidden": true,
        "id": "j2-74yKBGfHe",
        "outputId": "9a910a1e-235d-4a6d-f10d-3f270a16c66f",
        "colab": {
          "base_uri": "https://localhost:8080/"
        }
      },
      "outputs": [
        {
          "output_type": "stream",
          "name": "stdout",
          "text": [
            "422\n"
          ]
        }
      ],
      "source": [
        "response = requests.get('https://api.github.com/search/repositories')\n",
        "print(response.status_code)"
      ]
    },
    {
      "cell_type": "code",
      "execution_count": 10,
      "metadata": {
        "hidden": true,
        "id": "vgtaMyK4GfHe",
        "outputId": "3a6155d3-f8d2-49d1-a267-61412c40647c",
        "colab": {
          "base_uri": "https://localhost:8080/"
        }
      },
      "outputs": [
        {
          "output_type": "stream",
          "name": "stdout",
          "text": [
            "200\n"
          ]
        }
      ],
      "source": [
        "response = requests.get('https://api.github.com/search/repositories',\n",
        "    params={'q': 'data_science+language:python'},\n",
        "    headers={'Accept': 'application/vnd.github.v3.text-match+json'})\n",
        "print(response.status_code)"
      ]
    },
    {
      "cell_type": "code",
      "execution_count": 11,
      "metadata": {
        "hidden": true,
        "id": "LpOAPgDiGfHe",
        "outputId": "aab72f62-83eb-45b9-c62b-644409e351dd",
        "colab": {
          "base_uri": "https://localhost:8080/",
          "height": 261
        }
      },
      "outputs": [
        {
          "output_type": "display_data",
          "data": {
            "text/plain": [
              "<IPython.core.display.Markdown object>"
            ],
            "text/markdown": "**awesome**: repository description - \"*Awesome resources on Bioinformatics, data science, machine learning, programming language (Python, Golang, R, Perl) and miscellaneous stuff.*\" matched with **data science**"
          },
          "metadata": {}
        },
        {
          "output_type": "display_data",
          "data": {
            "text/plain": [
              "<IPython.core.display.Markdown object>"
            ],
            "text/markdown": "**Python**: repository description - \"*this resporatory have ml,ai,nlp,data science etc.python language related material from many websites eg. datacamp,geeksforgeeks,linkedin,youtube,udemy etc. also it include programming challange/competion solutions*\" matched with **data science**"
          },
          "metadata": {}
        },
        {
          "output_type": "display_data",
          "data": {
            "text/plain": [
              "<IPython.core.display.Markdown object>"
            ],
            "text/markdown": "**hu-dsf**: repository description - \"*Introduction course to data science using the Python programming language in the form of Jupyter Notebooks*\" matched with **data science**"
          },
          "metadata": {}
        },
        {
          "output_type": "display_data",
          "data": {
            "text/plain": [
              "<IPython.core.display.Markdown object>"
            ],
            "text/markdown": "**math-server-docker**: repository description - \"*The ideal multi-user Data Science server with Jupyterhub and RStudio, ready for Python, R and Julia languages.*\" matched with **Data Science**"
          },
          "metadata": {}
        },
        {
          "output_type": "display_data",
          "data": {
            "text/plain": [
              "<IPython.core.display.Markdown object>"
            ],
            "text/markdown": "**Data-Science-Projects**: repository description - \"*Data Science projects on various problem statements and datasets using Data Analysis, Machine Learning Algorithms, Deep Learning Algorithms, Natural Language Processing, Business Intelligence concepts by Python*\" matched with **Data Science**"
          },
          "metadata": {}
        }
      ],
      "source": [
        "from IPython.display import Markdown, display  ###\n",
        "def printmd(string):  ###\n",
        "    display(Markdown(string))  ###\n",
        "\n",
        "for item in response.json()['items'][:5]:\n",
        "    printmd('**' + item['name'] + '**' + ': repository ' +\n",
        "            item['text_matches'][0]['property'] + ' - \\\"*' +\n",
        "            item['text_matches'][0]['fragment'] + '*\\\" matched with ' + '**' +\n",
        "            item['text_matches'][0]['matches'][0]['text'] + '**')"
      ]
    },
    {
      "cell_type": "code",
      "execution_count": 12,
      "metadata": {
        "hidden": true,
        "id": "ck5GyeSQGfHe",
        "outputId": "5bbf0dd4-e189-4aba-bac6-b3a09ab43e41",
        "colab": {
          "base_uri": "https://localhost:8080/"
        }
      },
      "outputs": [
        {
          "output_type": "stream",
          "name": "stdout",
          "text": [
            "Response Code 200\n",
            "Number of comments 30\n"
          ]
        }
      ],
      "source": [
        "response = requests.get(\n",
        "    'https://api.github.com/repos/pytorch/pytorch/issues/comments')\n",
        "print('Response Code', response.status_code)\n",
        "print('Number of comments', len(response.json()))"
      ]
    },
    {
      "cell_type": "code",
      "execution_count": 13,
      "metadata": {
        "hidden": true,
        "id": "5aXof3woGfHe",
        "outputId": "3d83dcce-852b-4e63-bf64-b3270ac6a08d",
        "colab": {
          "base_uri": "https://localhost:8080/"
        }
      },
      "outputs": [
        {
          "output_type": "execute_result",
          "data": {
            "text/plain": [
              "{'next': {'url': 'https://api.github.com/repositories/65600975/issues/comments?page=2',\n",
              "  'rel': 'next'},\n",
              " 'last': {'url': 'https://api.github.com/repositories/65600975/issues/comments?page=1000',\n",
              "  'rel': 'last'}}"
            ]
          },
          "metadata": {},
          "execution_count": 13
        }
      ],
      "source": [
        "response.links"
      ]
    },
    {
      "cell_type": "code",
      "execution_count": 14,
      "metadata": {
        "hidden": true,
        "id": "SGjas6TYGfHe"
      },
      "outputs": [],
      "source": [
        "def get_all_pages(url, params=None, headers=None):\n",
        "    output_json = []\n",
        "    response = requests.get(url, params=params, headers=headers)\n",
        "    if response.status_code == 200:\n",
        "        output_json = response.json()\n",
        "        if 'next' in response.links:\n",
        "            next_url = response.links['next']['url']\n",
        "            if next_url is not None:\n",
        "                output_json += get_all_pages(next_url, params, headers)\n",
        "    return output_json\n",
        "\n",
        "\n",
        "out = get_all_pages(\n",
        "    \"https://api.github.com/repos/pytorch/pytorch/issues/comments\",\n",
        "    params={\n",
        "        'since': '2020-07-01T10:00:01Z',\n",
        "        'sorted': 'created',\n",
        "        'direction': 'desc'\n",
        "    },\n",
        "    headers={'Accept': 'application/vnd.github.v3+json'})\n",
        "df = pd.DataFrame(out)"
      ]
    },
    {
      "cell_type": "code",
      "source": [
        "print(df.head())"
      ],
      "metadata": {
        "id": "sU5TWVlMHywX",
        "outputId": "70e78e87-40f0-48cc-8357-8bbbaed526be",
        "colab": {
          "base_uri": "https://localhost:8080/"
        }
      },
      "execution_count": 17,
      "outputs": [
        {
          "output_type": "stream",
          "name": "stdout",
          "text": [
            "                                                                       url  \\\n",
            "0  https://api.github.com/repos/pytorch/pytorch/issues/comments/2538998623   \n",
            "1  https://api.github.com/repos/pytorch/pytorch/issues/comments/2538995862   \n",
            "2  https://api.github.com/repos/pytorch/pytorch/issues/comments/2538992520   \n",
            "3  https://api.github.com/repos/pytorch/pytorch/issues/comments/2538989800   \n",
            "4  https://api.github.com/repos/pytorch/pytorch/issues/comments/2538986785   \n",
            "\n",
            "                                                                 html_url  \\\n",
            "0  https://github.com/pytorch/pytorch/pull/142020#issuecomment-2538998623   \n",
            "1  https://github.com/pytorch/pytorch/pull/142020#issuecomment-2538995862   \n",
            "2  https://github.com/pytorch/pytorch/pull/142020#issuecomment-2538992520   \n",
            "3  https://github.com/pytorch/pytorch/pull/142020#issuecomment-2538989800   \n",
            "4  https://github.com/pytorch/pytorch/pull/142020#issuecomment-2538986785   \n",
            "\n",
            "                                                    issue_url          id  \\\n",
            "0  https://api.github.com/repos/pytorch/pytorch/issues/142020  2538998623   \n",
            "1  https://api.github.com/repos/pytorch/pytorch/issues/142020  2538995862   \n",
            "2  https://api.github.com/repos/pytorch/pytorch/issues/142020  2538992520   \n",
            "3  https://api.github.com/repos/pytorch/pytorch/issues/142020  2538989800   \n",
            "4  https://api.github.com/repos/pytorch/pytorch/issues/142020  2538986785   \n",
            "\n",
            "               node_id  \\\n",
            "0  IC_kwDOA-j9z86XVgtf   \n",
            "1  IC_kwDOA-j9z86XVgCW   \n",
            "2  IC_kwDOA-j9z86XVfOI   \n",
            "3  IC_kwDOA-j9z86XVejo   \n",
            "4  IC_kwDOA-j9z86XVd0h   \n",
            "\n",
            "                                                                                                                                                                                                      user  \\\n",
            "0  {'login': 'facebook-github-bot', 'id': 6422482, 'node_id': 'MDQ6VXNlcjY0MjI0ODI=', 'avatar_url': 'https://avatars.githubusercontent.com/u/6422482?v=4', 'gravatar_id': '', 'url': 'https://api.githu...   \n",
            "1  {'login': 'facebook-github-bot', 'id': 6422482, 'node_id': 'MDQ6VXNlcjY0MjI0ODI=', 'avatar_url': 'https://avatars.githubusercontent.com/u/6422482?v=4', 'gravatar_id': '', 'url': 'https://api.githu...   \n",
            "2  {'login': 'facebook-github-bot', 'id': 6422482, 'node_id': 'MDQ6VXNlcjY0MjI0ODI=', 'avatar_url': 'https://avatars.githubusercontent.com/u/6422482?v=4', 'gravatar_id': '', 'url': 'https://api.githu...   \n",
            "3  {'login': 'facebook-github-bot', 'id': 6422482, 'node_id': 'MDQ6VXNlcjY0MjI0ODI=', 'avatar_url': 'https://avatars.githubusercontent.com/u/6422482?v=4', 'gravatar_id': '', 'url': 'https://api.githu...   \n",
            "4  {'login': 'facebook-github-bot', 'id': 6422482, 'node_id': 'MDQ6VXNlcjY0MjI0ODI=', 'avatar_url': 'https://avatars.githubusercontent.com/u/6422482?v=4', 'gravatar_id': '', 'url': 'https://api.githu...   \n",
            "\n",
            "             created_at            updated_at author_association  \\\n",
            "0  2024-12-12T13:45:33Z  2024-12-12T13:45:33Z        CONTRIBUTOR   \n",
            "1  2024-12-12T13:44:56Z  2024-12-12T13:44:56Z        CONTRIBUTOR   \n",
            "2  2024-12-12T13:44:19Z  2024-12-12T13:44:19Z        CONTRIBUTOR   \n",
            "3  2024-12-12T13:43:44Z  2024-12-12T13:43:44Z        CONTRIBUTOR   \n",
            "4  2024-12-12T13:43:08Z  2024-12-12T13:43:08Z        CONTRIBUTOR   \n",
            "\n",
            "                                                                                                                                                       body  \\\n",
            "0  @pytorchbot merge -i\\n\\n(Initiating merge automatically since Phabricator Diff has merged, merging with -i because oss signals were bypassed internally)   \n",
            "1  @pytorchbot merge -i\\n\\n(Initiating merge automatically since Phabricator Diff has merged, merging with -i because oss signals were bypassed internally)   \n",
            "2  @pytorchbot merge -i\\n\\n(Initiating merge automatically since Phabricator Diff has merged, merging with -i because oss signals were bypassed internally)   \n",
            "3  @pytorchbot merge -i\\n\\n(Initiating merge automatically since Phabricator Diff has merged, merging with -i because oss signals were bypassed internally)   \n",
            "4  @pytorchbot merge -i\\n\\n(Initiating merge automatically since Phabricator Diff has merged, merging with -i because oss signals were bypassed internally)   \n",
            "\n",
            "                                                                                                                                                                                                 reactions  \\\n",
            "0  {'url': 'https://api.github.com/repos/pytorch/pytorch/issues/comments/2538998623/reactions', 'total_count': 1, '+1': 1, '-1': 0, 'laugh': 0, 'hooray': 0, 'confused': 0, 'heart': 0, 'rocket': 0, 'e...   \n",
            "1  {'url': 'https://api.github.com/repos/pytorch/pytorch/issues/comments/2538995862/reactions', 'total_count': 1, '+1': 1, '-1': 0, 'laugh': 0, 'hooray': 0, 'confused': 0, 'heart': 0, 'rocket': 0, 'e...   \n",
            "2  {'url': 'https://api.github.com/repos/pytorch/pytorch/issues/comments/2538992520/reactions', 'total_count': 1, '+1': 1, '-1': 0, 'laugh': 0, 'hooray': 0, 'confused': 0, 'heart': 0, 'rocket': 0, 'e...   \n",
            "3  {'url': 'https://api.github.com/repos/pytorch/pytorch/issues/comments/2538989800/reactions', 'total_count': 1, '+1': 1, '-1': 0, 'laugh': 0, 'hooray': 0, 'confused': 0, 'heart': 0, 'rocket': 0, 'e...   \n",
            "4  {'url': 'https://api.github.com/repos/pytorch/pytorch/issues/comments/2538986785/reactions', 'total_count': 1, '+1': 1, '-1': 0, 'laugh': 0, 'hooray': 0, 'confused': 0, 'heart': 0, 'rocket': 0, 'e...   \n",
            "\n",
            "  performed_via_github_app  \n",
            "0                     None  \n",
            "1                     None  \n",
            "2                     None  \n",
            "3                     None  \n",
            "4                     None  \n"
          ]
        }
      ]
    },
    {
      "cell_type": "code",
      "execution_count": 19,
      "metadata": {
        "hidden": true,
        "id": "FopVmy4OGfHe",
        "outputId": "b5b69ba4-1550-402a-f273-431d395f4b96",
        "colab": {
          "base_uri": "https://localhost:8080/"
        }
      },
      "outputs": [
        {
          "output_type": "stream",
          "name": "stdout",
          "text": [
            "1440\n",
            "             id            created_at  \\\n",
            "168  2537838378  2024-12-12T05:20:01Z   \n",
            "\n",
            "                                                                                                                                body  \n",
            "168  > err, sorry, what exactly is your report? The first post is from a very old convo\\r\\n\\r\\nthe second and the third post, thanks  \n"
          ]
        }
      ],
      "source": [
        "# pd.set_option('display.max_colwidth', -1) ###\n",
        "pd.set_option('display.max_colwidth', None) ###\n",
        "print(df['body'].count())\n",
        "print(df[['id','created_at','body']].sample(1, random_state=42))"
      ]
    },
    {
      "cell_type": "code",
      "execution_count": 20,
      "metadata": {
        "hidden": true,
        "id": "YjthKfMuGfHe",
        "outputId": "bf31af28-87f1-40a1-e918-2031a7563605",
        "colab": {
          "base_uri": "https://localhost:8080/"
        }
      },
      "outputs": [
        {
          "output_type": "stream",
          "name": "stdout",
          "text": [
            "X-Ratelimit-Limit 60\n",
            "X-Ratelimit-Remaining 10\n",
            "Rate Limits reset at Thu Dec 12 14:45:39 2024\n"
          ]
        }
      ],
      "source": [
        "response = requests.head(\n",
        "    'https://api.github.com/repos/pytorch/pytorch/issues/comments')\n",
        "print('X-Ratelimit-Limit', response.headers['X-Ratelimit-Limit'])\n",
        "print('X-Ratelimit-Remaining', response.headers['X-Ratelimit-Remaining'])\n",
        "\n",
        "# Converting UTC time to human-readable format\n",
        "import datetime\n",
        "print(\n",
        "    'Rate Limits reset at',\n",
        "    datetime.datetime.fromtimestamp(int(\n",
        "        response.headers['X-RateLimit-Reset'])).strftime('%c'))"
      ]
    },
    {
      "cell_type": "code",
      "execution_count": 21,
      "metadata": {
        "hidden": true,
        "id": "C17YL92nGfHe"
      },
      "outputs": [],
      "source": [
        "from datetime import datetime\n",
        "import time\n",
        "\n",
        "def handle_rate_limits(response):\n",
        "    now = datetime.now()\n",
        "    reset_time = datetime.fromtimestamp(\n",
        "        int(response.headers['X-RateLimit-Reset']))\n",
        "    remaining_requests = response.headers['X-Ratelimit-Remaining']\n",
        "    remaining_time = (reset_time - now).total_seconds()\n",
        "    intervals = remaining_time / (1.0 + int(remaining_requests))\n",
        "    print('Sleeping for', intervals)\n",
        "    time.sleep(intervals)\n",
        "    return True"
      ]
    },
    {
      "cell_type": "code",
      "execution_count": 22,
      "metadata": {
        "hidden": true,
        "id": "uBt6_PXpGfHe",
        "outputId": "efa13dca-5b14-4ae8-da58-113dffaa2504",
        "colab": {
          "base_uri": "https://localhost:8080/"
        }
      },
      "outputs": [
        {
          "output_type": "stream",
          "name": "stdout",
          "text": [
            "awesome\n",
            "Python\n",
            "hu-dsf\n",
            "math-server-docker\n",
            "Data-Science-Projects\n"
          ]
        }
      ],
      "source": [
        "from requests.adapters import HTTPAdapter\n",
        "from requests.packages.urllib3.util.retry import Retry\n",
        "\n",
        "retry_strategy = Retry(\n",
        "    total=5,\n",
        "    status_forcelist=[500, 503, 504],\n",
        "    backoff_factor=1\n",
        ")\n",
        "\n",
        "retry_adapter = HTTPAdapter(max_retries=retry_strategy)\n",
        "\n",
        "http = requests.Session()\n",
        "http.mount(\"https://\", retry_adapter)\n",
        "http.mount(\"http://\", retry_adapter)\n",
        "\n",
        "response = http.get('https://api.github.com/search/repositories',\n",
        "                   params={'q': 'data_science+language:python'})\n",
        "\n",
        "for item in response.json()['items'][:5]:\n",
        "    print (item['name'])"
      ]
    },
    {
      "cell_type": "code",
      "execution_count": 23,
      "metadata": {
        "hidden": true,
        "id": "S-Be1U5yGfHe"
      },
      "outputs": [],
      "source": [
        "from requests.adapters import HTTPAdapter\n",
        "from requests.packages.urllib3.util.retry import Retry\n",
        "\n",
        "retry_strategy = Retry(\n",
        "    total=5,\n",
        "    status_forcelist=[500, 503, 504],\n",
        "    backoff_factor=1\n",
        ")\n",
        "\n",
        "retry_adapter = HTTPAdapter(max_retries=retry_strategy)\n",
        "\n",
        "http = requests.Session()\n",
        "http.mount(\"https://\", retry_adapter)\n",
        "http.mount(\"http://\", retry_adapter)\n",
        "\n",
        "def get_all_pages(url, param=None, header=None):\n",
        "    output_json = []\n",
        "    response = http.get(url, params=param, headers=header)\n",
        "    if response.status_code == 200:\n",
        "        output_json = response.json()\n",
        "        if 'next' in response.links:\n",
        "            next_url = response.links['next']['url']\n",
        "            if (next_url is not None) and (handle_rate_limits(response)):\n",
        "                output_json += get_all_pages(next_url, param, header)\n",
        "    return output_json"
      ]
    },
    {
      "cell_type": "code",
      "execution_count": 24,
      "metadata": {
        "hidden": true,
        "id": "5N1XueuMGfHf"
      },
      "outputs": [],
      "source": [
        "out = get_all_pages(\"https://api.github.com/repos/pytorch/pytorch/issues/comments\", param={'since': '2020-04-01T00:00:01Z'})\n",
        "df = pd.DataFrame(out)"
      ]
    },
    {
      "cell_type": "code",
      "source": [
        "df.head()"
      ],
      "metadata": {
        "id": "GW87_0F6JcEH",
        "outputId": "e40c8caf-7925-484c-948b-3cb664950455",
        "colab": {
          "base_uri": "https://localhost:8080/",
          "height": 53
        }
      },
      "execution_count": 26,
      "outputs": [
        {
          "output_type": "execute_result",
          "data": {
            "text/plain": [
              "Empty DataFrame\n",
              "Columns: []\n",
              "Index: []"
            ],
            "text/html": [
              "\n",
              "  <div id=\"df-5401fad4-6adc-4dc1-9f71-1ad7ae0984ad\" class=\"colab-df-container\">\n",
              "    <div>\n",
              "<style scoped>\n",
              "    .dataframe tbody tr th:only-of-type {\n",
              "        vertical-align: middle;\n",
              "    }\n",
              "\n",
              "    .dataframe tbody tr th {\n",
              "        vertical-align: top;\n",
              "    }\n",
              "\n",
              "    .dataframe thead th {\n",
              "        text-align: right;\n",
              "    }\n",
              "</style>\n",
              "<table border=\"1\" class=\"dataframe tex2jax_ignore\">\n",
              "  <thead>\n",
              "    <tr style=\"text-align: right;\">\n",
              "      <th></th>\n",
              "    </tr>\n",
              "  </thead>\n",
              "  <tbody>\n",
              "  </tbody>\n",
              "</table>\n",
              "</div>\n",
              "    <div class=\"colab-df-buttons\">\n",
              "\n",
              "  <div class=\"colab-df-container\">\n",
              "    <button class=\"colab-df-convert\" onclick=\"convertToInteractive('df-5401fad4-6adc-4dc1-9f71-1ad7ae0984ad')\"\n",
              "            title=\"Convert this dataframe to an interactive table.\"\n",
              "            style=\"display:none;\">\n",
              "\n",
              "  <svg xmlns=\"http://www.w3.org/2000/svg\" height=\"24px\" viewBox=\"0 -960 960 960\">\n",
              "    <path d=\"M120-120v-720h720v720H120Zm60-500h600v-160H180v160Zm220 220h160v-160H400v160Zm0 220h160v-160H400v160ZM180-400h160v-160H180v160Zm440 0h160v-160H620v160ZM180-180h160v-160H180v160Zm440 0h160v-160H620v160Z\"/>\n",
              "  </svg>\n",
              "    </button>\n",
              "\n",
              "  <style>\n",
              "    .colab-df-container {\n",
              "      display:flex;\n",
              "      gap: 12px;\n",
              "    }\n",
              "\n",
              "    .colab-df-convert {\n",
              "      background-color: #E8F0FE;\n",
              "      border: none;\n",
              "      border-radius: 50%;\n",
              "      cursor: pointer;\n",
              "      display: none;\n",
              "      fill: #1967D2;\n",
              "      height: 32px;\n",
              "      padding: 0 0 0 0;\n",
              "      width: 32px;\n",
              "    }\n",
              "\n",
              "    .colab-df-convert:hover {\n",
              "      background-color: #E2EBFA;\n",
              "      box-shadow: 0px 1px 2px rgba(60, 64, 67, 0.3), 0px 1px 3px 1px rgba(60, 64, 67, 0.15);\n",
              "      fill: #174EA6;\n",
              "    }\n",
              "\n",
              "    .colab-df-buttons div {\n",
              "      margin-bottom: 4px;\n",
              "    }\n",
              "\n",
              "    [theme=dark] .colab-df-convert {\n",
              "      background-color: #3B4455;\n",
              "      fill: #D2E3FC;\n",
              "    }\n",
              "\n",
              "    [theme=dark] .colab-df-convert:hover {\n",
              "      background-color: #434B5C;\n",
              "      box-shadow: 0px 1px 3px 1px rgba(0, 0, 0, 0.15);\n",
              "      filter: drop-shadow(0px 1px 2px rgba(0, 0, 0, 0.3));\n",
              "      fill: #FFFFFF;\n",
              "    }\n",
              "  </style>\n",
              "\n",
              "    <script>\n",
              "      const buttonEl =\n",
              "        document.querySelector('#df-5401fad4-6adc-4dc1-9f71-1ad7ae0984ad button.colab-df-convert');\n",
              "      buttonEl.style.display =\n",
              "        google.colab.kernel.accessAllowed ? 'block' : 'none';\n",
              "\n",
              "      async function convertToInteractive(key) {\n",
              "        const element = document.querySelector('#df-5401fad4-6adc-4dc1-9f71-1ad7ae0984ad');\n",
              "        const dataTable =\n",
              "          await google.colab.kernel.invokeFunction('convertToInteractive',\n",
              "                                                    [key], {});\n",
              "        if (!dataTable) return;\n",
              "\n",
              "        const docLinkHtml = 'Like what you see? Visit the ' +\n",
              "          '<a target=\"_blank\" href=https://colab.research.google.com/notebooks/data_table.ipynb>data table notebook</a>'\n",
              "          + ' to learn more about interactive tables.';\n",
              "        element.innerHTML = '';\n",
              "        dataTable['output_type'] = 'display_data';\n",
              "        await google.colab.output.renderOutput(dataTable, element);\n",
              "        const docLink = document.createElement('div');\n",
              "        docLink.innerHTML = docLinkHtml;\n",
              "        element.appendChild(docLink);\n",
              "      }\n",
              "    </script>\n",
              "  </div>\n",
              "\n",
              "\n",
              "    </div>\n",
              "  </div>\n"
            ],
            "application/vnd.google.colaboratory.intrinsic+json": {
              "type": "dataframe",
              "variable_name": "df",
              "summary": "{\n  \"name\": \"df\",\n  \"rows\": 0,\n  \"fields\": []\n}"
            }
          },
          "metadata": {},
          "execution_count": 26
        }
      ]
    },
    {
      "cell_type": "markdown",
      "metadata": {
        "id": "7YRp1ivwGfHf"
      },
      "source": [
        "# Blueprint - Extracting Twitter data with Tweepy"
      ]
    },
    {
      "cell_type": "code",
      "execution_count": null,
      "metadata": {
        "id": "fyrMSgRyGfHf",
        "outputId": "0fe2a4f1-c934-45db-e63d-741c74b2b380"
      },
      "outputs": [
        {
          "name": "stdout",
          "output_type": "stream",
          "text": [
            "API Host api.twitter.com\n",
            "API Version /1.1\n"
          ]
        }
      ],
      "source": [
        "import tweepy\n",
        "\n",
        "# app_api_key = 'YOUR_APP_KEY_HERE'\n",
        "# app_api_secret_key = 'YOUR_APP_SECRET_HERE'\n",
        "\n",
        "# auth = tweepy.AppAuthHandler(app_api_key, app_api_secret_key)\n",
        "# api = tweepy.API(auth)\n",
        "\n",
        "# print ('API Host', api.host)\n",
        "# print ('API Version', api.api_root)"
      ]
    },
    {
      "cell_type": "code",
      "source": [
        "!wget https://github.com/jyellow/blueprints-text/raw/master/ch02/Tweets_010136656960.txt\n",
        "!wget https://github.com/jyellow/blueprints-text/raw/master/ch02/Tweets_104210491845.txt"
      ],
      "metadata": {
        "id": "-lF1nApiKN_m",
        "outputId": "8aadb677-e7ba-491f-92b0-f3440c47bd83",
        "colab": {
          "base_uri": "https://localhost:8080/"
        }
      },
      "execution_count": 27,
      "outputs": [
        {
          "output_type": "stream",
          "name": "stdout",
          "text": [
            "--2024-12-12 13:58:27--  https://github.com/jyellow/blueprints-text/raw/master/ch02/Tweets_010136656960.txt\n",
            "Resolving github.com (github.com)... 140.82.114.4\n",
            "Connecting to github.com (github.com)|140.82.114.4|:443... connected.\n",
            "HTTP request sent, awaiting response... 302 Found\n",
            "Location: https://raw.githubusercontent.com/jyellow/blueprints-text/master/ch02/Tweets_010136656960.txt [following]\n",
            "--2024-12-12 13:58:28--  https://raw.githubusercontent.com/jyellow/blueprints-text/master/ch02/Tweets_010136656960.txt\n",
            "Resolving raw.githubusercontent.com (raw.githubusercontent.com)... 185.199.109.133, 185.199.110.133, 185.199.111.133, ...\n",
            "Connecting to raw.githubusercontent.com (raw.githubusercontent.com)|185.199.109.133|:443... connected.\n",
            "HTTP request sent, awaiting response... 200 OK\n",
            "Length: 77020 (75K) [text/plain]\n",
            "Saving to: ‘Tweets_010136656960.txt’\n",
            "\n",
            "\rTweets_010136656960   0%[                    ]       0  --.-KB/s               \rTweets_010136656960 100%[===================>]  75.21K  --.-KB/s    in 0.002s  \n",
            "\n",
            "2024-12-12 13:58:28 (40.0 MB/s) - ‘Tweets_010136656960.txt’ saved [77020/77020]\n",
            "\n",
            "--2024-12-12 13:58:28--  https://github.com/jyellow/blueprints-text/raw/master/ch02/Tweets_104210491845.txt\n",
            "Resolving github.com (github.com)... 140.82.114.4\n",
            "Connecting to github.com (github.com)|140.82.114.4|:443... connected.\n",
            "HTTP request sent, awaiting response... 302 Found\n",
            "Location: https://raw.githubusercontent.com/jyellow/blueprints-text/master/ch02/Tweets_104210491845.txt [following]\n",
            "--2024-12-12 13:58:28--  https://raw.githubusercontent.com/jyellow/blueprints-text/master/ch02/Tweets_104210491845.txt\n",
            "Resolving raw.githubusercontent.com (raw.githubusercontent.com)... 185.199.108.133, 185.199.109.133, 185.199.110.133, ...\n",
            "Connecting to raw.githubusercontent.com (raw.githubusercontent.com)|185.199.108.133|:443... connected.\n",
            "HTTP request sent, awaiting response... 200 OK\n",
            "Length: 61247 (60K) [text/plain]\n",
            "Saving to: ‘Tweets_104210491845.txt’\n",
            "\n",
            "Tweets_104210491845 100%[===================>]  59.81K  --.-KB/s    in 0.002s  \n",
            "\n",
            "2024-12-12 13:58:28 (29.1 MB/s) - ‘Tweets_104210491845.txt’ saved [61247/61247]\n",
            "\n"
          ]
        }
      ]
    },
    {
      "cell_type": "code",
      "execution_count": 29,
      "metadata": {
        "id": "4JVvRxV8GfHf",
        "outputId": "df600c7a-4efa-4111-b231-5fe285f1dc39",
        "colab": {
          "base_uri": "https://localhost:8080/",
          "height": 178
        }
      },
      "outputs": [
        {
          "output_type": "execute_result",
          "data": {
            "text/plain": [
              "                                                                                                                                                   text\n",
              "0                                                                                                              @Acousticmoron @Acousticmemer @htrtomoon\n",
              "9  RT @flurbnb: $120 to one person in 24 hours\\n\\nRetweet &amp; follow @shiller_crypto\\n\\n#cryptocurrency #cryptocurrencies #cryptocurrencyNews #crypt…\n",
              "4        RT @AXISDeFi: AXIS DeFi — A New Era\\n\\nAxis has been testing several concepts, and we are beyond excited about the new direction of the proje…"
            ],
            "text/html": [
              "\n",
              "  <div id=\"df-88703d1b-5f65-4101-af42-651853675e64\" class=\"colab-df-container\">\n",
              "    <div>\n",
              "<style scoped>\n",
              "    .dataframe tbody tr th:only-of-type {\n",
              "        vertical-align: middle;\n",
              "    }\n",
              "\n",
              "    .dataframe tbody tr th {\n",
              "        vertical-align: top;\n",
              "    }\n",
              "\n",
              "    .dataframe thead th {\n",
              "        text-align: right;\n",
              "    }\n",
              "</style>\n",
              "<table border=\"1\" class=\"dataframe tex2jax_ignore\">\n",
              "  <thead>\n",
              "    <tr style=\"text-align: right;\">\n",
              "      <th></th>\n",
              "      <th>text</th>\n",
              "    </tr>\n",
              "  </thead>\n",
              "  <tbody>\n",
              "    <tr>\n",
              "      <th>0</th>\n",
              "      <td>@Acousticmoron @Acousticmemer @htrtomoon</td>\n",
              "    </tr>\n",
              "    <tr>\n",
              "      <th>9</th>\n",
              "      <td>RT @flurbnb: $120 to one person in 24 hours\\n\\nRetweet &amp;amp; follow @shiller_crypto\\n\\n#cryptocurrency #cryptocurrencies #cryptocurrencyNews #crypt…</td>\n",
              "    </tr>\n",
              "    <tr>\n",
              "      <th>4</th>\n",
              "      <td>RT @AXISDeFi: AXIS DeFi — A New Era\\n\\nAxis has been testing several concepts, and we are beyond excited about the new direction of the proje…</td>\n",
              "    </tr>\n",
              "  </tbody>\n",
              "</table>\n",
              "</div>\n",
              "    <div class=\"colab-df-buttons\">\n",
              "\n",
              "  <div class=\"colab-df-container\">\n",
              "    <button class=\"colab-df-convert\" onclick=\"convertToInteractive('df-88703d1b-5f65-4101-af42-651853675e64')\"\n",
              "            title=\"Convert this dataframe to an interactive table.\"\n",
              "            style=\"display:none;\">\n",
              "\n",
              "  <svg xmlns=\"http://www.w3.org/2000/svg\" height=\"24px\" viewBox=\"0 -960 960 960\">\n",
              "    <path d=\"M120-120v-720h720v720H120Zm60-500h600v-160H180v160Zm220 220h160v-160H400v160Zm0 220h160v-160H400v160ZM180-400h160v-160H180v160Zm440 0h160v-160H620v160ZM180-180h160v-160H180v160Zm440 0h160v-160H620v160Z\"/>\n",
              "  </svg>\n",
              "    </button>\n",
              "\n",
              "  <style>\n",
              "    .colab-df-container {\n",
              "      display:flex;\n",
              "      gap: 12px;\n",
              "    }\n",
              "\n",
              "    .colab-df-convert {\n",
              "      background-color: #E8F0FE;\n",
              "      border: none;\n",
              "      border-radius: 50%;\n",
              "      cursor: pointer;\n",
              "      display: none;\n",
              "      fill: #1967D2;\n",
              "      height: 32px;\n",
              "      padding: 0 0 0 0;\n",
              "      width: 32px;\n",
              "    }\n",
              "\n",
              "    .colab-df-convert:hover {\n",
              "      background-color: #E2EBFA;\n",
              "      box-shadow: 0px 1px 2px rgba(60, 64, 67, 0.3), 0px 1px 3px 1px rgba(60, 64, 67, 0.15);\n",
              "      fill: #174EA6;\n",
              "    }\n",
              "\n",
              "    .colab-df-buttons div {\n",
              "      margin-bottom: 4px;\n",
              "    }\n",
              "\n",
              "    [theme=dark] .colab-df-convert {\n",
              "      background-color: #3B4455;\n",
              "      fill: #D2E3FC;\n",
              "    }\n",
              "\n",
              "    [theme=dark] .colab-df-convert:hover {\n",
              "      background-color: #434B5C;\n",
              "      box-shadow: 0px 1px 3px 1px rgba(0, 0, 0, 0.15);\n",
              "      filter: drop-shadow(0px 1px 2px rgba(0, 0, 0, 0.3));\n",
              "      fill: #FFFFFF;\n",
              "    }\n",
              "  </style>\n",
              "\n",
              "    <script>\n",
              "      const buttonEl =\n",
              "        document.querySelector('#df-88703d1b-5f65-4101-af42-651853675e64 button.colab-df-convert');\n",
              "      buttonEl.style.display =\n",
              "        google.colab.kernel.accessAllowed ? 'block' : 'none';\n",
              "\n",
              "      async function convertToInteractive(key) {\n",
              "        const element = document.querySelector('#df-88703d1b-5f65-4101-af42-651853675e64');\n",
              "        const dataTable =\n",
              "          await google.colab.kernel.invokeFunction('convertToInteractive',\n",
              "                                                    [key], {});\n",
              "        if (!dataTable) return;\n",
              "\n",
              "        const docLinkHtml = 'Like what you see? Visit the ' +\n",
              "          '<a target=\"_blank\" href=https://colab.research.google.com/notebooks/data_table.ipynb>data table notebook</a>'\n",
              "          + ' to learn more about interactive tables.';\n",
              "        element.innerHTML = '';\n",
              "        dataTable['output_type'] = 'display_data';\n",
              "        await google.colab.output.renderOutput(dataTable, element);\n",
              "        const docLink = document.createElement('div');\n",
              "        docLink.innerHTML = docLinkHtml;\n",
              "        element.appendChild(docLink);\n",
              "      }\n",
              "    </script>\n",
              "  </div>\n",
              "\n",
              "\n",
              "<div id=\"df-c328fd3c-8a11-4aae-b1e2-70bc52496011\">\n",
              "  <button class=\"colab-df-quickchart\" onclick=\"quickchart('df-c328fd3c-8a11-4aae-b1e2-70bc52496011')\"\n",
              "            title=\"Suggest charts\"\n",
              "            style=\"display:none;\">\n",
              "\n",
              "<svg xmlns=\"http://www.w3.org/2000/svg\" height=\"24px\"viewBox=\"0 0 24 24\"\n",
              "     width=\"24px\">\n",
              "    <g>\n",
              "        <path d=\"M19 3H5c-1.1 0-2 .9-2 2v14c0 1.1.9 2 2 2h14c1.1 0 2-.9 2-2V5c0-1.1-.9-2-2-2zM9 17H7v-7h2v7zm4 0h-2V7h2v10zm4 0h-2v-4h2v4z\"/>\n",
              "    </g>\n",
              "</svg>\n",
              "  </button>\n",
              "\n",
              "<style>\n",
              "  .colab-df-quickchart {\n",
              "      --bg-color: #E8F0FE;\n",
              "      --fill-color: #1967D2;\n",
              "      --hover-bg-color: #E2EBFA;\n",
              "      --hover-fill-color: #174EA6;\n",
              "      --disabled-fill-color: #AAA;\n",
              "      --disabled-bg-color: #DDD;\n",
              "  }\n",
              "\n",
              "  [theme=dark] .colab-df-quickchart {\n",
              "      --bg-color: #3B4455;\n",
              "      --fill-color: #D2E3FC;\n",
              "      --hover-bg-color: #434B5C;\n",
              "      --hover-fill-color: #FFFFFF;\n",
              "      --disabled-bg-color: #3B4455;\n",
              "      --disabled-fill-color: #666;\n",
              "  }\n",
              "\n",
              "  .colab-df-quickchart {\n",
              "    background-color: var(--bg-color);\n",
              "    border: none;\n",
              "    border-radius: 50%;\n",
              "    cursor: pointer;\n",
              "    display: none;\n",
              "    fill: var(--fill-color);\n",
              "    height: 32px;\n",
              "    padding: 0;\n",
              "    width: 32px;\n",
              "  }\n",
              "\n",
              "  .colab-df-quickchart:hover {\n",
              "    background-color: var(--hover-bg-color);\n",
              "    box-shadow: 0 1px 2px rgba(60, 64, 67, 0.3), 0 1px 3px 1px rgba(60, 64, 67, 0.15);\n",
              "    fill: var(--button-hover-fill-color);\n",
              "  }\n",
              "\n",
              "  .colab-df-quickchart-complete:disabled,\n",
              "  .colab-df-quickchart-complete:disabled:hover {\n",
              "    background-color: var(--disabled-bg-color);\n",
              "    fill: var(--disabled-fill-color);\n",
              "    box-shadow: none;\n",
              "  }\n",
              "\n",
              "  .colab-df-spinner {\n",
              "    border: 2px solid var(--fill-color);\n",
              "    border-color: transparent;\n",
              "    border-bottom-color: var(--fill-color);\n",
              "    animation:\n",
              "      spin 1s steps(1) infinite;\n",
              "  }\n",
              "\n",
              "  @keyframes spin {\n",
              "    0% {\n",
              "      border-color: transparent;\n",
              "      border-bottom-color: var(--fill-color);\n",
              "      border-left-color: var(--fill-color);\n",
              "    }\n",
              "    20% {\n",
              "      border-color: transparent;\n",
              "      border-left-color: var(--fill-color);\n",
              "      border-top-color: var(--fill-color);\n",
              "    }\n",
              "    30% {\n",
              "      border-color: transparent;\n",
              "      border-left-color: var(--fill-color);\n",
              "      border-top-color: var(--fill-color);\n",
              "      border-right-color: var(--fill-color);\n",
              "    }\n",
              "    40% {\n",
              "      border-color: transparent;\n",
              "      border-right-color: var(--fill-color);\n",
              "      border-top-color: var(--fill-color);\n",
              "    }\n",
              "    60% {\n",
              "      border-color: transparent;\n",
              "      border-right-color: var(--fill-color);\n",
              "    }\n",
              "    80% {\n",
              "      border-color: transparent;\n",
              "      border-right-color: var(--fill-color);\n",
              "      border-bottom-color: var(--fill-color);\n",
              "    }\n",
              "    90% {\n",
              "      border-color: transparent;\n",
              "      border-bottom-color: var(--fill-color);\n",
              "    }\n",
              "  }\n",
              "</style>\n",
              "\n",
              "  <script>\n",
              "    async function quickchart(key) {\n",
              "      const quickchartButtonEl =\n",
              "        document.querySelector('#' + key + ' button');\n",
              "      quickchartButtonEl.disabled = true;  // To prevent multiple clicks.\n",
              "      quickchartButtonEl.classList.add('colab-df-spinner');\n",
              "      try {\n",
              "        const charts = await google.colab.kernel.invokeFunction(\n",
              "            'suggestCharts', [key], {});\n",
              "      } catch (error) {\n",
              "        console.error('Error during call to suggestCharts:', error);\n",
              "      }\n",
              "      quickchartButtonEl.classList.remove('colab-df-spinner');\n",
              "      quickchartButtonEl.classList.add('colab-df-quickchart-complete');\n",
              "    }\n",
              "    (() => {\n",
              "      let quickchartButtonEl =\n",
              "        document.querySelector('#df-c328fd3c-8a11-4aae-b1e2-70bc52496011 button');\n",
              "      quickchartButtonEl.style.display =\n",
              "        google.colab.kernel.accessAllowed ? 'block' : 'none';\n",
              "    })();\n",
              "  </script>\n",
              "</div>\n",
              "\n",
              "    </div>\n",
              "  </div>\n"
            ],
            "application/vnd.google.colaboratory.intrinsic+json": {
              "type": "dataframe",
              "summary": "{\n  \"name\": \"df[['text']]\",\n  \"rows\": 3,\n  \"fields\": [\n    {\n      \"column\": \"text\",\n      \"properties\": {\n        \"dtype\": \"string\",\n        \"num_unique_values\": 3,\n        \"samples\": [\n          \"@Acousticmoron @Acousticmemer @htrtomoon\",\n          \"RT @flurbnb: $120 to one person in 24 hours\\n\\nRetweet &amp; follow @shiller_crypto\\n\\n#cryptocurrency #cryptocurrencies #cryptocurrencyNews #crypt\\u2026\",\n          \"RT @AXISDeFi: AXIS DeFi \\u2014 A New Era\\n\\nAxis has been testing several concepts, and we are beyond excited about the new direction of the proje\\u2026\"\n        ],\n        \"semantic_type\": \"\",\n        \"description\": \"\"\n      }\n    }\n  ]\n}"
            }
          },
          "metadata": {},
          "execution_count": 29
        }
      ],
      "source": [
        "# pd.set_option('display.max_colwidth', None) ###\n",
        "# search_term = 'cryptocurrency'\n",
        "\n",
        "# tweets = tweepy.Cursor(api.search,\n",
        "#                        q=search_term,\n",
        "#                        lang=\"en\").items(100)\n",
        "\n",
        "# retrieved_tweets = [tweet._json for tweet in tweets]\n",
        "tweets_file_name = 'Tweets_104210491845.txt'\n",
        "# 使用从github中拉取的本地文件来生成JSON数据\n",
        "with open(tweets_file_name, 'r') as f:\n",
        "    retrieved_tweets = json.load(f)\n",
        "df = pd.json_normalize(retrieved_tweets)\n",
        "\n",
        "df[['text']].sample(3)"
      ]
    },
    {
      "cell_type": "code",
      "source": [
        "# 查看数据的所有字段\n",
        "list(df.columns)"
      ],
      "metadata": {
        "id": "y5VwaAcXL8rH",
        "outputId": "2e8edbc2-c3cc-428a-da8e-8e826a7bf1a9",
        "colab": {
          "base_uri": "https://localhost:8080/"
        }
      },
      "execution_count": 33,
      "outputs": [
        {
          "output_type": "execute_result",
          "data": {
            "text/plain": [
              "['created_at',\n",
              " 'id',\n",
              " 'id_str',\n",
              " 'text',\n",
              " 'source',\n",
              " 'truncated',\n",
              " 'in_reply_to_status_id',\n",
              " 'in_reply_to_status_id_str',\n",
              " 'in_reply_to_user_id',\n",
              " 'in_reply_to_user_id_str',\n",
              " 'in_reply_to_screen_name',\n",
              " 'geo',\n",
              " 'coordinates',\n",
              " 'place',\n",
              " 'contributors',\n",
              " 'quoted_status_id',\n",
              " 'quoted_status_id_str',\n",
              " 'is_quote_status',\n",
              " 'quote_count',\n",
              " 'reply_count',\n",
              " 'retweet_count',\n",
              " 'favorite_count',\n",
              " 'favorited',\n",
              " 'retweeted',\n",
              " 'filter_level',\n",
              " 'lang',\n",
              " 'timestamp_ms',\n",
              " 'user.id',\n",
              " 'user.id_str',\n",
              " 'user.name',\n",
              " 'user.screen_name',\n",
              " 'user.location',\n",
              " 'user.url',\n",
              " 'user.description',\n",
              " 'user.translator_type',\n",
              " 'user.protected',\n",
              " 'user.verified',\n",
              " 'user.followers_count',\n",
              " 'user.friends_count',\n",
              " 'user.listed_count',\n",
              " 'user.favourites_count',\n",
              " 'user.statuses_count',\n",
              " 'user.created_at',\n",
              " 'user.utc_offset',\n",
              " 'user.time_zone',\n",
              " 'user.geo_enabled',\n",
              " 'user.lang',\n",
              " 'user.contributors_enabled',\n",
              " 'user.is_translator',\n",
              " 'user.profile_background_color',\n",
              " 'user.profile_background_image_url',\n",
              " 'user.profile_background_image_url_https',\n",
              " 'user.profile_background_tile',\n",
              " 'user.profile_link_color',\n",
              " 'user.profile_sidebar_border_color',\n",
              " 'user.profile_sidebar_fill_color',\n",
              " 'user.profile_text_color',\n",
              " 'user.profile_use_background_image',\n",
              " 'user.profile_image_url',\n",
              " 'user.profile_image_url_https',\n",
              " 'user.profile_banner_url',\n",
              " 'user.default_profile',\n",
              " 'user.default_profile_image',\n",
              " 'user.following',\n",
              " 'user.follow_request_sent',\n",
              " 'user.notifications',\n",
              " 'user.withheld_in_countries',\n",
              " 'quoted_status.created_at',\n",
              " 'quoted_status.id',\n",
              " 'quoted_status.id_str',\n",
              " 'quoted_status.text',\n",
              " 'quoted_status.display_text_range',\n",
              " 'quoted_status.source',\n",
              " 'quoted_status.truncated',\n",
              " 'quoted_status.in_reply_to_status_id',\n",
              " 'quoted_status.in_reply_to_status_id_str',\n",
              " 'quoted_status.in_reply_to_user_id',\n",
              " 'quoted_status.in_reply_to_user_id_str',\n",
              " 'quoted_status.in_reply_to_screen_name',\n",
              " 'quoted_status.user.id',\n",
              " 'quoted_status.user.id_str',\n",
              " 'quoted_status.user.name',\n",
              " 'quoted_status.user.screen_name',\n",
              " 'quoted_status.user.location',\n",
              " 'quoted_status.user.url',\n",
              " 'quoted_status.user.description',\n",
              " 'quoted_status.user.translator_type',\n",
              " 'quoted_status.user.protected',\n",
              " 'quoted_status.user.verified',\n",
              " 'quoted_status.user.followers_count',\n",
              " 'quoted_status.user.friends_count',\n",
              " 'quoted_status.user.listed_count',\n",
              " 'quoted_status.user.favourites_count',\n",
              " 'quoted_status.user.statuses_count',\n",
              " 'quoted_status.user.created_at',\n",
              " 'quoted_status.user.utc_offset',\n",
              " 'quoted_status.user.time_zone',\n",
              " 'quoted_status.user.geo_enabled',\n",
              " 'quoted_status.user.lang',\n",
              " 'quoted_status.user.contributors_enabled',\n",
              " 'quoted_status.user.is_translator',\n",
              " 'quoted_status.user.profile_background_color',\n",
              " 'quoted_status.user.profile_background_image_url',\n",
              " 'quoted_status.user.profile_background_image_url_https',\n",
              " 'quoted_status.user.profile_background_tile',\n",
              " 'quoted_status.user.profile_link_color',\n",
              " 'quoted_status.user.profile_sidebar_border_color',\n",
              " 'quoted_status.user.profile_sidebar_fill_color',\n",
              " 'quoted_status.user.profile_text_color',\n",
              " 'quoted_status.user.profile_use_background_image',\n",
              " 'quoted_status.user.profile_image_url',\n",
              " 'quoted_status.user.profile_image_url_https',\n",
              " 'quoted_status.user.profile_banner_url',\n",
              " 'quoted_status.user.default_profile',\n",
              " 'quoted_status.user.default_profile_image',\n",
              " 'quoted_status.user.following',\n",
              " 'quoted_status.user.follow_request_sent',\n",
              " 'quoted_status.user.notifications',\n",
              " 'quoted_status.user.withheld_in_countries',\n",
              " 'quoted_status.geo',\n",
              " 'quoted_status.coordinates',\n",
              " 'quoted_status.place',\n",
              " 'quoted_status.contributors',\n",
              " 'quoted_status.is_quote_status',\n",
              " 'quoted_status.extended_tweet.full_text',\n",
              " 'quoted_status.extended_tweet.display_text_range',\n",
              " 'quoted_status.extended_tweet.entities.hashtags',\n",
              " 'quoted_status.extended_tweet.entities.urls',\n",
              " 'quoted_status.extended_tweet.entities.user_mentions',\n",
              " 'quoted_status.extended_tweet.entities.symbols',\n",
              " 'quoted_status.extended_tweet.entities.media',\n",
              " 'quoted_status.extended_tweet.extended_entities.media',\n",
              " 'quoted_status.quote_count',\n",
              " 'quoted_status.reply_count',\n",
              " 'quoted_status.retweet_count',\n",
              " 'quoted_status.favorite_count',\n",
              " 'quoted_status.entities.hashtags',\n",
              " 'quoted_status.entities.urls',\n",
              " 'quoted_status.entities.user_mentions',\n",
              " 'quoted_status.entities.symbols',\n",
              " 'quoted_status.favorited',\n",
              " 'quoted_status.retweeted',\n",
              " 'quoted_status.possibly_sensitive',\n",
              " 'quoted_status.filter_level',\n",
              " 'quoted_status.lang',\n",
              " 'quoted_status_permalink.url',\n",
              " 'quoted_status_permalink.expanded',\n",
              " 'quoted_status_permalink.display',\n",
              " 'entities.hashtags',\n",
              " 'entities.urls',\n",
              " 'entities.user_mentions',\n",
              " 'entities.symbols',\n",
              " 'retweeted_status.created_at',\n",
              " 'retweeted_status.id',\n",
              " 'retweeted_status.id_str',\n",
              " 'retweeted_status.text',\n",
              " 'retweeted_status.display_text_range',\n",
              " 'retweeted_status.source',\n",
              " 'retweeted_status.truncated',\n",
              " 'retweeted_status.in_reply_to_status_id',\n",
              " 'retweeted_status.in_reply_to_status_id_str',\n",
              " 'retweeted_status.in_reply_to_user_id',\n",
              " 'retweeted_status.in_reply_to_user_id_str',\n",
              " 'retweeted_status.in_reply_to_screen_name',\n",
              " 'retweeted_status.user.id',\n",
              " 'retweeted_status.user.id_str',\n",
              " 'retweeted_status.user.name',\n",
              " 'retweeted_status.user.screen_name',\n",
              " 'retweeted_status.user.location',\n",
              " 'retweeted_status.user.url',\n",
              " 'retweeted_status.user.description',\n",
              " 'retweeted_status.user.translator_type',\n",
              " 'retweeted_status.user.protected',\n",
              " 'retweeted_status.user.verified',\n",
              " 'retweeted_status.user.followers_count',\n",
              " 'retweeted_status.user.friends_count',\n",
              " 'retweeted_status.user.listed_count',\n",
              " 'retweeted_status.user.favourites_count',\n",
              " 'retweeted_status.user.statuses_count',\n",
              " 'retweeted_status.user.created_at',\n",
              " 'retweeted_status.user.utc_offset',\n",
              " 'retweeted_status.user.time_zone',\n",
              " 'retweeted_status.user.geo_enabled',\n",
              " 'retweeted_status.user.lang',\n",
              " 'retweeted_status.user.contributors_enabled',\n",
              " 'retweeted_status.user.is_translator',\n",
              " 'retweeted_status.user.profile_background_color',\n",
              " 'retweeted_status.user.profile_background_image_url',\n",
              " 'retweeted_status.user.profile_background_image_url_https',\n",
              " 'retweeted_status.user.profile_background_tile',\n",
              " 'retweeted_status.user.profile_link_color',\n",
              " 'retweeted_status.user.profile_sidebar_border_color',\n",
              " 'retweeted_status.user.profile_sidebar_fill_color',\n",
              " 'retweeted_status.user.profile_text_color',\n",
              " 'retweeted_status.user.profile_use_background_image',\n",
              " 'retweeted_status.user.profile_image_url',\n",
              " 'retweeted_status.user.profile_image_url_https',\n",
              " 'retweeted_status.user.profile_banner_url',\n",
              " 'retweeted_status.user.default_profile',\n",
              " 'retweeted_status.user.default_profile_image',\n",
              " 'retweeted_status.user.following',\n",
              " 'retweeted_status.user.follow_request_sent',\n",
              " 'retweeted_status.user.notifications',\n",
              " 'retweeted_status.user.withheld_in_countries',\n",
              " 'retweeted_status.geo',\n",
              " 'retweeted_status.coordinates',\n",
              " 'retweeted_status.place',\n",
              " 'retweeted_status.contributors',\n",
              " 'retweeted_status.is_quote_status',\n",
              " 'retweeted_status.extended_tweet.full_text',\n",
              " 'retweeted_status.extended_tweet.display_text_range',\n",
              " 'retweeted_status.extended_tweet.entities.hashtags',\n",
              " 'retweeted_status.extended_tweet.entities.urls',\n",
              " 'retweeted_status.extended_tweet.entities.user_mentions',\n",
              " 'retweeted_status.extended_tweet.entities.symbols',\n",
              " 'retweeted_status.extended_tweet.entities.media',\n",
              " 'retweeted_status.extended_tweet.extended_entities.media',\n",
              " 'retweeted_status.quote_count',\n",
              " 'retweeted_status.reply_count',\n",
              " 'retweeted_status.retweet_count',\n",
              " 'retweeted_status.favorite_count',\n",
              " 'retweeted_status.entities.hashtags',\n",
              " 'retweeted_status.entities.urls',\n",
              " 'retweeted_status.entities.user_mentions',\n",
              " 'retweeted_status.entities.symbols',\n",
              " 'retweeted_status.favorited',\n",
              " 'retweeted_status.retweeted',\n",
              " 'retweeted_status.possibly_sensitive',\n",
              " 'retweeted_status.filter_level',\n",
              " 'retweeted_status.lang',\n",
              " 'display_text_range',\n",
              " 'possibly_sensitive',\n",
              " 'quoted_status.entities.media',\n",
              " 'quoted_status.extended_entities.media',\n",
              " 'extended_tweet.full_text',\n",
              " 'extended_tweet.display_text_range',\n",
              " 'extended_tweet.entities.hashtags',\n",
              " 'extended_tweet.entities.urls',\n",
              " 'extended_tweet.entities.user_mentions',\n",
              " 'extended_tweet.entities.symbols']"
            ]
          },
          "metadata": {},
          "execution_count": 33
        }
      ]
    },
    {
      "cell_type": "code",
      "source": [
        "# df['full_text'].dtype"
      ],
      "metadata": {
        "id": "REX9SYqAMdag",
        "outputId": "ff78c3a5-52ff-49b3-c111-2d2b950eafb8",
        "colab": {
          "base_uri": "https://localhost:8080/",
          "height": 561
        }
      },
      "execution_count": 32,
      "outputs": [
        {
          "output_type": "error",
          "ename": "KeyError",
          "evalue": "'full_text'",
          "traceback": [
            "\u001b[0;31m---------------------------------------------------------------------------\u001b[0m",
            "\u001b[0;31mKeyError\u001b[0m                                  Traceback (most recent call last)",
            "\u001b[0;32m/usr/local/lib/python3.10/dist-packages/pandas/core/indexes/base.py\u001b[0m in \u001b[0;36mget_loc\u001b[0;34m(self, key)\u001b[0m\n\u001b[1;32m   3804\u001b[0m         \u001b[0;32mtry\u001b[0m\u001b[0;34m:\u001b[0m\u001b[0;34m\u001b[0m\u001b[0;34m\u001b[0m\u001b[0m\n\u001b[0;32m-> 3805\u001b[0;31m             \u001b[0;32mreturn\u001b[0m \u001b[0mself\u001b[0m\u001b[0;34m.\u001b[0m\u001b[0m_engine\u001b[0m\u001b[0;34m.\u001b[0m\u001b[0mget_loc\u001b[0m\u001b[0;34m(\u001b[0m\u001b[0mcasted_key\u001b[0m\u001b[0;34m)\u001b[0m\u001b[0;34m\u001b[0m\u001b[0;34m\u001b[0m\u001b[0m\n\u001b[0m\u001b[1;32m   3806\u001b[0m         \u001b[0;32mexcept\u001b[0m \u001b[0mKeyError\u001b[0m \u001b[0;32mas\u001b[0m \u001b[0merr\u001b[0m\u001b[0;34m:\u001b[0m\u001b[0;34m\u001b[0m\u001b[0;34m\u001b[0m\u001b[0m\n",
            "\u001b[0;32mindex.pyx\u001b[0m in \u001b[0;36mpandas._libs.index.IndexEngine.get_loc\u001b[0;34m()\u001b[0m\n",
            "\u001b[0;32mindex.pyx\u001b[0m in \u001b[0;36mpandas._libs.index.IndexEngine.get_loc\u001b[0;34m()\u001b[0m\n",
            "\u001b[0;32mpandas/_libs/hashtable_class_helper.pxi\u001b[0m in \u001b[0;36mpandas._libs.hashtable.PyObjectHashTable.get_item\u001b[0;34m()\u001b[0m\n",
            "\u001b[0;32mpandas/_libs/hashtable_class_helper.pxi\u001b[0m in \u001b[0;36mpandas._libs.hashtable.PyObjectHashTable.get_item\u001b[0;34m()\u001b[0m\n",
            "\u001b[0;31mKeyError\u001b[0m: 'full_text'",
            "\nThe above exception was the direct cause of the following exception:\n",
            "\u001b[0;31mKeyError\u001b[0m                                  Traceback (most recent call last)",
            "\u001b[0;32m/content/setup.py\u001b[0m in \u001b[0;36m<cell line: 1>\u001b[0;34m()\u001b[0m\n\u001b[0;32m----> 1\u001b[0;31m \u001b[0mdf\u001b[0m\u001b[0;34m[\u001b[0m\u001b[0;34m'full_text'\u001b[0m\u001b[0;34m]\u001b[0m\u001b[0;34m.\u001b[0m\u001b[0mdtype\u001b[0m\u001b[0;34m\u001b[0m\u001b[0;34m\u001b[0m\u001b[0m\n\u001b[0m",
            "\u001b[0;32m/usr/local/lib/python3.10/dist-packages/pandas/core/frame.py\u001b[0m in \u001b[0;36m__getitem__\u001b[0;34m(self, key)\u001b[0m\n\u001b[1;32m   4100\u001b[0m             \u001b[0;32mif\u001b[0m \u001b[0mself\u001b[0m\u001b[0;34m.\u001b[0m\u001b[0mcolumns\u001b[0m\u001b[0;34m.\u001b[0m\u001b[0mnlevels\u001b[0m \u001b[0;34m>\u001b[0m \u001b[0;36m1\u001b[0m\u001b[0;34m:\u001b[0m\u001b[0;34m\u001b[0m\u001b[0;34m\u001b[0m\u001b[0m\n\u001b[1;32m   4101\u001b[0m                 \u001b[0;32mreturn\u001b[0m \u001b[0mself\u001b[0m\u001b[0;34m.\u001b[0m\u001b[0m_getitem_multilevel\u001b[0m\u001b[0;34m(\u001b[0m\u001b[0mkey\u001b[0m\u001b[0;34m)\u001b[0m\u001b[0;34m\u001b[0m\u001b[0;34m\u001b[0m\u001b[0m\n\u001b[0;32m-> 4102\u001b[0;31m             \u001b[0mindexer\u001b[0m \u001b[0;34m=\u001b[0m \u001b[0mself\u001b[0m\u001b[0;34m.\u001b[0m\u001b[0mcolumns\u001b[0m\u001b[0;34m.\u001b[0m\u001b[0mget_loc\u001b[0m\u001b[0;34m(\u001b[0m\u001b[0mkey\u001b[0m\u001b[0;34m)\u001b[0m\u001b[0;34m\u001b[0m\u001b[0;34m\u001b[0m\u001b[0m\n\u001b[0m\u001b[1;32m   4103\u001b[0m             \u001b[0;32mif\u001b[0m \u001b[0mis_integer\u001b[0m\u001b[0;34m(\u001b[0m\u001b[0mindexer\u001b[0m\u001b[0;34m)\u001b[0m\u001b[0;34m:\u001b[0m\u001b[0;34m\u001b[0m\u001b[0;34m\u001b[0m\u001b[0m\n\u001b[1;32m   4104\u001b[0m                 \u001b[0mindexer\u001b[0m \u001b[0;34m=\u001b[0m \u001b[0;34m[\u001b[0m\u001b[0mindexer\u001b[0m\u001b[0;34m]\u001b[0m\u001b[0;34m\u001b[0m\u001b[0;34m\u001b[0m\u001b[0m\n",
            "\u001b[0;32m/usr/local/lib/python3.10/dist-packages/pandas/core/indexes/base.py\u001b[0m in \u001b[0;36mget_loc\u001b[0;34m(self, key)\u001b[0m\n\u001b[1;32m   3810\u001b[0m             ):\n\u001b[1;32m   3811\u001b[0m                 \u001b[0;32mraise\u001b[0m \u001b[0mInvalidIndexError\u001b[0m\u001b[0;34m(\u001b[0m\u001b[0mkey\u001b[0m\u001b[0;34m)\u001b[0m\u001b[0;34m\u001b[0m\u001b[0;34m\u001b[0m\u001b[0m\n\u001b[0;32m-> 3812\u001b[0;31m             \u001b[0;32mraise\u001b[0m \u001b[0mKeyError\u001b[0m\u001b[0;34m(\u001b[0m\u001b[0mkey\u001b[0m\u001b[0;34m)\u001b[0m \u001b[0;32mfrom\u001b[0m \u001b[0merr\u001b[0m\u001b[0;34m\u001b[0m\u001b[0;34m\u001b[0m\u001b[0m\n\u001b[0m\u001b[1;32m   3813\u001b[0m         \u001b[0;32mexcept\u001b[0m \u001b[0mTypeError\u001b[0m\u001b[0;34m:\u001b[0m\u001b[0;34m\u001b[0m\u001b[0;34m\u001b[0m\u001b[0m\n\u001b[1;32m   3814\u001b[0m             \u001b[0;31m# If we have a listlike key, _check_indexing_error will raise\u001b[0m\u001b[0;34m\u001b[0m\u001b[0;34m\u001b[0m\u001b[0m\n",
            "\u001b[0;31mKeyError\u001b[0m: 'full_text'"
          ]
        }
      ]
    },
    {
      "cell_type": "code",
      "execution_count": null,
      "metadata": {
        "id": "triSNEuCGfHf",
        "outputId": "160180fc-be72-4060-9473-55241b51b672"
      },
      "outputs": [
        {
          "name": "stdout",
          "output_type": "stream",
          "text": [
            "Number of retrieved tweets  12000\n"
          ]
        }
      ],
      "source": [
        "# api = tweepy.API(auth,\n",
        "#                  wait_on_rate_limit=True,\n",
        "#                  wait_on_rate_limit_notify=True,\n",
        "#                  retry_count=5,\n",
        "#                  retry_delay=10)\n",
        "\n",
        "# search_term = 'cryptocurrency OR crypto -filter:retweets'\n",
        "\n",
        "# tweets = tweepy.Cursor(api.search,\n",
        "#                        q=search_term,\n",
        "#                        lang=\"en\",\n",
        "#                        tweet_mode='extended',\n",
        "#                        count=30).items(12000)\n",
        "\n",
        "# retrieved_tweets = [tweet._json for tweet in tweets]\n",
        "\n",
        "# df = pd.json_normalize(retrieved_tweets)\n",
        "# print('Number of retrieved tweets ', len(df))"
      ]
    },
    {
      "cell_type": "code",
      "execution_count": 36,
      "metadata": {
        "id": "vJGPcm_QGfHf",
        "outputId": "e088d8df-7a50-4df1-84bf-69fdb650f044",
        "colab": {
          "base_uri": "https://localhost:8080/"
        }
      },
      "outputs": [
        {
          "output_type": "stream",
          "name": "stdout",
          "text": [
            "                       created_at retweeted_status.extended_tweet.full_text  \\\n",
            "3  Mon May 10 08:42:03 +0000 2021                                       NaN   \n",
            "6  Mon May 10 08:42:04 +0000 2021                                       NaN   \n",
            "\n",
            "                                                                                                                                                                                                        entities.hashtags  \n",
            "3                                                                                                                                                                                                                      []  \n",
            "6  [{'text': 'News', 'indices': [92, 97]}, {'text': 'blockchain', 'indices': [98, 109]}, {'text': 'crypto', 'indices': [110, 117]}, {'text': 'DOGE', 'indices': [118, 123]}, {'text': 'Dogecoin', 'indices': [124, 133]}]  \n"
          ]
        }
      ],
      "source": [
        "print(df[['created_at','retweeted_status.extended_tweet.full_text','entities.hashtags']].sample(2))"
      ]
    },
    {
      "cell_type": "code",
      "execution_count": 37,
      "metadata": {
        "id": "wgz3-HuHGfHf"
      },
      "outputs": [],
      "source": [
        "def extract_entities(entity_list):\n",
        "    entities = set()\n",
        "    if len(entity_list) != 0:\n",
        "        for item in entity_list:\n",
        "            for key,value in item.items():\n",
        "                if key == 'text':\n",
        "                    entities.add(value.lower())\n",
        "    return list(entities)"
      ]
    },
    {
      "cell_type": "code",
      "execution_count": 38,
      "metadata": {
        "id": "onZtJfxbGfHf",
        "outputId": "57146f1f-133c-4a77-cbeb-88a2b82c4aa8",
        "colab": {
          "base_uri": "https://localhost:8080/",
          "height": 388
        }
      },
      "outputs": [
        {
          "output_type": "execute_result",
          "data": {
            "text/plain": [
              "<Axes: >"
            ]
          },
          "metadata": {},
          "execution_count": 38
        },
        {
          "output_type": "display_data",
          "data": {
            "text/plain": [
              "<Figure size 1600x800 with 1 Axes>"
            ],
            "image/png": "[encoded data removed]"
          },
          "metadata": {}
        }
      ],
      "source": [
        "df['Entities'] = df['entities.hashtags'].apply(extract_entities)\n",
        "pd.Series(np.concatenate(df['Entities'])).value_counts()[:25].plot(kind='barh')"
      ]
    },
    {
      "cell_type": "code",
      "execution_count": 39,
      "metadata": {
        "id": "rU5cc3wJGfHf",
        "outputId": "8f45f834-21af-4f85-bccb-886ef3922206",
        "colab": {
          "base_uri": "https://localhost:8080/",
          "height": 216
        }
      },
      "outputs": [
        {
          "output_type": "error",
          "ename": "NameError",
          "evalue": "name 'tweepy' is not defined",
          "traceback": [
            "\u001b[0;31m---------------------------------------------------------------------------\u001b[0m",
            "\u001b[0;31mNameError\u001b[0m                                 Traceback (most recent call last)",
            "\u001b[0;32m/content/setup.py\u001b[0m in \u001b[0;36m<cell line: 1>\u001b[0;34m()\u001b[0m\n\u001b[0;32m----> 1\u001b[0;31m \u001b[0mapi\u001b[0m \u001b[0;34m=\u001b[0m \u001b[0mtweepy\u001b[0m\u001b[0;34m.\u001b[0m\u001b[0mAPI\u001b[0m\u001b[0;34m(\u001b[0m\u001b[0mauth\u001b[0m\u001b[0;34m,\u001b[0m \u001b[0mwait_on_rate_limit\u001b[0m\u001b[0;34m=\u001b[0m\u001b[0;32mTrue\u001b[0m\u001b[0;34m,\u001b[0m \u001b[0mwait_on_rate_limit_notify\u001b[0m\u001b[0;34m=\u001b[0m\u001b[0;32mTrue\u001b[0m\u001b[0;34m)\u001b[0m\u001b[0;34m\u001b[0m\u001b[0;34m\u001b[0m\u001b[0m\n\u001b[0m\u001b[1;32m      2\u001b[0m \u001b[0;34m\u001b[0m\u001b[0m\n\u001b[1;32m      3\u001b[0m tweets = tweepy.Cursor(api.user_timeline,\n\u001b[1;32m      4\u001b[0m                        \u001b[0mscreen_name\u001b[0m\u001b[0;34m=\u001b[0m\u001b[0;34m'MercedesAMGF1'\u001b[0m\u001b[0;34m,\u001b[0m\u001b[0;34m\u001b[0m\u001b[0;34m\u001b[0m\u001b[0m\n\u001b[1;32m      5\u001b[0m                        \u001b[0mlang\u001b[0m\u001b[0;34m=\u001b[0m\u001b[0;34m\"en\"\u001b[0m\u001b[0;34m,\u001b[0m\u001b[0;34m\u001b[0m\u001b[0;34m\u001b[0m\u001b[0m\n",
            "\u001b[0;31mNameError\u001b[0m: name 'tweepy' is not defined"
          ]
        }
      ],
      "source": [
        "# api = tweepy.API(auth, wait_on_rate_limit=True, wait_on_rate_limit_notify=True)\n",
        "\n",
        "# tweets = tweepy.Cursor(api.user_timeline,\n",
        "#                        screen_name='MercedesAMGF1',\n",
        "#                        lang=\"en\",\n",
        "#                        tweet_mode='extended',\n",
        "#                        count=100).items(5000)\n",
        "\n",
        "# retrieved_tweets = [tweet._json for tweet in tweets]\n",
        "# df = pd.io.json.json_normalize(retrieved_tweets)\n",
        "# print ('Number of retrieved tweets ', len(df))"
      ]
    },
    {
      "cell_type": "code",
      "execution_count": null,
      "metadata": {
        "id": "1OTQdz9dGfHf"
      },
      "outputs": [],
      "source": [
        "# def get_user_timeline(screen_name):\n",
        "#     api = tweepy.API(auth,\n",
        "#                      wait_on_rate_limit=True,\n",
        "#                      wait_on_rate_limit_notify=True)\n",
        "#     tweets = tweepy.Cursor(api.user_timeline,\n",
        "#                            screen_name=screen_name,\n",
        "#                            lang=\"en\",\n",
        "#                            tweet_mode='extended',\n",
        "#                            count=200).items()\n",
        "#     retrieved_tweets = [tweet._json for tweet in tweets]\n",
        "#     df = pd.io.json.json_normalize(retrieved_tweets)\n",
        "#     df = df[~df['retweeted_status.id'].isna()]\n",
        "#     return df"
      ]
    },
    {
      "cell_type": "code",
      "execution_count": null,
      "metadata": {
        "id": "HMeOb687GfHf",
        "outputId": "e053ce5f-b50b-4c6a-e752-80fcce8d5202"
      },
      "outputs": [
        {
          "name": "stdout",
          "output_type": "stream",
          "text": [
            "Number of Tweets from Mercedes 203\n",
            "Number of Tweets from Ferrari 168\n"
          ]
        }
      ],
      "source": [
        "# df_mercedes = get_user_timeline('MercedesAMGF1')\n",
        "# print ('Number of Tweets from Mercedes', len(df_mercedes))\n",
        "# df_ferrari = get_user_timeline('ScuderiaFerrari')\n",
        "# print ('Number of Tweets from Ferrari', len(df_ferrari))"
      ]
    },
    {
      "cell_type": "code",
      "execution_count": 40,
      "metadata": {
        "id": "SrLglzcLGfHg"
      },
      "outputs": [],
      "source": [
        "import regex as re\n",
        "import nltk\n",
        "from collections import Counter\n",
        "from wordcloud import WordCloud\n",
        "\n",
        "stopwords = set(nltk.corpus.stopwords.words('english'))\n",
        "RE_LETTER = re.compile(r'\\b\\p{L}{2,}\\b')\n",
        "\n",
        "def tokenize(text):\n",
        "    return RE_LETTER.findall(text)\n",
        "\n",
        "def remove_stop(tokens):\n",
        "    return [t for t in tokens if t.lower() not in stopwords]\n",
        "\n",
        "pipeline = [str.lower, tokenize, remove_stop]\n",
        "\n",
        "def prepare(text):\n",
        "    tokens = text\n",
        "    for transform in pipeline:\n",
        "        tokens = transform(tokens)\n",
        "    return tokens\n",
        "\n",
        "def count_words(df, column='tokens', preprocess=None, min_freq=2):\n",
        "\n",
        "    # process tokens and update counter\n",
        "    def update(doc):\n",
        "        tokens = doc if preprocess is None else preprocess(doc)\n",
        "        counter.update(tokens)\n",
        "\n",
        "    # create counter and run through all data\n",
        "    counter = Counter()\n",
        "    df[column].map(update)\n",
        "\n",
        "    # transform counter into data frame\n",
        "    freq_df = pd.DataFrame.from_dict(counter, orient='index', columns=['freq'])\n",
        "    freq_df = freq_df.query('freq >= @min_freq')\n",
        "    freq_df.index.name = 'token'\n",
        "\n",
        "    return freq_df.sort_values('freq', ascending=False)\n",
        "\n",
        "def wordcloud(word_freq, title=None, max_words=200, stopwords=None):\n",
        "\n",
        "    wc = WordCloud(width=800, height=400,\n",
        "                   background_color= \"black\", colormap=\"Paired\",\n",
        "                   max_font_size=150, max_words=max_words)\n",
        "\n",
        "    # convert data frame into dict\n",
        "    if type(word_freq) == pd.Series:\n",
        "        counter = Counter(word_freq.fillna(0).to_dict())\n",
        "    else:\n",
        "        counter = word_freq\n",
        "\n",
        "    # filter stop words in frequency counter\n",
        "    if stopwords is not None:\n",
        "        counter = {token:freq for (token, freq) in counter.items()\n",
        "                              if token not in stopwords}\n",
        "    wc.generate_from_frequencies(counter)\n",
        "\n",
        "    plt.title(title)\n",
        "\n",
        "    plt.imshow(wc, interpolation='bilinear')\n",
        "    plt.axis(\"off\")"
      ]
    },
    {
      "cell_type": "code",
      "execution_count": 41,
      "metadata": {
        "id": "8ApHvjdaGfHg"
      },
      "outputs": [],
      "source": [
        "def wordcloud_blueprint(df, colName, max_words, num_stopwords):\n",
        "    # Step 1: Convert input text column into tokens\n",
        "    df['tokens'] = df[colName].map(prepare)\n",
        "\n",
        "    # Step 2: Determine the frequency of each of the tokens\n",
        "    freq_df = count_words(df)\n",
        "\n",
        "    # Step 3: Generate the wordcloud using the frequencies controlling for stopwords\n",
        "    wordcloud(freq_df['freq'], max_words, stopwords=freq_df.head(num_stopwords).index)"
      ]
    },
    {
      "cell_type": "code",
      "execution_count": 44,
      "metadata": {
        "id": "Zmq5NRsyGfHg",
        "outputId": "f4164cab-cc71-4c8c-9e99-2c221028991d",
        "colab": {
          "base_uri": "https://localhost:8080/",
          "height": 519
        }
      },
      "outputs": [
        {
          "output_type": "execute_result",
          "data": {
            "text/plain": [
              "<Figure size 2400x800 with 0 Axes>"
            ]
          },
          "metadata": {},
          "execution_count": 44
        },
        {
          "output_type": "execute_result",
          "data": {
            "text/plain": [
              "<Axes: >"
            ]
          },
          "metadata": {},
          "execution_count": 44
        },
        {
          "output_type": "display_data",
          "data": {
            "text/plain": [
              "<Figure size 2400x800 with 1 Axes>"
            ],
            "image/png": "[encoded data removed]"
          },
          "metadata": {}
        }
      ],
      "source": [
        "# plt.figure(figsize=(12, 4))\n",
        "# plt.subplot(1, 2, 1)  ###\n",
        "# wordcloud_blueprint(df_mercedes, 'full_text',\n",
        "#           max_words=100,\n",
        "#           num_stopwords=5)\n",
        "\n",
        "# plt.subplot(1, 2, 2)  ###\n",
        "# wordcloud_blueprint(df_ferrari, 'full_text',\n",
        "#           max_words=100,\n",
        "#           num_stopwords=5)\n",
        "\n",
        "plt.figure(figsize=(12, 4))\n",
        "plt.subplot(1, 2, 1)  ###\n",
        "wordcloud_blueprint(df, 'text',\n",
        "          max_words=100,\n",
        "          num_stopwords=5)"
      ]
    },
    {
      "cell_type": "code",
      "execution_count": null,
      "metadata": {
        "id": "9YnPVXJkGfHj"
      },
      "outputs": [],
      "source": [
        "from datetime import datetime\n",
        "import math\n",
        "\n",
        "class FileStreamListener(tweepy.StreamListener):\n",
        "\n",
        "    def __init__(self, max_tweets=math.inf):\n",
        "        self.num_tweets = 0\n",
        "        self.TWEETS_FILE_SIZE = 10\n",
        "        self.num_files = 0\n",
        "        self.tweets = []\n",
        "        self.max_tweets = max_tweets\n",
        "\n",
        "    def on_data(self, data):\n",
        "        while (self.num_files * self.TWEETS_FILE_SIZE < self.max_tweets):\n",
        "            self.tweets.append(json.loads(data))\n",
        "            self.num_tweets += 1\n",
        "            if (self.num_tweets < self.TWEETS_FILE_SIZE):\n",
        "                return True\n",
        "            else:\n",
        "                filename = 'Tweets_' + str(datetime.now().time().strftime(\"%H%M%S%f\")) + '.txt'\n",
        "                print (self.TWEETS_FILE_SIZE, 'Tweets saved to', filename)\n",
        "                file = open(filename, \"w\")\n",
        "                json.dump(self.tweets, file)\n",
        "                file.close()\n",
        "                self.num_files += 1\n",
        "                self.tweets = []\n",
        "                self.num_tweets = 0\n",
        "                return True\n",
        "        return False\n",
        "\n",
        "    def on_error(self, status_code):\n",
        "        if status_code == 420:\n",
        "            print ('Too many requests were made, please stagger requests')\n",
        "            return False\n",
        "        else:\n",
        "            print ('Error {}'.format(status_code))\n",
        "            return False"
      ]
    },
    {
      "cell_type": "code",
      "execution_count": null,
      "metadata": {
        "id": "kizeW5z5GfHj"
      },
      "outputs": [],
      "source": [
        "user_access_token = 'YOUR_USER_ACCESS_TOKEN_HERE'\n",
        "user_access_secret = 'YOUR_USER_ACCESS_SECRET_HERE'\n",
        "\n",
        "auth = tweepy.OAuthHandler(app_api_key, app_api_secret_key)\n",
        "auth.set_access_token(user_access_token, user_access_secret)\n",
        "api = tweepy.API(auth, wait_on_rate_limit=True, wait_on_rate_limit_notify=True)"
      ]
    },
    {
      "cell_type": "code",
      "execution_count": null,
      "metadata": {
        "id": "KTo8DWcIGfHj",
        "outputId": "7dd04a6c-dfe4-425b-a2b7-477c106b0d52"
      },
      "outputs": [
        {
          "name": "stdout",
          "output_type": "stream",
          "text": [
            "10 Tweets saved to Tweets_104210491845.txt\n",
            "10 Tweets saved to Tweets_104212062715.txt\n"
          ]
        }
      ],
      "source": [
        "fileStreamListener = FileStreamListener(20)\n",
        "fileStream = tweepy.Stream(auth=api.auth,\n",
        "                           listener=fileStreamListener,\n",
        "                           tweet_mode='extended')\n",
        "fileStream.filter(track=['cryptocurrency'])"
      ]
    },
    {
      "cell_type": "code",
      "execution_count": 45,
      "metadata": {
        "id": "uTOJ_w2kGfHj",
        "outputId": "910b579b-02da-41ec-a45e-fd7b159c56c9",
        "colab": {
          "base_uri": "https://localhost:8080/",
          "height": 370
        }
      },
      "outputs": [
        {
          "output_type": "execute_result",
          "data": {
            "text/plain": [
              "                       created_at                   id               id_str  \\\n",
              "0  Mon May 10 08:42:03 +0000 2021  1391674884531523591  1391674884531523591   \n",
              "1  Mon May 10 08:42:03 +0000 2021  1391674885915627526  1391674885915627526   \n",
              "\n",
              "                                                                                                                                             text  \\\n",
              "0                                                                                                        @Acousticmoron @Acousticmemer @htrtomoon   \n",
              "1  RT @AXISDeFi: AXIS DeFi — A New Era\\n\\nAxis has been testing several concepts, and we are beyond excited about the new direction of the proje…   \n",
              "\n",
              "                                                                                 source  \\\n",
              "0  <a href=\"http://twitter.com/download/android\" rel=\"nofollow\">Twitter for Android</a>   \n",
              "1  <a href=\"http://twitter.com/download/android\" rel=\"nofollow\">Twitter for Android</a>   \n",
              "\n",
              "   truncated  in_reply_to_status_id in_reply_to_status_id_str  \\\n",
              "0      False                    NaN                      None   \n",
              "1      False                    NaN                      None   \n",
              "\n",
              "     in_reply_to_user_id in_reply_to_user_id_str in_reply_to_screen_name  \\\n",
              "0 1251401938760949760.00     1251401938760949760           Acousticmoron   \n",
              "1                    NaN                    None                    None   \n",
              "\n",
              "    geo coordinates place contributors  ...  retweeted_status.favorited  \\\n",
              "0  None        None  None         None  ...                         NaN   \n",
              "1  None        None  None         None  ...                       False   \n",
              "\n",
              "  retweeted_status.retweeted  retweeted_status.possibly_sensitive  \\\n",
              "0                        NaN                                  NaN   \n",
              "1                      False                                False   \n",
              "\n",
              "   retweeted_status.filter_level  retweeted_status.lang  display_text_range  \\\n",
              "0                            NaN                    NaN                 NaN   \n",
              "1                            low                     en                 NaN   \n",
              "\n",
              "   possibly_sensitive  quoted_status.entities.media  \\\n",
              "0                 NaN                           NaN   \n",
              "1                 NaN                           NaN   \n",
              "\n",
              "   quoted_status.extended_entities.media extended_tweet.full_text  \\\n",
              "0                                    NaN                      NaN   \n",
              "1                                    NaN                      NaN   \n",
              "\n",
              "  extended_tweet.display_text_range extended_tweet.entities.hashtags  \\\n",
              "0                               NaN                              NaN   \n",
              "1                               NaN                              NaN   \n",
              "\n",
              "   extended_tweet.entities.urls extended_tweet.entities.user_mentions  \\\n",
              "0                           NaN                                   NaN   \n",
              "1                           NaN                                   NaN   \n",
              "\n",
              "  extended_tweet.entities.symbols  \n",
              "0                             NaN  \n",
              "1                             NaN  \n",
              "\n",
              "[2 rows x 240 columns]"
            ],
            "text/html": [
              "\n",
              "  <div id=\"df-519f7800-9bae-4147-a1a2-55823edb4139\" class=\"colab-df-container\">\n",
              "    <div>\n",
              "<style scoped>\n",
              "    .dataframe tbody tr th:only-of-type {\n",
              "        vertical-align: middle;\n",
              "    }\n",
              "\n",
              "    .dataframe tbody tr th {\n",
              "        vertical-align: top;\n",
              "    }\n",
              "\n",
              "    .dataframe thead th {\n",
              "        text-align: right;\n",
              "    }\n",
              "</style>\n",
              "<table border=\"1\" class=\"dataframe tex2jax_ignore\">\n",
              "  <thead>\n",
              "    <tr style=\"text-align: right;\">\n",
              "      <th></th>\n",
              "      <th>created_at</th>\n",
              "      <th>id</th>\n",
              "      <th>id_str</th>\n",
              "      <th>text</th>\n",
              "      <th>source</th>\n",
              "      <th>truncated</th>\n",
              "      <th>in_reply_to_status_id</th>\n",
              "      <th>in_reply_to_status_id_str</th>\n",
              "      <th>in_reply_to_user_id</th>\n",
              "      <th>in_reply_to_user_id_str</th>\n",
              "      <th>in_reply_to_screen_name</th>\n",
              "      <th>geo</th>\n",
              "      <th>coordinates</th>\n",
              "      <th>place</th>\n",
              "      <th>contributors</th>\n",
              "      <th>...</th>\n",
              "      <th>retweeted_status.favorited</th>\n",
              "      <th>retweeted_status.retweeted</th>\n",
              "      <th>retweeted_status.possibly_sensitive</th>\n",
              "      <th>retweeted_status.filter_level</th>\n",
              "      <th>retweeted_status.lang</th>\n",
              "      <th>display_text_range</th>\n",
              "      <th>possibly_sensitive</th>\n",
              "      <th>quoted_status.entities.media</th>\n",
              "      <th>quoted_status.extended_entities.media</th>\n",
              "      <th>extended_tweet.full_text</th>\n",
              "      <th>extended_tweet.display_text_range</th>\n",
              "      <th>extended_tweet.entities.hashtags</th>\n",
              "      <th>extended_tweet.entities.urls</th>\n",
              "      <th>extended_tweet.entities.user_mentions</th>\n",
              "      <th>extended_tweet.entities.symbols</th>\n",
              "    </tr>\n",
              "  </thead>\n",
              "  <tbody>\n",
              "    <tr>\n",
              "      <th>0</th>\n",
              "      <td>Mon May 10 08:42:03 +0000 2021</td>\n",
              "      <td>1391674884531523591</td>\n",
              "      <td>1391674884531523591</td>\n",
              "      <td>@Acousticmoron @Acousticmemer @htrtomoon</td>\n",
              "      <td>&lt;a href=\"http://twitter.com/download/android\" rel=\"nofollow\"&gt;Twitter for Android&lt;/a&gt;</td>\n",
              "      <td>False</td>\n",
              "      <td>NaN</td>\n",
              "      <td>None</td>\n",
              "      <td>1251401938760949760.00</td>\n",
              "      <td>1251401938760949760</td>\n",
              "      <td>Acousticmoron</td>\n",
              "      <td>None</td>\n",
              "      <td>None</td>\n",
              "      <td>None</td>\n",
              "      <td>None</td>\n",
              "      <td>...</td>\n",
              "      <td>NaN</td>\n",
              "      <td>NaN</td>\n",
              "      <td>NaN</td>\n",
              "      <td>NaN</td>\n",
              "      <td>NaN</td>\n",
              "      <td>NaN</td>\n",
              "      <td>NaN</td>\n",
              "      <td>NaN</td>\n",
              "      <td>NaN</td>\n",
              "      <td>NaN</td>\n",
              "      <td>NaN</td>\n",
              "      <td>NaN</td>\n",
              "      <td>NaN</td>\n",
              "      <td>NaN</td>\n",
              "      <td>NaN</td>\n",
              "    </tr>\n",
              "    <tr>\n",
              "      <th>1</th>\n",
              "      <td>Mon May 10 08:42:03 +0000 2021</td>\n",
              "      <td>1391674885915627526</td>\n",
              "      <td>1391674885915627526</td>\n",
              "      <td>RT @AXISDeFi: AXIS DeFi — A New Era\\n\\nAxis has been testing several concepts, and we are beyond excited about the new direction of the proje…</td>\n",
              "      <td>&lt;a href=\"http://twitter.com/download/android\" rel=\"nofollow\"&gt;Twitter for Android&lt;/a&gt;</td>\n",
              "      <td>False</td>\n",
              "      <td>NaN</td>\n",
              "      <td>None</td>\n",
              "      <td>NaN</td>\n",
              "      <td>None</td>\n",
              "      <td>None</td>\n",
              "      <td>None</td>\n",
              "      <td>None</td>\n",
              "      <td>None</td>\n",
              "      <td>None</td>\n",
              "      <td>...</td>\n",
              "      <td>False</td>\n",
              "      <td>False</td>\n",
              "      <td>False</td>\n",
              "      <td>low</td>\n",
              "      <td>en</td>\n",
              "      <td>NaN</td>\n",
              "      <td>NaN</td>\n",
              "      <td>NaN</td>\n",
              "      <td>NaN</td>\n",
              "      <td>NaN</td>\n",
              "      <td>NaN</td>\n",
              "      <td>NaN</td>\n",
              "      <td>NaN</td>\n",
              "      <td>NaN</td>\n",
              "      <td>NaN</td>\n",
              "    </tr>\n",
              "  </tbody>\n",
              "</table>\n",
              "<p>2 rows × 240 columns</p>\n",
              "</div>\n",
              "    <div class=\"colab-df-buttons\">\n",
              "\n",
              "  <div class=\"colab-df-container\">\n",
              "    <button class=\"colab-df-convert\" onclick=\"convertToInteractive('df-519f7800-9bae-4147-a1a2-55823edb4139')\"\n",
              "            title=\"Convert this dataframe to an interactive table.\"\n",
              "            style=\"display:none;\">\n",
              "\n",
              "  <svg xmlns=\"http://www.w3.org/2000/svg\" height=\"24px\" viewBox=\"0 -960 960 960\">\n",
              "    <path d=\"M120-120v-720h720v720H120Zm60-500h600v-160H180v160Zm220 220h160v-160H400v160Zm0 220h160v-160H400v160ZM180-400h160v-160H180v160Zm440 0h160v-160H620v160ZM180-180h160v-160H180v160Zm440 0h160v-160H620v160Z\"/>\n",
              "  </svg>\n",
              "    </button>\n",
              "\n",
              "  <style>\n",
              "    .colab-df-container {\n",
              "      display:flex;\n",
              "      gap: 12px;\n",
              "    }\n",
              "\n",
              "    .colab-df-convert {\n",
              "      background-color: #E8F0FE;\n",
              "      border: none;\n",
              "      border-radius: 50%;\n",
              "      cursor: pointer;\n",
              "      display: none;\n",
              "      fill: #1967D2;\n",
              "      height: 32px;\n",
              "      padding: 0 0 0 0;\n",
              "      width: 32px;\n",
              "    }\n",
              "\n",
              "    .colab-df-convert:hover {\n",
              "      background-color: #E2EBFA;\n",
              "      box-shadow: 0px 1px 2px rgba(60, 64, 67, 0.3), 0px 1px 3px 1px rgba(60, 64, 67, 0.15);\n",
              "      fill: #174EA6;\n",
              "    }\n",
              "\n",
              "    .colab-df-buttons div {\n",
              "      margin-bottom: 4px;\n",
              "    }\n",
              "\n",
              "    [theme=dark] .colab-df-convert {\n",
              "      background-color: #3B4455;\n",
              "      fill: #D2E3FC;\n",
              "    }\n",
              "\n",
              "    [theme=dark] .colab-df-convert:hover {\n",
              "      background-color: #434B5C;\n",
              "      box-shadow: 0px 1px 3px 1px rgba(0, 0, 0, 0.15);\n",
              "      filter: drop-shadow(0px 1px 2px rgba(0, 0, 0, 0.3));\n",
              "      fill: #FFFFFF;\n",
              "    }\n",
              "  </style>\n",
              "\n",
              "    <script>\n",
              "      const buttonEl =\n",
              "        document.querySelector('#df-519f7800-9bae-4147-a1a2-55823edb4139 button.colab-df-convert');\n",
              "      buttonEl.style.display =\n",
              "        google.colab.kernel.accessAllowed ? 'block' : 'none';\n",
              "\n",
              "      async function convertToInteractive(key) {\n",
              "        const element = document.querySelector('#df-519f7800-9bae-4147-a1a2-55823edb4139');\n",
              "        const dataTable =\n",
              "          await google.colab.kernel.invokeFunction('convertToInteractive',\n",
              "                                                    [key], {});\n",
              "        if (!dataTable) return;\n",
              "\n",
              "        const docLinkHtml = 'Like what you see? Visit the ' +\n",
              "          '<a target=\"_blank\" href=https://colab.research.google.com/notebooks/data_table.ipynb>data table notebook</a>'\n",
              "          + ' to learn more about interactive tables.';\n",
              "        element.innerHTML = '';\n",
              "        dataTable['output_type'] = 'display_data';\n",
              "        await google.colab.output.renderOutput(dataTable, element);\n",
              "        const docLink = document.createElement('div');\n",
              "        docLink.innerHTML = docLinkHtml;\n",
              "        element.appendChild(docLink);\n",
              "      }\n",
              "    </script>\n",
              "  </div>\n",
              "\n",
              "\n",
              "<div id=\"df-b4fd09c8-750e-4068-a32d-4e42d7120f70\">\n",
              "  <button class=\"colab-df-quickchart\" onclick=\"quickchart('df-b4fd09c8-750e-4068-a32d-4e42d7120f70')\"\n",
              "            title=\"Suggest charts\"\n",
              "            style=\"display:none;\">\n",
              "\n",
              "<svg xmlns=\"http://www.w3.org/2000/svg\" height=\"24px\"viewBox=\"0 0 24 24\"\n",
              "     width=\"24px\">\n",
              "    <g>\n",
              "        <path d=\"M19 3H5c-1.1 0-2 .9-2 2v14c0 1.1.9 2 2 2h14c1.1 0 2-.9 2-2V5c0-1.1-.9-2-2-2zM9 17H7v-7h2v7zm4 0h-2V7h2v10zm4 0h-2v-4h2v4z\"/>\n",
              "    </g>\n",
              "</svg>\n",
              "  </button>\n",
              "\n",
              "<style>\n",
              "  .colab-df-quickchart {\n",
              "      --bg-color: #E8F0FE;\n",
              "      --fill-color: #1967D2;\n",
              "      --hover-bg-color: #E2EBFA;\n",
              "      --hover-fill-color: #174EA6;\n",
              "      --disabled-fill-color: #AAA;\n",
              "      --disabled-bg-color: #DDD;\n",
              "  }\n",
              "\n",
              "  [theme=dark] .colab-df-quickchart {\n",
              "      --bg-color: #3B4455;\n",
              "      --fill-color: #D2E3FC;\n",
              "      --hover-bg-color: #434B5C;\n",
              "      --hover-fill-color: #FFFFFF;\n",
              "      --disabled-bg-color: #3B4455;\n",
              "      --disabled-fill-color: #666;\n",
              "  }\n",
              "\n",
              "  .colab-df-quickchart {\n",
              "    background-color: var(--bg-color);\n",
              "    border: none;\n",
              "    border-radius: 50%;\n",
              "    cursor: pointer;\n",
              "    display: none;\n",
              "    fill: var(--fill-color);\n",
              "    height: 32px;\n",
              "    padding: 0;\n",
              "    width: 32px;\n",
              "  }\n",
              "\n",
              "  .colab-df-quickchart:hover {\n",
              "    background-color: var(--hover-bg-color);\n",
              "    box-shadow: 0 1px 2px rgba(60, 64, 67, 0.3), 0 1px 3px 1px rgba(60, 64, 67, 0.15);\n",
              "    fill: var(--button-hover-fill-color);\n",
              "  }\n",
              "\n",
              "  .colab-df-quickchart-complete:disabled,\n",
              "  .colab-df-quickchart-complete:disabled:hover {\n",
              "    background-color: var(--disabled-bg-color);\n",
              "    fill: var(--disabled-fill-color);\n",
              "    box-shadow: none;\n",
              "  }\n",
              "\n",
              "  .colab-df-spinner {\n",
              "    border: 2px solid var(--fill-color);\n",
              "    border-color: transparent;\n",
              "    border-bottom-color: var(--fill-color);\n",
              "    animation:\n",
              "      spin 1s steps(1) infinite;\n",
              "  }\n",
              "\n",
              "  @keyframes spin {\n",
              "    0% {\n",
              "      border-color: transparent;\n",
              "      border-bottom-color: var(--fill-color);\n",
              "      border-left-color: var(--fill-color);\n",
              "    }\n",
              "    20% {\n",
              "      border-color: transparent;\n",
              "      border-left-color: var(--fill-color);\n",
              "      border-top-color: var(--fill-color);\n",
              "    }\n",
              "    30% {\n",
              "      border-color: transparent;\n",
              "      border-left-color: var(--fill-color);\n",
              "      border-top-color: var(--fill-color);\n",
              "      border-right-color: var(--fill-color);\n",
              "    }\n",
              "    40% {\n",
              "      border-color: transparent;\n",
              "      border-right-color: var(--fill-color);\n",
              "      border-top-color: var(--fill-color);\n",
              "    }\n",
              "    60% {\n",
              "      border-color: transparent;\n",
              "      border-right-color: var(--fill-color);\n",
              "    }\n",
              "    80% {\n",
              "      border-color: transparent;\n",
              "      border-right-color: var(--fill-color);\n",
              "      border-bottom-color: var(--fill-color);\n",
              "    }\n",
              "    90% {\n",
              "      border-color: transparent;\n",
              "      border-bottom-color: var(--fill-color);\n",
              "    }\n",
              "  }\n",
              "</style>\n",
              "\n",
              "  <script>\n",
              "    async function quickchart(key) {\n",
              "      const quickchartButtonEl =\n",
              "        document.querySelector('#' + key + ' button');\n",
              "      quickchartButtonEl.disabled = true;  // To prevent multiple clicks.\n",
              "      quickchartButtonEl.classList.add('colab-df-spinner');\n",
              "      try {\n",
              "        const charts = await google.colab.kernel.invokeFunction(\n",
              "            'suggestCharts', [key], {});\n",
              "      } catch (error) {\n",
              "        console.error('Error during call to suggestCharts:', error);\n",
              "      }\n",
              "      quickchartButtonEl.classList.remove('colab-df-spinner');\n",
              "      quickchartButtonEl.classList.add('colab-df-quickchart-complete');\n",
              "    }\n",
              "    (() => {\n",
              "      let quickchartButtonEl =\n",
              "        document.querySelector('#df-b4fd09c8-750e-4068-a32d-4e42d7120f70 button');\n",
              "      quickchartButtonEl.style.display =\n",
              "        google.colab.kernel.accessAllowed ? 'block' : 'none';\n",
              "    })();\n",
              "  </script>\n",
              "</div>\n",
              "\n",
              "    </div>\n",
              "  </div>\n"
            ],
            "application/vnd.google.colaboratory.intrinsic+json": {
              "type": "dataframe",
              "variable_name": "df"
            }
          },
          "metadata": {},
          "execution_count": 45
        }
      ],
      "source": [
        "df = pd.json_normalize(json.load(open('Tweets_104210491845.txt')))\n",
        "df.head(2)"
      ]
    },
    {
      "cell_type": "code",
      "execution_count": 47,
      "metadata": {
        "id": "9O9qndPfGfHj",
        "outputId": "eff7e339-1c48-47d5-e69e-8eafdbdfcd18",
        "colab": {
          "base_uri": "https://localhost:8080/"
        }
      },
      "outputs": [
        {
          "output_type": "stream",
          "name": "stdout",
          "text": [
            "A cryptocurrency, crypto-currency, or crypto is a digital currency designed to work through a computer network that is not reliant on any central authority, such as a government or bank, to uphold or  ....\n"
          ]
        }
      ],
      "source": [
        "import wikipediaapi\n",
        "\n",
        "wiki_wiki = wikipediaapi.Wikipedia(\n",
        "        language='en',\n",
        "        extract_format=wikipediaapi.ExtractFormat.WIKI,\n",
        "        user_agent='my_bot_demo'\n",
        ")\n",
        "\n",
        "p_wiki = wiki_wiki.page('Cryptocurrency')\n",
        "print (p_wiki.text[:200], '....')"
      ]
    },
    {
      "cell_type": "markdown",
      "metadata": {
        "id": "vYiIlZovGfHj"
      },
      "source": [
        "# Closing Remarks"
      ]
    }
  ],
  "metadata": {
    "kernelspec": {
      "display_name": "Python 3",
      "language": "python",
      "name": "python3"
    },
    "language_info": {
      "codemirror_mode": {
        "name": "ipython",
        "version": 3
      },
      "file_extension": ".py",
      "mimetype": "text/x-python",
      "name": "python",
      "nbconvert_exporter": "python",
      "pygments_lexer": "ipython3",
      "version": "3.8.6"
    },
    "toc": {
      "base_numbering": 1,
      "nav_menu": {},
      "number_sections": true,
      "sideBar": true,
      "skip_h1_title": false,
      "title_cell": "Table of Contents",
      "title_sidebar": "Contents",
      "toc_cell": false,
      "toc_position": {},
      "toc_section_display": true,
      "toc_window_display": false
    },
    "varInspector": {
      "cols": {
        "lenName": 16,
        "lenType": 16,
        "lenVar": 40
      },
      "kernels_config": {
        "python": {
          "delete_cmd_postfix": "",
          "delete_cmd_prefix": "del ",
          "library": "var_list.py",
          "varRefreshCmd": "print(var_dic_list())"
        },
        "r": {
          "delete_cmd_postfix": ") ",
          "delete_cmd_prefix": "rm(",
          "library": "var_list.r",
          "varRefreshCmd": "cat(var_dic_list()) "
        }
      },
      "types_to_exclude": [
        "module",
        "function",
        "builtin_function_or_method",
        "instance",
        "_Feature"
      ],
      "window_display": false
    },
    "colab": {
      "provenance": []
    }
  },
  "nbformat": 4,
  "nbformat_minor": 0
}