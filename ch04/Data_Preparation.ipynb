{
  "cells": [
    {
      "cell_type": "markdown",
      "metadata": {
        "id": "gQZXAwBVT1KB"
      },
      "source": [
        "[**Blueprints for Text Analysis Using Python**](https://github.com/blueprints-for-text-analytics-python/blueprints-text)  \n",
        "Jens Albrecht, Sidharth Ramachandran, Christian Winkler\n",
        "\n",
        "**If you like the book or the code examples here, please leave a friendly comment on [Amazon.com](https://www.amazon.com/Blueprints-Text-Analytics-Using-Python/dp/149207408X)!**\n",
        "<img src=\"https://github.com/blueprints-for-text-analytics-python/blueprints-text/blob/master/rating.png?raw=1\" width=\"100\"/>\n",
        "\n",
        "\n",
        "# Chapter 4:<div class='tocSkip'/>"
      ]
    },
    {
      "cell_type": "markdown",
      "metadata": {
        "id": "1e769CX-T1KD"
      },
      "source": [
        "# Preparing Textual Data For Statistics and Machine Learning"
      ]
    },
    {
      "cell_type": "markdown",
      "metadata": {
        "id": "rpycaA7MT1KD"
      },
      "source": [
        "## Compatibility with spaCy 3.x<div class=\"tocSkip\"/>\n",
        "\n",
        "We adjusted the this notebook to run with spaCy 3.2 and textacy 0.12."
      ]
    },
    {
      "cell_type": "markdown",
      "metadata": {
        "id": "7IZGTjRbT1KD"
      },
      "source": [
        "## Remark<div class='tocSkip'/>\n",
        "\n",
        "The code in this notebook differs slightly from the printed book. For example we frequently use pretty print (`pp.pprint`) instead of `print` and `tqdm`'s `progress_apply` instead of Pandas' `apply`.\n",
        "\n",
        "Moreover, several layout and formatting commands, like `figsize` to control figure size or subplot commands are removed in the book.\n",
        "\n",
        "You may also find some lines marked with three hashes ###. Those are not in the book as well as they don't contribute to the concept.\n",
        "\n",
        "All of this is done to simplify the code in the book and put the focus on the important parts instead of formatting."
      ]
    },
    {
      "cell_type": "markdown",
      "metadata": {
        "id": "qN1NMlurT1KE"
      },
      "source": [
        "## Setup<div class='tocSkip'/>\n",
        "\n",
        "Set directory locations. If working on Google Colab: copy files and install required libraries."
      ]
    },
    {
      "cell_type": "code",
      "execution_count": null,
      "metadata": {
        "ExecuteTime": {
          "end_time": "2022-02-11T07:08:40.350507Z",
          "start_time": "2022-02-11T07:08:40.325173Z"
        },
        "id": "5lnpRbLtT1KE"
      },
      "outputs": [],
      "source": [
        "import sys, os\n",
        "ON_COLAB = 'google.colab' in sys.modules\n",
        "\n",
        "if ON_COLAB:\n",
        "    GIT_ROOT = 'https://github.com/blueprints-for-text-analytics-python/blueprints-text/raw/master'\n",
        "    os.system(f'wget {GIT_ROOT}/ch04/setup.py')\n"
      ]
    },
    {
      "cell_type": "code",
      "source": [
        "%run -i setup.py"
      ],
      "metadata": {
        "id": "HUtCzHCGVDuN"
      },
      "execution_count": 7,
      "outputs": []
    },
    {
      "cell_type": "code",
      "source": [
        "%run -i settings.py"
      ],
      "metadata": {
        "id": "WoVzYTovVPVf"
      },
      "execution_count": 9,
      "outputs": []
    },
    {
      "cell_type": "code",
      "source": [
        "!python -m spacy download en_core_web_sm"
      ],
      "metadata": {
        "id": "CxPY4BkjUXrO"
      },
      "execution_count": null,
      "outputs": []
    },
    {
      "cell_type": "markdown",
      "metadata": {
        "id": "D-tnGyKTT1KE"
      },
      "source": [
        "## Load Python Settings<div class=\"tocSkip\"/>\n",
        "\n",
        "Common imports, defaults for formatting in Matplotlib, Pandas etc."
      ]
    },
    {
      "cell_type": "code",
      "execution_count": 10,
      "metadata": {
        "ExecuteTime": {
          "end_time": "2022-02-11T07:08:51.168742Z",
          "start_time": "2022-02-11T07:08:42.252065Z"
        },
        "id": "hU7Dhu7ZT1KF"
      },
      "outputs": [],
      "source": [
        "%run \"$BASE_DIR/settings.py\"\n",
        "\n",
        "%reload_ext autoreload\n",
        "%autoreload 2\n",
        "%config InlineBackend.figure_format = 'png'\n",
        "\n",
        "# to print output of all statements and not just the last\n",
        "from IPython.core.interactiveshell import InteractiveShell\n",
        "InteractiveShell.ast_node_interactivity = \"all\"\n",
        "\n",
        "# otherwise text between $ signs will be interpreted as formula and printed in italic\n",
        "pd.set_option('display.html.use_mathjax', False)\n",
        "\n",
        "# path to import blueprints packages\n",
        "sys.path.append(BASE_DIR + '/packages')"
      ]
    },
    {
      "cell_type": "markdown",
      "metadata": {
        "id": "cjQUsIeLT1KF"
      },
      "source": [
        "## What you'll learn and what we build\n"
      ]
    },
    {
      "cell_type": "markdown",
      "metadata": {
        "id": "sS7so4piT1KF"
      },
      "source": [
        "# A Data Preprocessing Pipeline\n"
      ]
    },
    {
      "cell_type": "markdown",
      "metadata": {
        "id": "CQR1hhkbT1KG"
      },
      "source": [
        "# Introducing the Data Set: Reddit Self Posts\n"
      ]
    },
    {
      "cell_type": "markdown",
      "metadata": {
        "id": "0B4_ZE_kT1KG"
      },
      "source": [
        "## Loading Data into Pandas\n"
      ]
    },
    {
      "cell_type": "code",
      "execution_count": 11,
      "metadata": {
        "ExecuteTime": {
          "end_time": "2022-02-11T07:08:52.082807Z",
          "start_time": "2022-02-11T07:08:51.253479Z"
        },
        "id": "mG65gluIT1KG",
        "outputId": "946615fb-97e1-4422-b0d0-f7997c8f4f0b",
        "colab": {
          "base_uri": "https://localhost:8080/"
        }
      },
      "outputs": [
        {
          "output_type": "execute_result",
          "data": {
            "text/plain": [
              "20000"
            ]
          },
          "metadata": {},
          "execution_count": 11
        }
      ],
      "source": [
        "import pandas as pd\n",
        "\n",
        "posts_file = \"rspct.tsv.gz\"\n",
        "posts_file = f\"{BASE_DIR}/data/reddit-selfposts/rspct_autos.tsv.gz\" ### real location\n",
        "posts_df = pd.read_csv(posts_file, sep='\\t')\n",
        "\n",
        "subred_file = \"subreddit_info.csv.gz\"\n",
        "subred_file = f\"{BASE_DIR}/data/reddit-selfposts/subreddit_info.csv.gz\" ### real location\n",
        "subred_df = pd.read_csv(subred_file).set_index(['subreddit'])\n",
        "\n",
        "df = posts_df.join(subred_df, on='subreddit')\n",
        "len(df) ###"
      ]
    },
    {
      "cell_type": "markdown",
      "metadata": {
        "id": "3V40VPdtT1KG"
      },
      "source": [
        "## Blueprint: Standardizing Attribute Names\n"
      ]
    },
    {
      "cell_type": "code",
      "execution_count": 14,
      "metadata": {
        "ExecuteTime": {
          "end_time": "2022-02-11T07:08:53.317176Z",
          "start_time": "2022-02-11T07:08:53.278328Z"
        },
        "id": "k5UxIbXET1KG",
        "outputId": "200c9512-ed79-4fc2-bc0c-89ad1dfd5f7c",
        "colab": {
          "base_uri": "https://localhost:8080/"
        }
      },
      "outputs": [
        {
          "output_type": "stream",
          "name": "stdout",
          "text": [
            "Index(['id', 'subreddit', 'title', 'selftext', 'category_1', 'category_2',\n",
            "       'category_3', 'in_data', 'reason_for_exclusion'],\n",
            "      dtype='object')\n"
          ]
        }
      ],
      "source": [
        "print(df.columns)\n",
        "# print(list(df.columns))"
      ]
    },
    {
      "cell_type": "code",
      "execution_count": 15,
      "metadata": {
        "ExecuteTime": {
          "end_time": "2022-02-11T07:08:53.819211Z",
          "start_time": "2022-02-11T07:08:53.764551Z"
        },
        "id": "a7Oq8VeIT1KG"
      },
      "outputs": [],
      "source": [
        "column_mapping = {\n",
        "    'id': 'id',\n",
        "    'subreddit': 'subreddit',\n",
        "    'title': 'title',\n",
        "    'selftext': 'text',\n",
        "    'category_1': 'category',\n",
        "    'category_2': 'subcategory',\n",
        "    'category_3': None, # no data\n",
        "    'in_data': None, # not needed\n",
        "    'reason_for_exclusion': None # not needed\n",
        "}\n",
        "\n",
        "# define remaining columns\n",
        "columns = [c for c in column_mapping.keys() if column_mapping[c] != None]\n",
        "\n",
        "# select and rename those columns\n",
        "df = df[columns].rename(columns=column_mapping)"
      ]
    },
    {
      "cell_type": "code",
      "execution_count": 16,
      "metadata": {
        "ExecuteTime": {
          "end_time": "2022-02-11T07:08:54.357742Z",
          "start_time": "2022-02-11T07:08:54.296583Z"
        },
        "id": "uyTuwkZPT1KG"
      },
      "outputs": [],
      "source": [
        "df = df[df['category'] == 'autos']"
      ]
    },
    {
      "cell_type": "code",
      "execution_count": 17,
      "metadata": {
        "ExecuteTime": {
          "end_time": "2022-02-11T07:08:54.798527Z",
          "start_time": "2022-02-11T07:08:54.744532Z"
        },
        "id": "OrQBLPoBT1KG",
        "outputId": "2826ddcf-0d97-4e85-ddae-d43768227e16",
        "colab": {
          "base_uri": "https://localhost:8080/"
        }
      },
      "outputs": [
        {
          "output_type": "execute_result",
          "data": {
            "text/plain": [
              "20000"
            ]
          },
          "metadata": {},
          "execution_count": 17
        }
      ],
      "source": [
        "len(df)"
      ]
    },
    {
      "cell_type": "code",
      "execution_count": 21,
      "metadata": {
        "ExecuteTime": {
          "end_time": "2022-02-11T07:08:55.007653Z",
          "start_time": "2022-02-11T07:08:54.969064Z"
        },
        "id": "ErPbgoPJT1KG",
        "outputId": "2827e2c0-31eb-48c8-d133-b14650b3f57a",
        "colab": {
          "base_uri": "https://localhost:8080/",
          "height": 307
        }
      },
      "outputs": [
        {
          "output_type": "execute_result",
          "data": {
            "text/plain": [
              "                                                                                                                                                                                                                                                                                                                                14356\n",
              "id                                                                                                                                                                                                                                                                                                                             7jc2k4\n",
              "subreddit                                                                                                                                                                                                                                                                                                                        volt\n",
              "title                                                                                                                                                                                                                                                                                                           Dashcam for 2017 volt\n",
              "text         Hello.<lb>I'm looking into getting a dashcam. <lb>Does anyone have any recommendations? <lb><lb>I'm generally looking for a rechargeable one so that I don't have to route wires down to the cigarette lighter. <lb>Unless there are instructions on how to wire it properly without wires showing. <lb><lb><lb>Thanks! \n",
              "category                                                                                                                                                                                                                                                                                                                        autos\n",
              "subcategory                                                                                                                                                                                                                                                                                                                 chevrolet"
            ],
            "text/html": [
              "\n",
              "  <div id=\"df-fc5605b1-7108-4541-b7c3-f426ce447776\" class=\"colab-df-container\">\n",
              "    <div>\n",
              "<style scoped>\n",
              "    .dataframe tbody tr th:only-of-type {\n",
              "        vertical-align: middle;\n",
              "    }\n",
              "\n",
              "    .dataframe tbody tr th {\n",
              "        vertical-align: top;\n",
              "    }\n",
              "\n",
              "    .dataframe thead th {\n",
              "        text-align: right;\n",
              "    }\n",
              "</style>\n",
              "<table border=\"1\" class=\"dataframe tex2jax_ignore\">\n",
              "  <thead>\n",
              "    <tr style=\"text-align: right;\">\n",
              "      <th></th>\n",
              "      <th>14356</th>\n",
              "    </tr>\n",
              "  </thead>\n",
              "  <tbody>\n",
              "    <tr>\n",
              "      <th>id</th>\n",
              "      <td>7jc2k4</td>\n",
              "    </tr>\n",
              "    <tr>\n",
              "      <th>subreddit</th>\n",
              "      <td>volt</td>\n",
              "    </tr>\n",
              "    <tr>\n",
              "      <th>title</th>\n",
              "      <td>Dashcam for 2017 volt</td>\n",
              "    </tr>\n",
              "    <tr>\n",
              "      <th>text</th>\n",
              "      <td>Hello.&lt;lb&gt;I'm looking into getting a dashcam. &lt;lb&gt;Does anyone have any recommendations? &lt;lb&gt;&lt;lb&gt;I'm generally looking for a rechargeable one so that I don't have to route wires down to the cigarette lighter. &lt;lb&gt;Unless there are instructions on how to wire it properly without wires showing. &lt;lb&gt;&lt;lb&gt;&lt;lb&gt;Thanks!</td>\n",
              "    </tr>\n",
              "    <tr>\n",
              "      <th>category</th>\n",
              "      <td>autos</td>\n",
              "    </tr>\n",
              "    <tr>\n",
              "      <th>subcategory</th>\n",
              "      <td>chevrolet</td>\n",
              "    </tr>\n",
              "  </tbody>\n",
              "</table>\n",
              "</div>\n",
              "    <div class=\"colab-df-buttons\">\n",
              "\n",
              "  <div class=\"colab-df-container\">\n",
              "    <button class=\"colab-df-convert\" onclick=\"convertToInteractive('df-fc5605b1-7108-4541-b7c3-f426ce447776')\"\n",
              "            title=\"Convert this dataframe to an interactive table.\"\n",
              "            style=\"display:none;\">\n",
              "\n",
              "  <svg xmlns=\"http://www.w3.org/2000/svg\" height=\"24px\" viewBox=\"0 -960 960 960\">\n",
              "    <path d=\"M120-120v-720h720v720H120Zm60-500h600v-160H180v160Zm220 220h160v-160H400v160Zm0 220h160v-160H400v160ZM180-400h160v-160H180v160Zm440 0h160v-160H620v160ZM180-180h160v-160H180v160Zm440 0h160v-160H620v160Z\"/>\n",
              "  </svg>\n",
              "    </button>\n",
              "\n",
              "  <style>\n",
              "    .colab-df-container {\n",
              "      display:flex;\n",
              "      gap: 12px;\n",
              "    }\n",
              "\n",
              "    .colab-df-convert {\n",
              "      background-color: #E8F0FE;\n",
              "      border: none;\n",
              "      border-radius: 50%;\n",
              "      cursor: pointer;\n",
              "      display: none;\n",
              "      fill: #1967D2;\n",
              "      height: 32px;\n",
              "      padding: 0 0 0 0;\n",
              "      width: 32px;\n",
              "    }\n",
              "\n",
              "    .colab-df-convert:hover {\n",
              "      background-color: #E2EBFA;\n",
              "      box-shadow: 0px 1px 2px rgba(60, 64, 67, 0.3), 0px 1px 3px 1px rgba(60, 64, 67, 0.15);\n",
              "      fill: #174EA6;\n",
              "    }\n",
              "\n",
              "    .colab-df-buttons div {\n",
              "      margin-bottom: 4px;\n",
              "    }\n",
              "\n",
              "    [theme=dark] .colab-df-convert {\n",
              "      background-color: #3B4455;\n",
              "      fill: #D2E3FC;\n",
              "    }\n",
              "\n",
              "    [theme=dark] .colab-df-convert:hover {\n",
              "      background-color: #434B5C;\n",
              "      box-shadow: 0px 1px 3px 1px rgba(0, 0, 0, 0.15);\n",
              "      filter: drop-shadow(0px 1px 2px rgba(0, 0, 0, 0.3));\n",
              "      fill: #FFFFFF;\n",
              "    }\n",
              "  </style>\n",
              "\n",
              "    <script>\n",
              "      const buttonEl =\n",
              "        document.querySelector('#df-fc5605b1-7108-4541-b7c3-f426ce447776 button.colab-df-convert');\n",
              "      buttonEl.style.display =\n",
              "        google.colab.kernel.accessAllowed ? 'block' : 'none';\n",
              "\n",
              "      async function convertToInteractive(key) {\n",
              "        const element = document.querySelector('#df-fc5605b1-7108-4541-b7c3-f426ce447776');\n",
              "        const dataTable =\n",
              "          await google.colab.kernel.invokeFunction('convertToInteractive',\n",
              "                                                    [key], {});\n",
              "        if (!dataTable) return;\n",
              "\n",
              "        const docLinkHtml = 'Like what you see? Visit the ' +\n",
              "          '<a target=\"_blank\" href=https://colab.research.google.com/notebooks/data_table.ipynb>data table notebook</a>'\n",
              "          + ' to learn more about interactive tables.';\n",
              "        element.innerHTML = '';\n",
              "        dataTable['output_type'] = 'display_data';\n",
              "        await google.colab.output.renderOutput(dataTable, element);\n",
              "        const docLink = document.createElement('div');\n",
              "        docLink.innerHTML = docLinkHtml;\n",
              "        element.appendChild(docLink);\n",
              "      }\n",
              "    </script>\n",
              "  </div>\n",
              "\n",
              "\n",
              "<div id=\"df-bafdb0e1-d325-43fd-b4ef-718413abab0d\">\n",
              "  <button class=\"colab-df-quickchart\" onclick=\"quickchart('df-bafdb0e1-d325-43fd-b4ef-718413abab0d')\"\n",
              "            title=\"Suggest charts\"\n",
              "            style=\"display:none;\">\n",
              "\n",
              "<svg xmlns=\"http://www.w3.org/2000/svg\" height=\"24px\"viewBox=\"0 0 24 24\"\n",
              "     width=\"24px\">\n",
              "    <g>\n",
              "        <path d=\"M19 3H5c-1.1 0-2 .9-2 2v14c0 1.1.9 2 2 2h14c1.1 0 2-.9 2-2V5c0-1.1-.9-2-2-2zM9 17H7v-7h2v7zm4 0h-2V7h2v10zm4 0h-2v-4h2v4z\"/>\n",
              "    </g>\n",
              "</svg>\n",
              "  </button>\n",
              "\n",
              "<style>\n",
              "  .colab-df-quickchart {\n",
              "      --bg-color: #E8F0FE;\n",
              "      --fill-color: #1967D2;\n",
              "      --hover-bg-color: #E2EBFA;\n",
              "      --hover-fill-color: #174EA6;\n",
              "      --disabled-fill-color: #AAA;\n",
              "      --disabled-bg-color: #DDD;\n",
              "  }\n",
              "\n",
              "  [theme=dark] .colab-df-quickchart {\n",
              "      --bg-color: #3B4455;\n",
              "      --fill-color: #D2E3FC;\n",
              "      --hover-bg-color: #434B5C;\n",
              "      --hover-fill-color: #FFFFFF;\n",
              "      --disabled-bg-color: #3B4455;\n",
              "      --disabled-fill-color: #666;\n",
              "  }\n",
              "\n",
              "  .colab-df-quickchart {\n",
              "    background-color: var(--bg-color);\n",
              "    border: none;\n",
              "    border-radius: 50%;\n",
              "    cursor: pointer;\n",
              "    display: none;\n",
              "    fill: var(--fill-color);\n",
              "    height: 32px;\n",
              "    padding: 0;\n",
              "    width: 32px;\n",
              "  }\n",
              "\n",
              "  .colab-df-quickchart:hover {\n",
              "    background-color: var(--hover-bg-color);\n",
              "    box-shadow: 0 1px 2px rgba(60, 64, 67, 0.3), 0 1px 3px 1px rgba(60, 64, 67, 0.15);\n",
              "    fill: var(--button-hover-fill-color);\n",
              "  }\n",
              "\n",
              "  .colab-df-quickchart-complete:disabled,\n",
              "  .colab-df-quickchart-complete:disabled:hover {\n",
              "    background-color: var(--disabled-bg-color);\n",
              "    fill: var(--disabled-fill-color);\n",
              "    box-shadow: none;\n",
              "  }\n",
              "\n",
              "  .colab-df-spinner {\n",
              "    border: 2px solid var(--fill-color);\n",
              "    border-color: transparent;\n",
              "    border-bottom-color: var(--fill-color);\n",
              "    animation:\n",
              "      spin 1s steps(1) infinite;\n",
              "  }\n",
              "\n",
              "  @keyframes spin {\n",
              "    0% {\n",
              "      border-color: transparent;\n",
              "      border-bottom-color: var(--fill-color);\n",
              "      border-left-color: var(--fill-color);\n",
              "    }\n",
              "    20% {\n",
              "      border-color: transparent;\n",
              "      border-left-color: var(--fill-color);\n",
              "      border-top-color: var(--fill-color);\n",
              "    }\n",
              "    30% {\n",
              "      border-color: transparent;\n",
              "      border-left-color: var(--fill-color);\n",
              "      border-top-color: var(--fill-color);\n",
              "      border-right-color: var(--fill-color);\n",
              "    }\n",
              "    40% {\n",
              "      border-color: transparent;\n",
              "      border-right-color: var(--fill-color);\n",
              "      border-top-color: var(--fill-color);\n",
              "    }\n",
              "    60% {\n",
              "      border-color: transparent;\n",
              "      border-right-color: var(--fill-color);\n",
              "    }\n",
              "    80% {\n",
              "      border-color: transparent;\n",
              "      border-right-color: var(--fill-color);\n",
              "      border-bottom-color: var(--fill-color);\n",
              "    }\n",
              "    90% {\n",
              "      border-color: transparent;\n",
              "      border-bottom-color: var(--fill-color);\n",
              "    }\n",
              "  }\n",
              "</style>\n",
              "\n",
              "  <script>\n",
              "    async function quickchart(key) {\n",
              "      const quickchartButtonEl =\n",
              "        document.querySelector('#' + key + ' button');\n",
              "      quickchartButtonEl.disabled = true;  // To prevent multiple clicks.\n",
              "      quickchartButtonEl.classList.add('colab-df-spinner');\n",
              "      try {\n",
              "        const charts = await google.colab.kernel.invokeFunction(\n",
              "            'suggestCharts', [key], {});\n",
              "      } catch (error) {\n",
              "        console.error('Error during call to suggestCharts:', error);\n",
              "      }\n",
              "      quickchartButtonEl.classList.remove('colab-df-spinner');\n",
              "      quickchartButtonEl.classList.add('colab-df-quickchart-complete');\n",
              "    }\n",
              "    (() => {\n",
              "      let quickchartButtonEl =\n",
              "        document.querySelector('#df-bafdb0e1-d325-43fd-b4ef-718413abab0d button');\n",
              "      quickchartButtonEl.style.display =\n",
              "        google.colab.kernel.accessAllowed ? 'block' : 'none';\n",
              "    })();\n",
              "  </script>\n",
              "</div>\n",
              "\n",
              "    </div>\n",
              "  </div>\n"
            ],
            "application/vnd.google.colaboratory.intrinsic+json": {
              "type": "dataframe",
              "summary": "{\n  \"name\": \"# pd\",\n  \"rows\": 6,\n  \"fields\": [\n    {\n      \"column\": 14356,\n      \"properties\": {\n        \"dtype\": \"string\",\n        \"num_unique_values\": 6,\n        \"samples\": [\n          \"7jc2k4\",\n          \"volt\",\n          \"chevrolet\"\n        ],\n        \"semantic_type\": \"\",\n        \"description\": \"\"\n      }\n    }\n  ]\n}"
            }
          },
          "metadata": {},
          "execution_count": 21
        }
      ],
      "source": [
        "pd.options.display.max_colwidth = None ###\n",
        "df.sample(1, random_state=7).T\n",
        "# pd.options.display.max_colwidth = 200 ###"
      ]
    },
    {
      "cell_type": "markdown",
      "metadata": {
        "id": "ycvwVGt7T1KG"
      },
      "source": [
        "## Saving and Loading a Data Frame\n"
      ]
    },
    {
      "cell_type": "code",
      "execution_count": 22,
      "metadata": {
        "ExecuteTime": {
          "end_time": "2022-02-11T07:08:55.673800Z",
          "start_time": "2022-02-11T07:08:55.507564Z"
        },
        "id": "QypdoIQDT1KG"
      },
      "outputs": [],
      "source": [
        "df.to_pickle(\"reddit_dataframe.pkl\")"
      ]
    },
    {
      "cell_type": "code",
      "execution_count": 23,
      "metadata": {
        "ExecuteTime": {
          "end_time": "2022-02-11T07:09:05.570184Z",
          "start_time": "2022-02-11T07:08:55.817870Z"
        },
        "id": "oiD27koGT1KG",
        "outputId": "5a3b46c4-00af-4333-caed-d9ec3e335d51",
        "colab": {
          "base_uri": "https://localhost:8080/"
        }
      },
      "outputs": [
        {
          "output_type": "execute_result",
          "data": {
            "text/plain": [
              "20000"
            ]
          },
          "metadata": {},
          "execution_count": 23
        }
      ],
      "source": [
        "import sqlite3\n",
        "\n",
        "db_name = \"reddit-selfposts.db\"\n",
        "con = sqlite3.connect(db_name)\n",
        "# 使用df的to_sql方法将数据保存到posts数据库中\n",
        "df.to_sql(\"posts\", con, index=False, if_exists=\"replace\")\n",
        "con.close()"
      ]
    },
    {
      "cell_type": "code",
      "execution_count": 24,
      "metadata": {
        "ExecuteTime": {
          "end_time": "2022-02-11T07:09:07.042658Z",
          "start_time": "2022-02-11T07:09:05.737789Z"
        },
        "id": "cl__aOlPT1KG"
      },
      "outputs": [],
      "source": [
        "con = sqlite3.connect(db_name)\n",
        "df = pd.read_sql(\"select * from posts\", con)\n",
        "con.close()"
      ]
    },
    {
      "cell_type": "code",
      "execution_count": 25,
      "metadata": {
        "ExecuteTime": {
          "end_time": "2022-02-11T07:09:07.252367Z",
          "start_time": "2022-02-11T07:09:07.196734Z"
        },
        "id": "FE1i0_8ZT1KG",
        "outputId": "9daef9ad-8c26-4668-886e-81411a18d9a3",
        "colab": {
          "base_uri": "https://localhost:8080/"
        }
      },
      "outputs": [
        {
          "output_type": "execute_result",
          "data": {
            "text/plain": [
              "20000"
            ]
          },
          "metadata": {},
          "execution_count": 25
        }
      ],
      "source": [
        "len(df)"
      ]
    },
    {
      "cell_type": "markdown",
      "metadata": {
        "id": "FQx6OOALT1KG"
      },
      "source": [
        "# Cleaning Text Data\n"
      ]
    },
    {
      "cell_type": "code",
      "execution_count": 26,
      "metadata": {
        "ExecuteTime": {
          "end_time": "2022-02-11T07:09:07.473781Z",
          "start_time": "2022-02-11T07:09:07.420741Z"
        },
        "id": "bx5-rMaET1KH"
      },
      "outputs": [],
      "source": [
        "text = \"\"\"\n",
        "After viewing the [PINKIEPOOL Trailer](https://www.youtu.be/watch?v=ieHRoHUg)\n",
        "it got me thinking about the best match ups.\n",
        "<lb>Here's my take:<lb><lb>[](/sp)[](/ppseesyou) Deadpool<lb>[](/sp)[](/ajsly)\n",
        "Captain America<lb>\"\"\""
      ]
    },
    {
      "cell_type": "code",
      "execution_count": 27,
      "metadata": {
        "ExecuteTime": {
          "end_time": "2022-02-11T07:09:07.708836Z",
          "start_time": "2022-02-11T07:09:07.652054Z"
        },
        "id": "z_l1137IT1KH",
        "outputId": "2cb11f01-1321-40b5-9836-06fd1e61a393",
        "colab": {
          "base_uri": "https://localhost:8080/"
        }
      },
      "outputs": [
        {
          "output_type": "stream",
          "name": "stdout",
          "text": [
            "\n",
            "After viewing the [PINKIEPOOL Trailer](https://www.youtu.be/watch?v=ieHRoHUg)\n",
            "it got me thinking about the best match ups.\n",
            "<lb>Here's my take:<lb><lb>[](/sp)[](/ppseesyou) Deadpool<lb>[](/sp)[](/ajsly)\n",
            "Captain America<lb>\n"
          ]
        }
      ],
      "source": [
        "print(text)"
      ]
    },
    {
      "cell_type": "markdown",
      "metadata": {
        "id": "aScLpkWLT1KH"
      },
      "source": [
        "## Blueprint: Identify Noise with Regular Expressions\n"
      ]
    },
    {
      "cell_type": "code",
      "execution_count": 28,
      "metadata": {
        "ExecuteTime": {
          "end_time": "2022-02-11T07:09:07.936942Z",
          "start_time": "2022-02-11T07:09:07.873892Z"
        },
        "id": "JN4nrKOeT1KH",
        "outputId": "fcc90165-9ca9-437e-b18b-5c669cc5c94a",
        "colab": {
          "base_uri": "https://localhost:8080/"
        }
      },
      "outputs": [
        {
          "output_type": "stream",
          "name": "stdout",
          "text": [
            "0.09009009009009009\n"
          ]
        }
      ],
      "source": [
        "import re\n",
        "\n",
        "RE_SUSPICIOUS = re.compile(r'[&#<>{}\\[\\]\\\\]')\n",
        "\n",
        "def impurity(text, min_len=10):\n",
        "    \"\"\"returns the share of suspicious characters in a text\"\"\"\n",
        "    if text == None or len(text) < min_len:\n",
        "        return 0\n",
        "    else:\n",
        "        return len(RE_SUSPICIOUS.findall(text))/len(text)\n",
        "\n",
        "print(impurity(text))"
      ]
    },
    {
      "cell_type": "code",
      "execution_count": 29,
      "metadata": {
        "ExecuteTime": {
          "end_time": "2022-02-11T07:09:08.571522Z",
          "start_time": "2022-02-11T07:09:08.114955Z"
        },
        "id": "uycxVjq8T1KH",
        "outputId": "f605643a-cd93-4c14-8673-5e8dcb0a3350",
        "colab": {
          "base_uri": "https://localhost:8080/",
          "height": 228,
          "referenced_widgets": [
            "2fb1bc7c83fb4aa4b8f758ed406390c4",
            "1a5fe1f9a0544e4091cdc93d8b052416",
            "6e4b81e3d348419cac10a6515f71145f",
            "2ac4d54d3b4341b6af17d99bb47a22e1",
            "f121ef2c1b0a48f982536dfc1015b822",
            "1c01d0b19b36423eb44f7b22450ec9e9",
            "1a0bb022b36f47aa87c4b0dac03cff74",
            "0a4ff3aacfbf4eaba85ec5a792c79e01",
            "eeb229ba57634f3dafc36acb61575db2",
            "2ec5564749134f629d238a3923145704",
            "2eb377a8a52e43be8d56c010fe9db55e"
          ]
        }
      },
      "outputs": [
        {
          "output_type": "display_data",
          "data": {
            "text/plain": [
              "  0%|          | 0/20000 [00:00<?, ?it/s]"
            ],
            "application/vnd.jupyter.widget-view+json": {
              "version_major": 2,
              "version_minor": 0,
              "model_id": "2fb1bc7c83fb4aa4b8f758ed406390c4"
            }
          },
          "metadata": {}
        },
        {
          "output_type": "execute_result",
          "data": {
            "text/plain": [
              "                                                                                                      text  \\\n",
              "19682  Looking at buying a 335i with 39k miles and 11 months left on the CPO warranty. I asked the deal...   \n",
              "12357  I'm looking to lease an a4 premium plus automatic with the nav package.<lb><lb>Vehicle Price:<ta...   \n",
              "2730   Breakdown below:<lb><lb>Elantra GT<lb><lb>2.0L 4-cylinder<lb><lb>6-speed Manual Transmission<lb>...   \n",
              "\n",
              "       impurity  \n",
              "19682      0.21  \n",
              "12357      0.17  \n",
              "2730       0.14  "
            ],
            "text/html": [
              "\n",
              "  <div id=\"df-d97b2f33-f5b4-4081-a652-25d5caea25da\" class=\"colab-df-container\">\n",
              "    <div>\n",
              "<style scoped>\n",
              "    .dataframe tbody tr th:only-of-type {\n",
              "        vertical-align: middle;\n",
              "    }\n",
              "\n",
              "    .dataframe tbody tr th {\n",
              "        vertical-align: top;\n",
              "    }\n",
              "\n",
              "    .dataframe thead th {\n",
              "        text-align: right;\n",
              "    }\n",
              "</style>\n",
              "<table border=\"1\" class=\"dataframe tex2jax_ignore\">\n",
              "  <thead>\n",
              "    <tr style=\"text-align: right;\">\n",
              "      <th></th>\n",
              "      <th>text</th>\n",
              "      <th>impurity</th>\n",
              "    </tr>\n",
              "  </thead>\n",
              "  <tbody>\n",
              "    <tr>\n",
              "      <th>19682</th>\n",
              "      <td>Looking at buying a 335i with 39k miles and 11 months left on the CPO warranty. I asked the deal...</td>\n",
              "      <td>0.21</td>\n",
              "    </tr>\n",
              "    <tr>\n",
              "      <th>12357</th>\n",
              "      <td>I'm looking to lease an a4 premium plus automatic with the nav package.&lt;lb&gt;&lt;lb&gt;Vehicle Price:&lt;ta...</td>\n",
              "      <td>0.17</td>\n",
              "    </tr>\n",
              "    <tr>\n",
              "      <th>2730</th>\n",
              "      <td>Breakdown below:&lt;lb&gt;&lt;lb&gt;Elantra GT&lt;lb&gt;&lt;lb&gt;2.0L 4-cylinder&lt;lb&gt;&lt;lb&gt;6-speed Manual Transmission&lt;lb&gt;...</td>\n",
              "      <td>0.14</td>\n",
              "    </tr>\n",
              "  </tbody>\n",
              "</table>\n",
              "</div>\n",
              "    <div class=\"colab-df-buttons\">\n",
              "\n",
              "  <div class=\"colab-df-container\">\n",
              "    <button class=\"colab-df-convert\" onclick=\"convertToInteractive('df-d97b2f33-f5b4-4081-a652-25d5caea25da')\"\n",
              "            title=\"Convert this dataframe to an interactive table.\"\n",
              "            style=\"display:none;\">\n",
              "\n",
              "  <svg xmlns=\"http://www.w3.org/2000/svg\" height=\"24px\" viewBox=\"0 -960 960 960\">\n",
              "    <path d=\"M120-120v-720h720v720H120Zm60-500h600v-160H180v160Zm220 220h160v-160H400v160Zm0 220h160v-160H400v160ZM180-400h160v-160H180v160Zm440 0h160v-160H620v160ZM180-180h160v-160H180v160Zm440 0h160v-160H620v160Z\"/>\n",
              "  </svg>\n",
              "    </button>\n",
              "\n",
              "  <style>\n",
              "    .colab-df-container {\n",
              "      display:flex;\n",
              "      gap: 12px;\n",
              "    }\n",
              "\n",
              "    .colab-df-convert {\n",
              "      background-color: #E8F0FE;\n",
              "      border: none;\n",
              "      border-radius: 50%;\n",
              "      cursor: pointer;\n",
              "      display: none;\n",
              "      fill: #1967D2;\n",
              "      height: 32px;\n",
              "      padding: 0 0 0 0;\n",
              "      width: 32px;\n",
              "    }\n",
              "\n",
              "    .colab-df-convert:hover {\n",
              "      background-color: #E2EBFA;\n",
              "      box-shadow: 0px 1px 2px rgba(60, 64, 67, 0.3), 0px 1px 3px 1px rgba(60, 64, 67, 0.15);\n",
              "      fill: #174EA6;\n",
              "    }\n",
              "\n",
              "    .colab-df-buttons div {\n",
              "      margin-bottom: 4px;\n",
              "    }\n",
              "\n",
              "    [theme=dark] .colab-df-convert {\n",
              "      background-color: #3B4455;\n",
              "      fill: #D2E3FC;\n",
              "    }\n",
              "\n",
              "    [theme=dark] .colab-df-convert:hover {\n",
              "      background-color: #434B5C;\n",
              "      box-shadow: 0px 1px 3px 1px rgba(0, 0, 0, 0.15);\n",
              "      filter: drop-shadow(0px 1px 2px rgba(0, 0, 0, 0.3));\n",
              "      fill: #FFFFFF;\n",
              "    }\n",
              "  </style>\n",
              "\n",
              "    <script>\n",
              "      const buttonEl =\n",
              "        document.querySelector('#df-d97b2f33-f5b4-4081-a652-25d5caea25da button.colab-df-convert');\n",
              "      buttonEl.style.display =\n",
              "        google.colab.kernel.accessAllowed ? 'block' : 'none';\n",
              "\n",
              "      async function convertToInteractive(key) {\n",
              "        const element = document.querySelector('#df-d97b2f33-f5b4-4081-a652-25d5caea25da');\n",
              "        const dataTable =\n",
              "          await google.colab.kernel.invokeFunction('convertToInteractive',\n",
              "                                                    [key], {});\n",
              "        if (!dataTable) return;\n",
              "\n",
              "        const docLinkHtml = 'Like what you see? Visit the ' +\n",
              "          '<a target=\"_blank\" href=https://colab.research.google.com/notebooks/data_table.ipynb>data table notebook</a>'\n",
              "          + ' to learn more about interactive tables.';\n",
              "        element.innerHTML = '';\n",
              "        dataTable['output_type'] = 'display_data';\n",
              "        await google.colab.output.renderOutput(dataTable, element);\n",
              "        const docLink = document.createElement('div');\n",
              "        docLink.innerHTML = docLinkHtml;\n",
              "        element.appendChild(docLink);\n",
              "      }\n",
              "    </script>\n",
              "  </div>\n",
              "\n",
              "\n",
              "<div id=\"df-00098a23-ac1d-4e38-8310-2b9a78bd9419\">\n",
              "  <button class=\"colab-df-quickchart\" onclick=\"quickchart('df-00098a23-ac1d-4e38-8310-2b9a78bd9419')\"\n",
              "            title=\"Suggest charts\"\n",
              "            style=\"display:none;\">\n",
              "\n",
              "<svg xmlns=\"http://www.w3.org/2000/svg\" height=\"24px\"viewBox=\"0 0 24 24\"\n",
              "     width=\"24px\">\n",
              "    <g>\n",
              "        <path d=\"M19 3H5c-1.1 0-2 .9-2 2v14c0 1.1.9 2 2 2h14c1.1 0 2-.9 2-2V5c0-1.1-.9-2-2-2zM9 17H7v-7h2v7zm4 0h-2V7h2v10zm4 0h-2v-4h2v4z\"/>\n",
              "    </g>\n",
              "</svg>\n",
              "  </button>\n",
              "\n",
              "<style>\n",
              "  .colab-df-quickchart {\n",
              "      --bg-color: #E8F0FE;\n",
              "      --fill-color: #1967D2;\n",
              "      --hover-bg-color: #E2EBFA;\n",
              "      --hover-fill-color: #174EA6;\n",
              "      --disabled-fill-color: #AAA;\n",
              "      --disabled-bg-color: #DDD;\n",
              "  }\n",
              "\n",
              "  [theme=dark] .colab-df-quickchart {\n",
              "      --bg-color: #3B4455;\n",
              "      --fill-color: #D2E3FC;\n",
              "      --hover-bg-color: #434B5C;\n",
              "      --hover-fill-color: #FFFFFF;\n",
              "      --disabled-bg-color: #3B4455;\n",
              "      --disabled-fill-color: #666;\n",
              "  }\n",
              "\n",
              "  .colab-df-quickchart {\n",
              "    background-color: var(--bg-color);\n",
              "    border: none;\n",
              "    border-radius: 50%;\n",
              "    cursor: pointer;\n",
              "    display: none;\n",
              "    fill: var(--fill-color);\n",
              "    height: 32px;\n",
              "    padding: 0;\n",
              "    width: 32px;\n",
              "  }\n",
              "\n",
              "  .colab-df-quickchart:hover {\n",
              "    background-color: var(--hover-bg-color);\n",
              "    box-shadow: 0 1px 2px rgba(60, 64, 67, 0.3), 0 1px 3px 1px rgba(60, 64, 67, 0.15);\n",
              "    fill: var(--button-hover-fill-color);\n",
              "  }\n",
              "\n",
              "  .colab-df-quickchart-complete:disabled,\n",
              "  .colab-df-quickchart-complete:disabled:hover {\n",
              "    background-color: var(--disabled-bg-color);\n",
              "    fill: var(--disabled-fill-color);\n",
              "    box-shadow: none;\n",
              "  }\n",
              "\n",
              "  .colab-df-spinner {\n",
              "    border: 2px solid var(--fill-color);\n",
              "    border-color: transparent;\n",
              "    border-bottom-color: var(--fill-color);\n",
              "    animation:\n",
              "      spin 1s steps(1) infinite;\n",
              "  }\n",
              "\n",
              "  @keyframes spin {\n",
              "    0% {\n",
              "      border-color: transparent;\n",
              "      border-bottom-color: var(--fill-color);\n",
              "      border-left-color: var(--fill-color);\n",
              "    }\n",
              "    20% {\n",
              "      border-color: transparent;\n",
              "      border-left-color: var(--fill-color);\n",
              "      border-top-color: var(--fill-color);\n",
              "    }\n",
              "    30% {\n",
              "      border-color: transparent;\n",
              "      border-left-color: var(--fill-color);\n",
              "      border-top-color: var(--fill-color);\n",
              "      border-right-color: var(--fill-color);\n",
              "    }\n",
              "    40% {\n",
              "      border-color: transparent;\n",
              "      border-right-color: var(--fill-color);\n",
              "      border-top-color: var(--fill-color);\n",
              "    }\n",
              "    60% {\n",
              "      border-color: transparent;\n",
              "      border-right-color: var(--fill-color);\n",
              "    }\n",
              "    80% {\n",
              "      border-color: transparent;\n",
              "      border-right-color: var(--fill-color);\n",
              "      border-bottom-color: var(--fill-color);\n",
              "    }\n",
              "    90% {\n",
              "      border-color: transparent;\n",
              "      border-bottom-color: var(--fill-color);\n",
              "    }\n",
              "  }\n",
              "</style>\n",
              "\n",
              "  <script>\n",
              "    async function quickchart(key) {\n",
              "      const quickchartButtonEl =\n",
              "        document.querySelector('#' + key + ' button');\n",
              "      quickchartButtonEl.disabled = true;  // To prevent multiple clicks.\n",
              "      quickchartButtonEl.classList.add('colab-df-spinner');\n",
              "      try {\n",
              "        const charts = await google.colab.kernel.invokeFunction(\n",
              "            'suggestCharts', [key], {});\n",
              "      } catch (error) {\n",
              "        console.error('Error during call to suggestCharts:', error);\n",
              "      }\n",
              "      quickchartButtonEl.classList.remove('colab-df-spinner');\n",
              "      quickchartButtonEl.classList.add('colab-df-quickchart-complete');\n",
              "    }\n",
              "    (() => {\n",
              "      let quickchartButtonEl =\n",
              "        document.querySelector('#df-00098a23-ac1d-4e38-8310-2b9a78bd9419 button');\n",
              "      quickchartButtonEl.style.display =\n",
              "        google.colab.kernel.accessAllowed ? 'block' : 'none';\n",
              "    })();\n",
              "  </script>\n",
              "</div>\n",
              "\n",
              "    </div>\n",
              "  </div>\n"
            ],
            "application/vnd.google.colaboratory.intrinsic+json": {
              "type": "dataframe",
              "summary": "{\n  \"name\": \"pd\",\n  \"rows\": 3,\n  \"fields\": [\n    {\n      \"column\": \"text\",\n      \"properties\": {\n        \"dtype\": \"string\",\n        \"num_unique_values\": 3,\n        \"samples\": [\n          \"Looking at buying a 335i with 39k miles and 11 months left on the CPO warranty. I asked the dealer if the HPFP had been replaced, and for a copy of the service history. He said it had been replaced and provided the service history below. He is saying that the HPFP was replaced in repair order 774680, but isn't the DMTL different than the HPFP, and if the HPFP was also replaced, wouldn't you see it in the order details?<lb><lb>If I can get this HPFP/DMTL issue figured out, what do you think of a 2011 335i w/39k miles, 11 months of CPO and Maintenance for $22k+TTL? It has the Premium and SPort packages, plus the following options:        Heated Front Seats<lb>        harman/kardon Surround Sound System<lb>        Sports Leather Steering Wheel w/Paddle Shifters<lb>        Transmission: 6-Speed STEPTRONIC Automatic<lb>        SIRIUS Satellite Radio<lb><lb>Here's the service history:<lb>ID<lb><tab><lb>Claim<lb>Number<lb><tab><lb>Repair<lb>Order<lb>Number<lb><tab><lb>Repair<lb>Order<lb>Date<lb><tab><lb>Repair<lb>Entry<lb>Date<lb><tab><lb>DAVIS<lb> #<lb><tab><lb>Mileage<lb><tab><tab><lb>Defect Code/Description<lb><tab><lb><tab><tab><tab><lb>40304<lb><tab><lb>01<lb><tab><lb>422970<lb><tab><lb>173659<lb><tab><lb>01/05/2017<lb><tab><lb>01/05/2017<lb><tab><lb>1<lb><tab><lb>37,521<lb><tab><tab><lb>0032350200<lb><tab><lb>Recall 16V071 See Vehicle Comments for information. Recall Fixed<lb><tab><lb><tab><tab><tab><lb>40304<lb><tab><lb>01<lb><tab><lb>403160<lb><tab><lb>169851<lb><tab><lb>11/08/2016<lb><tab><lb>11/16/2016<lb><tab><lb>0<lb><tab><lb>37,494<lb><tab><tab><lb>61610077MP<lb><tab><lb>FT WIPER RUBBER INSERT-MP<lb>85990091MP<lb><tab><lb>OIL SERVICE(MP)AFTER THE 1ST<lb>85990501MP<lb><tab><lb>STANDARD OPERATION MP<lb><tab><lb><tab><tab><tab><lb>42111<lb><tab><lb>01<lb><tab><lb>614430<lb><tab><lb>951915<lb><tab><lb>10/20/2015<lb><tab><lb>10/21/2015<lb><tab><lb>3<lb><tab><lb>31,250<lb><tab><tab><lb>6121001200<lb><tab><lb>Vehicle battery permanent failure<lb><tab><lb><tab><tab><tab><lb>42111<lb><tab><lb>01<lb><tab><lb>565841<lb><tab><lb>943950<lb><tab><lb>08/26/2015<lb><tab><lb>10/13/2015<lb><tab><lb>0<lb><tab><lb>29,901<lb><tab><tab><lb>64310237MP<lb><tab><lb>MICROFILTER REPLACEMENT<lb>85990101MP<lb><tab><lb>VEHICLE CHECK<lb><tab><lb><tab><tab><tab><lb>42111<lb><tab><lb>01<lb><tab><lb>565840<lb><tab><lb>943950<lb><tab><lb>08/26/2015<lb><tab><lb>08/28/2015<lb><tab><lb>0<lb><tab><lb>29,901<lb><tab><tab><lb>61610077MP<lb><tab><lb>FT WIPER RUBBER INSERT-MP<lb>64310237MP<lb><tab><lb>MICROFILTER REPLACEMENT<lb>85990091MP<lb><tab><lb>OIL SERVICE(MP)AFTER THE 1ST<lb>85990101MP<lb><tab><lb>VEHICLE CHECK<lb>85990501MP<lb><tab><lb>STANDARD OPERATION MP<lb><tab><lb><tab><tab><tab><lb>26167<lb><tab><lb>01<lb><tab><lb>71621<lb><tab><lb>426489<lb><tab><lb>02/11/2015<lb><tab><lb>10/13/2015<lb><tab><lb>0<lb><tab><lb>25,774<lb><tab><tab><lb>85990501MP<lb><tab><lb>STANDARD OPERATION MP<lb><tab><lb><tab><tab><tab><lb>26167<lb><tab><lb>01<lb><tab><lb>71630<lb><tab><lb>426489<lb><tab><lb>02/11/2015<lb><tab><lb>02/13/2015<lb><tab><lb>2<lb><tab><lb>25,774<lb><tab><tab><lb>0011270300<lb><tab><lb>B110814: N55 Engine ? Replace VANOS Gear Bolts<lb><tab><lb><tab><tab><tab><lb>26167<lb><tab><lb>01<lb><tab><lb>71620<lb><tab><lb>426489<lb><tab><lb>02/11/2015<lb><tab><lb>02/13/2015<lb><tab><lb>0<lb><tab><lb>25,774<lb><tab><tab><lb>34000077MP<lb><tab><lb>BRAKE FLUID CHANGE- FULL MAINTENANCE PROGRAM<lb>64310237MP<lb><tab><lb>MICROFILTER REPLACEMENT<lb>85100254NA<lb><tab><lb>Vanos Campaign Customer Support Program<lb>85990087MP<lb><tab><lb>MP-LOW MILEAGE ANNUAL OIL SERVICE<lb>85990101MP<lb><tab><lb>VEHICLE CHECK<lb>85990501MP<lb><tab><lb>STANDARD OPERATION MP<lb><tab><lb><tab><tab><tab><lb>26167<lb><tab><lb>01<lb><tab><lb>774680<lb><tab><lb>398493<lb><tab><lb>06/16/2014<lb><tab><lb>06/17/2014<lb><tab><lb>1<lb><tab><lb>18,219<lb><tab><tab><lb>1613051200<lb><tab><lb>**Fuel tank leakage diagnosis module DMTL permanent failure<lb>6131111300**<lb><tab><lb>Switch (cluster) power window / door switch cluster broken<lb>61610077MP<lb><tab><lb>FT WIPER RUBBER INSERT-MP<lb><tab><lb><tab><tab><tab><lb>26167<lb><tab><lb>01<lb><tab><lb>534530<lb><tab><lb>365163<lb><tab><lb>08/23/2013<lb><tab><lb>08/24/2013<lb><tab><lb>0<lb><tab><lb>14,341<lb><tab><tab><lb>85990089MP<lb><tab><lb>1ST ENG OIL SERVICE-FULL MAINTENANCE<lb>85990501MP<lb><tab><lb>STANDARD OPERATION MP<lb><tab><lb><tab><tab><tab><lb>26167<lb><tab><lb>01<lb><tab><lb>390210<lb><tab><lb>347733<lb><tab><lb>03/26/2013<lb><tab><lb>03/27/2013<lb><tab><lb>7<lb><tab><lb>14,332<lb><tab><tab><lb>0061760300<lb><tab><lb>B610213: Repair Battery Positive Cable<lb><tab><lb><tab><tab><tab><lb>26167<lb><tab><lb>01<lb><tab><lb>390200<lb><tab><lb>347733<lb><tab><lb>03/26/2013<lb><tab><lb>03/27/2013<lb><tab><lb>0<lb><tab><lb>14,332<lb><tab><tab><lb>34000077MP<lb><tab><lb>BRAKE FLUID CHANGE- FULL MAINTENANCE PROGRAM<lb>61610077MP<lb><tab><lb>FT WIPER RUBBER INSERT-MP<lb>64310237MP<lb><tab><lb>MICROFILTER REPLACEMENT<lb>85990087MP<lb><tab><lb>MP-LOW MILEAGE ANNUAL OIL SERVICE<lb>85990501MP<lb><tab><lb>STANDARD OPERATION MP<lb><tab><lb><tab><tab><tab><lb>26167<lb><tab><lb>01<lb><tab><lb>619550<lb><tab><lb>276471<lb><tab><lb>06/11/2011<lb><tab><lb>06/13/2011<lb><tab><lb>0<lb><tab><lb>1<lb><tab><tab><lb>11999977BV<lb><tab><lb>QCI SPOT DELIVERY\",\n          \"I'm looking to lease an a4 premium plus automatic with the nav package.<lb><lb>Vehicle Price:<tab><tab>$49,150.00<tab> <lb> <tab>AutoNation Savings:<tab>-<tab>$3,867.00<tab> <lb> <tab>AutoNation Price:<tab><tab>$45,283.00<tab> <lb> <tab> <tab> <lb> <tab>Sales Tax (estimate):<tab>+<tab>$2,734.98<tab> <lb> <tab>Title Fee:<tab>+<tab>$100.00<tab> <lb> <tab>Tire/Battery/MVWEA:<tab>+<tab>$4.00<tab> <lb> <tab>Tag/Registration Fees (estimate):<tab>+<tab>$207.00<tab> <lb> <tab>Electronic Filing:<tab>+<tab>$20.00<tab> <lb> <tab>Other:<tab>+<tab>$20.00<tab> <lb> <tab>Documentation Fee:<tab>+<tab>$300.00<tab> <lb> <tab>Balance Due (estimate):<tab><tab>$48,668.98<tab> <tab>No Trade-In<lb><lb>LEASE OPTIONS<lb>Cash Due<tab>36 months <tab>42 months <lb><lb>$2,000 <tab>$723<tab>$690<lb>$4,000 <tab>$663<tab>$639<lb>$6,000 <tab>$603<tab>$587<lb><lb><lb>This is my first lease, do these numbers look good? Should I push back or negotiate on anything?<lb><lb>Thanks!\",\n          \"Breakdown below:<lb><lb>Elantra GT<lb><lb>2.0L 4-cylinder<lb><lb>6-speed Manual Transmission<lb><lb>$19,350<lb><lb>Elantra GT<lb><lb>2.0L 4-cylinder<lb><lb>6-speed Automatic Transmission w/ SHIFTRONIC\\u00ae<lb><lb>$20,350<lb><lb>Elantra GT Sport<lb><lb>1.6L Turbo GDI 4-cylinder<lb><lb>6-speed Manual Transmission<lb><lb>$23,250<lb><lb>Elantra GT Sport<lb><lb>1.6L Turbo GDI 4-cylinder<lb><lb>7-speed EcoShift\\u00ae Dual Clutch Transmission w/ SHIFTRONIC\\u00ae<lb><lb>$24,350\"\n        ],\n        \"semantic_type\": \"\",\n        \"description\": \"\"\n      }\n    },\n    {\n      \"column\": \"impurity\",\n      \"properties\": {\n        \"dtype\": \"number\",\n        \"std\": 0.03840429491639887,\n        \"min\": 0.1391304347826087,\n        \"max\": 0.21471584493789989,\n        \"num_unique_values\": 3,\n        \"samples\": [\n          0.21471584493789989,\n          0.16509926854754442,\n          0.1391304347826087\n        ],\n        \"semantic_type\": \"\",\n        \"description\": \"\"\n      }\n    }\n  ]\n}"
            }
          },
          "metadata": {},
          "execution_count": 29
        }
      ],
      "source": [
        "pd.options.display.max_colwidth = 100 ###\n",
        "# add new column to data frame\n",
        "df['impurity'] = df['text'].progress_apply(impurity, min_len=10)\n",
        "\n",
        "# get the top 3 records\n",
        "df[['text', 'impurity']].sort_values(by='impurity', ascending=False).head(3)\n",
        "pd.options.display.max_colwidth = 200 ###"
      ]
    },
    {
      "cell_type": "code",
      "execution_count": 33,
      "metadata": {
        "ExecuteTime": {
          "end_time": "2022-02-11T07:09:09.565541Z",
          "start_time": "2022-02-11T07:09:08.740547Z"
        },
        "id": "WcrXzJhhT1KH",
        "outputId": "4065238b-4d68-4d9c-958b-0a7783711783",
        "colab": {
          "base_uri": "https://localhost:8080/",
          "height": 175,
          "referenced_widgets": [
            "8674c868af53449285fcec0e5e4459d1",
            "491b8c6e576d4533b3c2d694cace0d5b",
            "df31115eeab34fdbaaf76dc898640d58",
            "70991611dac84ab4928767ec28a90e66",
            "7abbaf973e2c4a0fb42af74c5e3732ca",
            "6314d827efc746aebd56b84eae9ad1a8",
            "040ed6940d8b4fc9b184d0ea0db32c43",
            "3771e9e6d0ce4ee19e5ec95c2c684b64",
            "adcecd9b59934dca847639dede15c0a1",
            "05505966b8db434ba5c4e1c16cc8be1e",
            "1c8c63077c274cac9ab5c5c7048d4aa0"
          ]
        }
      },
      "outputs": [
        {
          "output_type": "display_data",
          "data": {
            "text/plain": [
              "  0%|          | 0/20000 [00:00<?, ?it/s]"
            ],
            "application/vnd.jupyter.widget-view+json": {
              "version_major": 2,
              "version_minor": 0,
              "model_id": "8674c868af53449285fcec0e5e4459d1"
            }
          },
          "metadata": {}
        },
        {
          "output_type": "execute_result",
          "data": {
            "text/plain": [
              "         freq\n",
              "token        \n",
              "<lb>   100729\n",
              "<tab>     642"
            ],
            "text/html": [
              "\n",
              "  <div id=\"df-66f2b5fa-8d3c-4304-8926-015e85405850\" class=\"colab-df-container\">\n",
              "    <div>\n",
              "<style scoped>\n",
              "    .dataframe tbody tr th:only-of-type {\n",
              "        vertical-align: middle;\n",
              "    }\n",
              "\n",
              "    .dataframe tbody tr th {\n",
              "        vertical-align: top;\n",
              "    }\n",
              "\n",
              "    .dataframe thead th {\n",
              "        text-align: right;\n",
              "    }\n",
              "</style>\n",
              "<table border=\"1\" class=\"dataframe tex2jax_ignore\">\n",
              "  <thead>\n",
              "    <tr style=\"text-align: right;\">\n",
              "      <th></th>\n",
              "      <th>freq</th>\n",
              "    </tr>\n",
              "    <tr>\n",
              "      <th>token</th>\n",
              "      <th></th>\n",
              "    </tr>\n",
              "  </thead>\n",
              "  <tbody>\n",
              "    <tr>\n",
              "      <th>&lt;lb&gt;</th>\n",
              "      <td>100729</td>\n",
              "    </tr>\n",
              "    <tr>\n",
              "      <th>&lt;tab&gt;</th>\n",
              "      <td>642</td>\n",
              "    </tr>\n",
              "  </tbody>\n",
              "</table>\n",
              "</div>\n",
              "    <div class=\"colab-df-buttons\">\n",
              "\n",
              "  <div class=\"colab-df-container\">\n",
              "    <button class=\"colab-df-convert\" onclick=\"convertToInteractive('df-66f2b5fa-8d3c-4304-8926-015e85405850')\"\n",
              "            title=\"Convert this dataframe to an interactive table.\"\n",
              "            style=\"display:none;\">\n",
              "\n",
              "  <svg xmlns=\"http://www.w3.org/2000/svg\" height=\"24px\" viewBox=\"0 -960 960 960\">\n",
              "    <path d=\"M120-120v-720h720v720H120Zm60-500h600v-160H180v160Zm220 220h160v-160H400v160Zm0 220h160v-160H400v160ZM180-400h160v-160H180v160Zm440 0h160v-160H620v160ZM180-180h160v-160H180v160Zm440 0h160v-160H620v160Z\"/>\n",
              "  </svg>\n",
              "    </button>\n",
              "\n",
              "  <style>\n",
              "    .colab-df-container {\n",
              "      display:flex;\n",
              "      gap: 12px;\n",
              "    }\n",
              "\n",
              "    .colab-df-convert {\n",
              "      background-color: #E8F0FE;\n",
              "      border: none;\n",
              "      border-radius: 50%;\n",
              "      cursor: pointer;\n",
              "      display: none;\n",
              "      fill: #1967D2;\n",
              "      height: 32px;\n",
              "      padding: 0 0 0 0;\n",
              "      width: 32px;\n",
              "    }\n",
              "\n",
              "    .colab-df-convert:hover {\n",
              "      background-color: #E2EBFA;\n",
              "      box-shadow: 0px 1px 2px rgba(60, 64, 67, 0.3), 0px 1px 3px 1px rgba(60, 64, 67, 0.15);\n",
              "      fill: #174EA6;\n",
              "    }\n",
              "\n",
              "    .colab-df-buttons div {\n",
              "      margin-bottom: 4px;\n",
              "    }\n",
              "\n",
              "    [theme=dark] .colab-df-convert {\n",
              "      background-color: #3B4455;\n",
              "      fill: #D2E3FC;\n",
              "    }\n",
              "\n",
              "    [theme=dark] .colab-df-convert:hover {\n",
              "      background-color: #434B5C;\n",
              "      box-shadow: 0px 1px 3px 1px rgba(0, 0, 0, 0.15);\n",
              "      filter: drop-shadow(0px 1px 2px rgba(0, 0, 0, 0.3));\n",
              "      fill: #FFFFFF;\n",
              "    }\n",
              "  </style>\n",
              "\n",
              "    <script>\n",
              "      const buttonEl =\n",
              "        document.querySelector('#df-66f2b5fa-8d3c-4304-8926-015e85405850 button.colab-df-convert');\n",
              "      buttonEl.style.display =\n",
              "        google.colab.kernel.accessAllowed ? 'block' : 'none';\n",
              "\n",
              "      async function convertToInteractive(key) {\n",
              "        const element = document.querySelector('#df-66f2b5fa-8d3c-4304-8926-015e85405850');\n",
              "        const dataTable =\n",
              "          await google.colab.kernel.invokeFunction('convertToInteractive',\n",
              "                                                    [key], {});\n",
              "        if (!dataTable) return;\n",
              "\n",
              "        const docLinkHtml = 'Like what you see? Visit the ' +\n",
              "          '<a target=\"_blank\" href=https://colab.research.google.com/notebooks/data_table.ipynb>data table notebook</a>'\n",
              "          + ' to learn more about interactive tables.';\n",
              "        element.innerHTML = '';\n",
              "        dataTable['output_type'] = 'display_data';\n",
              "        await google.colab.output.renderOutput(dataTable, element);\n",
              "        const docLink = document.createElement('div');\n",
              "        docLink.innerHTML = docLinkHtml;\n",
              "        element.appendChild(docLink);\n",
              "      }\n",
              "    </script>\n",
              "  </div>\n",
              "\n",
              "\n",
              "<div id=\"df-210daafd-f18f-4458-ac8a-90dc4e731778\">\n",
              "  <button class=\"colab-df-quickchart\" onclick=\"quickchart('df-210daafd-f18f-4458-ac8a-90dc4e731778')\"\n",
              "            title=\"Suggest charts\"\n",
              "            style=\"display:none;\">\n",
              "\n",
              "<svg xmlns=\"http://www.w3.org/2000/svg\" height=\"24px\"viewBox=\"0 0 24 24\"\n",
              "     width=\"24px\">\n",
              "    <g>\n",
              "        <path d=\"M19 3H5c-1.1 0-2 .9-2 2v14c0 1.1.9 2 2 2h14c1.1 0 2-.9 2-2V5c0-1.1-.9-2-2-2zM9 17H7v-7h2v7zm4 0h-2V7h2v10zm4 0h-2v-4h2v4z\"/>\n",
              "    </g>\n",
              "</svg>\n",
              "  </button>\n",
              "\n",
              "<style>\n",
              "  .colab-df-quickchart {\n",
              "      --bg-color: #E8F0FE;\n",
              "      --fill-color: #1967D2;\n",
              "      --hover-bg-color: #E2EBFA;\n",
              "      --hover-fill-color: #174EA6;\n",
              "      --disabled-fill-color: #AAA;\n",
              "      --disabled-bg-color: #DDD;\n",
              "  }\n",
              "\n",
              "  [theme=dark] .colab-df-quickchart {\n",
              "      --bg-color: #3B4455;\n",
              "      --fill-color: #D2E3FC;\n",
              "      --hover-bg-color: #434B5C;\n",
              "      --hover-fill-color: #FFFFFF;\n",
              "      --disabled-bg-color: #3B4455;\n",
              "      --disabled-fill-color: #666;\n",
              "  }\n",
              "\n",
              "  .colab-df-quickchart {\n",
              "    background-color: var(--bg-color);\n",
              "    border: none;\n",
              "    border-radius: 50%;\n",
              "    cursor: pointer;\n",
              "    display: none;\n",
              "    fill: var(--fill-color);\n",
              "    height: 32px;\n",
              "    padding: 0;\n",
              "    width: 32px;\n",
              "  }\n",
              "\n",
              "  .colab-df-quickchart:hover {\n",
              "    background-color: var(--hover-bg-color);\n",
              "    box-shadow: 0 1px 2px rgba(60, 64, 67, 0.3), 0 1px 3px 1px rgba(60, 64, 67, 0.15);\n",
              "    fill: var(--button-hover-fill-color);\n",
              "  }\n",
              "\n",
              "  .colab-df-quickchart-complete:disabled,\n",
              "  .colab-df-quickchart-complete:disabled:hover {\n",
              "    background-color: var(--disabled-bg-color);\n",
              "    fill: var(--disabled-fill-color);\n",
              "    box-shadow: none;\n",
              "  }\n",
              "\n",
              "  .colab-df-spinner {\n",
              "    border: 2px solid var(--fill-color);\n",
              "    border-color: transparent;\n",
              "    border-bottom-color: var(--fill-color);\n",
              "    animation:\n",
              "      spin 1s steps(1) infinite;\n",
              "  }\n",
              "\n",
              "  @keyframes spin {\n",
              "    0% {\n",
              "      border-color: transparent;\n",
              "      border-bottom-color: var(--fill-color);\n",
              "      border-left-color: var(--fill-color);\n",
              "    }\n",
              "    20% {\n",
              "      border-color: transparent;\n",
              "      border-left-color: var(--fill-color);\n",
              "      border-top-color: var(--fill-color);\n",
              "    }\n",
              "    30% {\n",
              "      border-color: transparent;\n",
              "      border-left-color: var(--fill-color);\n",
              "      border-top-color: var(--fill-color);\n",
              "      border-right-color: var(--fill-color);\n",
              "    }\n",
              "    40% {\n",
              "      border-color: transparent;\n",
              "      border-right-color: var(--fill-color);\n",
              "      border-top-color: var(--fill-color);\n",
              "    }\n",
              "    60% {\n",
              "      border-color: transparent;\n",
              "      border-right-color: var(--fill-color);\n",
              "    }\n",
              "    80% {\n",
              "      border-color: transparent;\n",
              "      border-right-color: var(--fill-color);\n",
              "      border-bottom-color: var(--fill-color);\n",
              "    }\n",
              "    90% {\n",
              "      border-color: transparent;\n",
              "      border-bottom-color: var(--fill-color);\n",
              "    }\n",
              "  }\n",
              "</style>\n",
              "\n",
              "  <script>\n",
              "    async function quickchart(key) {\n",
              "      const quickchartButtonEl =\n",
              "        document.querySelector('#' + key + ' button');\n",
              "      quickchartButtonEl.disabled = true;  // To prevent multiple clicks.\n",
              "      quickchartButtonEl.classList.add('colab-df-spinner');\n",
              "      try {\n",
              "        const charts = await google.colab.kernel.invokeFunction(\n",
              "            'suggestCharts', [key], {});\n",
              "      } catch (error) {\n",
              "        console.error('Error during call to suggestCharts:', error);\n",
              "      }\n",
              "      quickchartButtonEl.classList.remove('colab-df-spinner');\n",
              "      quickchartButtonEl.classList.add('colab-df-quickchart-complete');\n",
              "    }\n",
              "    (() => {\n",
              "      let quickchartButtonEl =\n",
              "        document.querySelector('#df-210daafd-f18f-4458-ac8a-90dc4e731778 button');\n",
              "      quickchartButtonEl.style.display =\n",
              "        google.colab.kernel.accessAllowed ? 'block' : 'none';\n",
              "    })();\n",
              "  </script>\n",
              "</div>\n",
              "\n",
              "    </div>\n",
              "  </div>\n"
            ],
            "application/vnd.google.colaboratory.intrinsic+json": {
              "type": "dataframe",
              "summary": "{\n  \"name\": \"count_words(df, column='text', preprocess=lambda t: re\",\n  \"rows\": 2,\n  \"fields\": [\n    {\n      \"column\": \"token\",\n      \"properties\": {\n        \"dtype\": \"string\",\n        \"num_unique_values\": 2,\n        \"samples\": [\n          \"<tab>\",\n          \"<lb>\"\n        ],\n        \"semantic_type\": \"\",\n        \"description\": \"\"\n      }\n    },\n    {\n      \"column\": \"freq\",\n      \"properties\": {\n        \"dtype\": \"number\",\n        \"std\": 70772,\n        \"min\": 642,\n        \"max\": 100729,\n        \"num_unique_values\": 2,\n        \"samples\": [\n          642,\n          100729\n        ],\n        \"semantic_type\": \"\",\n        \"description\": \"\"\n      }\n    }\n  ]\n}"
            }
          },
          "metadata": {},
          "execution_count": 33
        }
      ],
      "source": [
        "from blueprints.exploration import count_words\n",
        "count_words(df, column='text', preprocess=lambda t: re.findall(r'<[\\w/]*>', t))"
      ]
    },
    {
      "cell_type": "markdown",
      "metadata": {
        "id": "H0K_qnMgT1KH"
      },
      "source": [
        "## Blueprint: Noise Removal with Regular Expressions\n"
      ]
    },
    {
      "cell_type": "code",
      "execution_count": 35,
      "metadata": {
        "ExecuteTime": {
          "end_time": "2022-02-11T07:09:09.829932Z",
          "start_time": "2022-02-11T07:09:09.755277Z"
        },
        "id": "76ZDDwZQT1KH"
      },
      "outputs": [],
      "source": [
        "import html\n",
        "\n",
        "def clean(text):\n",
        "    # convert html escapes like &amp; to characters.\n",
        "    text = html.unescape(text)\n",
        "    # tags like <tab>\n",
        "    text = re.sub(r'<[^<>]*>', ' ', text)\n",
        "    # markdown URLs like [Some text](https://....)\n",
        "    text = re.sub(r'\\[([^\\[\\]]*)\\]\\([^\\(\\)]*\\)', r'\\1', text)\n",
        "    # text or code in brackets like [0]\n",
        "    text = re.sub(r'\\[[^\\[\\]]*\\]', ' ', text)\n",
        "    # standalone sequences of specials, matches &# but not #cool\n",
        "    text = re.sub(r'(?:^|\\s)[&#<>{}\\[\\]+|\\\\:-]{1,}(?:\\s|$)', ' ', text)\n",
        "    # standalone sequences of hyphens like --- or ==\n",
        "    text = re.sub(r'(?:^|\\s)[\\-=\\+]{2,}(?:\\s|$)', ' ', text)\n",
        "    # sequences of white spaces\n",
        "    text = re.sub(r'\\s+', ' ', text)\n",
        "    return text.strip()"
      ]
    },
    {
      "cell_type": "code",
      "execution_count": 36,
      "metadata": {
        "ExecuteTime": {
          "end_time": "2022-02-11T07:09:12.306785Z",
          "start_time": "2022-02-11T07:09:12.254626Z"
        },
        "id": "ARxiE6IGT1KH",
        "outputId": "153899c8-272a-4bd0-bf92-88dea633dd31",
        "colab": {
          "base_uri": "https://localhost:8080/"
        }
      },
      "outputs": [
        {
          "output_type": "stream",
          "name": "stdout",
          "text": [
            "After viewing the PINKIEPOOL Trailer it got me thinking about the best match ups. Here's my take: Deadpool Captain America\n",
            "Impurity: 0.0\n"
          ]
        }
      ],
      "source": [
        "clean_text = clean(text)\n",
        "print(clean_text)\n",
        "print(\"Impurity:\", impurity(clean_text))"
      ]
    },
    {
      "cell_type": "code",
      "execution_count": 37,
      "metadata": {
        "ExecuteTime": {
          "end_time": "2022-02-11T07:09:15.899306Z",
          "start_time": "2022-02-11T07:09:12.731714Z"
        },
        "id": "G1Vs1xi6T1KH",
        "outputId": "f4487809-c008-45b3-9db4-248c10f8df47",
        "colab": {
          "base_uri": "https://localhost:8080/",
          "height": 49,
          "referenced_widgets": [
            "a08d295ba69042e18eb557b33e437e2b",
            "6aafd24454cd473abc70e04143018eb7",
            "fa49188b85b04b1e8f78d9f225ad0094",
            "e5109ce8776f4befa4d72b2178cc52e7",
            "a9504cfc7df343ca936f98cbc7a92c65",
            "d6c6a88fba2d462cb26f2f18af2854d8",
            "951474fe94c84631acd2c733240951ec",
            "9cc57d9686204bf5b5e3a91f25f0a54b",
            "75dc38d49d804a4ab21af9ca22200399",
            "b732474e2f2a4a88942ae95fecd0e2b3",
            "d767206e45774cd69c685cb43b8a5c47"
          ]
        }
      },
      "outputs": [
        {
          "output_type": "display_data",
          "data": {
            "text/plain": [
              "  0%|          | 0/20000 [00:00<?, ?it/s]"
            ],
            "application/vnd.jupyter.widget-view+json": {
              "version_major": 2,
              "version_minor": 0,
              "model_id": "a08d295ba69042e18eb557b33e437e2b"
            }
          },
          "metadata": {}
        }
      ],
      "source": [
        "df['clean_text'] = df['text'].progress_map(clean)\n",
        "df['impurity']   = df['clean_text'].apply(impurity, min_len=20)"
      ]
    },
    {
      "cell_type": "code",
      "execution_count": 38,
      "metadata": {
        "ExecuteTime": {
          "end_time": "2022-02-11T07:09:16.283338Z",
          "start_time": "2022-02-11T07:09:16.174025Z"
        },
        "id": "2KEAav5iT1KH",
        "outputId": "1a87dbf7-c1f4-4acb-c536-1207c8238b74",
        "colab": {
          "base_uri": "https://localhost:8080/",
          "height": 268
        }
      },
      "outputs": [
        {
          "output_type": "execute_result",
          "data": {
            "text/plain": [
              "                                                                                                                                                                                                    clean_text  \\\n",
              "14058  Mustang 2018, 2019, or 2020? Must Haves!! 1. Have a Credit score of 780\\+ for the best low interest rates! 2. Join a Credit Union to finance the vehicle! 3. Or Find a Lender to finance the vehicle...   \n",
              "18934  At the dealership, they offered an option for foot-well illumination, but I cannot find any reference to this online. Has anyone gotten it? How does it look? Anyone have pictures. Not sure if this...   \n",
              "16505  I am looking at four Caymans, all are in a similar price range. The major differences are the miles, the years, and one isn’t a S. https://www.cargurus.com/Cars/inventorylisting/viewDetailsFilterV...   \n",
              "\n",
              "       impurity  \n",
              "14058      0.03  \n",
              "18934      0.03  \n",
              "16505      0.02  "
            ],
            "text/html": [
              "\n",
              "  <div id=\"df-9488b2ab-fa6c-46ac-b9ac-dc2a8950b463\" class=\"colab-df-container\">\n",
              "    <div>\n",
              "<style scoped>\n",
              "    .dataframe tbody tr th:only-of-type {\n",
              "        vertical-align: middle;\n",
              "    }\n",
              "\n",
              "    .dataframe tbody tr th {\n",
              "        vertical-align: top;\n",
              "    }\n",
              "\n",
              "    .dataframe thead th {\n",
              "        text-align: right;\n",
              "    }\n",
              "</style>\n",
              "<table border=\"1\" class=\"dataframe tex2jax_ignore\">\n",
              "  <thead>\n",
              "    <tr style=\"text-align: right;\">\n",
              "      <th></th>\n",
              "      <th>clean_text</th>\n",
              "      <th>impurity</th>\n",
              "    </tr>\n",
              "  </thead>\n",
              "  <tbody>\n",
              "    <tr>\n",
              "      <th>14058</th>\n",
              "      <td>Mustang 2018, 2019, or 2020? Must Haves!! 1. Have a Credit score of 780\\+ for the best low interest rates! 2. Join a Credit Union to finance the vehicle! 3. Or Find a Lender to finance the vehicle...</td>\n",
              "      <td>0.03</td>\n",
              "    </tr>\n",
              "    <tr>\n",
              "      <th>18934</th>\n",
              "      <td>At the dealership, they offered an option for foot-well illumination, but I cannot find any reference to this online. Has anyone gotten it? How does it look? Anyone have pictures. Not sure if this...</td>\n",
              "      <td>0.03</td>\n",
              "    </tr>\n",
              "    <tr>\n",
              "      <th>16505</th>\n",
              "      <td>I am looking at four Caymans, all are in a similar price range. The major differences are the miles, the years, and one isn’t a S. https://www.cargurus.com/Cars/inventorylisting/viewDetailsFilterV...</td>\n",
              "      <td>0.02</td>\n",
              "    </tr>\n",
              "  </tbody>\n",
              "</table>\n",
              "</div>\n",
              "    <div class=\"colab-df-buttons\">\n",
              "\n",
              "  <div class=\"colab-df-container\">\n",
              "    <button class=\"colab-df-convert\" onclick=\"convertToInteractive('df-9488b2ab-fa6c-46ac-b9ac-dc2a8950b463')\"\n",
              "            title=\"Convert this dataframe to an interactive table.\"\n",
              "            style=\"display:none;\">\n",
              "\n",
              "  <svg xmlns=\"http://www.w3.org/2000/svg\" height=\"24px\" viewBox=\"0 -960 960 960\">\n",
              "    <path d=\"M120-120v-720h720v720H120Zm60-500h600v-160H180v160Zm220 220h160v-160H400v160Zm0 220h160v-160H400v160ZM180-400h160v-160H180v160Zm440 0h160v-160H620v160ZM180-180h160v-160H180v160Zm440 0h160v-160H620v160Z\"/>\n",
              "  </svg>\n",
              "    </button>\n",
              "\n",
              "  <style>\n",
              "    .colab-df-container {\n",
              "      display:flex;\n",
              "      gap: 12px;\n",
              "    }\n",
              "\n",
              "    .colab-df-convert {\n",
              "      background-color: #E8F0FE;\n",
              "      border: none;\n",
              "      border-radius: 50%;\n",
              "      cursor: pointer;\n",
              "      display: none;\n",
              "      fill: #1967D2;\n",
              "      height: 32px;\n",
              "      padding: 0 0 0 0;\n",
              "      width: 32px;\n",
              "    }\n",
              "\n",
              "    .colab-df-convert:hover {\n",
              "      background-color: #E2EBFA;\n",
              "      box-shadow: 0px 1px 2px rgba(60, 64, 67, 0.3), 0px 1px 3px 1px rgba(60, 64, 67, 0.15);\n",
              "      fill: #174EA6;\n",
              "    }\n",
              "\n",
              "    .colab-df-buttons div {\n",
              "      margin-bottom: 4px;\n",
              "    }\n",
              "\n",
              "    [theme=dark] .colab-df-convert {\n",
              "      background-color: #3B4455;\n",
              "      fill: #D2E3FC;\n",
              "    }\n",
              "\n",
              "    [theme=dark] .colab-df-convert:hover {\n",
              "      background-color: #434B5C;\n",
              "      box-shadow: 0px 1px 3px 1px rgba(0, 0, 0, 0.15);\n",
              "      filter: drop-shadow(0px 1px 2px rgba(0, 0, 0, 0.3));\n",
              "      fill: #FFFFFF;\n",
              "    }\n",
              "  </style>\n",
              "\n",
              "    <script>\n",
              "      const buttonEl =\n",
              "        document.querySelector('#df-9488b2ab-fa6c-46ac-b9ac-dc2a8950b463 button.colab-df-convert');\n",
              "      buttonEl.style.display =\n",
              "        google.colab.kernel.accessAllowed ? 'block' : 'none';\n",
              "\n",
              "      async function convertToInteractive(key) {\n",
              "        const element = document.querySelector('#df-9488b2ab-fa6c-46ac-b9ac-dc2a8950b463');\n",
              "        const dataTable =\n",
              "          await google.colab.kernel.invokeFunction('convertToInteractive',\n",
              "                                                    [key], {});\n",
              "        if (!dataTable) return;\n",
              "\n",
              "        const docLinkHtml = 'Like what you see? Visit the ' +\n",
              "          '<a target=\"_blank\" href=https://colab.research.google.com/notebooks/data_table.ipynb>data table notebook</a>'\n",
              "          + ' to learn more about interactive tables.';\n",
              "        element.innerHTML = '';\n",
              "        dataTable['output_type'] = 'display_data';\n",
              "        await google.colab.output.renderOutput(dataTable, element);\n",
              "        const docLink = document.createElement('div');\n",
              "        docLink.innerHTML = docLinkHtml;\n",
              "        element.appendChild(docLink);\n",
              "      }\n",
              "    </script>\n",
              "  </div>\n",
              "\n",
              "\n",
              "<div id=\"df-caec12c3-82d5-4756-b360-0ec1abe183b0\">\n",
              "  <button class=\"colab-df-quickchart\" onclick=\"quickchart('df-caec12c3-82d5-4756-b360-0ec1abe183b0')\"\n",
              "            title=\"Suggest charts\"\n",
              "            style=\"display:none;\">\n",
              "\n",
              "<svg xmlns=\"http://www.w3.org/2000/svg\" height=\"24px\"viewBox=\"0 0 24 24\"\n",
              "     width=\"24px\">\n",
              "    <g>\n",
              "        <path d=\"M19 3H5c-1.1 0-2 .9-2 2v14c0 1.1.9 2 2 2h14c1.1 0 2-.9 2-2V5c0-1.1-.9-2-2-2zM9 17H7v-7h2v7zm4 0h-2V7h2v10zm4 0h-2v-4h2v4z\"/>\n",
              "    </g>\n",
              "</svg>\n",
              "  </button>\n",
              "\n",
              "<style>\n",
              "  .colab-df-quickchart {\n",
              "      --bg-color: #E8F0FE;\n",
              "      --fill-color: #1967D2;\n",
              "      --hover-bg-color: #E2EBFA;\n",
              "      --hover-fill-color: #174EA6;\n",
              "      --disabled-fill-color: #AAA;\n",
              "      --disabled-bg-color: #DDD;\n",
              "  }\n",
              "\n",
              "  [theme=dark] .colab-df-quickchart {\n",
              "      --bg-color: #3B4455;\n",
              "      --fill-color: #D2E3FC;\n",
              "      --hover-bg-color: #434B5C;\n",
              "      --hover-fill-color: #FFFFFF;\n",
              "      --disabled-bg-color: #3B4455;\n",
              "      --disabled-fill-color: #666;\n",
              "  }\n",
              "\n",
              "  .colab-df-quickchart {\n",
              "    background-color: var(--bg-color);\n",
              "    border: none;\n",
              "    border-radius: 50%;\n",
              "    cursor: pointer;\n",
              "    display: none;\n",
              "    fill: var(--fill-color);\n",
              "    height: 32px;\n",
              "    padding: 0;\n",
              "    width: 32px;\n",
              "  }\n",
              "\n",
              "  .colab-df-quickchart:hover {\n",
              "    background-color: var(--hover-bg-color);\n",
              "    box-shadow: 0 1px 2px rgba(60, 64, 67, 0.3), 0 1px 3px 1px rgba(60, 64, 67, 0.15);\n",
              "    fill: var(--button-hover-fill-color);\n",
              "  }\n",
              "\n",
              "  .colab-df-quickchart-complete:disabled,\n",
              "  .colab-df-quickchart-complete:disabled:hover {\n",
              "    background-color: var(--disabled-bg-color);\n",
              "    fill: var(--disabled-fill-color);\n",
              "    box-shadow: none;\n",
              "  }\n",
              "\n",
              "  .colab-df-spinner {\n",
              "    border: 2px solid var(--fill-color);\n",
              "    border-color: transparent;\n",
              "    border-bottom-color: var(--fill-color);\n",
              "    animation:\n",
              "      spin 1s steps(1) infinite;\n",
              "  }\n",
              "\n",
              "  @keyframes spin {\n",
              "    0% {\n",
              "      border-color: transparent;\n",
              "      border-bottom-color: var(--fill-color);\n",
              "      border-left-color: var(--fill-color);\n",
              "    }\n",
              "    20% {\n",
              "      border-color: transparent;\n",
              "      border-left-color: var(--fill-color);\n",
              "      border-top-color: var(--fill-color);\n",
              "    }\n",
              "    30% {\n",
              "      border-color: transparent;\n",
              "      border-left-color: var(--fill-color);\n",
              "      border-top-color: var(--fill-color);\n",
              "      border-right-color: var(--fill-color);\n",
              "    }\n",
              "    40% {\n",
              "      border-color: transparent;\n",
              "      border-right-color: var(--fill-color);\n",
              "      border-top-color: var(--fill-color);\n",
              "    }\n",
              "    60% {\n",
              "      border-color: transparent;\n",
              "      border-right-color: var(--fill-color);\n",
              "    }\n",
              "    80% {\n",
              "      border-color: transparent;\n",
              "      border-right-color: var(--fill-color);\n",
              "      border-bottom-color: var(--fill-color);\n",
              "    }\n",
              "    90% {\n",
              "      border-color: transparent;\n",
              "      border-bottom-color: var(--fill-color);\n",
              "    }\n",
              "  }\n",
              "</style>\n",
              "\n",
              "  <script>\n",
              "    async function quickchart(key) {\n",
              "      const quickchartButtonEl =\n",
              "        document.querySelector('#' + key + ' button');\n",
              "      quickchartButtonEl.disabled = true;  // To prevent multiple clicks.\n",
              "      quickchartButtonEl.classList.add('colab-df-spinner');\n",
              "      try {\n",
              "        const charts = await google.colab.kernel.invokeFunction(\n",
              "            'suggestCharts', [key], {});\n",
              "      } catch (error) {\n",
              "        console.error('Error during call to suggestCharts:', error);\n",
              "      }\n",
              "      quickchartButtonEl.classList.remove('colab-df-spinner');\n",
              "      quickchartButtonEl.classList.add('colab-df-quickchart-complete');\n",
              "    }\n",
              "    (() => {\n",
              "      let quickchartButtonEl =\n",
              "        document.querySelector('#df-caec12c3-82d5-4756-b360-0ec1abe183b0 button');\n",
              "      quickchartButtonEl.style.display =\n",
              "        google.colab.kernel.accessAllowed ? 'block' : 'none';\n",
              "    })();\n",
              "  </script>\n",
              "</div>\n",
              "\n",
              "    </div>\n",
              "  </div>\n"
            ],
            "application/vnd.google.colaboratory.intrinsic+json": {
              "type": "dataframe",
              "summary": "{\n  \"name\": \"                              \",\n  \"rows\": 3,\n  \"fields\": [\n    {\n      \"column\": \"clean_text\",\n      \"properties\": {\n        \"dtype\": \"string\",\n        \"num_unique_values\": 3,\n        \"samples\": [\n          \"Mustang 2018, 2019, or 2020? Must Haves!! 1. Have a Credit score of 780\\\\+ for the best low interest rates! 2. Join a Credit Union to finance the vehicle! 3. Or Find a Lender to finance the vehicle! 4. Downpayment of 20&#37; to the actual vehicle cost! 5. Be 25 years old for a lower price for insurance! 2018 Mustang GT Premium Build and Price on Ford Website Base MSRP\\u2014 \\\\($40785\\\\) Destination\\u2014 \\\\($900\\\\) Paint\\u2014Shadow Black or Race Red \\\\(Leaning to Race Red to replace the GT and Mustang Logo to red.\\\\) Powertrain\\u2014V8 \\\\(Hell\\\\-yeah!!\\\\) Transmission\\u201410\\\\-Speed Selectshift Automatic Transmission \\\\(Automatic type of guy always.\\\\) \\\\($1595\\\\) Packages\\u2014401A\\\\-Premium Plus Package \\\\(Yes Please!! Want my digital cluster!!\\\\) \\\\($2200\\\\) Exterior\\u2014GT Performance Package \\\\(Definitely gotta have this!\\\\) \\\\($3995\\\\) Active Valve Performance Exhaust \\\\(I get off in the mornings so yeah!\\\\) \\\\($895\\\\) Magneride Damping System \\\\($1695\\\\) Interior\\u2014Safe and Smart Package\\\\(Safety First!\\\\) \\\\($1495\\\\) Premium Floor Liners Front and Rear \\\\(Like to keep my future car clean!\\\\) \\\\($120\\\\) Total\\u2014 \\\\($51700\\\\) NJ STATE SALES TAX of \\\\($51700\\\\) X \\\\(.06625\\\\) = \\\\($3425.125\\\\) = \\\\($55125.13\\\\) These are my preferences when finding a Mustang of my dreams or when 2019 rolls around lol. Considering that I just turned 23, will definitely be waiting till I'm 25 to get better Insurance rates and saving up for a downpayment. Credit Score is mid 700's and trying to get to 780 for even a better interest rate. Feel free to comment on what you think i should be aware of when purchasing a new car, insurance after 25, or just general comment of the selection i made.\",\n          \"At the dealership, they offered an option for foot-well illumination, but I cannot find any reference to this online. Has anyone gotten it? How does it look? Anyone have pictures. Not sure if this link will work, but here goes: https://www.mazdausa.com/shopping-tools/build-and-price/mazda3-hatchback#s=4&tr=Automatic&d=null&t=18M3HTR%7C18M3HTRA&ex=46G&in=V_BX0&p=&ip=&o=ILK&io=\",\n          \"I am looking at four Caymans, all are in a similar price range. The major differences are the miles, the years, and one isn\\u2019t a S. https://www.cargurus.com/Cars/inventorylisting/viewDetailsFilterViewInventoryListing.action?sourceContext=usedPaidSearchNoZip&newSearchFromOverviewPage=true&entitySelectingHelper.selectedEntity=d993&entitySelectingHelper.selectedEntity2=&zip=29036&distance=500&searchChanged=true&showNegotiable=true&modelChanged=undefined&filtersModified=true#listing=197702702 https://www.cargurus.com/Cars/inventorylisting/viewDetailsFilterViewInventoryListing.action?sourceContext=usedPaidSearchNoZip&newSearchFromOverviewPage=true&entitySelectingHelper.selectedEntity=d993&entitySelectingHelper.selectedEntity2=&zip=29036&distance=500&searchChanged=true&showNegotiable=true&modelChanged=undefined&filtersModified=true#listing=200644838 https://www.cargurus.com/Cars/inventorylisting/viewDetailsFilterViewInventoryListing.action?sourceContext=usedPaidSearchNoZip&newSearchFromOverviewPage=true&entitySelectingHelper.selectedEntity=d993&entitySelectingHelper.selectedEntity2=&zip=29036&distance=500&searchChanged=true&showNegotiable=true&modelChanged=undefined&filtersModified=true#listing=201714893 https://www.cargurus.com/Cars/inventorylisting/viewDetailsFilterViewInventoryListing.action?sourceContext=&newSearchFromOverviewPage=true&entitySelectingHelper.selectedEntity=d993&entitySelectingHelper.selectedEntity2=&zip=29036&distance=500&searchChanged=true&showNegotiable=true&modelChanged=undefined&filtersModified=true#listing=204861454 Any help deciding between the four would be appreciated, thanks!\"\n        ],\n        \"semantic_type\": \"\",\n        \"description\": \"\"\n      }\n    },\n    {\n      \"column\": \"impurity\",\n      \"properties\": {\n        \"dtype\": \"number\",\n        \"std\": 0.0032048920014114152,\n        \"min\": 0.024630541871921183,\n        \"max\": 0.030864197530864196,\n        \"num_unique_values\": 3,\n        \"samples\": [\n          0.030864197530864196,\n          0.026455026455026454,\n          0.024630541871921183\n        ],\n        \"semantic_type\": \"\",\n        \"description\": \"\"\n      }\n    }\n  ]\n}"
            }
          },
          "metadata": {},
          "execution_count": 38
        }
      ],
      "source": [
        "df[['clean_text', 'impurity']].sort_values(by='impurity', ascending=False) \\\n",
        "                              .head(3)"
      ]
    },
    {
      "cell_type": "markdown",
      "metadata": {
        "id": "00NSHwsqT1KH"
      },
      "source": [
        "## Blueprint: Character Normalization with textacy\n"
      ]
    },
    {
      "cell_type": "code",
      "execution_count": 39,
      "metadata": {
        "ExecuteTime": {
          "end_time": "2022-02-11T07:09:16.608328Z",
          "start_time": "2022-02-11T07:09:16.523502Z"
        },
        "id": "kXO5bxvoT1KH"
      },
      "outputs": [],
      "source": [
        "text = \"The café “Saint-Raphaël” is loca-\\nted on Côte dʼAzur.\""
      ]
    },
    {
      "cell_type": "code",
      "execution_count": 40,
      "metadata": {
        "ExecuteTime": {
          "end_time": "2022-02-11T07:09:18.036817Z",
          "start_time": "2022-02-11T07:09:17.910871Z"
        },
        "id": "6vPolwjBT1KH"
      },
      "outputs": [],
      "source": [
        "import textacy\n",
        "import textacy.preprocessing as tprep\n",
        "\n",
        "if textacy.__version__ < '0.11':\n",
        "    # as in book\n",
        "    def normalize(text):\n",
        "        text = tprep.normalize_hyphenated_words(text)\n",
        "        text = tprep.normalize_quotation_marks(text)\n",
        "        text = tprep.normalize_unicode(text)\n",
        "        text = tprep.remove_accents(text)\n",
        "        return text\n",
        "\n",
        "else:\n",
        "    # adjusted to textacy 0.11\n",
        "    def normalize(text):\n",
        "        text = tprep.normalize.hyphenated_words(text)\n",
        "        text = tprep.normalize.quotation_marks(text)\n",
        "        text = tprep.normalize.unicode(text)\n",
        "        text = tprep.remove.accents(text)\n",
        "        return text"
      ]
    },
    {
      "cell_type": "code",
      "execution_count": 41,
      "metadata": {
        "ExecuteTime": {
          "end_time": "2022-02-11T07:09:21.009078Z",
          "start_time": "2022-02-11T07:09:20.963523Z"
        },
        "id": "HkE70cjMT1KK",
        "outputId": "1ca581b9-af0c-41e2-92bf-45494ecc1cef",
        "colab": {
          "base_uri": "https://localhost:8080/"
        }
      },
      "outputs": [
        {
          "output_type": "stream",
          "name": "stdout",
          "text": [
            "The cafe \"Saint-Raphael\" is located on Cote d'Azur.\n"
          ]
        }
      ],
      "source": [
        "print(normalize(text))"
      ]
    },
    {
      "cell_type": "markdown",
      "metadata": {
        "id": "MIo4F9zoT1KK"
      },
      "source": [
        "## Blueprint: Pattern-based Data Masking with textacy\n"
      ]
    },
    {
      "cell_type": "code",
      "execution_count": 43,
      "metadata": {
        "ExecuteTime": {
          "end_time": "2022-02-11T07:09:23.469380Z",
          "start_time": "2022-02-11T07:09:22.340940Z"
        },
        "id": "bzcCp1l8T1KK",
        "outputId": "063a6b4a-fcbd-461a-d912-fdf15b804844",
        "colab": {
          "base_uri": "https://localhost:8080/",
          "height": 158,
          "referenced_widgets": [
            "664f831fb03a4e8f82498eb8fd4b365d",
            "9b524db534b04734986d4931532cac43",
            "f58a0c9877d04fe1af5fc6de0a6fd412",
            "c14bc53e0c0e4fab85a183dba98d433c",
            "a58d66f3ad9e496fbef65e27ec14713b",
            "2bb67d262f8742ef93fcaed2d7641359",
            "340f0f2b1eaa414387bb5ec154d5536c",
            "4040e76f9f86462591b963250ae9be48",
            "e6797feda5cc44168152c7472e2a5d0d",
            "cc432aa8b868419f847048a06559d824",
            "8ac6af929a6d4deda2f7428cb9001c3e"
          ]
        }
      },
      "outputs": [
        {
          "output_type": "display_data",
          "data": {
            "text/plain": [
              "  0%|          | 0/20000 [00:00<?, ?it/s]"
            ],
            "application/vnd.jupyter.widget-view+json": {
              "version_major": 2,
              "version_minor": 0,
              "model_id": "664f831fb03a4e8f82498eb8fd4b365d"
            }
          },
          "metadata": {}
        },
        {
          "output_type": "stream",
          "name": "stdout",
          "text": [
            "                                                                                              freq\n",
            "token                                                                                             \n",
            "www.getlowered.com                                                                               3\n",
            "http://www.ecolamautomotive.com/#!2/kv7fq                                                        2\n",
            "https://www.reddit.com/r/Jeep/comments/4ux232/just_ordered_an_android_head_unit_joying_jeep/     2\n"
          ]
        }
      ],
      "source": [
        "from textacy.preprocessing.resources import RE_URL\n",
        "\n",
        "print(count_words(df, column='clean_text', preprocess=RE_URL.findall).head(3))"
      ]
    },
    {
      "cell_type": "code",
      "execution_count": 44,
      "metadata": {
        "ExecuteTime": {
          "end_time": "2022-02-11T07:09:23.724446Z",
          "start_time": "2022-02-11T07:09:23.660526Z"
        },
        "id": "aGJWiujRT1KK",
        "outputId": "b982bd8a-0c66-4d50-b725-05bc7037a724",
        "colab": {
          "base_uri": "https://localhost:8080/"
        }
      },
      "outputs": [
        {
          "output_type": "stream",
          "name": "stdout",
          "text": [
            "Check out _URL_\n"
          ]
        }
      ],
      "source": [
        "if textacy.__version__ < '0.11':\n",
        "    # as in book\n",
        "    replace_urls = textacy.preprocessing.replace_urls\n",
        "else:\n",
        "    replace_urls = textacy.preprocessing.replace.urls\n",
        "\n",
        "text = \"Check out https://spacy.io/usage/spacy-101\"\n",
        "\n",
        "# using default substitution _URL_\n",
        "print(replace_urls(text))"
      ]
    },
    {
      "cell_type": "code",
      "execution_count": 45,
      "metadata": {
        "ExecuteTime": {
          "end_time": "2022-02-11T07:09:34.130462Z",
          "start_time": "2022-02-11T07:09:23.938549Z"
        },
        "id": "UkcppnOgT1KK",
        "outputId": "a175a1ef-95fd-429e-9c65-e0b0442b3eb9",
        "colab": {
          "base_uri": "https://localhost:8080/",
          "height": 81,
          "referenced_widgets": [
            "a51272795894488fb7ba6bfb32ffc834",
            "4fbec5f1a5fe43ffbc4e76359078a8e3",
            "a73a659bf2db45409b055b54b716ec14",
            "d4e03fa46a304bb484ae05520ff93cb0",
            "f9dad8dacb454a1d988298e6cd64f4f7",
            "61bf83374d2642c6b7de6a0c244744e1",
            "61c7e84df93c46fc94dd73134738d688",
            "5494ba1626c04dfaa9291799a8a268b5",
            "4d7ca36000d541fe851da8d41b530d8b",
            "30475295ece44feeb92b4c2e2e15fd03",
            "20760ea2700a464a99cb8da40cd64c3a",
            "526ebf52d3074cb4861bc1aa4706cdd5",
            "e54e397ed08a45f1b52a5c6eec20efa4",
            "8be52abf59d546148665440fc578e822",
            "eccab6d693f44d5280526c655580192a",
            "0b29079d183847a0b4ec2a276b2271ee",
            "3af73cc8283c47d88c4d3b250f12f82c",
            "cbc5b3c8b33e42ed989bb15880f60169",
            "02b959d5899d488b8c628a1193c4cd94",
            "dbf07fc5b7464fdba1012ea7f7441bd7",
            "c83b33766f184cc2947c736afbad7b80",
            "3b1b689633f048e79a09ef68e8585740"
          ]
        }
      },
      "outputs": [
        {
          "output_type": "display_data",
          "data": {
            "text/plain": [
              "  0%|          | 0/20000 [00:00<?, ?it/s]"
            ],
            "application/vnd.jupyter.widget-view+json": {
              "version_major": 2,
              "version_minor": 0,
              "model_id": "a51272795894488fb7ba6bfb32ffc834"
            }
          },
          "metadata": {}
        },
        {
          "output_type": "display_data",
          "data": {
            "text/plain": [
              "  0%|          | 0/20000 [00:00<?, ?it/s]"
            ],
            "application/vnd.jupyter.widget-view+json": {
              "version_major": 2,
              "version_minor": 0,
              "model_id": "526ebf52d3074cb4861bc1aa4706cdd5"
            }
          },
          "metadata": {}
        }
      ],
      "source": [
        "df['clean_text'] = df['clean_text'].progress_map(replace_urls)\n",
        "df['clean_text'] = df['clean_text'].progress_map(normalize)"
      ]
    },
    {
      "cell_type": "code",
      "execution_count": 46,
      "metadata": {
        "ExecuteTime": {
          "end_time": "2022-02-11T07:09:37.397992Z",
          "start_time": "2022-02-11T07:09:34.293431Z"
        },
        "id": "N4i5_HVyT1KK",
        "outputId": "5d3521c6-2edc-4a57-b31c-cee5167b7ac9",
        "colab": {
          "base_uri": "https://localhost:8080/"
        }
      },
      "outputs": [
        {
          "output_type": "execute_result",
          "data": {
            "text/plain": [
              "20000"
            ]
          },
          "metadata": {},
          "execution_count": 46
        }
      ],
      "source": [
        "df.rename(columns={'text': 'raw_text', 'clean_text': 'text'}, inplace=True)\n",
        "df.drop(columns=['impurity'], inplace=True)\n",
        "\n",
        "con = sqlite3.connect(db_name)\n",
        "df.to_sql(\"posts_cleaned\", con, index=False, if_exists=\"replace\")\n",
        "con.close()"
      ]
    },
    {
      "cell_type": "code",
      "source": [
        "print(df.head())"
      ],
      "metadata": {
        "id": "28BY9FqJZ84p",
        "outputId": "e11bc700-5775-4d3e-9810-ce955bcb0b0e",
        "colab": {
          "base_uri": "https://localhost:8080/"
        }
      },
      "execution_count": 48,
      "outputs": [
        {
          "output_type": "stream",
          "name": "stdout",
          "text": [
            "       id   subreddit                                     title  \\\n",
            "0  8f73s7      Harley                            No Club Colors   \n",
            "1  5s0q8r     Mustang                     Roush vs Shleby GT500   \n",
            "2  5z3405  Volkswagen  2001 Golf Wagon looking for some insight   \n",
            "3  7df18v       Lexus               IS 250 Coolant Flush/Change   \n",
            "4  5tpve8        volt                 Gen1 mpg w/ dead battery?   \n",
            "\n",
            "                                                                                                                                                                                                  raw_text  \\\n",
            "0  Funny story. I went to college in Las Vegas. This was before I knew anything about motorcycling whatsoever. Me and some college buddies would always go out on the strip to the dance clubs. We alwa...   \n",
            "1  I am trying to determine which is faster, and I've seen the dealership video with the two racing(Roush won 2/3). But I was wondering if it was just because of the bigass supercharger in the Roush....   \n",
            "2  Hello! <lb><lb>Trying to find some information on replacing a 2001 Golf Wagon starter (gas).... mine's gone out and going to the dealership is quite out of the range right now. Nor is it in the bi...   \n",
            "3  https://www.cars.com/articles/how-often-should-i-change-engine-coolant-1420680853669/<lb><lb>I have a IS 250 AWD from 2006. About 73K miles on it. I've never touched the engine radiator coolant an...   \n",
            "4  Hi, new to this subreddit.  I'm considering buying a Gen1 Volt, but I can't find any straight answers as to what kind of mpg it gets after the battery is completely dead (say I take a 300 mile tri...   \n",
            "\n",
            "  category      subcategory  \\\n",
            "0    autos  harley davidson   \n",
            "1    autos             ford   \n",
            "2    autos               VW   \n",
            "3    autos            lexus   \n",
            "4    autos        chevrolet   \n",
            "\n",
            "                                                                                                                                                                                                      text  \n",
            "0  Funny story. I went to college in Las Vegas. This was before I knew anything about motorcycling whatsoever. Me and some college buddies would always go out on the strip to the dance clubs. We alwa...  \n",
            "1  I am trying to determine which is faster, and I've seen the dealership video with the two racing(Roush won 2/3). But I was wondering if it was just because of the bigass supercharger in the Roush....  \n",
            "2  Hello! Trying to find some information on replacing a 2001 Golf Wagon starter (gas).... mine's gone out and going to the dealership is quite out of the range right now. Nor is it in the biggest of...  \n",
            "3  _URL_ I have a IS 250 AWD from 2006. About 73K miles on it. I've never touched the engine radiator coolant and can't find anything on when to change this in the book. It just says 'long life 100k ...  \n",
            "4  Hi, new to this subreddit. I'm considering buying a Gen1 Volt, but I can't find any straight answers as to what kind of mpg it gets after the battery is completely dead (say I take a 300 mile trip...  \n"
          ]
        }
      ]
    },
    {
      "cell_type": "markdown",
      "metadata": {
        "id": "ac8O35mBT1KK"
      },
      "source": [
        "# Tokenization\n"
      ]
    },
    {
      "cell_type": "code",
      "execution_count": 49,
      "metadata": {
        "ExecuteTime": {
          "end_time": "2022-02-11T07:09:37.681704Z",
          "start_time": "2022-02-11T07:09:37.615851Z"
        },
        "id": "EOc6iiDxT1KK"
      },
      "outputs": [],
      "source": [
        "text = \"\"\"\n",
        "2019-08-10 23:32: @pete/@louis - I don't have a well-designed\n",
        "solution for today's problem. The code of module AC68 should be -1.\n",
        "Have to think a bit... #goodnight ;-) 😩😬\"\"\""
      ]
    },
    {
      "cell_type": "markdown",
      "metadata": {
        "id": "BBUSyJLJT1KK"
      },
      "source": [
        "## Blueprint: Tokenization with Regular Expressions\n"
      ]
    },
    {
      "cell_type": "code",
      "execution_count": 50,
      "metadata": {
        "ExecuteTime": {
          "end_time": "2022-02-11T07:09:37.980095Z",
          "start_time": "2022-02-11T07:09:37.867611Z"
        },
        "id": "hjEG3SObT1KK",
        "outputId": "81eb602a-e42e-472d-f352-f7a52b08fb85",
        "colab": {
          "base_uri": "https://localhost:8080/"
        }
      },
      "outputs": [
        {
          "output_type": "stream",
          "name": "stdout",
          "text": [
            "2019|08|10|23|32|pete|louis|don|have|well|designed|solution|for|today|problem|The|code|of|module|AC68|should|be|Have|to|think|bit|goodnight\n"
          ]
        }
      ],
      "source": [
        "tokens = re.findall(r'\\w\\w+', text)\n",
        "print(*tokens, sep='|')"
      ]
    },
    {
      "cell_type": "code",
      "execution_count": 51,
      "metadata": {
        "ExecuteTime": {
          "end_time": "2022-02-11T07:09:38.419682Z",
          "start_time": "2022-02-11T07:09:38.300825Z"
        },
        "id": "FPxNdiTAT1KK",
        "outputId": "9735a2fc-4206-48c9-dc33-617c08e7bec8",
        "colab": {
          "base_uri": "https://localhost:8080/"
        }
      },
      "outputs": [
        {
          "output_type": "stream",
          "name": "stdout",
          "text": [
            "2019-08-10|23:32|@pete|@louis|I|don't|have|a|well-designed|solution|for|today's|problem|The|code|of|module|AC68|should|be|-1|Have|to|think|a|bit|#goodnight|;-)|😩|😬\n"
          ]
        }
      ],
      "source": [
        "RE_TOKEN = re.compile(r\"\"\"\n",
        "               ( [#]?[@\\w'’\\.\\-\\:]*\\w     # words, hash tags and email adresses\n",
        "               | [:;<]\\-?[\\)\\(3]          # coarse pattern for basic text emojis\n",
        "               | [\\U0001F100-\\U0001FFFF]  # coarse code range for unicode emojis\n",
        "               )\n",
        "               \"\"\", re.VERBOSE)\n",
        "\n",
        "def tokenize(text):\n",
        "    return RE_TOKEN.findall(text)\n",
        "\n",
        "tokens = tokenize(text)\n",
        "print(*tokens, sep='|')"
      ]
    },
    {
      "cell_type": "markdown",
      "metadata": {
        "id": "yFQ5GaevT1KL"
      },
      "source": [
        "## Tokenization with NLTK\n"
      ]
    },
    {
      "cell_type": "code",
      "execution_count": 53,
      "metadata": {
        "ExecuteTime": {
          "end_time": "2022-02-11T07:09:39.088420Z",
          "start_time": "2022-02-11T07:09:38.644778Z"
        },
        "id": "LVyg2o-MT1KL",
        "outputId": "45b5bdd2-f101-4d56-8ac0-e2770b963015",
        "colab": {
          "base_uri": "https://localhost:8080/"
        }
      },
      "outputs": [
        {
          "output_type": "stream",
          "name": "stderr",
          "text": [
            "[nltk_data] Downloading package punkt_tab to /root/nltk_data...\n",
            "[nltk_data]   Unzipping tokenizers/punkt_tab.zip.\n"
          ]
        },
        {
          "output_type": "execute_result",
          "data": {
            "text/plain": [
              "True"
            ]
          },
          "metadata": {},
          "execution_count": 53
        },
        {
          "output_type": "stream",
          "name": "stdout",
          "text": [
            "2019-08-10|23:32|:|@|pete/|@|louis|-|I|do|n't|have|a|well-designed|solution|for|today|'s|problem|.|The|code|of|module|AC68|should|be|-1|.|Have|to|think|a|bit|...|#|goodnight|;|-|)|😩😬\n"
          ]
        }
      ],
      "source": [
        "import nltk\n",
        "\n",
        "nltk.download('punkt_tab') ###\n",
        "tokens = nltk.tokenize.word_tokenize(text)\n",
        "print(*tokens, sep='|')"
      ]
    },
    {
      "cell_type": "code",
      "execution_count": 54,
      "metadata": {
        "ExecuteTime": {
          "end_time": "2022-02-11T07:09:39.373425Z",
          "start_time": "2022-02-11T07:09:39.290458Z"
        },
        "id": "KeKhaABwT1KL",
        "outputId": "401cb03a-b046-4a60-c239-34c28ca6c00b",
        "colab": {
          "base_uri": "https://localhost:8080/"
        }
      },
      "outputs": [
        {
          "output_type": "stream",
          "name": "stdout",
          "text": [
            "2019-08-10|23:32|@pete|@louis|I|don't|have|a|well-designed|solution|for|today's|problem|The|code|of|module|AC68|should|be|-1|Have|to|think|a|bit|#goodnight|;-)|😩|😬\n"
          ]
        }
      ],
      "source": [
        "# Not in book: Regex Tokenizer\n",
        "tokenizer = nltk.tokenize.RegexpTokenizer(RE_TOKEN.pattern, flags=re.VERBOSE)\n",
        "tokens = tokenizer.tokenize(text)\n",
        "print(*tokens, sep='|')"
      ]
    },
    {
      "cell_type": "code",
      "execution_count": 55,
      "metadata": {
        "ExecuteTime": {
          "end_time": "2022-02-11T07:09:39.706541Z",
          "start_time": "2022-02-11T07:09:39.594338Z"
        },
        "id": "3QYBa9a8T1KL",
        "outputId": "525785da-5721-4abb-8b00-cbe62d22112b",
        "colab": {
          "base_uri": "https://localhost:8080/"
        }
      },
      "outputs": [
        {
          "output_type": "stream",
          "name": "stdout",
          "text": [
            "2019-08-|10|23:32|:|@pete|/|@louis|-|I|don't|have|a|well-designed|solution|for|today's|problem|.|The|code|of|module|AC68|should|be|-|1|.|Have|to|think|a|bit|...|#goodnight|;-)|😩|😬\n"
          ]
        }
      ],
      "source": [
        "# Not in book: Tweet Tokenizer\n",
        "tokenizer = nltk.tokenize.TweetTokenizer()\n",
        "tokens = tokenizer.tokenize(text)\n",
        "print(*tokens, sep='|')"
      ]
    },
    {
      "cell_type": "code",
      "execution_count": 56,
      "metadata": {
        "ExecuteTime": {
          "end_time": "2022-02-11T07:09:39.997226Z",
          "start_time": "2022-02-11T07:09:39.908964Z"
        },
        "id": "GgpHzp1NT1KL",
        "outputId": "279be3ef-a313-4428-a0c5-0ab32b874869",
        "colab": {
          "base_uri": "https://localhost:8080/"
        }
      },
      "outputs": [
        {
          "output_type": "stream",
          "name": "stdout",
          "text": [
            "2019-08-10|23|:|32|:|@pete/@louis|-|I|don|'|t|have|a|well-designed|solution|for|today|'|s|problem.|The|code|of|module|AC68|should|be|-1.|Have|to|think|a|bit|...|#goodnight|;|-|)|😩😬\n"
          ]
        }
      ],
      "source": [
        "# Not in book: Toktok Tokenizer\n",
        "tokenizer = nltk.tokenize.ToktokTokenizer()\n",
        "tokens = tokenizer.tokenize(text)\n",
        "print(*tokens, sep='|')"
      ]
    },
    {
      "cell_type": "markdown",
      "metadata": {
        "id": "xMcxLFG6T1KL"
      },
      "source": [
        "## Recommendations for Tokenization\n"
      ]
    },
    {
      "cell_type": "markdown",
      "metadata": {
        "id": "meNeFQ5TT1KL"
      },
      "source": [
        "# Linguistic Processing with spaCy\n"
      ]
    },
    {
      "cell_type": "markdown",
      "metadata": {
        "id": "HrxcIN2IT1KL"
      },
      "source": [
        "## Instantiating a Pipeline\n"
      ]
    },
    {
      "cell_type": "code",
      "execution_count": 57,
      "metadata": {
        "ExecuteTime": {
          "end_time": "2022-02-11T07:09:41.220007Z",
          "start_time": "2022-02-11T07:09:40.211141Z"
        },
        "id": "WoMoWYDTT1KL"
      },
      "outputs": [],
      "source": [
        "import spacy\n",
        "nlp = spacy.load('en_core_web_sm')"
      ]
    },
    {
      "cell_type": "code",
      "execution_count": 58,
      "metadata": {
        "ExecuteTime": {
          "end_time": "2022-02-11T07:09:41.485999Z",
          "start_time": "2022-02-11T07:09:41.404351Z"
        },
        "id": "RWGs7IsET1KL",
        "outputId": "920b8a4b-1d1b-4194-92fa-5c99118fa864",
        "colab": {
          "base_uri": "https://localhost:8080/"
        }
      },
      "outputs": [
        {
          "output_type": "execute_result",
          "data": {
            "text/plain": [
              "[('tok2vec', <spacy.pipeline.tok2vec.Tok2Vec at 0x7c62291b9f60>),\n",
              " ('tagger', <spacy.pipeline.tagger.Tagger at 0x7c62296d0ee0>),\n",
              " ('parser', <spacy.pipeline.dep_parser.DependencyParser at 0x7c6226342d50>),\n",
              " ('attribute_ruler',\n",
              "  <spacy.pipeline.attributeruler.AttributeRuler at 0x7c62266877c0>),\n",
              " ('lemmatizer',\n",
              "  <spacy.lang.en.lemmatizer.EnglishLemmatizer at 0x7c62cd1ae940>),\n",
              " ('ner', <spacy.pipeline.ner.EntityRecognizer at 0x7c62263429d0>)]"
            ]
          },
          "metadata": {},
          "execution_count": 58
        }
      ],
      "source": [
        "nlp.pipeline"
      ]
    },
    {
      "cell_type": "code",
      "execution_count": 59,
      "metadata": {
        "ExecuteTime": {
          "end_time": "2022-02-11T07:09:42.826011Z",
          "start_time": "2022-02-11T07:09:41.735123Z"
        },
        "id": "WYIJSM0AT1KL"
      },
      "outputs": [],
      "source": [
        "nlp = spacy.load(\"en_core_web_sm\", disable=[\"parser\", \"ner\"])"
      ]
    },
    {
      "cell_type": "markdown",
      "metadata": {
        "id": "Luh8NwhZT1KL"
      },
      "source": [
        "## Processing Text\n"
      ]
    },
    {
      "cell_type": "code",
      "execution_count": 60,
      "metadata": {
        "ExecuteTime": {
          "end_time": "2022-02-11T07:09:43.835516Z",
          "start_time": "2022-02-11T07:09:43.011101Z"
        },
        "id": "2mX0-9FMT1KL"
      },
      "outputs": [],
      "source": [
        "nlp = spacy.load(\"en_core_web_sm\")\n",
        "text = \"My best friend Ryan Peters likes fancy adventure games.\"\n",
        "doc = nlp(text)"
      ]
    },
    {
      "cell_type": "code",
      "execution_count": 61,
      "metadata": {
        "ExecuteTime": {
          "end_time": "2022-02-11T07:09:44.097635Z",
          "start_time": "2022-02-11T07:09:44.034263Z"
        },
        "id": "m-OAjqZcT1KL",
        "outputId": "15202373-c8d9-4fa8-8324-50fb0ae0cbd7",
        "colab": {
          "base_uri": "https://localhost:8080/"
        }
      },
      "outputs": [
        {
          "output_type": "stream",
          "name": "stdout",
          "text": [
            "My|best|friend|Ryan|Peters|likes|fancy|adventure|games|.|"
          ]
        }
      ],
      "source": [
        "for token in doc:\n",
        "    print(token, end=\"|\")"
      ]
    },
    {
      "cell_type": "code",
      "execution_count": 62,
      "metadata": {
        "ExecuteTime": {
          "end_time": "2022-02-11T07:09:44.379697Z",
          "start_time": "2022-02-11T07:09:44.304372Z"
        },
        "id": "IJNjJmjiT1KL"
      },
      "outputs": [],
      "source": [
        "def display_nlp(doc, include_punct=False):\n",
        "    \"\"\"Generate data frame for visualization of spaCy tokens.\"\"\"\n",
        "    rows = []\n",
        "    for i, t in enumerate(doc):\n",
        "        if not t.is_punct or include_punct:\n",
        "            row = {'token': i,  'text': t.text, 'lemma_': t.lemma_,\n",
        "                   'is_stop': t.is_stop, 'is_alpha': t.is_alpha,\n",
        "                   'pos_': t.pos_, 'dep_': t.dep_,\n",
        "                   'ent_type_': t.ent_type_, 'ent_iob_': t.ent_iob_}\n",
        "            rows.append(row)\n",
        "\n",
        "    df = pd.DataFrame(rows).set_index('token')\n",
        "    df.index.name = None\n",
        "    return df"
      ]
    },
    {
      "cell_type": "code",
      "execution_count": 63,
      "metadata": {
        "ExecuteTime": {
          "end_time": "2022-02-11T07:09:44.670696Z",
          "start_time": "2022-02-11T07:09:44.580331Z"
        },
        "id": "WF1KXj_iT1KL",
        "outputId": "4071b21c-c6d0-408c-d43b-b65bd3528a5e",
        "colab": {
          "base_uri": "https://localhost:8080/",
          "height": 352
        }
      },
      "outputs": [
        {
          "output_type": "execute_result",
          "data": {
            "text/plain": [
              "        text     lemma_  is_stop  is_alpha   pos_      dep_ ent_type_ ent_iob_\n",
              "0         My         my     True      True   PRON      poss                  O\n",
              "1       best       good    False      True    ADJ      amod                  O\n",
              "2     friend     friend    False      True   NOUN     nsubj                  O\n",
              "3       Ryan       Ryan    False      True  PROPN  compound    PERSON        B\n",
              "4     Peters     Peters    False      True  PROPN     appos    PERSON        I\n",
              "5      likes       like    False      True   VERB      ROOT                  O\n",
              "6      fancy      fancy    False      True    ADJ      amod                  O\n",
              "7  adventure  adventure    False      True   NOUN  compound                  O\n",
              "8      games       game    False      True   NOUN      dobj                  O"
            ],
            "text/html": [
              "\n",
              "  <div id=\"df-ddb8c42a-da53-4ff2-a083-25c206441c64\" class=\"colab-df-container\">\n",
              "    <div>\n",
              "<style scoped>\n",
              "    .dataframe tbody tr th:only-of-type {\n",
              "        vertical-align: middle;\n",
              "    }\n",
              "\n",
              "    .dataframe tbody tr th {\n",
              "        vertical-align: top;\n",
              "    }\n",
              "\n",
              "    .dataframe thead th {\n",
              "        text-align: right;\n",
              "    }\n",
              "</style>\n",
              "<table border=\"1\" class=\"dataframe tex2jax_ignore\">\n",
              "  <thead>\n",
              "    <tr style=\"text-align: right;\">\n",
              "      <th></th>\n",
              "      <th>text</th>\n",
              "      <th>lemma_</th>\n",
              "      <th>is_stop</th>\n",
              "      <th>is_alpha</th>\n",
              "      <th>pos_</th>\n",
              "      <th>dep_</th>\n",
              "      <th>ent_type_</th>\n",
              "      <th>ent_iob_</th>\n",
              "    </tr>\n",
              "  </thead>\n",
              "  <tbody>\n",
              "    <tr>\n",
              "      <th>0</th>\n",
              "      <td>My</td>\n",
              "      <td>my</td>\n",
              "      <td>True</td>\n",
              "      <td>True</td>\n",
              "      <td>PRON</td>\n",
              "      <td>poss</td>\n",
              "      <td></td>\n",
              "      <td>O</td>\n",
              "    </tr>\n",
              "    <tr>\n",
              "      <th>1</th>\n",
              "      <td>best</td>\n",
              "      <td>good</td>\n",
              "      <td>False</td>\n",
              "      <td>True</td>\n",
              "      <td>ADJ</td>\n",
              "      <td>amod</td>\n",
              "      <td></td>\n",
              "      <td>O</td>\n",
              "    </tr>\n",
              "    <tr>\n",
              "      <th>2</th>\n",
              "      <td>friend</td>\n",
              "      <td>friend</td>\n",
              "      <td>False</td>\n",
              "      <td>True</td>\n",
              "      <td>NOUN</td>\n",
              "      <td>nsubj</td>\n",
              "      <td></td>\n",
              "      <td>O</td>\n",
              "    </tr>\n",
              "    <tr>\n",
              "      <th>3</th>\n",
              "      <td>Ryan</td>\n",
              "      <td>Ryan</td>\n",
              "      <td>False</td>\n",
              "      <td>True</td>\n",
              "      <td>PROPN</td>\n",
              "      <td>compound</td>\n",
              "      <td>PERSON</td>\n",
              "      <td>B</td>\n",
              "    </tr>\n",
              "    <tr>\n",
              "      <th>4</th>\n",
              "      <td>Peters</td>\n",
              "      <td>Peters</td>\n",
              "      <td>False</td>\n",
              "      <td>True</td>\n",
              "      <td>PROPN</td>\n",
              "      <td>appos</td>\n",
              "      <td>PERSON</td>\n",
              "      <td>I</td>\n",
              "    </tr>\n",
              "    <tr>\n",
              "      <th>5</th>\n",
              "      <td>likes</td>\n",
              "      <td>like</td>\n",
              "      <td>False</td>\n",
              "      <td>True</td>\n",
              "      <td>VERB</td>\n",
              "      <td>ROOT</td>\n",
              "      <td></td>\n",
              "      <td>O</td>\n",
              "    </tr>\n",
              "    <tr>\n",
              "      <th>6</th>\n",
              "      <td>fancy</td>\n",
              "      <td>fancy</td>\n",
              "      <td>False</td>\n",
              "      <td>True</td>\n",
              "      <td>ADJ</td>\n",
              "      <td>amod</td>\n",
              "      <td></td>\n",
              "      <td>O</td>\n",
              "    </tr>\n",
              "    <tr>\n",
              "      <th>7</th>\n",
              "      <td>adventure</td>\n",
              "      <td>adventure</td>\n",
              "      <td>False</td>\n",
              "      <td>True</td>\n",
              "      <td>NOUN</td>\n",
              "      <td>compound</td>\n",
              "      <td></td>\n",
              "      <td>O</td>\n",
              "    </tr>\n",
              "    <tr>\n",
              "      <th>8</th>\n",
              "      <td>games</td>\n",
              "      <td>game</td>\n",
              "      <td>False</td>\n",
              "      <td>True</td>\n",
              "      <td>NOUN</td>\n",
              "      <td>dobj</td>\n",
              "      <td></td>\n",
              "      <td>O</td>\n",
              "    </tr>\n",
              "  </tbody>\n",
              "</table>\n",
              "</div>\n",
              "    <div class=\"colab-df-buttons\">\n",
              "\n",
              "  <div class=\"colab-df-container\">\n",
              "    <button class=\"colab-df-convert\" onclick=\"convertToInteractive('df-ddb8c42a-da53-4ff2-a083-25c206441c64')\"\n",
              "            title=\"Convert this dataframe to an interactive table.\"\n",
              "            style=\"display:none;\">\n",
              "\n",
              "  <svg xmlns=\"http://www.w3.org/2000/svg\" height=\"24px\" viewBox=\"0 -960 960 960\">\n",
              "    <path d=\"M120-120v-720h720v720H120Zm60-500h600v-160H180v160Zm220 220h160v-160H400v160Zm0 220h160v-160H400v160ZM180-400h160v-160H180v160Zm440 0h160v-160H620v160ZM180-180h160v-160H180v160Zm440 0h160v-160H620v160Z\"/>\n",
              "  </svg>\n",
              "    </button>\n",
              "\n",
              "  <style>\n",
              "    .colab-df-container {\n",
              "      display:flex;\n",
              "      gap: 12px;\n",
              "    }\n",
              "\n",
              "    .colab-df-convert {\n",
              "      background-color: #E8F0FE;\n",
              "      border: none;\n",
              "      border-radius: 50%;\n",
              "      cursor: pointer;\n",
              "      display: none;\n",
              "      fill: #1967D2;\n",
              "      height: 32px;\n",
              "      padding: 0 0 0 0;\n",
              "      width: 32px;\n",
              "    }\n",
              "\n",
              "    .colab-df-convert:hover {\n",
              "      background-color: #E2EBFA;\n",
              "      box-shadow: 0px 1px 2px rgba(60, 64, 67, 0.3), 0px 1px 3px 1px rgba(60, 64, 67, 0.15);\n",
              "      fill: #174EA6;\n",
              "    }\n",
              "\n",
              "    .colab-df-buttons div {\n",
              "      margin-bottom: 4px;\n",
              "    }\n",
              "\n",
              "    [theme=dark] .colab-df-convert {\n",
              "      background-color: #3B4455;\n",
              "      fill: #D2E3FC;\n",
              "    }\n",
              "\n",
              "    [theme=dark] .colab-df-convert:hover {\n",
              "      background-color: #434B5C;\n",
              "      box-shadow: 0px 1px 3px 1px rgba(0, 0, 0, 0.15);\n",
              "      filter: drop-shadow(0px 1px 2px rgba(0, 0, 0, 0.3));\n",
              "      fill: #FFFFFF;\n",
              "    }\n",
              "  </style>\n",
              "\n",
              "    <script>\n",
              "      const buttonEl =\n",
              "        document.querySelector('#df-ddb8c42a-da53-4ff2-a083-25c206441c64 button.colab-df-convert');\n",
              "      buttonEl.style.display =\n",
              "        google.colab.kernel.accessAllowed ? 'block' : 'none';\n",
              "\n",
              "      async function convertToInteractive(key) {\n",
              "        const element = document.querySelector('#df-ddb8c42a-da53-4ff2-a083-25c206441c64');\n",
              "        const dataTable =\n",
              "          await google.colab.kernel.invokeFunction('convertToInteractive',\n",
              "                                                    [key], {});\n",
              "        if (!dataTable) return;\n",
              "\n",
              "        const docLinkHtml = 'Like what you see? Visit the ' +\n",
              "          '<a target=\"_blank\" href=https://colab.research.google.com/notebooks/data_table.ipynb>data table notebook</a>'\n",
              "          + ' to learn more about interactive tables.';\n",
              "        element.innerHTML = '';\n",
              "        dataTable['output_type'] = 'display_data';\n",
              "        await google.colab.output.renderOutput(dataTable, element);\n",
              "        const docLink = document.createElement('div');\n",
              "        docLink.innerHTML = docLinkHtml;\n",
              "        element.appendChild(docLink);\n",
              "      }\n",
              "    </script>\n",
              "  </div>\n",
              "\n",
              "\n",
              "<div id=\"df-c93e9c43-dcbf-44be-b0a1-55a04f750cf2\">\n",
              "  <button class=\"colab-df-quickchart\" onclick=\"quickchart('df-c93e9c43-dcbf-44be-b0a1-55a04f750cf2')\"\n",
              "            title=\"Suggest charts\"\n",
              "            style=\"display:none;\">\n",
              "\n",
              "<svg xmlns=\"http://www.w3.org/2000/svg\" height=\"24px\"viewBox=\"0 0 24 24\"\n",
              "     width=\"24px\">\n",
              "    <g>\n",
              "        <path d=\"M19 3H5c-1.1 0-2 .9-2 2v14c0 1.1.9 2 2 2h14c1.1 0 2-.9 2-2V5c0-1.1-.9-2-2-2zM9 17H7v-7h2v7zm4 0h-2V7h2v10zm4 0h-2v-4h2v4z\"/>\n",
              "    </g>\n",
              "</svg>\n",
              "  </button>\n",
              "\n",
              "<style>\n",
              "  .colab-df-quickchart {\n",
              "      --bg-color: #E8F0FE;\n",
              "      --fill-color: #1967D2;\n",
              "      --hover-bg-color: #E2EBFA;\n",
              "      --hover-fill-color: #174EA6;\n",
              "      --disabled-fill-color: #AAA;\n",
              "      --disabled-bg-color: #DDD;\n",
              "  }\n",
              "\n",
              "  [theme=dark] .colab-df-quickchart {\n",
              "      --bg-color: #3B4455;\n",
              "      --fill-color: #D2E3FC;\n",
              "      --hover-bg-color: #434B5C;\n",
              "      --hover-fill-color: #FFFFFF;\n",
              "      --disabled-bg-color: #3B4455;\n",
              "      --disabled-fill-color: #666;\n",
              "  }\n",
              "\n",
              "  .colab-df-quickchart {\n",
              "    background-color: var(--bg-color);\n",
              "    border: none;\n",
              "    border-radius: 50%;\n",
              "    cursor: pointer;\n",
              "    display: none;\n",
              "    fill: var(--fill-color);\n",
              "    height: 32px;\n",
              "    padding: 0;\n",
              "    width: 32px;\n",
              "  }\n",
              "\n",
              "  .colab-df-quickchart:hover {\n",
              "    background-color: var(--hover-bg-color);\n",
              "    box-shadow: 0 1px 2px rgba(60, 64, 67, 0.3), 0 1px 3px 1px rgba(60, 64, 67, 0.15);\n",
              "    fill: var(--button-hover-fill-color);\n",
              "  }\n",
              "\n",
              "  .colab-df-quickchart-complete:disabled,\n",
              "  .colab-df-quickchart-complete:disabled:hover {\n",
              "    background-color: var(--disabled-bg-color);\n",
              "    fill: var(--disabled-fill-color);\n",
              "    box-shadow: none;\n",
              "  }\n",
              "\n",
              "  .colab-df-spinner {\n",
              "    border: 2px solid var(--fill-color);\n",
              "    border-color: transparent;\n",
              "    border-bottom-color: var(--fill-color);\n",
              "    animation:\n",
              "      spin 1s steps(1) infinite;\n",
              "  }\n",
              "\n",
              "  @keyframes spin {\n",
              "    0% {\n",
              "      border-color: transparent;\n",
              "      border-bottom-color: var(--fill-color);\n",
              "      border-left-color: var(--fill-color);\n",
              "    }\n",
              "    20% {\n",
              "      border-color: transparent;\n",
              "      border-left-color: var(--fill-color);\n",
              "      border-top-color: var(--fill-color);\n",
              "    }\n",
              "    30% {\n",
              "      border-color: transparent;\n",
              "      border-left-color: var(--fill-color);\n",
              "      border-top-color: var(--fill-color);\n",
              "      border-right-color: var(--fill-color);\n",
              "    }\n",
              "    40% {\n",
              "      border-color: transparent;\n",
              "      border-right-color: var(--fill-color);\n",
              "      border-top-color: var(--fill-color);\n",
              "    }\n",
              "    60% {\n",
              "      border-color: transparent;\n",
              "      border-right-color: var(--fill-color);\n",
              "    }\n",
              "    80% {\n",
              "      border-color: transparent;\n",
              "      border-right-color: var(--fill-color);\n",
              "      border-bottom-color: var(--fill-color);\n",
              "    }\n",
              "    90% {\n",
              "      border-color: transparent;\n",
              "      border-bottom-color: var(--fill-color);\n",
              "    }\n",
              "  }\n",
              "</style>\n",
              "\n",
              "  <script>\n",
              "    async function quickchart(key) {\n",
              "      const quickchartButtonEl =\n",
              "        document.querySelector('#' + key + ' button');\n",
              "      quickchartButtonEl.disabled = true;  // To prevent multiple clicks.\n",
              "      quickchartButtonEl.classList.add('colab-df-spinner');\n",
              "      try {\n",
              "        const charts = await google.colab.kernel.invokeFunction(\n",
              "            'suggestCharts', [key], {});\n",
              "      } catch (error) {\n",
              "        console.error('Error during call to suggestCharts:', error);\n",
              "      }\n",
              "      quickchartButtonEl.classList.remove('colab-df-spinner');\n",
              "      quickchartButtonEl.classList.add('colab-df-quickchart-complete');\n",
              "    }\n",
              "    (() => {\n",
              "      let quickchartButtonEl =\n",
              "        document.querySelector('#df-c93e9c43-dcbf-44be-b0a1-55a04f750cf2 button');\n",
              "      quickchartButtonEl.style.display =\n",
              "        google.colab.kernel.accessAllowed ? 'block' : 'none';\n",
              "    })();\n",
              "  </script>\n",
              "</div>\n",
              "\n",
              "    </div>\n",
              "  </div>\n"
            ],
            "application/vnd.google.colaboratory.intrinsic+json": {
              "type": "dataframe",
              "summary": "{\n  \"name\": \"display_nlp(doc)\",\n  \"rows\": 9,\n  \"fields\": [\n    {\n      \"column\": \"text\",\n      \"properties\": {\n        \"dtype\": \"string\",\n        \"num_unique_values\": 9,\n        \"samples\": [\n          \"adventure\",\n          \"best\",\n          \"likes\"\n        ],\n        \"semantic_type\": \"\",\n        \"description\": \"\"\n      }\n    },\n    {\n      \"column\": \"lemma_\",\n      \"properties\": {\n        \"dtype\": \"string\",\n        \"num_unique_values\": 9,\n        \"samples\": [\n          \"adventure\",\n          \"good\",\n          \"like\"\n        ],\n        \"semantic_type\": \"\",\n        \"description\": \"\"\n      }\n    },\n    {\n      \"column\": \"is_stop\",\n      \"properties\": {\n        \"dtype\": \"boolean\",\n        \"num_unique_values\": 2,\n        \"samples\": [\n          false,\n          true\n        ],\n        \"semantic_type\": \"\",\n        \"description\": \"\"\n      }\n    },\n    {\n      \"column\": \"is_alpha\",\n      \"properties\": {\n        \"dtype\": \"boolean\",\n        \"num_unique_values\": 1,\n        \"samples\": [\n          true\n        ],\n        \"semantic_type\": \"\",\n        \"description\": \"\"\n      }\n    },\n    {\n      \"column\": \"pos_\",\n      \"properties\": {\n        \"dtype\": \"string\",\n        \"num_unique_values\": 5,\n        \"samples\": [\n          \"ADJ\"\n        ],\n        \"semantic_type\": \"\",\n        \"description\": \"\"\n      }\n    },\n    {\n      \"column\": \"dep_\",\n      \"properties\": {\n        \"dtype\": \"string\",\n        \"num_unique_values\": 7,\n        \"samples\": [\n          \"poss\"\n        ],\n        \"semantic_type\": \"\",\n        \"description\": \"\"\n      }\n    },\n    {\n      \"column\": \"ent_type_\",\n      \"properties\": {\n        \"dtype\": \"category\",\n        \"num_unique_values\": 2,\n        \"samples\": [\n          \"PERSON\"\n        ],\n        \"semantic_type\": \"\",\n        \"description\": \"\"\n      }\n    },\n    {\n      \"column\": \"ent_iob_\",\n      \"properties\": {\n        \"dtype\": \"category\",\n        \"num_unique_values\": 3,\n        \"samples\": [\n          \"O\"\n        ],\n        \"semantic_type\": \"\",\n        \"description\": \"\"\n      }\n    }\n  ]\n}"
            }
          },
          "metadata": {},
          "execution_count": 63
        }
      ],
      "source": [
        "display_nlp(doc)"
      ]
    },
    {
      "cell_type": "markdown",
      "metadata": {
        "id": "32CZixZJT1KL"
      },
      "source": [
        "## Blueprint: Customizing Tokenization\n"
      ]
    },
    {
      "cell_type": "code",
      "execution_count": 64,
      "metadata": {
        "ExecuteTime": {
          "end_time": "2022-02-11T07:09:45.774014Z",
          "start_time": "2022-02-11T07:09:44.909998Z"
        },
        "id": "GJkut88-T1KL",
        "outputId": "9067b7e5-84bc-4855-c533-ca8410847627",
        "colab": {
          "base_uri": "https://localhost:8080/"
        }
      },
      "outputs": [
        {
          "output_type": "stream",
          "name": "stdout",
          "text": [
            "@Pete|:|choose|low|-|carb|#|food|#|eat|-|smart|.|_|url|_|;-)|😋|👍|"
          ]
        }
      ],
      "source": [
        "text = \"@Pete: choose low-carb #food #eat-smart. _url_ ;-) 😋👍\"\n",
        "nlp = spacy.load('en_core_web_sm') ###\n",
        "doc = nlp(text)\n",
        "\n",
        "for token in doc:\n",
        "    print(token, end=\"|\")"
      ]
    },
    {
      "cell_type": "code",
      "execution_count": 65,
      "metadata": {
        "ExecuteTime": {
          "end_time": "2022-02-11T07:09:47.080936Z",
          "start_time": "2022-02-11T07:09:45.969691Z"
        },
        "id": "lxFMgnALT1KL",
        "outputId": "60749736-0d80-43b7-8a1a-e6f960e16b2d",
        "colab": {
          "base_uri": "https://localhost:8080/"
        }
      },
      "outputs": [
        {
          "output_type": "stream",
          "name": "stdout",
          "text": [
            "@Pete|:|choose|low-carb|#food|#eat-smart|.|_url_|;-)|😋|👍|"
          ]
        }
      ],
      "source": [
        "import re ###\n",
        "import spacy ###\n",
        "from spacy.tokenizer import Tokenizer\n",
        "from spacy.util import compile_prefix_regex, \\\n",
        "                       compile_infix_regex, compile_suffix_regex\n",
        "\n",
        "def custom_tokenizer(nlp):\n",
        "\n",
        "    # use default patterns except the ones matched by re.search\n",
        "    prefixes = [pattern for pattern in nlp.Defaults.prefixes\n",
        "                if pattern not in ['-', '_', '#']]\n",
        "    suffixes = [pattern for pattern in nlp.Defaults.suffixes\n",
        "                if pattern not in ['_']]\n",
        "    infixes  = [pattern for pattern in nlp.Defaults.infixes\n",
        "                if not re.search(pattern, 'xx-xx')]\n",
        "\n",
        "    return Tokenizer(vocab          = nlp.vocab,\n",
        "                     rules          = nlp.Defaults.tokenizer_exceptions,\n",
        "                     prefix_search  = compile_prefix_regex(prefixes).search,\n",
        "                     suffix_search  = compile_suffix_regex(suffixes).search,\n",
        "                     infix_finditer = compile_infix_regex(infixes).finditer,\n",
        "                     token_match    = nlp.Defaults.token_match)\n",
        "\n",
        "nlp = spacy.load('en_core_web_sm')\n",
        "nlp.tokenizer = custom_tokenizer(nlp)\n",
        "\n",
        "doc = nlp(text)\n",
        "for token in doc:\n",
        "    print(token, end=\"|\")"
      ]
    },
    {
      "cell_type": "markdown",
      "metadata": {
        "id": "AnEAjpiHT1KL"
      },
      "source": [
        "## Blueprint: Working with Stop Words\n"
      ]
    },
    {
      "cell_type": "code",
      "execution_count": 66,
      "metadata": {
        "ExecuteTime": {
          "end_time": "2022-02-11T07:09:48.091818Z",
          "start_time": "2022-02-11T07:09:47.246118Z"
        },
        "id": "bRq6eX-CT1KL",
        "outputId": "72cd4e4e-33ba-4c59-b1cd-402af251f250",
        "colab": {
          "base_uri": "https://localhost:8080/"
        }
      },
      "outputs": [
        {
          "output_type": "stream",
          "name": "stdout",
          "text": [
            "[Dear, Ryan, need, sit, talk, Regards, Pete]\n"
          ]
        }
      ],
      "source": [
        "nlp = spacy.load('en_core_web_sm') ###\n",
        "text = \"Dear Ryan, we need to sit down and talk. Regards, Pete\"\n",
        "doc = nlp(text)\n",
        "\n",
        "non_stop = [t for t in doc if not t.is_stop and not t.is_punct]\n",
        "print(non_stop)"
      ]
    },
    {
      "cell_type": "code",
      "execution_count": 67,
      "metadata": {
        "ExecuteTime": {
          "end_time": "2022-02-11T07:09:49.106385Z",
          "start_time": "2022-02-11T07:09:48.251445Z"
        },
        "id": "HSJRdPnXT1KM"
      },
      "outputs": [],
      "source": [
        "nlp = spacy.load('en_core_web_sm')\n",
        "nlp.vocab['down'].is_stop = False\n",
        "nlp.vocab['Dear'].is_stop = True\n",
        "nlp.vocab['Regards'].is_stop = True"
      ]
    },
    {
      "cell_type": "markdown",
      "metadata": {
        "id": "ryNNVeX5T1KM"
      },
      "source": [
        "**Not in book: Modifying stop words with a language subclass**\n",
        "\n",
        "Modifying the stop word by changing the vocabulary will probably become deprecated with spaCy 3.0. Instead it is recommended to create a subclass of the respective language like this:"
      ]
    },
    {
      "cell_type": "code",
      "execution_count": 68,
      "metadata": {
        "ExecuteTime": {
          "end_time": "2022-02-11T07:09:49.546013Z",
          "start_time": "2022-02-11T07:09:49.275921Z"
        },
        "id": "HYnv5SJqT1KM",
        "outputId": "3c18f7c4-4ba7-46d5-f136-abb75b9f1bb0",
        "colab": {
          "base_uri": "https://localhost:8080/"
        }
      },
      "outputs": [
        {
          "output_type": "stream",
          "name": "stdout",
          "text": [
            "Ryan|need|sit|down|talk|Pete|"
          ]
        }
      ],
      "source": [
        "# not in book: subclass approach to modify stop word lists\n",
        "# recommended from spaCy version 3.0 onwards\n",
        "from spacy.lang.en import English\n",
        "\n",
        "excluded_stop_words = {'down'}\n",
        "included_stop_words = {'dear', 'regards'}\n",
        "\n",
        "class CustomEnglishDefaults(English.Defaults):\n",
        "    stop_words = English.Defaults.stop_words.copy()\n",
        "    stop_words -= excluded_stop_words\n",
        "    stop_words |= included_stop_words\n",
        "\n",
        "class CustomEnglish(English):\n",
        "    Defaults = CustomEnglishDefaults\n",
        "\n",
        "nlp = CustomEnglish()\n",
        "\n",
        "text = \"Dear Ryan, we need to sit down and talk. Regards, Pete\"\n",
        "doc = nlp.make_doc(text) # only tokenize\n",
        "\n",
        "tokens_wo_stop = [token for token in doc ]\n",
        "for token in doc:\n",
        "    if not token.is_stop and not token.is_punct:\n",
        "        print(token, end='|')"
      ]
    },
    {
      "cell_type": "code",
      "execution_count": 69,
      "metadata": {
        "ExecuteTime": {
          "end_time": "2022-02-11T07:09:50.979312Z",
          "start_time": "2022-02-11T07:09:49.739327Z"
        },
        "id": "8VGp-mNfT1KM"
      },
      "outputs": [],
      "source": [
        "# reset nlp to original\n",
        "nlp = spacy.load('en_core_web_sm')"
      ]
    },
    {
      "cell_type": "markdown",
      "metadata": {
        "id": "507kRA9jT1KM"
      },
      "source": [
        "## Blueprint: Extracting Lemmas based on Part-of-Speech\n"
      ]
    },
    {
      "cell_type": "code",
      "execution_count": 70,
      "metadata": {
        "ExecuteTime": {
          "end_time": "2022-02-11T07:09:51.355029Z",
          "start_time": "2022-02-11T07:09:51.243518Z"
        },
        "id": "6DB95IatT1KM",
        "outputId": "99418463-2123-4f4c-a2fa-34006e4d0b06",
        "colab": {
          "base_uri": "https://localhost:8080/"
        }
      },
      "outputs": [
        {
          "output_type": "stream",
          "name": "stdout",
          "text": [
            "my|good|friend|Ryan|Peters|like|fancy|adventure|game|.\n"
          ]
        }
      ],
      "source": [
        "text = \"My best friend Ryan Peters likes fancy adventure games.\"\n",
        "doc = nlp(text)\n",
        "\n",
        "print(*[t.lemma_ for t in doc], sep='|')"
      ]
    },
    {
      "cell_type": "code",
      "execution_count": 71,
      "metadata": {
        "ExecuteTime": {
          "end_time": "2022-02-11T07:09:51.799490Z",
          "start_time": "2022-02-11T07:09:51.687258Z"
        },
        "id": "Yv3SJ6snT1KM",
        "outputId": "2f693a04-cc6a-4fb8-948d-c5ad8a1fc4d5",
        "colab": {
          "base_uri": "https://localhost:8080/"
        }
      },
      "outputs": [
        {
          "output_type": "stream",
          "name": "stdout",
          "text": [
            "[friend, Ryan, Peters, adventure, games]\n"
          ]
        }
      ],
      "source": [
        "text = \"My best friend Ryan Peters likes fancy adventure games.\"\n",
        "doc = nlp(text)\n",
        "\n",
        "nouns = [t for t in doc if t.pos_ in ['NOUN', 'PROPN']]\n",
        "print(nouns)"
      ]
    },
    {
      "cell_type": "code",
      "execution_count": 72,
      "metadata": {
        "ExecuteTime": {
          "end_time": "2022-02-11T07:09:52.419625Z",
          "start_time": "2022-02-11T07:09:52.340267Z"
        },
        "id": "RJooOcsrT1KM",
        "outputId": "2467aaa8-272c-441b-c393-08d16ecc78c5",
        "colab": {
          "base_uri": "https://localhost:8080/"
        }
      },
      "outputs": [
        {
          "output_type": "stream",
          "name": "stdout",
          "text": [
            "best|friend|fancy|adventure|games\n"
          ]
        }
      ],
      "source": [
        "import textacy\n",
        "\n",
        "tokens = textacy.extract.words(doc,\n",
        "            filter_stops = True,           # default True, no stopwords\n",
        "            filter_punct = True,           # default True, no punctuation\n",
        "            filter_nums = True,            # default False, no numbers\n",
        "            include_pos = ['ADJ', 'NOUN'], # default None = include all\n",
        "            exclude_pos = None,            # default None = exclude none\n",
        "            min_freq = 1)                  # minimum frequency of words\n",
        "\n",
        "print(*[t for t in tokens], sep='|')"
      ]
    },
    {
      "cell_type": "code",
      "execution_count": 73,
      "metadata": {
        "ExecuteTime": {
          "end_time": "2022-02-11T07:09:54.058241Z",
          "start_time": "2022-02-11T07:09:53.999631Z"
        },
        "id": "MD0IID17T1KM",
        "outputId": "3296b19a-1779-4291-8213-acb6dfad1a00",
        "colab": {
          "base_uri": "https://localhost:8080/"
        }
      },
      "outputs": [
        {
          "output_type": "stream",
          "name": "stdout",
          "text": [
            "good|friend|fancy|adventure|game\n"
          ]
        }
      ],
      "source": [
        "def extract_lemmas(doc, **kwargs):\n",
        "    return [t.lemma_ for t in textacy.extract.words(doc, **kwargs)]\n",
        "\n",
        "lemmas = extract_lemmas(doc, include_pos=['ADJ', 'NOUN'])\n",
        "print(*lemmas, sep='|')"
      ]
    },
    {
      "cell_type": "markdown",
      "metadata": {
        "id": "i25mJGS7T1KM"
      },
      "source": [
        "## Blueprint: Extracting Noun Phrases\n"
      ]
    },
    {
      "cell_type": "code",
      "execution_count": 74,
      "metadata": {
        "ExecuteTime": {
          "end_time": "2022-02-11T07:11:12.949599Z",
          "start_time": "2022-02-11T07:11:12.889468Z"
        },
        "id": "ik1-7F2xT1KN",
        "outputId": "263c5ddd-38e0-4b81-b67e-d507d7b4020c",
        "colab": {
          "base_uri": "https://localhost:8080/"
        }
      },
      "outputs": [
        {
          "output_type": "stream",
          "name": "stdout",
          "text": [
            "good friend|fancy adventure|fancy adventure game\n"
          ]
        }
      ],
      "source": [
        "text = \"My best friend Ryan Peters likes fancy adventure games.\"\n",
        "doc = nlp(text)\n",
        "\n",
        "patterns = [\"POS:ADJ POS:NOUN:+\"]\n",
        "\n",
        "if textacy.__version__ < '0.11':\n",
        "    # as in book\n",
        "    spans = textacy.extract.matches(doc, patterns=patterns)\n",
        "else:\n",
        "    # new textacy version\n",
        "    spans = textacy.extract.matches.token_matches(doc, patterns=patterns)\n",
        "\n",
        "print(*[s.lemma_ for s in spans], sep='|')"
      ]
    },
    {
      "cell_type": "code",
      "execution_count": 75,
      "metadata": {
        "ExecuteTime": {
          "end_time": "2022-02-11T07:11:15.167646Z",
          "start_time": "2022-02-11T07:11:15.109309Z"
        },
        "id": "srCaMqPoT1KN",
        "outputId": "c6a8751d-7ba4-4df3-d227-5c47203b6ee1",
        "colab": {
          "base_uri": "https://localhost:8080/"
        }
      },
      "outputs": [
        {
          "output_type": "stream",
          "name": "stdout",
          "text": [
            "My best friend|Ryan Peters|fancy adventure games\n"
          ]
        }
      ],
      "source": [
        "print(*doc.noun_chunks, sep='|')"
      ]
    },
    {
      "cell_type": "code",
      "execution_count": 76,
      "metadata": {
        "ExecuteTime": {
          "end_time": "2022-02-11T07:11:35.569337Z",
          "start_time": "2022-02-11T07:11:35.418520Z"
        },
        "id": "c_zOvl5gT1KN",
        "outputId": "824062ae-61f5-4b7b-c2cb-7af5ba03a1aa",
        "colab": {
          "base_uri": "https://localhost:8080/"
        }
      },
      "outputs": [
        {
          "output_type": "stream",
          "name": "stdout",
          "text": [
            "good_friend|fancy_adventure|fancy_adventure_game|adventure_game\n"
          ]
        }
      ],
      "source": [
        "def extract_noun_phrases(doc, preceding_pos=['NOUN'], sep='_'):\n",
        "    patterns = []\n",
        "    for pos in preceding_pos:\n",
        "        patterns.append(f\"POS:{pos} POS:NOUN:+\")\n",
        "\n",
        "    if textacy.__version__ < '0.11':\n",
        "        # as in book\n",
        "        spans = textacy.extract.matches(doc, patterns=patterns)\n",
        "    else:\n",
        "        # new textacy version\n",
        "        spans = textacy.extract.matches.token_matches(doc, patterns=patterns)\n",
        "\n",
        "    return [sep.join([t.lemma_ for t in s]) for s in spans]\n",
        "\n",
        "print(*extract_noun_phrases(doc, ['ADJ', 'NOUN']), sep='|')"
      ]
    },
    {
      "cell_type": "markdown",
      "metadata": {
        "id": "_XzkYJI5T1KN"
      },
      "source": [
        "## Blueprint: Extracting Named Entities\n"
      ]
    },
    {
      "cell_type": "code",
      "execution_count": 77,
      "metadata": {
        "ExecuteTime": {
          "end_time": "2022-02-11T07:11:44.855759Z",
          "start_time": "2022-02-11T07:11:44.789334Z"
        },
        "id": "IaEIEoBeT1KN",
        "outputId": "97808ab2-2cf2-428d-c5f7-51a6919ab8a7",
        "colab": {
          "base_uri": "https://localhost:8080/"
        }
      },
      "outputs": [
        {
          "output_type": "stream",
          "name": "stdout",
          "text": [
            "(James O'Neill, PERSON) (World Cargo Inc, ORG) (San Francisco, GPE) "
          ]
        }
      ],
      "source": [
        "text = \"James O'Neill, chairman of World Cargo Inc, lives in San Francisco.\"\n",
        "doc = nlp(text)\n",
        "\n",
        "for ent in doc.ents:\n",
        "    print(f\"({ent.text}, {ent.label_})\", end=\" \")"
      ]
    },
    {
      "cell_type": "code",
      "execution_count": 78,
      "metadata": {
        "ExecuteTime": {
          "end_time": "2022-02-11T07:11:45.705815Z",
          "start_time": "2022-02-11T07:11:45.635390Z"
        },
        "id": "_Lo6fhtyT1KN",
        "outputId": "dfd9fb3d-7361-4ab6-cbc7-f2ff24edf5f4",
        "colab": {
          "base_uri": "https://localhost:8080/",
          "height": 87
        }
      },
      "outputs": [
        {
          "output_type": "display_data",
          "data": {
            "text/plain": [
              "<IPython.core.display.HTML object>"
            ],
            "text/html": [
              "<span class=\"tex2jax_ignore\"><div class=\"entities\" style=\"line-height: 2.5; direction: ltr\">\n",
              "<mark class=\"entity\" style=\"background: #aa9cfc; padding: 0.45em 0.6em; margin: 0 0.25em; line-height: 1; border-radius: 0.35em;\">\n",
              "    James O'Neill\n",
              "    <span style=\"font-size: 0.8em; font-weight: bold; line-height: 1; border-radius: 0.35em; vertical-align: middle; margin-left: 0.5rem\">PERSON</span>\n",
              "</mark>\n",
              ", chairman of \n",
              "<mark class=\"entity\" style=\"background: #7aecec; padding: 0.45em 0.6em; margin: 0 0.25em; line-height: 1; border-radius: 0.35em;\">\n",
              "    World Cargo Inc\n",
              "    <span style=\"font-size: 0.8em; font-weight: bold; line-height: 1; border-radius: 0.35em; vertical-align: middle; margin-left: 0.5rem\">ORG</span>\n",
              "</mark>\n",
              ", lives in \n",
              "<mark class=\"entity\" style=\"background: #feca74; padding: 0.45em 0.6em; margin: 0 0.25em; line-height: 1; border-radius: 0.35em;\">\n",
              "    San Francisco\n",
              "    <span style=\"font-size: 0.8em; font-weight: bold; line-height: 1; border-radius: 0.35em; vertical-align: middle; margin-left: 0.5rem\">GPE</span>\n",
              "</mark>\n",
              ".</div></span>"
            ]
          },
          "metadata": {}
        }
      ],
      "source": [
        "from spacy import displacy\n",
        "\n",
        "displacy.render(doc, style='ent', jupyter=True)"
      ]
    },
    {
      "cell_type": "code",
      "execution_count": 79,
      "metadata": {
        "ExecuteTime": {
          "end_time": "2022-02-11T07:11:46.924574Z",
          "start_time": "2022-02-11T07:11:46.870284Z"
        },
        "id": "3Z1HIq6RT1KN"
      },
      "outputs": [],
      "source": [
        "def extract_entities(doc, include_types=None, sep='_'):\n",
        "\n",
        "    ents = textacy.extract.entities(doc,\n",
        "             include_types=include_types,\n",
        "             exclude_types=None,\n",
        "             drop_determiners=True,\n",
        "             min_freq=1)\n",
        "\n",
        "    return [sep.join([t.lemma_ for t in e])+'/'+e.label_ for e in ents]"
      ]
    },
    {
      "cell_type": "code",
      "execution_count": 80,
      "metadata": {
        "ExecuteTime": {
          "end_time": "2022-02-11T07:11:47.640710Z",
          "start_time": "2022-02-11T07:11:47.589554Z"
        },
        "id": "-nocZcnrT1KN",
        "outputId": "1a9c640b-0027-4ee6-ab63-7fed97f9afc4",
        "colab": {
          "base_uri": "https://localhost:8080/"
        }
      },
      "outputs": [
        {
          "output_type": "stream",
          "name": "stdout",
          "text": [
            "[\"James_O'Neill/PERSON\", 'San_Francisco/GPE']\n"
          ]
        }
      ],
      "source": [
        "print(extract_entities(doc, ['PERSON', 'GPE']))"
      ]
    },
    {
      "cell_type": "markdown",
      "metadata": {
        "id": "uy3kcjkJT1KN"
      },
      "source": [
        "# Feature Extraction on a Large Dataset\n"
      ]
    },
    {
      "cell_type": "markdown",
      "metadata": {
        "id": "iQcjS8zbT1KN"
      },
      "source": [
        "## Blueprint: One Function to Get It All\n"
      ]
    },
    {
      "cell_type": "code",
      "execution_count": 81,
      "metadata": {
        "ExecuteTime": {
          "end_time": "2022-02-11T07:11:50.064456Z",
          "start_time": "2022-02-11T07:11:50.005224Z"
        },
        "id": "2HQfdZf4T1KN"
      },
      "outputs": [],
      "source": [
        "def extract_nlp(doc):\n",
        "    return {\n",
        "    'lemmas'          : extract_lemmas(doc,\n",
        "                                     exclude_pos = ['PART', 'PUNCT',\n",
        "                                        'DET', 'PRON', 'SYM', 'SPACE'],\n",
        "                                     filter_stops = False),\n",
        "    'adjs_verbs'      : extract_lemmas(doc, include_pos = ['ADJ', 'VERB']),\n",
        "    'nouns'           : extract_lemmas(doc, include_pos = ['NOUN', 'PROPN']),\n",
        "    'noun_phrases'    : extract_noun_phrases(doc, ['NOUN']),\n",
        "    'adj_noun_phrases': extract_noun_phrases(doc, ['ADJ']),\n",
        "    'entities'        : extract_entities(doc, ['PERSON', 'ORG', 'GPE', 'LOC'])\n",
        "    }"
      ]
    },
    {
      "cell_type": "code",
      "execution_count": 82,
      "metadata": {
        "ExecuteTime": {
          "end_time": "2022-02-11T07:11:51.394808Z",
          "start_time": "2022-02-11T07:11:50.635698Z"
        },
        "id": "MK7caS1GT1KN"
      },
      "outputs": [],
      "source": [
        "nlp = spacy.load('en_core_web_sm')"
      ]
    },
    {
      "cell_type": "code",
      "execution_count": 83,
      "metadata": {
        "ExecuteTime": {
          "end_time": "2022-02-11T07:11:51.646691Z",
          "start_time": "2022-02-11T07:11:51.565103Z"
        },
        "id": "b5XVmA6pT1KN",
        "outputId": "4f1127b0-e5c8-4ad2-d210-240ed843e749",
        "colab": {
          "base_uri": "https://localhost:8080/"
        }
      },
      "outputs": [
        {
          "output_type": "stream",
          "name": "stdout",
          "text": [
            "lemmas: ['good', 'friend', 'Ryan', 'Peters', 'like', 'fancy', 'adventure', 'game']\n",
            "adjs_verbs: ['good', 'like', 'fancy']\n",
            "nouns: ['friend', 'Ryan', 'Peters', 'adventure', 'game']\n",
            "noun_phrases: ['adventure_game']\n",
            "adj_noun_phrases: ['good_friend', 'fancy_adventure', 'fancy_adventure_game']\n",
            "entities: ['Ryan_Peters/PERSON']\n"
          ]
        }
      ],
      "source": [
        "text = \"My best friend Ryan Peters likes fancy adventure games.\"\n",
        "doc = nlp(text)\n",
        "for col, values in extract_nlp(doc).items():\n",
        "    print(f\"{col}: {values}\")"
      ]
    },
    {
      "cell_type": "code",
      "execution_count": 84,
      "metadata": {
        "ExecuteTime": {
          "end_time": "2022-02-11T07:11:52.892380Z",
          "start_time": "2022-02-11T07:11:52.814408Z"
        },
        "id": "UXqAcHxVT1KN",
        "outputId": "a8a74ea7-bc10-44e4-9502-eb72c68528b8",
        "colab": {
          "base_uri": "https://localhost:8080/"
        }
      },
      "outputs": [
        {
          "output_type": "stream",
          "name": "stdout",
          "text": [
            "['lemmas', 'adjs_verbs', 'nouns', 'noun_phrases', 'adj_noun_phrases', 'entities']\n"
          ]
        }
      ],
      "source": [
        "nlp_columns = list(extract_nlp(nlp.make_doc('')).keys())\n",
        "print(nlp_columns)"
      ]
    },
    {
      "cell_type": "markdown",
      "metadata": {
        "id": "cZYxFvIPT1KN"
      },
      "source": [
        "## Blueprint: Using spaCy on a Large Data Set\n"
      ]
    },
    {
      "cell_type": "code",
      "execution_count": 85,
      "metadata": {
        "ExecuteTime": {
          "end_time": "2022-02-11T07:11:57.045277Z",
          "start_time": "2022-02-11T07:11:54.559387Z"
        },
        "id": "GPpu0LctT1KN"
      },
      "outputs": [],
      "source": [
        "import sqlite3 ###\n",
        "\n",
        "db_name = \"reddit-selfposts.db\"\n",
        "con = sqlite3.connect(db_name)\n",
        "df = pd.read_sql(\"select * from posts_cleaned\", con)\n",
        "con.close()\n",
        "\n",
        "df['text'] = df['title'] + ': ' + df['text']"
      ]
    },
    {
      "cell_type": "code",
      "execution_count": 86,
      "metadata": {
        "ExecuteTime": {
          "end_time": "2022-02-11T07:11:58.157426Z",
          "start_time": "2022-02-11T07:11:58.100555Z"
        },
        "id": "m4ym-5kXT1KN"
      },
      "outputs": [],
      "source": [
        "for col in nlp_columns:\n",
        "    df[col] = None"
      ]
    },
    {
      "cell_type": "markdown",
      "metadata": {
        "id": "G7vhmjPJT1KN"
      },
      "source": [
        "**On Colab**: Choose \"Runtime\"&rarr;\"Change Runtime Type\"&rarr;\"GPU\" to benefit from the GPUs."
      ]
    },
    {
      "cell_type": "code",
      "execution_count": 87,
      "metadata": {
        "ExecuteTime": {
          "end_time": "2022-02-11T07:11:59.244480Z",
          "start_time": "2022-02-11T07:11:59.190020Z"
        },
        "id": "hTN0BxYrT1KN",
        "outputId": "18cf2c85-f242-48f7-fc2d-5e29090a49a9",
        "colab": {
          "base_uri": "https://localhost:8080/"
        }
      },
      "outputs": [
        {
          "output_type": "stream",
          "name": "stdout",
          "text": [
            "No GPU found, working on CPU.\n"
          ]
        }
      ],
      "source": [
        "if spacy.prefer_gpu():\n",
        "    print(\"Working on GPU.\")\n",
        "else:\n",
        "    print(\"No GPU found, working on CPU.\")"
      ]
    },
    {
      "cell_type": "code",
      "execution_count": 88,
      "metadata": {
        "ExecuteTime": {
          "end_time": "2022-02-11T07:12:01.665331Z",
          "start_time": "2022-02-11T07:11:59.944873Z"
        },
        "id": "y8fLOFe_T1KN"
      },
      "outputs": [],
      "source": [
        "nlp = spacy.load('en_core_web_sm', disable=[])\n",
        "nlp.tokenizer = custom_tokenizer(nlp) # optional"
      ]
    },
    {
      "cell_type": "code",
      "execution_count": 89,
      "metadata": {
        "ExecuteTime": {
          "end_time": "2022-02-11T07:12:09.662804Z",
          "start_time": "2022-02-11T07:12:09.596112Z"
        },
        "id": "omm2DcG-T1KN"
      },
      "outputs": [],
      "source": [
        "# full data set takes about 6-8 minutes\n",
        "# for faster processing use a sample like this\n",
        "df = df.sample(500)"
      ]
    },
    {
      "cell_type": "code",
      "execution_count": 90,
      "metadata": {
        "ExecuteTime": {
          "end_time": "2022-02-11T07:12:24.571683Z",
          "start_time": "2022-02-11T07:12:13.772508Z"
        },
        "id": "JXU7ukoDT1KN",
        "outputId": "32e81279-e052-4872-b0ed-92b738869db9",
        "colab": {
          "base_uri": "https://localhost:8080/",
          "height": 49,
          "referenced_widgets": [
            "e0156412e4354d548159031f317e15b7",
            "ec8227cf08b8429c9d9b70d89a92b9e1",
            "bf7fd673fa1546b9a719eb6c4c763dea",
            "d376b83ee534433490c15496342e4c37",
            "8a0d69aef833438a883fedb1c08e6371",
            "d7abe4ca358446fb96785742bdc53b78",
            "3860fe691c6447af8845057f2e8ac9f0",
            "e31025d9a52e4c36aa6e9adc37799477",
            "4272ad98753f4665b2828d6da4665083",
            "9921a589d5ec4225bcf8e97e1a4d519e",
            "762789cef827401ebb33adcc19678f7f"
          ]
        }
      },
      "outputs": [
        {
          "output_type": "display_data",
          "data": {
            "text/plain": [
              "  0%|          | 0/10 [00:00<?, ?it/s]"
            ],
            "application/vnd.jupyter.widget-view+json": {
              "version_major": 2,
              "version_minor": 0,
              "model_id": "e0156412e4354d548159031f317e15b7"
            }
          },
          "metadata": {}
        }
      ],
      "source": [
        "batch_size = 50\n",
        "batches = math.ceil(len(df) / batch_size) ###\n",
        "\n",
        "for i in tqdm(range(0, len(df), batch_size), total=batches):\n",
        "    docs = nlp.pipe(df['text'][i:i+batch_size])\n",
        "\n",
        "    for j, doc in enumerate(docs):\n",
        "        for col, values in extract_nlp(doc).items():\n",
        "            df[col].iloc[i+j] = values"
      ]
    },
    {
      "cell_type": "code",
      "execution_count": 91,
      "metadata": {
        "ExecuteTime": {
          "end_time": "2021-02-25T16:50:18.141805Z",
          "start_time": "2021-02-25T16:49:39.155Z"
        },
        "id": "Zw8iok7CT1KN",
        "outputId": "b7cab539-0b34-4ad6-a6be-9339cb22d753",
        "colab": {
          "base_uri": "https://localhost:8080/",
          "height": 1000
        }
      },
      "outputs": [
        {
          "output_type": "execute_result",
          "data": {
            "text/plain": [
              "                                                                                                                                                                                                          text  \\\n",
              "13911  Used 2015 Jetta Sport vs New 2017 Golf Wolfsburg: Hey all, trying to decide between these two cars. Thanks ahead of time for your help. Used 2015 VW Jetta Sport -Automatic -26k miles -Previously a...   \n",
              "13591  5th wheel hitch height: I have a 2017 f350 6.7. It sits high but I'm thinking of lifting the truck 4 inches in the front and leveling it. Then adding 35 inch tires. With this lift will it throw a ...   \n",
              "9054   Road trip in my '12 is complete! 2 weeks, 2500 miles, no charging, regular fuel, and we both survived!: I just got home yesterday afternoon. The volt was an awesome car for road trip. I was pretty...   \n",
              "11510  Wife stained seat on 2018 CRV.....help: Have a 2 month old 2018 CRV that my wife stained passenger seat with leaky lunchbox. It was a vinegar-based salad dressing. Here is stain: _URL_ I tried cle...   \n",
              "5643   Google Assistant on Eonon CA8163R: Hi, I have recently purchased Eono CA8163R for my 2011 Mazda 3 , and i can not seem to get google assistant to work, it simply does not pick up any sound not mat...   \n",
              "\n",
              "                                                                                                                                                                                                        lemmas  \\\n",
              "13911  [use, 2015, Jetta, Sport, vs, New, 2017, Golf, Wolfsburg, hey, all, try, decide, between, two, car, thank, ahead, of, time, for, help, use, 2015, VW, Jetta, Sport, -Automatic, -26k, mile, -previou...   \n",
              "13591  [5th, wheel, hitch, height, have, 2017, f350, 6.7, sit, high, but, be, think, of, lift, truck, 4, inch, in, front, and, level, then, add, 35, inch, tire, with, lift, will, throw, 5th, wheel, optio...   \n",
              "9054   [road, trip, in, 12, be, complete, 2, week, 2500, mile, charge, regular, fuel, and, survive, just, get, home, yesterday, afternoon, volt, be, awesome, car, for, road, trip, be, pretty, nervous, ab...   \n",
              "11510  [wife, stain, seat, on, 2018, CRV, help, have, 2, month, old, 2018, CRV, wife, stain, passenger, seat, with, leaky, lunchbox, be, vinegar-based, salad, dressing, here, be, stain, _URL_, try, clean...   \n",
              "5643   [Google, Assistant, on, Eonon, CA8163R, Hi, have, recently, purchase, Eono, CA8163R, for, 2011, Mazda, 3, and, can, seem, get, google, assistant, to, work, simply, do, pick, up, sound, matter, try...   \n",
              "\n",
              "                                                                                                                                                                                                         nouns  \\\n",
              "13911  [Jetta, Sport, New, Golf, Wolfsburg, car, thank, time, help, VW, Jetta, Sport, -Automatic, -26k, mile, car, New, VW, Golf, Wolfsburg, speed, manual, -$19,500, Golf, money, end, budget, salaray, 70...   \n",
              "13591                                                                      [wheel, hitch, height, f350, truck, inch, inch, tire, lift, wheel, option, play, height, trailer, bumper, pull, information, thank]   \n",
              "9054   [road, trip, week, mile, fuel, yesterday, afternoon, volt, car, road, trip, spare, flat, mpg, gas, injury, car, dog, mouthful, porcupine, Ontario, turn, signal, rock, gravel, road, wood, night, vo...   \n",
              "11510      [wife, seat, CRV, help, month, CRV, wife, passenger, seat, lunchbox, salad, dressing, stain, _URL_, bit, detailer, quote, dealership, Chicago, place, detail, stain, interior, seat, carpet, stain]   \n",
              "5643                                                        [Google, Assistant, Eonon, CA8163R, Hi, Eono, CA8163R, Mazda, google, assistant, sound, mic, bt, call, issue, advice, PS, BT, google, app, result]   \n",
              "\n",
              "                                                                                noun_phrases  \\\n",
              "13911        [-26k_mile, speed_manual, speed_manual_-$19,500, manual_-$19,500, student_loan]   \n",
              "13591  [wheel_hitch, wheel_hitch_height, hitch_height, inch_tire, wheel_option, bumper_pull]   \n",
              "9054                   [road_trip, yesterday_afternoon, road_trip, turn_signal, gravel_road]   \n",
              "11510                                                       [passenger_seat, salad_dressing]   \n",
              "5643                                                                               [bt_call]   \n",
              "\n",
              "                                                       entities  \n",
              "13911  [Jetta_Sport/PERSON, Sport_-Automatic/ORG, Bay_area/LOC]  \n",
              "13591                                                        []  \n",
              "9054                                              [Ontario/GPE]  \n",
              "11510                                             [Chicago/GPE]  \n",
              "5643                       [Google/ORG, bt/GPE, PS/ORG, BT/ORG]  "
            ],
            "text/html": [
              "\n",
              "  <div id=\"df-117b8f3f-1ffc-4ef5-aa23-319f75b13212\" class=\"colab-df-container\">\n",
              "    <div>\n",
              "<style scoped>\n",
              "    .dataframe tbody tr th:only-of-type {\n",
              "        vertical-align: middle;\n",
              "    }\n",
              "\n",
              "    .dataframe tbody tr th {\n",
              "        vertical-align: top;\n",
              "    }\n",
              "\n",
              "    .dataframe thead th {\n",
              "        text-align: right;\n",
              "    }\n",
              "</style>\n",
              "<table border=\"1\" class=\"dataframe tex2jax_ignore\">\n",
              "  <thead>\n",
              "    <tr style=\"text-align: right;\">\n",
              "      <th></th>\n",
              "      <th>text</th>\n",
              "      <th>lemmas</th>\n",
              "      <th>nouns</th>\n",
              "      <th>noun_phrases</th>\n",
              "      <th>entities</th>\n",
              "    </tr>\n",
              "  </thead>\n",
              "  <tbody>\n",
              "    <tr>\n",
              "      <th>13911</th>\n",
              "      <td>Used 2015 Jetta Sport vs New 2017 Golf Wolfsburg: Hey all, trying to decide between these two cars. Thanks ahead of time for your help. Used 2015 VW Jetta Sport -Automatic -26k miles -Previously a...</td>\n",
              "      <td>[use, 2015, Jetta, Sport, vs, New, 2017, Golf, Wolfsburg, hey, all, try, decide, between, two, car, thank, ahead, of, time, for, help, use, 2015, VW, Jetta, Sport, -Automatic, -26k, mile, -previou...</td>\n",
              "      <td>[Jetta, Sport, New, Golf, Wolfsburg, car, thank, time, help, VW, Jetta, Sport, -Automatic, -26k, mile, car, New, VW, Golf, Wolfsburg, speed, manual, -$19,500, Golf, money, end, budget, salaray, 70...</td>\n",
              "      <td>[-26k_mile, speed_manual, speed_manual_-$19,500, manual_-$19,500, student_loan]</td>\n",
              "      <td>[Jetta_Sport/PERSON, Sport_-Automatic/ORG, Bay_area/LOC]</td>\n",
              "    </tr>\n",
              "    <tr>\n",
              "      <th>13591</th>\n",
              "      <td>5th wheel hitch height: I have a 2017 f350 6.7. It sits high but I'm thinking of lifting the truck 4 inches in the front and leveling it. Then adding 35 inch tires. With this lift will it throw a ...</td>\n",
              "      <td>[5th, wheel, hitch, height, have, 2017, f350, 6.7, sit, high, but, be, think, of, lift, truck, 4, inch, in, front, and, level, then, add, 35, inch, tire, with, lift, will, throw, 5th, wheel, optio...</td>\n",
              "      <td>[wheel, hitch, height, f350, truck, inch, inch, tire, lift, wheel, option, play, height, trailer, bumper, pull, information, thank]</td>\n",
              "      <td>[wheel_hitch, wheel_hitch_height, hitch_height, inch_tire, wheel_option, bumper_pull]</td>\n",
              "      <td>[]</td>\n",
              "    </tr>\n",
              "    <tr>\n",
              "      <th>9054</th>\n",
              "      <td>Road trip in my '12 is complete! 2 weeks, 2500 miles, no charging, regular fuel, and we both survived!: I just got home yesterday afternoon. The volt was an awesome car for road trip. I was pretty...</td>\n",
              "      <td>[road, trip, in, 12, be, complete, 2, week, 2500, mile, charge, regular, fuel, and, survive, just, get, home, yesterday, afternoon, volt, be, awesome, car, for, road, trip, be, pretty, nervous, ab...</td>\n",
              "      <td>[road, trip, week, mile, fuel, yesterday, afternoon, volt, car, road, trip, spare, flat, mpg, gas, injury, car, dog, mouthful, porcupine, Ontario, turn, signal, rock, gravel, road, wood, night, vo...</td>\n",
              "      <td>[road_trip, yesterday_afternoon, road_trip, turn_signal, gravel_road]</td>\n",
              "      <td>[Ontario/GPE]</td>\n",
              "    </tr>\n",
              "    <tr>\n",
              "      <th>11510</th>\n",
              "      <td>Wife stained seat on 2018 CRV.....help: Have a 2 month old 2018 CRV that my wife stained passenger seat with leaky lunchbox. It was a vinegar-based salad dressing. Here is stain: _URL_ I tried cle...</td>\n",
              "      <td>[wife, stain, seat, on, 2018, CRV, help, have, 2, month, old, 2018, CRV, wife, stain, passenger, seat, with, leaky, lunchbox, be, vinegar-based, salad, dressing, here, be, stain, _URL_, try, clean...</td>\n",
              "      <td>[wife, seat, CRV, help, month, CRV, wife, passenger, seat, lunchbox, salad, dressing, stain, _URL_, bit, detailer, quote, dealership, Chicago, place, detail, stain, interior, seat, carpet, stain]</td>\n",
              "      <td>[passenger_seat, salad_dressing]</td>\n",
              "      <td>[Chicago/GPE]</td>\n",
              "    </tr>\n",
              "    <tr>\n",
              "      <th>5643</th>\n",
              "      <td>Google Assistant on Eonon CA8163R: Hi, I have recently purchased Eono CA8163R for my 2011 Mazda 3 , and i can not seem to get google assistant to work, it simply does not pick up any sound not mat...</td>\n",
              "      <td>[Google, Assistant, on, Eonon, CA8163R, Hi, have, recently, purchase, Eono, CA8163R, for, 2011, Mazda, 3, and, can, seem, get, google, assistant, to, work, simply, do, pick, up, sound, matter, try...</td>\n",
              "      <td>[Google, Assistant, Eonon, CA8163R, Hi, Eono, CA8163R, Mazda, google, assistant, sound, mic, bt, call, issue, advice, PS, BT, google, app, result]</td>\n",
              "      <td>[bt_call]</td>\n",
              "      <td>[Google/ORG, bt/GPE, PS/ORG, BT/ORG]</td>\n",
              "    </tr>\n",
              "  </tbody>\n",
              "</table>\n",
              "</div>\n",
              "    <div class=\"colab-df-buttons\">\n",
              "\n",
              "  <div class=\"colab-df-container\">\n",
              "    <button class=\"colab-df-convert\" onclick=\"convertToInteractive('df-117b8f3f-1ffc-4ef5-aa23-319f75b13212')\"\n",
              "            title=\"Convert this dataframe to an interactive table.\"\n",
              "            style=\"display:none;\">\n",
              "\n",
              "  <svg xmlns=\"http://www.w3.org/2000/svg\" height=\"24px\" viewBox=\"0 -960 960 960\">\n",
              "    <path d=\"M120-120v-720h720v720H120Zm60-500h600v-160H180v160Zm220 220h160v-160H400v160Zm0 220h160v-160H400v160ZM180-400h160v-160H180v160Zm440 0h160v-160H620v160ZM180-180h160v-160H180v160Zm440 0h160v-160H620v160Z\"/>\n",
              "  </svg>\n",
              "    </button>\n",
              "\n",
              "  <style>\n",
              "    .colab-df-container {\n",
              "      display:flex;\n",
              "      gap: 12px;\n",
              "    }\n",
              "\n",
              "    .colab-df-convert {\n",
              "      background-color: #E8F0FE;\n",
              "      border: none;\n",
              "      border-radius: 50%;\n",
              "      cursor: pointer;\n",
              "      display: none;\n",
              "      fill: #1967D2;\n",
              "      height: 32px;\n",
              "      padding: 0 0 0 0;\n",
              "      width: 32px;\n",
              "    }\n",
              "\n",
              "    .colab-df-convert:hover {\n",
              "      background-color: #E2EBFA;\n",
              "      box-shadow: 0px 1px 2px rgba(60, 64, 67, 0.3), 0px 1px 3px 1px rgba(60, 64, 67, 0.15);\n",
              "      fill: #174EA6;\n",
              "    }\n",
              "\n",
              "    .colab-df-buttons div {\n",
              "      margin-bottom: 4px;\n",
              "    }\n",
              "\n",
              "    [theme=dark] .colab-df-convert {\n",
              "      background-color: #3B4455;\n",
              "      fill: #D2E3FC;\n",
              "    }\n",
              "\n",
              "    [theme=dark] .colab-df-convert:hover {\n",
              "      background-color: #434B5C;\n",
              "      box-shadow: 0px 1px 3px 1px rgba(0, 0, 0, 0.15);\n",
              "      filter: drop-shadow(0px 1px 2px rgba(0, 0, 0, 0.3));\n",
              "      fill: #FFFFFF;\n",
              "    }\n",
              "  </style>\n",
              "\n",
              "    <script>\n",
              "      const buttonEl =\n",
              "        document.querySelector('#df-117b8f3f-1ffc-4ef5-aa23-319f75b13212 button.colab-df-convert');\n",
              "      buttonEl.style.display =\n",
              "        google.colab.kernel.accessAllowed ? 'block' : 'none';\n",
              "\n",
              "      async function convertToInteractive(key) {\n",
              "        const element = document.querySelector('#df-117b8f3f-1ffc-4ef5-aa23-319f75b13212');\n",
              "        const dataTable =\n",
              "          await google.colab.kernel.invokeFunction('convertToInteractive',\n",
              "                                                    [key], {});\n",
              "        if (!dataTable) return;\n",
              "\n",
              "        const docLinkHtml = 'Like what you see? Visit the ' +\n",
              "          '<a target=\"_blank\" href=https://colab.research.google.com/notebooks/data_table.ipynb>data table notebook</a>'\n",
              "          + ' to learn more about interactive tables.';\n",
              "        element.innerHTML = '';\n",
              "        dataTable['output_type'] = 'display_data';\n",
              "        await google.colab.output.renderOutput(dataTable, element);\n",
              "        const docLink = document.createElement('div');\n",
              "        docLink.innerHTML = docLinkHtml;\n",
              "        element.appendChild(docLink);\n",
              "      }\n",
              "    </script>\n",
              "  </div>\n",
              "\n",
              "\n",
              "<div id=\"df-f5c7715a-a393-47b3-bf5f-5617f15947a1\">\n",
              "  <button class=\"colab-df-quickchart\" onclick=\"quickchart('df-f5c7715a-a393-47b3-bf5f-5617f15947a1')\"\n",
              "            title=\"Suggest charts\"\n",
              "            style=\"display:none;\">\n",
              "\n",
              "<svg xmlns=\"http://www.w3.org/2000/svg\" height=\"24px\"viewBox=\"0 0 24 24\"\n",
              "     width=\"24px\">\n",
              "    <g>\n",
              "        <path d=\"M19 3H5c-1.1 0-2 .9-2 2v14c0 1.1.9 2 2 2h14c1.1 0 2-.9 2-2V5c0-1.1-.9-2-2-2zM9 17H7v-7h2v7zm4 0h-2V7h2v10zm4 0h-2v-4h2v4z\"/>\n",
              "    </g>\n",
              "</svg>\n",
              "  </button>\n",
              "\n",
              "<style>\n",
              "  .colab-df-quickchart {\n",
              "      --bg-color: #E8F0FE;\n",
              "      --fill-color: #1967D2;\n",
              "      --hover-bg-color: #E2EBFA;\n",
              "      --hover-fill-color: #174EA6;\n",
              "      --disabled-fill-color: #AAA;\n",
              "      --disabled-bg-color: #DDD;\n",
              "  }\n",
              "\n",
              "  [theme=dark] .colab-df-quickchart {\n",
              "      --bg-color: #3B4455;\n",
              "      --fill-color: #D2E3FC;\n",
              "      --hover-bg-color: #434B5C;\n",
              "      --hover-fill-color: #FFFFFF;\n",
              "      --disabled-bg-color: #3B4455;\n",
              "      --disabled-fill-color: #666;\n",
              "  }\n",
              "\n",
              "  .colab-df-quickchart {\n",
              "    background-color: var(--bg-color);\n",
              "    border: none;\n",
              "    border-radius: 50%;\n",
              "    cursor: pointer;\n",
              "    display: none;\n",
              "    fill: var(--fill-color);\n",
              "    height: 32px;\n",
              "    padding: 0;\n",
              "    width: 32px;\n",
              "  }\n",
              "\n",
              "  .colab-df-quickchart:hover {\n",
              "    background-color: var(--hover-bg-color);\n",
              "    box-shadow: 0 1px 2px rgba(60, 64, 67, 0.3), 0 1px 3px 1px rgba(60, 64, 67, 0.15);\n",
              "    fill: var(--button-hover-fill-color);\n",
              "  }\n",
              "\n",
              "  .colab-df-quickchart-complete:disabled,\n",
              "  .colab-df-quickchart-complete:disabled:hover {\n",
              "    background-color: var(--disabled-bg-color);\n",
              "    fill: var(--disabled-fill-color);\n",
              "    box-shadow: none;\n",
              "  }\n",
              "\n",
              "  .colab-df-spinner {\n",
              "    border: 2px solid var(--fill-color);\n",
              "    border-color: transparent;\n",
              "    border-bottom-color: var(--fill-color);\n",
              "    animation:\n",
              "      spin 1s steps(1) infinite;\n",
              "  }\n",
              "\n",
              "  @keyframes spin {\n",
              "    0% {\n",
              "      border-color: transparent;\n",
              "      border-bottom-color: var(--fill-color);\n",
              "      border-left-color: var(--fill-color);\n",
              "    }\n",
              "    20% {\n",
              "      border-color: transparent;\n",
              "      border-left-color: var(--fill-color);\n",
              "      border-top-color: var(--fill-color);\n",
              "    }\n",
              "    30% {\n",
              "      border-color: transparent;\n",
              "      border-left-color: var(--fill-color);\n",
              "      border-top-color: var(--fill-color);\n",
              "      border-right-color: var(--fill-color);\n",
              "    }\n",
              "    40% {\n",
              "      border-color: transparent;\n",
              "      border-right-color: var(--fill-color);\n",
              "      border-top-color: var(--fill-color);\n",
              "    }\n",
              "    60% {\n",
              "      border-color: transparent;\n",
              "      border-right-color: var(--fill-color);\n",
              "    }\n",
              "    80% {\n",
              "      border-color: transparent;\n",
              "      border-right-color: var(--fill-color);\n",
              "      border-bottom-color: var(--fill-color);\n",
              "    }\n",
              "    90% {\n",
              "      border-color: transparent;\n",
              "      border-bottom-color: var(--fill-color);\n",
              "    }\n",
              "  }\n",
              "</style>\n",
              "\n",
              "  <script>\n",
              "    async function quickchart(key) {\n",
              "      const quickchartButtonEl =\n",
              "        document.querySelector('#' + key + ' button');\n",
              "      quickchartButtonEl.disabled = true;  // To prevent multiple clicks.\n",
              "      quickchartButtonEl.classList.add('colab-df-spinner');\n",
              "      try {\n",
              "        const charts = await google.colab.kernel.invokeFunction(\n",
              "            'suggestCharts', [key], {});\n",
              "      } catch (error) {\n",
              "        console.error('Error during call to suggestCharts:', error);\n",
              "      }\n",
              "      quickchartButtonEl.classList.remove('colab-df-spinner');\n",
              "      quickchartButtonEl.classList.add('colab-df-quickchart-complete');\n",
              "    }\n",
              "    (() => {\n",
              "      let quickchartButtonEl =\n",
              "        document.querySelector('#df-f5c7715a-a393-47b3-bf5f-5617f15947a1 button');\n",
              "      quickchartButtonEl.style.display =\n",
              "        google.colab.kernel.accessAllowed ? 'block' : 'none';\n",
              "    })();\n",
              "  </script>\n",
              "</div>\n",
              "\n",
              "    </div>\n",
              "  </div>\n"
            ],
            "application/vnd.google.colaboratory.intrinsic+json": {
              "type": "dataframe",
              "summary": "{\n  \"name\": \"df[['text', 'lemmas', 'nouns', 'noun_phrases', 'entities']]\",\n  \"rows\": 5,\n  \"fields\": [\n    {\n      \"column\": \"text\",\n      \"properties\": {\n        \"dtype\": \"string\",\n        \"num_unique_values\": 5,\n        \"samples\": [\n          \"5th wheel hitch height: I have a 2017 f350 6.7. It sits high but I'm thinking of lifting the truck 4 inches in the front and leveling it. Then adding 35 inch tires. With this lift will it throw a 5th wheel option out or do I still have some decent play in height? Or would I have to lift the trailer as well? Or should I call it quits and get a bumper pull? Any information would be greatly appreciated! Thanks\",\n          \"Google Assistant on Eonon CA8163R: Hi, I have recently purchased Eono CA8163R for my 2011 Mazda 3 , and i can not seem to get google assistant to work, it simply does not pick up any sound not matter what i try, my external mic is working correctly as i am able to make BT calls. Anyone faced this issue? have any advice ? (PS i checked with BT enabled and disabled in the google app.. same results)\",\n          \"Road trip in my '12 is complete! 2 weeks, 2500 miles, no charging, regular fuel, and we both survived!: I just got home yesterday afternoon. The volt was an awesome car for road trip. I was pretty nervous about driving so far without a spare, but I had no flats. I averaged 40.5 mpg on regular gas. The only injury (to the car, at least; my dog got a mouthful of porcupine in Ontario): I busted a front turn signal on a rock while trying to turn around on a barely-maintained one-lane gravel road in the woods at night. I'm so proud of my volt! Great car!\"\n        ],\n        \"semantic_type\": \"\",\n        \"description\": \"\"\n      }\n    },\n    {\n      \"column\": \"lemmas\",\n      \"properties\": {\n        \"dtype\": \"object\",\n        \"semantic_type\": \"\",\n        \"description\": \"\"\n      }\n    },\n    {\n      \"column\": \"nouns\",\n      \"properties\": {\n        \"dtype\": \"object\",\n        \"semantic_type\": \"\",\n        \"description\": \"\"\n      }\n    },\n    {\n      \"column\": \"noun_phrases\",\n      \"properties\": {\n        \"dtype\": \"object\",\n        \"semantic_type\": \"\",\n        \"description\": \"\"\n      }\n    },\n    {\n      \"column\": \"entities\",\n      \"properties\": {\n        \"dtype\": \"object\",\n        \"semantic_type\": \"\",\n        \"description\": \"\"\n      }\n    }\n  ]\n}"
            }
          },
          "metadata": {},
          "execution_count": 91
        }
      ],
      "source": [
        "df[['text', 'lemmas', 'nouns', 'noun_phrases', 'entities']].sample(5)"
      ]
    },
    {
      "cell_type": "code",
      "execution_count": 92,
      "metadata": {
        "ExecuteTime": {
          "end_time": "2021-02-25T16:50:18.142811Z",
          "start_time": "2021-02-25T16:49:39.158Z"
        },
        "id": "tdErDFo2T1KN",
        "outputId": "2e0625b4-ed96-45c5-d171-a0cd4b5f1c5b",
        "colab": {
          "base_uri": "https://localhost:8080/",
          "height": 267,
          "referenced_widgets": [
            "661711792f4c42c3a0cb97a5146df57d",
            "fb978b564d044524aef17e26fc954b8b",
            "6bf7812ca5fc4e8eadd9ef1ad3f5a971",
            "07808092e9f246aba7678f10baf5f93c",
            "1f4f4f28d7b546908e8f208cc96e8133",
            "12aa32f64c6d499f89a58f8c3fe4b1f7",
            "5b87dc1161bc4fe890e5dd013fda967d",
            "79b1f57ccd494320b928993ef0419ee1",
            "0b470e8ffe3e4d00b8a1fe096352a0df",
            "d08d6abce5d7453e96bccb931f04ea8f",
            "1ad6d211c62948eeaa8d30d1cfc0bfe6"
          ]
        }
      },
      "outputs": [
        {
          "output_type": "display_data",
          "data": {
            "text/plain": [
              "  0%|          | 0/500 [00:00<?, ?it/s]"
            ],
            "application/vnd.jupyter.widget-view+json": {
              "version_major": 2,
              "version_minor": 0,
              "model_id": "661711792f4c42c3a0cb97a5146df57d"
            }
          },
          "metadata": {}
        },
        {
          "output_type": "display_data",
          "data": {
            "text/plain": [
              "<Figure size 800x300 with 1 Axes>"
            ],
            "image/png": "[encoded data removed]"
          },
          "metadata": {}
        }
      ],
      "source": [
        "count_words(df, 'noun_phrases').head(10).plot(kind='barh', figsize=(8,3)).invert_yaxis()"
      ]
    },
    {
      "cell_type": "markdown",
      "metadata": {
        "id": "qBJnpZqeT1KO"
      },
      "source": [
        "## Persisting the Result\n"
      ]
    },
    {
      "cell_type": "code",
      "execution_count": 93,
      "metadata": {
        "ExecuteTime": {
          "end_time": "2021-02-25T16:50:18.143525Z",
          "start_time": "2021-02-25T16:49:39.163Z"
        },
        "id": "VcVs9im_T1KO",
        "outputId": "39b4374e-fde5-41c8-c5f2-b09e777d9c33",
        "colab": {
          "base_uri": "https://localhost:8080/"
        }
      },
      "outputs": [
        {
          "output_type": "execute_result",
          "data": {
            "text/plain": [
              "500"
            ]
          },
          "metadata": {},
          "execution_count": 93
        }
      ],
      "source": [
        "df[nlp_columns] = df[nlp_columns].applymap(lambda items: ' '.join(items))\n",
        "\n",
        "con = sqlite3.connect(db_name)\n",
        "df.to_sql(\"posts_nlp\", con, index=False, if_exists=\"replace\")\n",
        "con.close()"
      ]
    },
    {
      "cell_type": "markdown",
      "metadata": {
        "id": "YqxVYw_cT1KO"
      },
      "source": [
        "## A Note on Execution Time\n"
      ]
    },
    {
      "cell_type": "markdown",
      "metadata": {
        "id": "4f6KgZOET1KO"
      },
      "source": [
        "# There is More\n",
        "## Language Detection\n"
      ]
    },
    {
      "cell_type": "markdown",
      "metadata": {
        "id": "VoMbgTcoT1KO"
      },
      "source": [
        "## Additional Blueprint (not in book): Language Detection with fastText\n",
        "\n",
        "There are different trained models available on the fastText website. We will be using the smaller model `lid.176.ftz` which has a size of less than 1 MB and is almost as accurate as the large model with 126MB. See <https://fasttext.cc/docs/en/language-identification.html> for instructions."
      ]
    },
    {
      "cell_type": "code",
      "execution_count": 94,
      "metadata": {
        "ExecuteTime": {
          "end_time": "2021-02-25T16:50:18.144359Z",
          "start_time": "2021-02-25T16:49:39.168Z"
        },
        "id": "BmQ7l10vT1KO",
        "outputId": "598cbe22-7036-43c8-e758-9e54bd02b19d",
        "colab": {
          "base_uri": "https://localhost:8080/"
        }
      },
      "outputs": [
        {
          "output_type": "stream",
          "name": "stdout",
          "text": [
            "--2024-12-12 15:14:47--  https://dl.fbaipublicfiles.com/fasttext/supervised-models/lid.176.ftz\n",
            "Resolving dl.fbaipublicfiles.com (dl.fbaipublicfiles.com)... 3.171.22.33, 3.171.22.68, 3.171.22.13, ...\n",
            "Connecting to dl.fbaipublicfiles.com (dl.fbaipublicfiles.com)|3.171.22.33|:443... connected.\n",
            "HTTP request sent, awaiting response... 200 OK\n",
            "Length: 938013 (916K) [binary/octet-stream]\n",
            "Saving to: ‘lid.176.ftz’\n",
            "\n",
            "\rlid.176.ftz           0%[                    ]       0  --.-KB/s               \rlid.176.ftz         100%[===================>] 916.03K  --.-KB/s    in 0.06s   \n",
            "\n",
            "2024-12-12 15:14:47 (15.0 MB/s) - ‘lid.176.ftz’ saved [938013/938013]\n",
            "\n"
          ]
        }
      ],
      "source": [
        "# download model\n",
        "!wget https://dl.fbaipublicfiles.com/fasttext/supervised-models/lid.176.ftz"
      ]
    },
    {
      "cell_type": "code",
      "source": [
        "!pip install fasttext"
      ],
      "metadata": {
        "id": "PNwb0d-mcDaa",
        "outputId": "5816d100-49e2-4172-cbb8-a6446661de34",
        "colab": {
          "base_uri": "https://localhost:8080/"
        }
      },
      "execution_count": 96,
      "outputs": [
        {
          "output_type": "stream",
          "name": "stdout",
          "text": [
            "Collecting fasttext\n",
            "  Downloading fasttext-0.9.3.tar.gz (73 kB)\n",
            "\u001b[?25l     \u001b[90m━━━━━━━━━━━━━━━━━━━━━━━━━━━━━━━━━━━━━━━━\u001b[0m \u001b[32m0.0/73.4 kB\u001b[0m \u001b[31m?\u001b[0m eta \u001b[36m-:--:--\u001b[0m\r\u001b[2K     \u001b[90m━━━━━━━━━━━━━━━━━━━━━━━━━━━━━━━━━━━━━━━━\u001b[0m \u001b[32m73.4/73.4 kB\u001b[0m \u001b[31m2.2 MB/s\u001b[0m eta \u001b[36m0:00:00\u001b[0m\n",
            "\u001b[?25h  Installing build dependencies ... \u001b[?25l\u001b[?25hdone\n",
            "  Getting requirements to build wheel ... \u001b[?25l\u001b[?25hdone\n",
            "  Preparing metadata (pyproject.toml) ... \u001b[?25l\u001b[?25hdone\n",
            "Collecting pybind11>=2.2 (from fasttext)\n",
            "  Using cached pybind11-2.13.6-py3-none-any.whl.metadata (9.5 kB)\n",
            "Requirement already satisfied: setuptools>=0.7.0 in /usr/local/lib/python3.10/dist-packages (from fasttext) (75.1.0)\n",
            "Requirement already satisfied: numpy in /usr/local/lib/python3.10/dist-packages (from fasttext) (1.26.4)\n",
            "Using cached pybind11-2.13.6-py3-none-any.whl (243 kB)\n",
            "Building wheels for collected packages: fasttext\n",
            "  Building wheel for fasttext (pyproject.toml) ... \u001b[?25l\u001b[?25hdone\n",
            "  Created wheel for fasttext: filename=fasttext-0.9.3-cp310-cp310-linux_x86_64.whl size=4296186 sha256=dda6f47fca8453dfb810a5086380e64d3051c4bfb792d90da580d9f7f5dcd06f\n",
            "  Stored in directory: /root/.cache/pip/wheels/0d/a2/00/81db54d3e6a8199b829d58e02cec2ddb20ce3e59fad8d3c92a\n",
            "Successfully built fasttext\n",
            "Installing collected packages: pybind11, fasttext\n",
            "Successfully installed fasttext-0.9.3 pybind11-2.13.6\n"
          ]
        }
      ]
    },
    {
      "cell_type": "markdown",
      "metadata": {
        "id": "i6OQLZ8DT1KO"
      },
      "source": [
        "After downloading, we load the model and make a first prediction with the following lines of code:"
      ]
    },
    {
      "cell_type": "code",
      "execution_count": 97,
      "metadata": {
        "ExecuteTime": {
          "end_time": "2021-02-25T16:50:18.145762Z",
          "start_time": "2021-02-25T16:49:39.172Z"
        },
        "id": "4hQ8qfPlT1KO",
        "outputId": "b1db5c08-5a58-468e-b4ad-f3449a59341a",
        "colab": {
          "base_uri": "https://localhost:8080/"
        }
      },
      "outputs": [
        {
          "output_type": "stream",
          "name": "stdout",
          "text": [
            "(('__label__en', '__label__de', '__label__te'), array([0.97039694, 0.00256404, 0.00231963]))\n"
          ]
        }
      ],
      "source": [
        "import fasttext\n",
        "\n",
        "lang_model = fasttext.load_model(\"lid.176.ftz\")\n",
        "\n",
        "# make a prediction\n",
        "print(lang_model.predict('\"Good morning\" in German is \"Guten Morgen\"', 3))"
      ]
    },
    {
      "cell_type": "code",
      "execution_count": 98,
      "metadata": {
        "ExecuteTime": {
          "end_time": "2021-02-25T16:50:18.146739Z",
          "start_time": "2021-02-25T16:49:39.176Z"
        },
        "id": "rfi7QbhmT1KO",
        "outputId": "f9ab4dde-53f6-4dfc-aa7b-7503adf33dcb",
        "colab": {
          "base_uri": "https://localhost:8080/"
        }
      },
      "outputs": [
        {
          "output_type": "execute_result",
          "data": {
            "text/plain": [
              "(('__label__en', '__label__de', '__label__te'),\n",
              " array([0.97039694, 0.00256404, 0.00231963]))"
            ]
          },
          "metadata": {},
          "execution_count": 98
        }
      ],
      "source": [
        "lang_model.predict('\"Good morning\" in German is \"Guten Morgen\"', 3)"
      ]
    },
    {
      "cell_type": "markdown",
      "metadata": {
        "id": "o0Jp6vjeT1KO"
      },
      "source": [
        "The `predict` function takes a Unicode string as its first argument. The second, optional parameter `k` specifies that we want the `k` language labels with the highest probabilities.\n",
        "\n",
        "The model returns labels in the form `__label__<code>`, where code is the ISO 639 language code`<footnote>`See <https://en.wikipedia.org/wiki/List_of_ISO_639-1_codes> for a complete list.`</footnote>` and probabilites for each label.\n",
        "\n",
        "Let's wrap the language identification into a preprocessing function. The function returns the detected language only if the calculated probability is higher than the specified threshold, otherwise, it returns the default language. This is useful for corpora like the hacker news, which is basically an English corpus with some utterances from other languages."
      ]
    },
    {
      "cell_type": "code",
      "execution_count": 99,
      "metadata": {
        "ExecuteTime": {
          "end_time": "2021-02-25T16:50:18.148015Z",
          "start_time": "2021-02-25T16:49:39.181Z"
        },
        "id": "Dt9wimiZT1KO"
      },
      "outputs": [],
      "source": [
        "def predict_language(text, threshold=0.8, default='en'):\n",
        "\n",
        "    # skip language detection for very short texts\n",
        "    if len(text) < 20:\n",
        "        return default\n",
        "\n",
        "    # fasttext requires single line input\n",
        "    text = text.replace('\\n', ' ')\n",
        "\n",
        "    labels, probas = lang_model.predict(text)\n",
        "    lang = labels[0].replace(\"__label__\", \"\")\n",
        "    proba = probas[0]\n",
        "\n",
        "    if proba < threshold:\n",
        "        return default\n",
        "    else:\n",
        "        return lang"
      ]
    },
    {
      "cell_type": "markdown",
      "metadata": {
        "id": "pjhS5r8dT1KO"
      },
      "source": [
        "The prediction function can now easily be applied to a data frame to identify the language of each document."
      ]
    },
    {
      "cell_type": "code",
      "execution_count": 100,
      "metadata": {
        "ExecuteTime": {
          "end_time": "2021-02-25T16:50:18.148894Z",
          "start_time": "2021-02-25T16:49:39.186Z"
        },
        "id": "J9A2awhfT1KO",
        "outputId": "3938341c-56c9-4bb1-bb41-3a0e0ccfa8d4",
        "colab": {
          "base_uri": "https://localhost:8080/",
          "height": 206
        }
      },
      "outputs": [
        {
          "output_type": "execute_result",
          "data": {
            "text/plain": [
              "                                           text lang\n",
              "0       I don't like version 2.0 of Chat4you 😡👎   en\n",
              "1     Ich mag Version 2.0 von Chat4you nicht 😡👎   de\n",
              "2        Мне не нравится версия 2.0 Chat4you 😡👎   ru\n",
              "3        Não gosto da versão 2.0 do Chat4you 😡👎   pt\n",
              "4  मुझे Chat4you का संस्करण 2.0 पसंद नहीं है 😡👎   hi"
            ],
            "text/html": [
              "\n",
              "  <div id=\"df-fc61db26-a5f2-4d8b-9440-0773aef906ca\" class=\"colab-df-container\">\n",
              "    <div>\n",
              "<style scoped>\n",
              "    .dataframe tbody tr th:only-of-type {\n",
              "        vertical-align: middle;\n",
              "    }\n",
              "\n",
              "    .dataframe tbody tr th {\n",
              "        vertical-align: top;\n",
              "    }\n",
              "\n",
              "    .dataframe thead th {\n",
              "        text-align: right;\n",
              "    }\n",
              "</style>\n",
              "<table border=\"1\" class=\"dataframe tex2jax_ignore\">\n",
              "  <thead>\n",
              "    <tr style=\"text-align: right;\">\n",
              "      <th></th>\n",
              "      <th>text</th>\n",
              "      <th>lang</th>\n",
              "    </tr>\n",
              "  </thead>\n",
              "  <tbody>\n",
              "    <tr>\n",
              "      <th>0</th>\n",
              "      <td>I don't like version 2.0 of Chat4you 😡👎</td>\n",
              "      <td>en</td>\n",
              "    </tr>\n",
              "    <tr>\n",
              "      <th>1</th>\n",
              "      <td>Ich mag Version 2.0 von Chat4you nicht 😡👎</td>\n",
              "      <td>de</td>\n",
              "    </tr>\n",
              "    <tr>\n",
              "      <th>2</th>\n",
              "      <td>Мне не нравится версия 2.0 Chat4you 😡👎</td>\n",
              "      <td>ru</td>\n",
              "    </tr>\n",
              "    <tr>\n",
              "      <th>3</th>\n",
              "      <td>Não gosto da versão 2.0 do Chat4you 😡👎</td>\n",
              "      <td>pt</td>\n",
              "    </tr>\n",
              "    <tr>\n",
              "      <th>4</th>\n",
              "      <td>मुझे Chat4you का संस्करण 2.0 पसंद नहीं है 😡👎</td>\n",
              "      <td>hi</td>\n",
              "    </tr>\n",
              "  </tbody>\n",
              "</table>\n",
              "</div>\n",
              "    <div class=\"colab-df-buttons\">\n",
              "\n",
              "  <div class=\"colab-df-container\">\n",
              "    <button class=\"colab-df-convert\" onclick=\"convertToInteractive('df-fc61db26-a5f2-4d8b-9440-0773aef906ca')\"\n",
              "            title=\"Convert this dataframe to an interactive table.\"\n",
              "            style=\"display:none;\">\n",
              "\n",
              "  <svg xmlns=\"http://www.w3.org/2000/svg\" height=\"24px\" viewBox=\"0 -960 960 960\">\n",
              "    <path d=\"M120-120v-720h720v720H120Zm60-500h600v-160H180v160Zm220 220h160v-160H400v160Zm0 220h160v-160H400v160ZM180-400h160v-160H180v160Zm440 0h160v-160H620v160ZM180-180h160v-160H180v160Zm440 0h160v-160H620v160Z\"/>\n",
              "  </svg>\n",
              "    </button>\n",
              "\n",
              "  <style>\n",
              "    .colab-df-container {\n",
              "      display:flex;\n",
              "      gap: 12px;\n",
              "    }\n",
              "\n",
              "    .colab-df-convert {\n",
              "      background-color: #E8F0FE;\n",
              "      border: none;\n",
              "      border-radius: 50%;\n",
              "      cursor: pointer;\n",
              "      display: none;\n",
              "      fill: #1967D2;\n",
              "      height: 32px;\n",
              "      padding: 0 0 0 0;\n",
              "      width: 32px;\n",
              "    }\n",
              "\n",
              "    .colab-df-convert:hover {\n",
              "      background-color: #E2EBFA;\n",
              "      box-shadow: 0px 1px 2px rgba(60, 64, 67, 0.3), 0px 1px 3px 1px rgba(60, 64, 67, 0.15);\n",
              "      fill: #174EA6;\n",
              "    }\n",
              "\n",
              "    .colab-df-buttons div {\n",
              "      margin-bottom: 4px;\n",
              "    }\n",
              "\n",
              "    [theme=dark] .colab-df-convert {\n",
              "      background-color: #3B4455;\n",
              "      fill: #D2E3FC;\n",
              "    }\n",
              "\n",
              "    [theme=dark] .colab-df-convert:hover {\n",
              "      background-color: #434B5C;\n",
              "      box-shadow: 0px 1px 3px 1px rgba(0, 0, 0, 0.15);\n",
              "      filter: drop-shadow(0px 1px 2px rgba(0, 0, 0, 0.3));\n",
              "      fill: #FFFFFF;\n",
              "    }\n",
              "  </style>\n",
              "\n",
              "    <script>\n",
              "      const buttonEl =\n",
              "        document.querySelector('#df-fc61db26-a5f2-4d8b-9440-0773aef906ca button.colab-df-convert');\n",
              "      buttonEl.style.display =\n",
              "        google.colab.kernel.accessAllowed ? 'block' : 'none';\n",
              "\n",
              "      async function convertToInteractive(key) {\n",
              "        const element = document.querySelector('#df-fc61db26-a5f2-4d8b-9440-0773aef906ca');\n",
              "        const dataTable =\n",
              "          await google.colab.kernel.invokeFunction('convertToInteractive',\n",
              "                                                    [key], {});\n",
              "        if (!dataTable) return;\n",
              "\n",
              "        const docLinkHtml = 'Like what you see? Visit the ' +\n",
              "          '<a target=\"_blank\" href=https://colab.research.google.com/notebooks/data_table.ipynb>data table notebook</a>'\n",
              "          + ' to learn more about interactive tables.';\n",
              "        element.innerHTML = '';\n",
              "        dataTable['output_type'] = 'display_data';\n",
              "        await google.colab.output.renderOutput(dataTable, element);\n",
              "        const docLink = document.createElement('div');\n",
              "        docLink.innerHTML = docLinkHtml;\n",
              "        element.appendChild(docLink);\n",
              "      }\n",
              "    </script>\n",
              "  </div>\n",
              "\n",
              "\n",
              "<div id=\"df-9754d33f-fd89-42dd-855b-1369a3523981\">\n",
              "  <button class=\"colab-df-quickchart\" onclick=\"quickchart('df-9754d33f-fd89-42dd-855b-1369a3523981')\"\n",
              "            title=\"Suggest charts\"\n",
              "            style=\"display:none;\">\n",
              "\n",
              "<svg xmlns=\"http://www.w3.org/2000/svg\" height=\"24px\"viewBox=\"0 0 24 24\"\n",
              "     width=\"24px\">\n",
              "    <g>\n",
              "        <path d=\"M19 3H5c-1.1 0-2 .9-2 2v14c0 1.1.9 2 2 2h14c1.1 0 2-.9 2-2V5c0-1.1-.9-2-2-2zM9 17H7v-7h2v7zm4 0h-2V7h2v10zm4 0h-2v-4h2v4z\"/>\n",
              "    </g>\n",
              "</svg>\n",
              "  </button>\n",
              "\n",
              "<style>\n",
              "  .colab-df-quickchart {\n",
              "      --bg-color: #E8F0FE;\n",
              "      --fill-color: #1967D2;\n",
              "      --hover-bg-color: #E2EBFA;\n",
              "      --hover-fill-color: #174EA6;\n",
              "      --disabled-fill-color: #AAA;\n",
              "      --disabled-bg-color: #DDD;\n",
              "  }\n",
              "\n",
              "  [theme=dark] .colab-df-quickchart {\n",
              "      --bg-color: #3B4455;\n",
              "      --fill-color: #D2E3FC;\n",
              "      --hover-bg-color: #434B5C;\n",
              "      --hover-fill-color: #FFFFFF;\n",
              "      --disabled-bg-color: #3B4455;\n",
              "      --disabled-fill-color: #666;\n",
              "  }\n",
              "\n",
              "  .colab-df-quickchart {\n",
              "    background-color: var(--bg-color);\n",
              "    border: none;\n",
              "    border-radius: 50%;\n",
              "    cursor: pointer;\n",
              "    display: none;\n",
              "    fill: var(--fill-color);\n",
              "    height: 32px;\n",
              "    padding: 0;\n",
              "    width: 32px;\n",
              "  }\n",
              "\n",
              "  .colab-df-quickchart:hover {\n",
              "    background-color: var(--hover-bg-color);\n",
              "    box-shadow: 0 1px 2px rgba(60, 64, 67, 0.3), 0 1px 3px 1px rgba(60, 64, 67, 0.15);\n",
              "    fill: var(--button-hover-fill-color);\n",
              "  }\n",
              "\n",
              "  .colab-df-quickchart-complete:disabled,\n",
              "  .colab-df-quickchart-complete:disabled:hover {\n",
              "    background-color: var(--disabled-bg-color);\n",
              "    fill: var(--disabled-fill-color);\n",
              "    box-shadow: none;\n",
              "  }\n",
              "\n",
              "  .colab-df-spinner {\n",
              "    border: 2px solid var(--fill-color);\n",
              "    border-color: transparent;\n",
              "    border-bottom-color: var(--fill-color);\n",
              "    animation:\n",
              "      spin 1s steps(1) infinite;\n",
              "  }\n",
              "\n",
              "  @keyframes spin {\n",
              "    0% {\n",
              "      border-color: transparent;\n",
              "      border-bottom-color: var(--fill-color);\n",
              "      border-left-color: var(--fill-color);\n",
              "    }\n",
              "    20% {\n",
              "      border-color: transparent;\n",
              "      border-left-color: var(--fill-color);\n",
              "      border-top-color: var(--fill-color);\n",
              "    }\n",
              "    30% {\n",
              "      border-color: transparent;\n",
              "      border-left-color: var(--fill-color);\n",
              "      border-top-color: var(--fill-color);\n",
              "      border-right-color: var(--fill-color);\n",
              "    }\n",
              "    40% {\n",
              "      border-color: transparent;\n",
              "      border-right-color: var(--fill-color);\n",
              "      border-top-color: var(--fill-color);\n",
              "    }\n",
              "    60% {\n",
              "      border-color: transparent;\n",
              "      border-right-color: var(--fill-color);\n",
              "    }\n",
              "    80% {\n",
              "      border-color: transparent;\n",
              "      border-right-color: var(--fill-color);\n",
              "      border-bottom-color: var(--fill-color);\n",
              "    }\n",
              "    90% {\n",
              "      border-color: transparent;\n",
              "      border-bottom-color: var(--fill-color);\n",
              "    }\n",
              "  }\n",
              "</style>\n",
              "\n",
              "  <script>\n",
              "    async function quickchart(key) {\n",
              "      const quickchartButtonEl =\n",
              "        document.querySelector('#' + key + ' button');\n",
              "      quickchartButtonEl.disabled = true;  // To prevent multiple clicks.\n",
              "      quickchartButtonEl.classList.add('colab-df-spinner');\n",
              "      try {\n",
              "        const charts = await google.colab.kernel.invokeFunction(\n",
              "            'suggestCharts', [key], {});\n",
              "      } catch (error) {\n",
              "        console.error('Error during call to suggestCharts:', error);\n",
              "      }\n",
              "      quickchartButtonEl.classList.remove('colab-df-spinner');\n",
              "      quickchartButtonEl.classList.add('colab-df-quickchart-complete');\n",
              "    }\n",
              "    (() => {\n",
              "      let quickchartButtonEl =\n",
              "        document.querySelector('#df-9754d33f-fd89-42dd-855b-1369a3523981 button');\n",
              "      quickchartButtonEl.style.display =\n",
              "        google.colab.kernel.accessAllowed ? 'block' : 'none';\n",
              "    })();\n",
              "  </script>\n",
              "</div>\n",
              "\n",
              "  <div id=\"id_f1f9fd86-0ee7-4cf6-b8c1-6f0303e5fe34\">\n",
              "    <style>\n",
              "      .colab-df-generate {\n",
              "        background-color: #E8F0FE;\n",
              "        border: none;\n",
              "        border-radius: 50%;\n",
              "        cursor: pointer;\n",
              "        display: none;\n",
              "        fill: #1967D2;\n",
              "        height: 32px;\n",
              "        padding: 0 0 0 0;\n",
              "        width: 32px;\n",
              "      }\n",
              "\n",
              "      .colab-df-generate:hover {\n",
              "        background-color: #E2EBFA;\n",
              "        box-shadow: 0px 1px 2px rgba(60, 64, 67, 0.3), 0px 1px 3px 1px rgba(60, 64, 67, 0.15);\n",
              "        fill: #174EA6;\n",
              "      }\n",
              "\n",
              "      [theme=dark] .colab-df-generate {\n",
              "        background-color: #3B4455;\n",
              "        fill: #D2E3FC;\n",
              "      }\n",
              "\n",
              "      [theme=dark] .colab-df-generate:hover {\n",
              "        background-color: #434B5C;\n",
              "        box-shadow: 0px 1px 3px 1px rgba(0, 0, 0, 0.15);\n",
              "        filter: drop-shadow(0px 1px 2px rgba(0, 0, 0, 0.3));\n",
              "        fill: #FFFFFF;\n",
              "      }\n",
              "    </style>\n",
              "    <button class=\"colab-df-generate\" onclick=\"generateWithVariable('demo_df')\"\n",
              "            title=\"Generate code using this dataframe.\"\n",
              "            style=\"display:none;\">\n",
              "\n",
              "  <svg xmlns=\"http://www.w3.org/2000/svg\" height=\"24px\"viewBox=\"0 0 24 24\"\n",
              "       width=\"24px\">\n",
              "    <path d=\"M7,19H8.4L18.45,9,17,7.55,7,17.6ZM5,21V16.75L18.45,3.32a2,2,0,0,1,2.83,0l1.4,1.43a1.91,1.91,0,0,1,.58,1.4,1.91,1.91,0,0,1-.58,1.4L9.25,21ZM18.45,9,17,7.55Zm-12,3A5.31,5.31,0,0,0,4.9,8.1,5.31,5.31,0,0,0,1,6.5,5.31,5.31,0,0,0,4.9,4.9,5.31,5.31,0,0,0,6.5,1,5.31,5.31,0,0,0,8.1,4.9,5.31,5.31,0,0,0,12,6.5,5.46,5.46,0,0,0,6.5,12Z\"/>\n",
              "  </svg>\n",
              "    </button>\n",
              "    <script>\n",
              "      (() => {\n",
              "      const buttonEl =\n",
              "        document.querySelector('#id_f1f9fd86-0ee7-4cf6-b8c1-6f0303e5fe34 button.colab-df-generate');\n",
              "      buttonEl.style.display =\n",
              "        google.colab.kernel.accessAllowed ? 'block' : 'none';\n",
              "\n",
              "      buttonEl.onclick = () => {\n",
              "        google.colab.notebook.generateWithVariable('demo_df');\n",
              "      }\n",
              "      })();\n",
              "    </script>\n",
              "  </div>\n",
              "\n",
              "    </div>\n",
              "  </div>\n"
            ],
            "application/vnd.google.colaboratory.intrinsic+json": {
              "type": "dataframe",
              "variable_name": "demo_df",
              "summary": "{\n  \"name\": \"demo_df\",\n  \"rows\": 5,\n  \"fields\": [\n    {\n      \"column\": \"text\",\n      \"properties\": {\n        \"dtype\": \"string\",\n        \"num_unique_values\": 5,\n        \"samples\": [\n          \"Ich mag Version 2.0 von Chat4you nicht \\ud83d\\ude21\\ud83d\\udc4e\",\n          \"\\u092e\\u0941\\u091d\\u0947 Chat4you \\u0915\\u093e \\u0938\\u0902\\u0938\\u094d\\u0915\\u0930\\u0923 2.0 \\u092a\\u0938\\u0902\\u0926 \\u0928\\u0939\\u0940\\u0902 \\u0939\\u0948 \\ud83d\\ude21\\ud83d\\udc4e\",\n          \"\\u041c\\u043d\\u0435 \\u043d\\u0435 \\u043d\\u0440\\u0430\\u0432\\u0438\\u0442\\u0441\\u044f \\u0432\\u0435\\u0440\\u0441\\u0438\\u044f 2.0 Chat4you \\ud83d\\ude21\\ud83d\\udc4e\"\n        ],\n        \"semantic_type\": \"\",\n        \"description\": \"\"\n      }\n    },\n    {\n      \"column\": \"lang\",\n      \"properties\": {\n        \"dtype\": \"string\",\n        \"num_unique_values\": 5,\n        \"samples\": [\n          \"de\",\n          \"hi\",\n          \"ru\"\n        ],\n        \"semantic_type\": \"\",\n        \"description\": \"\"\n      }\n    }\n  ]\n}"
            }
          },
          "metadata": {},
          "execution_count": 100
        }
      ],
      "source": [
        "data = [\"I don't like version 2.0 of Chat4you 😡👎\",   # English\n",
        "        \"Ich mag Version 2.0 von Chat4you nicht 😡👎\", # German\n",
        "        \"Мне не нравится версия 2.0 Chat4you 😡👎\",    # Russian\n",
        "        \"Não gosto da versão 2.0 do Chat4you 😡👎\",    # Portugese\n",
        "        \"मुझे Chat4you का संस्करण 2.0 पसंद नहीं है 😡👎\"]   # Hindi\n",
        "demo_df = pd.Series(data, name='text').to_frame()\n",
        "\n",
        "# create new column\n",
        "demo_df['lang'] = demo_df['text'].apply(predict_language)\n",
        "\n",
        "demo_df"
      ]
    },
    {
      "cell_type": "markdown",
      "metadata": {
        "id": "a_ZnAkInT1KO"
      },
      "source": [
        "In order to get the real names for the language codes, we can provide a mapping dictionary."
      ]
    },
    {
      "cell_type": "code",
      "execution_count": 101,
      "metadata": {
        "ExecuteTime": {
          "end_time": "2021-02-25T16:50:18.149859Z",
          "start_time": "2021-02-25T16:49:39.190Z"
        },
        "id": "NobM61msT1KO"
      },
      "outputs": [],
      "source": [
        "url = 'https://raw.githubusercontent.com/haliaeetus/iso-639/master/data/iso_639-1.csv'\n",
        "lang_df = pd.read_csv(url)\n",
        "lang_df = lang_df[['name', '639-1', '639-2']].melt(id_vars=['name'], var_name='iso', value_name='code')\n",
        "\n",
        "# create dictionary with entries {'code': 'name'}\n",
        "iso639_languages = lang_df.set_index('code')['name'].to_dict()"
      ]
    },
    {
      "cell_type": "markdown",
      "metadata": {
        "id": "mIHUbmAwT1KO"
      },
      "source": [
        "And we add this to our original data frame:"
      ]
    },
    {
      "cell_type": "code",
      "execution_count": 102,
      "metadata": {
        "ExecuteTime": {
          "end_time": "2021-02-25T16:50:18.150403Z",
          "start_time": "2021-02-25T16:49:39.194Z"
        },
        "id": "S17EfcOVT1KO",
        "outputId": "86389c04-998d-40d4-d99e-60afe1cb7021",
        "colab": {
          "base_uri": "https://localhost:8080/",
          "height": 206
        }
      },
      "outputs": [
        {
          "output_type": "execute_result",
          "data": {
            "text/plain": [
              "                                           text lang   lang_name\n",
              "0       I don't like version 2.0 of Chat4you 😡👎   en     English\n",
              "1     Ich mag Version 2.0 von Chat4you nicht 😡👎   de      German\n",
              "2        Мне не нравится версия 2.0 Chat4you 😡👎   ru     Russian\n",
              "3        Não gosto da versão 2.0 do Chat4you 😡👎   pt  Portuguese\n",
              "4  मुझे Chat4you का संस्करण 2.0 पसंद नहीं है 😡👎   hi       Hindi"
            ],
            "text/html": [
              "\n",
              "  <div id=\"df-403dce25-2d55-44ca-bf2e-ce97a1faf671\" class=\"colab-df-container\">\n",
              "    <div>\n",
              "<style scoped>\n",
              "    .dataframe tbody tr th:only-of-type {\n",
              "        vertical-align: middle;\n",
              "    }\n",
              "\n",
              "    .dataframe tbody tr th {\n",
              "        vertical-align: top;\n",
              "    }\n",
              "\n",
              "    .dataframe thead th {\n",
              "        text-align: right;\n",
              "    }\n",
              "</style>\n",
              "<table border=\"1\" class=\"dataframe tex2jax_ignore\">\n",
              "  <thead>\n",
              "    <tr style=\"text-align: right;\">\n",
              "      <th></th>\n",
              "      <th>text</th>\n",
              "      <th>lang</th>\n",
              "      <th>lang_name</th>\n",
              "    </tr>\n",
              "  </thead>\n",
              "  <tbody>\n",
              "    <tr>\n",
              "      <th>0</th>\n",
              "      <td>I don't like version 2.0 of Chat4you 😡👎</td>\n",
              "      <td>en</td>\n",
              "      <td>English</td>\n",
              "    </tr>\n",
              "    <tr>\n",
              "      <th>1</th>\n",
              "      <td>Ich mag Version 2.0 von Chat4you nicht 😡👎</td>\n",
              "      <td>de</td>\n",
              "      <td>German</td>\n",
              "    </tr>\n",
              "    <tr>\n",
              "      <th>2</th>\n",
              "      <td>Мне не нравится версия 2.0 Chat4you 😡👎</td>\n",
              "      <td>ru</td>\n",
              "      <td>Russian</td>\n",
              "    </tr>\n",
              "    <tr>\n",
              "      <th>3</th>\n",
              "      <td>Não gosto da versão 2.0 do Chat4you 😡👎</td>\n",
              "      <td>pt</td>\n",
              "      <td>Portuguese</td>\n",
              "    </tr>\n",
              "    <tr>\n",
              "      <th>4</th>\n",
              "      <td>मुझे Chat4you का संस्करण 2.0 पसंद नहीं है 😡👎</td>\n",
              "      <td>hi</td>\n",
              "      <td>Hindi</td>\n",
              "    </tr>\n",
              "  </tbody>\n",
              "</table>\n",
              "</div>\n",
              "    <div class=\"colab-df-buttons\">\n",
              "\n",
              "  <div class=\"colab-df-container\">\n",
              "    <button class=\"colab-df-convert\" onclick=\"convertToInteractive('df-403dce25-2d55-44ca-bf2e-ce97a1faf671')\"\n",
              "            title=\"Convert this dataframe to an interactive table.\"\n",
              "            style=\"display:none;\">\n",
              "\n",
              "  <svg xmlns=\"http://www.w3.org/2000/svg\" height=\"24px\" viewBox=\"0 -960 960 960\">\n",
              "    <path d=\"M120-120v-720h720v720H120Zm60-500h600v-160H180v160Zm220 220h160v-160H400v160Zm0 220h160v-160H400v160ZM180-400h160v-160H180v160Zm440 0h160v-160H620v160ZM180-180h160v-160H180v160Zm440 0h160v-160H620v160Z\"/>\n",
              "  </svg>\n",
              "    </button>\n",
              "\n",
              "  <style>\n",
              "    .colab-df-container {\n",
              "      display:flex;\n",
              "      gap: 12px;\n",
              "    }\n",
              "\n",
              "    .colab-df-convert {\n",
              "      background-color: #E8F0FE;\n",
              "      border: none;\n",
              "      border-radius: 50%;\n",
              "      cursor: pointer;\n",
              "      display: none;\n",
              "      fill: #1967D2;\n",
              "      height: 32px;\n",
              "      padding: 0 0 0 0;\n",
              "      width: 32px;\n",
              "    }\n",
              "\n",
              "    .colab-df-convert:hover {\n",
              "      background-color: #E2EBFA;\n",
              "      box-shadow: 0px 1px 2px rgba(60, 64, 67, 0.3), 0px 1px 3px 1px rgba(60, 64, 67, 0.15);\n",
              "      fill: #174EA6;\n",
              "    }\n",
              "\n",
              "    .colab-df-buttons div {\n",
              "      margin-bottom: 4px;\n",
              "    }\n",
              "\n",
              "    [theme=dark] .colab-df-convert {\n",
              "      background-color: #3B4455;\n",
              "      fill: #D2E3FC;\n",
              "    }\n",
              "\n",
              "    [theme=dark] .colab-df-convert:hover {\n",
              "      background-color: #434B5C;\n",
              "      box-shadow: 0px 1px 3px 1px rgba(0, 0, 0, 0.15);\n",
              "      filter: drop-shadow(0px 1px 2px rgba(0, 0, 0, 0.3));\n",
              "      fill: #FFFFFF;\n",
              "    }\n",
              "  </style>\n",
              "\n",
              "    <script>\n",
              "      const buttonEl =\n",
              "        document.querySelector('#df-403dce25-2d55-44ca-bf2e-ce97a1faf671 button.colab-df-convert');\n",
              "      buttonEl.style.display =\n",
              "        google.colab.kernel.accessAllowed ? 'block' : 'none';\n",
              "\n",
              "      async function convertToInteractive(key) {\n",
              "        const element = document.querySelector('#df-403dce25-2d55-44ca-bf2e-ce97a1faf671');\n",
              "        const dataTable =\n",
              "          await google.colab.kernel.invokeFunction('convertToInteractive',\n",
              "                                                    [key], {});\n",
              "        if (!dataTable) return;\n",
              "\n",
              "        const docLinkHtml = 'Like what you see? Visit the ' +\n",
              "          '<a target=\"_blank\" href=https://colab.research.google.com/notebooks/data_table.ipynb>data table notebook</a>'\n",
              "          + ' to learn more about interactive tables.';\n",
              "        element.innerHTML = '';\n",
              "        dataTable['output_type'] = 'display_data';\n",
              "        await google.colab.output.renderOutput(dataTable, element);\n",
              "        const docLink = document.createElement('div');\n",
              "        docLink.innerHTML = docLinkHtml;\n",
              "        element.appendChild(docLink);\n",
              "      }\n",
              "    </script>\n",
              "  </div>\n",
              "\n",
              "\n",
              "<div id=\"df-dca55bde-861c-491f-858f-2f8ee2b76f7a\">\n",
              "  <button class=\"colab-df-quickchart\" onclick=\"quickchart('df-dca55bde-861c-491f-858f-2f8ee2b76f7a')\"\n",
              "            title=\"Suggest charts\"\n",
              "            style=\"display:none;\">\n",
              "\n",
              "<svg xmlns=\"http://www.w3.org/2000/svg\" height=\"24px\"viewBox=\"0 0 24 24\"\n",
              "     width=\"24px\">\n",
              "    <g>\n",
              "        <path d=\"M19 3H5c-1.1 0-2 .9-2 2v14c0 1.1.9 2 2 2h14c1.1 0 2-.9 2-2V5c0-1.1-.9-2-2-2zM9 17H7v-7h2v7zm4 0h-2V7h2v10zm4 0h-2v-4h2v4z\"/>\n",
              "    </g>\n",
              "</svg>\n",
              "  </button>\n",
              "\n",
              "<style>\n",
              "  .colab-df-quickchart {\n",
              "      --bg-color: #E8F0FE;\n",
              "      --fill-color: #1967D2;\n",
              "      --hover-bg-color: #E2EBFA;\n",
              "      --hover-fill-color: #174EA6;\n",
              "      --disabled-fill-color: #AAA;\n",
              "      --disabled-bg-color: #DDD;\n",
              "  }\n",
              "\n",
              "  [theme=dark] .colab-df-quickchart {\n",
              "      --bg-color: #3B4455;\n",
              "      --fill-color: #D2E3FC;\n",
              "      --hover-bg-color: #434B5C;\n",
              "      --hover-fill-color: #FFFFFF;\n",
              "      --disabled-bg-color: #3B4455;\n",
              "      --disabled-fill-color: #666;\n",
              "  }\n",
              "\n",
              "  .colab-df-quickchart {\n",
              "    background-color: var(--bg-color);\n",
              "    border: none;\n",
              "    border-radius: 50%;\n",
              "    cursor: pointer;\n",
              "    display: none;\n",
              "    fill: var(--fill-color);\n",
              "    height: 32px;\n",
              "    padding: 0;\n",
              "    width: 32px;\n",
              "  }\n",
              "\n",
              "  .colab-df-quickchart:hover {\n",
              "    background-color: var(--hover-bg-color);\n",
              "    box-shadow: 0 1px 2px rgba(60, 64, 67, 0.3), 0 1px 3px 1px rgba(60, 64, 67, 0.15);\n",
              "    fill: var(--button-hover-fill-color);\n",
              "  }\n",
              "\n",
              "  .colab-df-quickchart-complete:disabled,\n",
              "  .colab-df-quickchart-complete:disabled:hover {\n",
              "    background-color: var(--disabled-bg-color);\n",
              "    fill: var(--disabled-fill-color);\n",
              "    box-shadow: none;\n",
              "  }\n",
              "\n",
              "  .colab-df-spinner {\n",
              "    border: 2px solid var(--fill-color);\n",
              "    border-color: transparent;\n",
              "    border-bottom-color: var(--fill-color);\n",
              "    animation:\n",
              "      spin 1s steps(1) infinite;\n",
              "  }\n",
              "\n",
              "  @keyframes spin {\n",
              "    0% {\n",
              "      border-color: transparent;\n",
              "      border-bottom-color: var(--fill-color);\n",
              "      border-left-color: var(--fill-color);\n",
              "    }\n",
              "    20% {\n",
              "      border-color: transparent;\n",
              "      border-left-color: var(--fill-color);\n",
              "      border-top-color: var(--fill-color);\n",
              "    }\n",
              "    30% {\n",
              "      border-color: transparent;\n",
              "      border-left-color: var(--fill-color);\n",
              "      border-top-color: var(--fill-color);\n",
              "      border-right-color: var(--fill-color);\n",
              "    }\n",
              "    40% {\n",
              "      border-color: transparent;\n",
              "      border-right-color: var(--fill-color);\n",
              "      border-top-color: var(--fill-color);\n",
              "    }\n",
              "    60% {\n",
              "      border-color: transparent;\n",
              "      border-right-color: var(--fill-color);\n",
              "    }\n",
              "    80% {\n",
              "      border-color: transparent;\n",
              "      border-right-color: var(--fill-color);\n",
              "      border-bottom-color: var(--fill-color);\n",
              "    }\n",
              "    90% {\n",
              "      border-color: transparent;\n",
              "      border-bottom-color: var(--fill-color);\n",
              "    }\n",
              "  }\n",
              "</style>\n",
              "\n",
              "  <script>\n",
              "    async function quickchart(key) {\n",
              "      const quickchartButtonEl =\n",
              "        document.querySelector('#' + key + ' button');\n",
              "      quickchartButtonEl.disabled = true;  // To prevent multiple clicks.\n",
              "      quickchartButtonEl.classList.add('colab-df-spinner');\n",
              "      try {\n",
              "        const charts = await google.colab.kernel.invokeFunction(\n",
              "            'suggestCharts', [key], {});\n",
              "      } catch (error) {\n",
              "        console.error('Error during call to suggestCharts:', error);\n",
              "      }\n",
              "      quickchartButtonEl.classList.remove('colab-df-spinner');\n",
              "      quickchartButtonEl.classList.add('colab-df-quickchart-complete');\n",
              "    }\n",
              "    (() => {\n",
              "      let quickchartButtonEl =\n",
              "        document.querySelector('#df-dca55bde-861c-491f-858f-2f8ee2b76f7a button');\n",
              "      quickchartButtonEl.style.display =\n",
              "        google.colab.kernel.accessAllowed ? 'block' : 'none';\n",
              "    })();\n",
              "  </script>\n",
              "</div>\n",
              "\n",
              "  <div id=\"id_1ba3ee34-7130-4ae7-9052-a75bd01932c6\">\n",
              "    <style>\n",
              "      .colab-df-generate {\n",
              "        background-color: #E8F0FE;\n",
              "        border: none;\n",
              "        border-radius: 50%;\n",
              "        cursor: pointer;\n",
              "        display: none;\n",
              "        fill: #1967D2;\n",
              "        height: 32px;\n",
              "        padding: 0 0 0 0;\n",
              "        width: 32px;\n",
              "      }\n",
              "\n",
              "      .colab-df-generate:hover {\n",
              "        background-color: #E2EBFA;\n",
              "        box-shadow: 0px 1px 2px rgba(60, 64, 67, 0.3), 0px 1px 3px 1px rgba(60, 64, 67, 0.15);\n",
              "        fill: #174EA6;\n",
              "      }\n",
              "\n",
              "      [theme=dark] .colab-df-generate {\n",
              "        background-color: #3B4455;\n",
              "        fill: #D2E3FC;\n",
              "      }\n",
              "\n",
              "      [theme=dark] .colab-df-generate:hover {\n",
              "        background-color: #434B5C;\n",
              "        box-shadow: 0px 1px 3px 1px rgba(0, 0, 0, 0.15);\n",
              "        filter: drop-shadow(0px 1px 2px rgba(0, 0, 0, 0.3));\n",
              "        fill: #FFFFFF;\n",
              "      }\n",
              "    </style>\n",
              "    <button class=\"colab-df-generate\" onclick=\"generateWithVariable('demo_df')\"\n",
              "            title=\"Generate code using this dataframe.\"\n",
              "            style=\"display:none;\">\n",
              "\n",
              "  <svg xmlns=\"http://www.w3.org/2000/svg\" height=\"24px\"viewBox=\"0 0 24 24\"\n",
              "       width=\"24px\">\n",
              "    <path d=\"M7,19H8.4L18.45,9,17,7.55,7,17.6ZM5,21V16.75L18.45,3.32a2,2,0,0,1,2.83,0l1.4,1.43a1.91,1.91,0,0,1,.58,1.4,1.91,1.91,0,0,1-.58,1.4L9.25,21ZM18.45,9,17,7.55Zm-12,3A5.31,5.31,0,0,0,4.9,8.1,5.31,5.31,0,0,0,1,6.5,5.31,5.31,0,0,0,4.9,4.9,5.31,5.31,0,0,0,6.5,1,5.31,5.31,0,0,0,8.1,4.9,5.31,5.31,0,0,0,12,6.5,5.46,5.46,0,0,0,6.5,12Z\"/>\n",
              "  </svg>\n",
              "    </button>\n",
              "    <script>\n",
              "      (() => {\n",
              "      const buttonEl =\n",
              "        document.querySelector('#id_1ba3ee34-7130-4ae7-9052-a75bd01932c6 button.colab-df-generate');\n",
              "      buttonEl.style.display =\n",
              "        google.colab.kernel.accessAllowed ? 'block' : 'none';\n",
              "\n",
              "      buttonEl.onclick = () => {\n",
              "        google.colab.notebook.generateWithVariable('demo_df');\n",
              "      }\n",
              "      })();\n",
              "    </script>\n",
              "  </div>\n",
              "\n",
              "    </div>\n",
              "  </div>\n"
            ],
            "application/vnd.google.colaboratory.intrinsic+json": {
              "type": "dataframe",
              "variable_name": "demo_df",
              "summary": "{\n  \"name\": \"demo_df\",\n  \"rows\": 5,\n  \"fields\": [\n    {\n      \"column\": \"text\",\n      \"properties\": {\n        \"dtype\": \"string\",\n        \"num_unique_values\": 5,\n        \"samples\": [\n          \"Ich mag Version 2.0 von Chat4you nicht \\ud83d\\ude21\\ud83d\\udc4e\",\n          \"\\u092e\\u0941\\u091d\\u0947 Chat4you \\u0915\\u093e \\u0938\\u0902\\u0938\\u094d\\u0915\\u0930\\u0923 2.0 \\u092a\\u0938\\u0902\\u0926 \\u0928\\u0939\\u0940\\u0902 \\u0939\\u0948 \\ud83d\\ude21\\ud83d\\udc4e\",\n          \"\\u041c\\u043d\\u0435 \\u043d\\u0435 \\u043d\\u0440\\u0430\\u0432\\u0438\\u0442\\u0441\\u044f \\u0432\\u0435\\u0440\\u0441\\u0438\\u044f 2.0 Chat4you \\ud83d\\ude21\\ud83d\\udc4e\"\n        ],\n        \"semantic_type\": \"\",\n        \"description\": \"\"\n      }\n    },\n    {\n      \"column\": \"lang\",\n      \"properties\": {\n        \"dtype\": \"string\",\n        \"num_unique_values\": 5,\n        \"samples\": [\n          \"de\",\n          \"hi\",\n          \"ru\"\n        ],\n        \"semantic_type\": \"\",\n        \"description\": \"\"\n      }\n    },\n    {\n      \"column\": \"lang_name\",\n      \"properties\": {\n        \"dtype\": \"string\",\n        \"num_unique_values\": 5,\n        \"samples\": [\n          \"German\",\n          \"Hindi\",\n          \"Russian\"\n        ],\n        \"semantic_type\": \"\",\n        \"description\": \"\"\n      }\n    }\n  ]\n}"
            }
          },
          "metadata": {},
          "execution_count": 102
        }
      ],
      "source": [
        "demo_df['lang_name'] = demo_df['lang'].map(iso639_languages)\n",
        "\n",
        "demo_df"
      ]
    },
    {
      "cell_type": "markdown",
      "metadata": {
        "id": "XVAD0Vo2T1KO"
      },
      "source": [
        "## Spell Checking\n",
        "## Token Normalization\n"
      ]
    },
    {
      "cell_type": "code",
      "execution_count": 103,
      "metadata": {
        "ExecuteTime": {
          "end_time": "2021-02-25T16:50:18.150954Z",
          "start_time": "2021-02-25T16:49:39.198Z"
        },
        "id": "F8qd3KavT1KO",
        "outputId": "4851d256-76dd-4060-bffc-4ef232e4c442",
        "colab": {
          "base_uri": "https://localhost:8080/"
        }
      },
      "outputs": [
        {
          "output_type": "stream",
          "name": "stdout",
          "text": [
            "Los_Angeles|is|a|city|in|the|United_States\n"
          ]
        }
      ],
      "source": [
        "# Not in book: Normalize tokens with a dict\n",
        "token_map = { 'U.S.': 'United_States',\n",
        "              'L.A.': 'Los_Angeles' }\n",
        "\n",
        "def token_normalizer(tokens):\n",
        "    return [token_map.get(t, t) for t in tokens]\n",
        "\n",
        "tokens = \"L.A. is a city in the U.S.\".split()\n",
        "tokens = token_normalizer(tokens)\n",
        "\n",
        "print(*tokens, sep='|')"
      ]
    },
    {
      "cell_type": "markdown",
      "metadata": {
        "id": "nZ_1_X68T1KO"
      },
      "source": [
        "# Closing Remarks and Recommendations\n"
      ]
    }
  ],
  "metadata": {
    "kernelspec": {
      "display_name": "Python 3 (ipykernel)",
      "language": "python",
      "name": "python3"
    },
    "language_info": {
      "codemirror_mode": {
        "name": "ipython",
        "version": 3
      },
      "file_extension": ".py",
      "mimetype": "text/x-python",
      "name": "python",
      "nbconvert_exporter": "python",
      "pygments_lexer": "ipython3",
      "version": "3.9.10"
    },
    "toc": {
      "base_numbering": 1,
      "nav_menu": {},
      "number_sections": true,
      "sideBar": true,
      "skip_h1_title": false,
      "title_cell": "Table of Contents",
      "title_sidebar": "Contents",
      "toc_cell": false,
      "toc_position": {
        "height": "calc(100% - 180px)",
        "left": "10px",
        "top": "150px",
        "width": "265.638px"
      },
      "toc_section_display": true,
      "toc_window_display": true
    },
    "varInspector": {
      "cols": {
        "lenName": 16,
        "lenType": 16,
        "lenVar": 40
      },
      "kernels_config": {
        "python": {
          "delete_cmd_postfix": "",
          "delete_cmd_prefix": "del ",
          "library": "var_list.py",
          "varRefreshCmd": "print(var_dic_list())"
        },
        "r": {
          "delete_cmd_postfix": ") ",
          "delete_cmd_prefix": "rm(",
          "library": "var_list.r",
          "varRefreshCmd": "cat(var_dic_list()) "
        }
      },
      "types_to_exclude": [
        "module",
        "function",
        "builtin_function_or_method",
        "instance",
        "_Feature"
      ],
      "window_display": false
    },
    "colab": {
      "provenance": []
    },
    "widgets": {
      "application/vnd.jupyter.widget-state+json": {
        "2fb1bc7c83fb4aa4b8f758ed406390c4": {
          "model_module": "@jupyter-widgets/controls",
          "model_name": "HBoxModel",
          "model_module_version": "1.5.0",
          "state": {
            "_dom_classes": [],
            "_model_module": "@jupyter-widgets/controls",
            "_model_module_version": "1.5.0",
            "_model_name": "HBoxModel",
            "_view_count": null,
            "_view_module": "@jupyter-widgets/controls",
            "_view_module_version": "1.5.0",
            "_view_name": "HBoxView",
            "box_style": "",
            "children": [
              "IPY_MODEL_1a5fe1f9a0544e4091cdc93d8b052416",
              "IPY_MODEL_6e4b81e3d348419cac10a6515f71145f",
              "IPY_MODEL_2ac4d54d3b4341b6af17d99bb47a22e1"
            ],
            "layout": "IPY_MODEL_f121ef2c1b0a48f982536dfc1015b822"
          }
        },
        "1a5fe1f9a0544e4091cdc93d8b052416": {
          "model_module": "@jupyter-widgets/controls",
          "model_name": "HTMLModel",
          "model_module_version": "1.5.0",
          "state": {
            "_dom_classes": [],
            "_model_module": "@jupyter-widgets/controls",
            "_model_module_version": "1.5.0",
            "_model_name": "HTMLModel",
            "_view_count": null,
            "_view_module": "@jupyter-widgets/controls",
            "_view_module_version": "1.5.0",
            "_view_name": "HTMLView",
            "description": "",
            "description_tooltip": null,
            "layout": "IPY_MODEL_1c01d0b19b36423eb44f7b22450ec9e9",
            "placeholder": "​",
            "style": "IPY_MODEL_1a0bb022b36f47aa87c4b0dac03cff74",
            "value": "100%"
          }
        },
        "6e4b81e3d348419cac10a6515f71145f": {
          "model_module": "@jupyter-widgets/controls",
          "model_name": "FloatProgressModel",
          "model_module_version": "1.5.0",
          "state": {
            "_dom_classes": [],
            "_model_module": "@jupyter-widgets/controls",
            "_model_module_version": "1.5.0",
            "_model_name": "FloatProgressModel",
            "_view_count": null,
            "_view_module": "@jupyter-widgets/controls",
            "_view_module_version": "1.5.0",
            "_view_name": "ProgressView",
            "bar_style": "success",
            "description": "",
            "description_tooltip": null,
            "layout": "IPY_MODEL_0a4ff3aacfbf4eaba85ec5a792c79e01",
            "max": 20000,
            "min": 0,
            "orientation": "horizontal",
            "style": "IPY_MODEL_eeb229ba57634f3dafc36acb61575db2",
            "value": 20000
          }
        },
        "2ac4d54d3b4341b6af17d99bb47a22e1": {
          "model_module": "@jupyter-widgets/controls",
          "model_name": "HTMLModel",
          "model_module_version": "1.5.0",
          "state": {
            "_dom_classes": [],
            "_model_module": "@jupyter-widgets/controls",
            "_model_module_version": "1.5.0",
            "_model_name": "HTMLModel",
            "_view_count": null,
            "_view_module": "@jupyter-widgets/controls",
            "_view_module_version": "1.5.0",
            "_view_name": "HTMLView",
            "description": "",
            "description_tooltip": null,
            "layout": "IPY_MODEL_2ec5564749134f629d238a3923145704",
            "placeholder": "​",
            "style": "IPY_MODEL_2eb377a8a52e43be8d56c010fe9db55e",
            "value": " 20000/20000 [00:00&lt;00:00, 95978.28it/s]"
          }
        },
        "f121ef2c1b0a48f982536dfc1015b822": {
          "model_module": "@jupyter-widgets/base",
          "model_name": "LayoutModel",
          "model_module_version": "1.2.0",
          "state": {
            "_model_module": "@jupyter-widgets/base",
            "_model_module_version": "1.2.0",
            "_model_name": "LayoutModel",
            "_view_count": null,
            "_view_module": "@jupyter-widgets/base",
            "_view_module_version": "1.2.0",
            "_view_name": "LayoutView",
            "align_content": null,
            "align_items": null,
            "align_self": null,
            "border": null,
            "bottom": null,
            "display": null,
            "flex": null,
            "flex_flow": null,
            "grid_area": null,
            "grid_auto_columns": null,
            "grid_auto_flow": null,
            "grid_auto_rows": null,
            "grid_column": null,
            "grid_gap": null,
            "grid_row": null,
            "grid_template_areas": null,
            "grid_template_columns": null,
            "grid_template_rows": null,
            "height": null,
            "justify_content": null,
            "justify_items": null,
            "left": null,
            "margin": null,
            "max_height": null,
            "max_width": null,
            "min_height": null,
            "min_width": null,
            "object_fit": null,
            "object_position": null,
            "order": null,
            "overflow": null,
            "overflow_x": null,
            "overflow_y": null,
            "padding": null,
            "right": null,
            "top": null,
            "visibility": null,
            "width": null
          }
        },
        "1c01d0b19b36423eb44f7b22450ec9e9": {
          "model_module": "@jupyter-widgets/base",
          "model_name": "LayoutModel",
          "model_module_version": "1.2.0",
          "state": {
            "_model_module": "@jupyter-widgets/base",
            "_model_module_version": "1.2.0",
            "_model_name": "LayoutModel",
            "_view_count": null,
            "_view_module": "@jupyter-widgets/base",
            "_view_module_version": "1.2.0",
            "_view_name": "LayoutView",
            "align_content": null,
            "align_items": null,
            "align_self": null,
            "border": null,
            "bottom": null,
            "display": null,
            "flex": null,
            "flex_flow": null,
            "grid_area": null,
            "grid_auto_columns": null,
            "grid_auto_flow": null,
            "grid_auto_rows": null,
            "grid_column": null,
            "grid_gap": null,
            "grid_row": null,
            "grid_template_areas": null,
            "grid_template_columns": null,
            "grid_template_rows": null,
            "height": null,
            "justify_content": null,
            "justify_items": null,
            "left": null,
            "margin": null,
            "max_height": null,
            "max_width": null,
            "min_height": null,
            "min_width": null,
            "object_fit": null,
            "object_position": null,
            "order": null,
            "overflow": null,
            "overflow_x": null,
            "overflow_y": null,
            "padding": null,
            "right": null,
            "top": null,
            "visibility": null,
            "width": null
          }
        },
        "1a0bb022b36f47aa87c4b0dac03cff74": {
          "model_module": "@jupyter-widgets/controls",
          "model_name": "DescriptionStyleModel",
          "model_module_version": "1.5.0",
          "state": {
            "_model_module": "@jupyter-widgets/controls",
            "_model_module_version": "1.5.0",
            "_model_name": "DescriptionStyleModel",
            "_view_count": null,
            "_view_module": "@jupyter-widgets/base",
            "_view_module_version": "1.2.0",
            "_view_name": "StyleView",
            "description_width": ""
          }
        },
        "0a4ff3aacfbf4eaba85ec5a792c79e01": {
          "model_module": "@jupyter-widgets/base",
          "model_name": "LayoutModel",
          "model_module_version": "1.2.0",
          "state": {
            "_model_module": "@jupyter-widgets/base",
            "_model_module_version": "1.2.0",
            "_model_name": "LayoutModel",
            "_view_count": null,
            "_view_module": "@jupyter-widgets/base",
            "_view_module_version": "1.2.0",
            "_view_name": "LayoutView",
            "align_content": null,
            "align_items": null,
            "align_self": null,
            "border": null,
            "bottom": null,
            "display": null,
            "flex": null,
            "flex_flow": null,
            "grid_area": null,
            "grid_auto_columns": null,
            "grid_auto_flow": null,
            "grid_auto_rows": null,
            "grid_column": null,
            "grid_gap": null,
            "grid_row": null,
            "grid_template_areas": null,
            "grid_template_columns": null,
            "grid_template_rows": null,
            "height": null,
            "justify_content": null,
            "justify_items": null,
            "left": null,
            "margin": null,
            "max_height": null,
            "max_width": null,
            "min_height": null,
            "min_width": null,
            "object_fit": null,
            "object_position": null,
            "order": null,
            "overflow": null,
            "overflow_x": null,
            "overflow_y": null,
            "padding": null,
            "right": null,
            "top": null,
            "visibility": null,
            "width": null
          }
        },
        "eeb229ba57634f3dafc36acb61575db2": {
          "model_module": "@jupyter-widgets/controls",
          "model_name": "ProgressStyleModel",
          "model_module_version": "1.5.0",
          "state": {
            "_model_module": "@jupyter-widgets/controls",
            "_model_module_version": "1.5.0",
            "_model_name": "ProgressStyleModel",
            "_view_count": null,
            "_view_module": "@jupyter-widgets/base",
            "_view_module_version": "1.2.0",
            "_view_name": "StyleView",
            "bar_color": null,
            "description_width": ""
          }
        },
        "2ec5564749134f629d238a3923145704": {
          "model_module": "@jupyter-widgets/base",
          "model_name": "LayoutModel",
          "model_module_version": "1.2.0",
          "state": {
            "_model_module": "@jupyter-widgets/base",
            "_model_module_version": "1.2.0",
            "_model_name": "LayoutModel",
            "_view_count": null,
            "_view_module": "@jupyter-widgets/base",
            "_view_module_version": "1.2.0",
            "_view_name": "LayoutView",
            "align_content": null,
            "align_items": null,
            "align_self": null,
            "border": null,
            "bottom": null,
            "display": null,
            "flex": null,
            "flex_flow": null,
            "grid_area": null,
            "grid_auto_columns": null,
            "grid_auto_flow": null,
            "grid_auto_rows": null,
            "grid_column": null,
            "grid_gap": null,
            "grid_row": null,
            "grid_template_areas": null,
            "grid_template_columns": null,
            "grid_template_rows": null,
            "height": null,
            "justify_content": null,
            "justify_items": null,
            "left": null,
            "margin": null,
            "max_height": null,
            "max_width": null,
            "min_height": null,
            "min_width": null,
            "object_fit": null,
            "object_position": null,
            "order": null,
            "overflow": null,
            "overflow_x": null,
            "overflow_y": null,
            "padding": null,
            "right": null,
            "top": null,
            "visibility": null,
            "width": null
          }
        },
        "2eb377a8a52e43be8d56c010fe9db55e": {
          "model_module": "@jupyter-widgets/controls",
          "model_name": "DescriptionStyleModel",
          "model_module_version": "1.5.0",
          "state": {
            "_model_module": "@jupyter-widgets/controls",
            "_model_module_version": "1.5.0",
            "_model_name": "DescriptionStyleModel",
            "_view_count": null,
            "_view_module": "@jupyter-widgets/base",
            "_view_module_version": "1.2.0",
            "_view_name": "StyleView",
            "description_width": ""
          }
        },
        "8674c868af53449285fcec0e5e4459d1": {
          "model_module": "@jupyter-widgets/controls",
          "model_name": "HBoxModel",
          "model_module_version": "1.5.0",
          "state": {
            "_dom_classes": [],
            "_model_module": "@jupyter-widgets/controls",
            "_model_module_version": "1.5.0",
            "_model_name": "HBoxModel",
            "_view_count": null,
            "_view_module": "@jupyter-widgets/controls",
            "_view_module_version": "1.5.0",
            "_view_name": "HBoxView",
            "box_style": "",
            "children": [
              "IPY_MODEL_491b8c6e576d4533b3c2d694cace0d5b",
              "IPY_MODEL_df31115eeab34fdbaaf76dc898640d58",
              "IPY_MODEL_70991611dac84ab4928767ec28a90e66"
            ],
            "layout": "IPY_MODEL_7abbaf973e2c4a0fb42af74c5e3732ca"
          }
        },
        "491b8c6e576d4533b3c2d694cace0d5b": {
          "model_module": "@jupyter-widgets/controls",
          "model_name": "HTMLModel",
          "model_module_version": "1.5.0",
          "state": {
            "_dom_classes": [],
            "_model_module": "@jupyter-widgets/controls",
            "_model_module_version": "1.5.0",
            "_model_name": "HTMLModel",
            "_view_count": null,
            "_view_module": "@jupyter-widgets/controls",
            "_view_module_version": "1.5.0",
            "_view_name": "HTMLView",
            "description": "",
            "description_tooltip": null,
            "layout": "IPY_MODEL_6314d827efc746aebd56b84eae9ad1a8",
            "placeholder": "​",
            "style": "IPY_MODEL_040ed6940d8b4fc9b184d0ea0db32c43",
            "value": "100%"
          }
        },
        "df31115eeab34fdbaaf76dc898640d58": {
          "model_module": "@jupyter-widgets/controls",
          "model_name": "FloatProgressModel",
          "model_module_version": "1.5.0",
          "state": {
            "_dom_classes": [],
            "_model_module": "@jupyter-widgets/controls",
            "_model_module_version": "1.5.0",
            "_model_name": "FloatProgressModel",
            "_view_count": null,
            "_view_module": "@jupyter-widgets/controls",
            "_view_module_version": "1.5.0",
            "_view_name": "ProgressView",
            "bar_style": "success",
            "description": "",
            "description_tooltip": null,
            "layout": "IPY_MODEL_3771e9e6d0ce4ee19e5ec95c2c684b64",
            "max": 20000,
            "min": 0,
            "orientation": "horizontal",
            "style": "IPY_MODEL_adcecd9b59934dca847639dede15c0a1",
            "value": 20000
          }
        },
        "70991611dac84ab4928767ec28a90e66": {
          "model_module": "@jupyter-widgets/controls",
          "model_name": "HTMLModel",
          "model_module_version": "1.5.0",
          "state": {
            "_dom_classes": [],
            "_model_module": "@jupyter-widgets/controls",
            "_model_module_version": "1.5.0",
            "_model_name": "HTMLModel",
            "_view_count": null,
            "_view_module": "@jupyter-widgets/controls",
            "_view_module_version": "1.5.0",
            "_view_name": "HTMLView",
            "description": "",
            "description_tooltip": null,
            "layout": "IPY_MODEL_05505966b8db434ba5c4e1c16cc8be1e",
            "placeholder": "​",
            "style": "IPY_MODEL_1c8c63077c274cac9ab5c5c7048d4aa0",
            "value": " 20000/20000 [00:00&lt;00:00, 114605.74it/s]"
          }
        },
        "7abbaf973e2c4a0fb42af74c5e3732ca": {
          "model_module": "@jupyter-widgets/base",
          "model_name": "LayoutModel",
          "model_module_version": "1.2.0",
          "state": {
            "_model_module": "@jupyter-widgets/base",
            "_model_module_version": "1.2.0",
            "_model_name": "LayoutModel",
            "_view_count": null,
            "_view_module": "@jupyter-widgets/base",
            "_view_module_version": "1.2.0",
            "_view_name": "LayoutView",
            "align_content": null,
            "align_items": null,
            "align_self": null,
            "border": null,
            "bottom": null,
            "display": null,
            "flex": null,
            "flex_flow": null,
            "grid_area": null,
            "grid_auto_columns": null,
            "grid_auto_flow": null,
            "grid_auto_rows": null,
            "grid_column": null,
            "grid_gap": null,
            "grid_row": null,
            "grid_template_areas": null,
            "grid_template_columns": null,
            "grid_template_rows": null,
            "height": null,
            "justify_content": null,
            "justify_items": null,
            "left": null,
            "margin": null,
            "max_height": null,
            "max_width": null,
            "min_height": null,
            "min_width": null,
            "object_fit": null,
            "object_position": null,
            "order": null,
            "overflow": null,
            "overflow_x": null,
            "overflow_y": null,
            "padding": null,
            "right": null,
            "top": null,
            "visibility": null,
            "width": null
          }
        },
        "6314d827efc746aebd56b84eae9ad1a8": {
          "model_module": "@jupyter-widgets/base",
          "model_name": "LayoutModel",
          "model_module_version": "1.2.0",
          "state": {
            "_model_module": "@jupyter-widgets/base",
            "_model_module_version": "1.2.0",
            "_model_name": "LayoutModel",
            "_view_count": null,
            "_view_module": "@jupyter-widgets/base",
            "_view_module_version": "1.2.0",
            "_view_name": "LayoutView",
            "align_content": null,
            "align_items": null,
            "align_self": null,
            "border": null,
            "bottom": null,
            "display": null,
            "flex": null,
            "flex_flow": null,
            "grid_area": null,
            "grid_auto_columns": null,
            "grid_auto_flow": null,
            "grid_auto_rows": null,
            "grid_column": null,
            "grid_gap": null,
            "grid_row": null,
            "grid_template_areas": null,
            "grid_template_columns": null,
            "grid_template_rows": null,
            "height": null,
            "justify_content": null,
            "justify_items": null,
            "left": null,
            "margin": null,
            "max_height": null,
            "max_width": null,
            "min_height": null,
            "min_width": null,
            "object_fit": null,
            "object_position": null,
            "order": null,
            "overflow": null,
            "overflow_x": null,
            "overflow_y": null,
            "padding": null,
            "right": null,
            "top": null,
            "visibility": null,
            "width": null
          }
        },
        "040ed6940d8b4fc9b184d0ea0db32c43": {
          "model_module": "@jupyter-widgets/controls",
          "model_name": "DescriptionStyleModel",
          "model_module_version": "1.5.0",
          "state": {
            "_model_module": "@jupyter-widgets/controls",
            "_model_module_version": "1.5.0",
            "_model_name": "DescriptionStyleModel",
            "_view_count": null,
            "_view_module": "@jupyter-widgets/base",
            "_view_module_version": "1.2.0",
            "_view_name": "StyleView",
            "description_width": ""
          }
        },
        "3771e9e6d0ce4ee19e5ec95c2c684b64": {
          "model_module": "@jupyter-widgets/base",
          "model_name": "LayoutModel",
          "model_module_version": "1.2.0",
          "state": {
            "_model_module": "@jupyter-widgets/base",
            "_model_module_version": "1.2.0",
            "_model_name": "LayoutModel",
            "_view_count": null,
            "_view_module": "@jupyter-widgets/base",
            "_view_module_version": "1.2.0",
            "_view_name": "LayoutView",
            "align_content": null,
            "align_items": null,
            "align_self": null,
            "border": null,
            "bottom": null,
            "display": null,
            "flex": null,
            "flex_flow": null,
            "grid_area": null,
            "grid_auto_columns": null,
            "grid_auto_flow": null,
            "grid_auto_rows": null,
            "grid_column": null,
            "grid_gap": null,
            "grid_row": null,
            "grid_template_areas": null,
            "grid_template_columns": null,
            "grid_template_rows": null,
            "height": null,
            "justify_content": null,
            "justify_items": null,
            "left": null,
            "margin": null,
            "max_height": null,
            "max_width": null,
            "min_height": null,
            "min_width": null,
            "object_fit": null,
            "object_position": null,
            "order": null,
            "overflow": null,
            "overflow_x": null,
            "overflow_y": null,
            "padding": null,
            "right": null,
            "top": null,
            "visibility": null,
            "width": null
          }
        },
        "adcecd9b59934dca847639dede15c0a1": {
          "model_module": "@jupyter-widgets/controls",
          "model_name": "ProgressStyleModel",
          "model_module_version": "1.5.0",
          "state": {
            "_model_module": "@jupyter-widgets/controls",
            "_model_module_version": "1.5.0",
            "_model_name": "ProgressStyleModel",
            "_view_count": null,
            "_view_module": "@jupyter-widgets/base",
            "_view_module_version": "1.2.0",
            "_view_name": "StyleView",
            "bar_color": null,
            "description_width": ""
          }
        },
        "05505966b8db434ba5c4e1c16cc8be1e": {
          "model_module": "@jupyter-widgets/base",
          "model_name": "LayoutModel",
          "model_module_version": "1.2.0",
          "state": {
            "_model_module": "@jupyter-widgets/base",
            "_model_module_version": "1.2.0",
            "_model_name": "LayoutModel",
            "_view_count": null,
            "_view_module": "@jupyter-widgets/base",
            "_view_module_version": "1.2.0",
            "_view_name": "LayoutView",
            "align_content": null,
            "align_items": null,
            "align_self": null,
            "border": null,
            "bottom": null,
            "display": null,
            "flex": null,
            "flex_flow": null,
            "grid_area": null,
            "grid_auto_columns": null,
            "grid_auto_flow": null,
            "grid_auto_rows": null,
            "grid_column": null,
            "grid_gap": null,
            "grid_row": null,
            "grid_template_areas": null,
            "grid_template_columns": null,
            "grid_template_rows": null,
            "height": null,
            "justify_content": null,
            "justify_items": null,
            "left": null,
            "margin": null,
            "max_height": null,
            "max_width": null,
            "min_height": null,
            "min_width": null,
            "object_fit": null,
            "object_position": null,
            "order": null,
            "overflow": null,
            "overflow_x": null,
            "overflow_y": null,
            "padding": null,
            "right": null,
            "top": null,
            "visibility": null,
            "width": null
          }
        },
        "1c8c63077c274cac9ab5c5c7048d4aa0": {
          "model_module": "@jupyter-widgets/controls",
          "model_name": "DescriptionStyleModel",
          "model_module_version": "1.5.0",
          "state": {
            "_model_module": "@jupyter-widgets/controls",
            "_model_module_version": "1.5.0",
            "_model_name": "DescriptionStyleModel",
            "_view_count": null,
            "_view_module": "@jupyter-widgets/base",
            "_view_module_version": "1.2.0",
            "_view_name": "StyleView",
            "description_width": ""
          }
        },
        "a08d295ba69042e18eb557b33e437e2b": {
          "model_module": "@jupyter-widgets/controls",
          "model_name": "HBoxModel",
          "model_module_version": "1.5.0",
          "state": {
            "_dom_classes": [],
            "_model_module": "@jupyter-widgets/controls",
            "_model_module_version": "1.5.0",
            "_model_name": "HBoxModel",
            "_view_count": null,
            "_view_module": "@jupyter-widgets/controls",
            "_view_module_version": "1.5.0",
            "_view_name": "HBoxView",
            "box_style": "",
            "children": [
              "IPY_MODEL_6aafd24454cd473abc70e04143018eb7",
              "IPY_MODEL_fa49188b85b04b1e8f78d9f225ad0094",
              "IPY_MODEL_e5109ce8776f4befa4d72b2178cc52e7"
            ],
            "layout": "IPY_MODEL_a9504cfc7df343ca936f98cbc7a92c65"
          }
        },
        "6aafd24454cd473abc70e04143018eb7": {
          "model_module": "@jupyter-widgets/controls",
          "model_name": "HTMLModel",
          "model_module_version": "1.5.0",
          "state": {
            "_dom_classes": [],
            "_model_module": "@jupyter-widgets/controls",
            "_model_module_version": "1.5.0",
            "_model_name": "HTMLModel",
            "_view_count": null,
            "_view_module": "@jupyter-widgets/controls",
            "_view_module_version": "1.5.0",
            "_view_name": "HTMLView",
            "description": "",
            "description_tooltip": null,
            "layout": "IPY_MODEL_d6c6a88fba2d462cb26f2f18af2854d8",
            "placeholder": "​",
            "style": "IPY_MODEL_951474fe94c84631acd2c733240951ec",
            "value": "100%"
          }
        },
        "fa49188b85b04b1e8f78d9f225ad0094": {
          "model_module": "@jupyter-widgets/controls",
          "model_name": "FloatProgressModel",
          "model_module_version": "1.5.0",
          "state": {
            "_dom_classes": [],
            "_model_module": "@jupyter-widgets/controls",
            "_model_module_version": "1.5.0",
            "_model_name": "FloatProgressModel",
            "_view_count": null,
            "_view_module": "@jupyter-widgets/controls",
            "_view_module_version": "1.5.0",
            "_view_name": "ProgressView",
            "bar_style": "success",
            "description": "",
            "description_tooltip": null,
            "layout": "IPY_MODEL_9cc57d9686204bf5b5e3a91f25f0a54b",
            "max": 20000,
            "min": 0,
            "orientation": "horizontal",
            "style": "IPY_MODEL_75dc38d49d804a4ab21af9ca22200399",
            "value": 20000
          }
        },
        "e5109ce8776f4befa4d72b2178cc52e7": {
          "model_module": "@jupyter-widgets/controls",
          "model_name": "HTMLModel",
          "model_module_version": "1.5.0",
          "state": {
            "_dom_classes": [],
            "_model_module": "@jupyter-widgets/controls",
            "_model_module_version": "1.5.0",
            "_model_name": "HTMLModel",
            "_view_count": null,
            "_view_module": "@jupyter-widgets/controls",
            "_view_module_version": "1.5.0",
            "_view_name": "HTMLView",
            "description": "",
            "description_tooltip": null,
            "layout": "IPY_MODEL_b732474e2f2a4a88942ae95fecd0e2b3",
            "placeholder": "​",
            "style": "IPY_MODEL_d767206e45774cd69c685cb43b8a5c47",
            "value": " 20000/20000 [00:03&lt;00:00, 4425.49it/s]"
          }
        },
        "a9504cfc7df343ca936f98cbc7a92c65": {
          "model_module": "@jupyter-widgets/base",
          "model_name": "LayoutModel",
          "model_module_version": "1.2.0",
          "state": {
            "_model_module": "@jupyter-widgets/base",
            "_model_module_version": "1.2.0",
            "_model_name": "LayoutModel",
            "_view_count": null,
            "_view_module": "@jupyter-widgets/base",
            "_view_module_version": "1.2.0",
            "_view_name": "LayoutView",
            "align_content": null,
            "align_items": null,
            "align_self": null,
            "border": null,
            "bottom": null,
            "display": null,
            "flex": null,
            "flex_flow": null,
            "grid_area": null,
            "grid_auto_columns": null,
            "grid_auto_flow": null,
            "grid_auto_rows": null,
            "grid_column": null,
            "grid_gap": null,
            "grid_row": null,
            "grid_template_areas": null,
            "grid_template_columns": null,
            "grid_template_rows": null,
            "height": null,
            "justify_content": null,
            "justify_items": null,
            "left": null,
            "margin": null,
            "max_height": null,
            "max_width": null,
            "min_height": null,
            "min_width": null,
            "object_fit": null,
            "object_position": null,
            "order": null,
            "overflow": null,
            "overflow_x": null,
            "overflow_y": null,
            "padding": null,
            "right": null,
            "top": null,
            "visibility": null,
            "width": null
          }
        },
        "d6c6a88fba2d462cb26f2f18af2854d8": {
          "model_module": "@jupyter-widgets/base",
          "model_name": "LayoutModel",
          "model_module_version": "1.2.0",
          "state": {
            "_model_module": "@jupyter-widgets/base",
            "_model_module_version": "1.2.0",
            "_model_name": "LayoutModel",
            "_view_count": null,
            "_view_module": "@jupyter-widgets/base",
            "_view_module_version": "1.2.0",
            "_view_name": "LayoutView",
            "align_content": null,
            "align_items": null,
            "align_self": null,
            "border": null,
            "bottom": null,
            "display": null,
            "flex": null,
            "flex_flow": null,
            "grid_area": null,
            "grid_auto_columns": null,
            "grid_auto_flow": null,
            "grid_auto_rows": null,
            "grid_column": null,
            "grid_gap": null,
            "grid_row": null,
            "grid_template_areas": null,
            "grid_template_columns": null,
            "grid_template_rows": null,
            "height": null,
            "justify_content": null,
            "justify_items": null,
            "left": null,
            "margin": null,
            "max_height": null,
            "max_width": null,
            "min_height": null,
            "min_width": null,
            "object_fit": null,
            "object_position": null,
            "order": null,
            "overflow": null,
            "overflow_x": null,
            "overflow_y": null,
            "padding": null,
            "right": null,
            "top": null,
            "visibility": null,
            "width": null
          }
        },
        "951474fe94c84631acd2c733240951ec": {
          "model_module": "@jupyter-widgets/controls",
          "model_name": "DescriptionStyleModel",
          "model_module_version": "1.5.0",
          "state": {
            "_model_module": "@jupyter-widgets/controls",
            "_model_module_version": "1.5.0",
            "_model_name": "DescriptionStyleModel",
            "_view_count": null,
            "_view_module": "@jupyter-widgets/base",
            "_view_module_version": "1.2.0",
            "_view_name": "StyleView",
            "description_width": ""
          }
        },
        "9cc57d9686204bf5b5e3a91f25f0a54b": {
          "model_module": "@jupyter-widgets/base",
          "model_name": "LayoutModel",
          "model_module_version": "1.2.0",
          "state": {
            "_model_module": "@jupyter-widgets/base",
            "_model_module_version": "1.2.0",
            "_model_name": "LayoutModel",
            "_view_count": null,
            "_view_module": "@jupyter-widgets/base",
            "_view_module_version": "1.2.0",
            "_view_name": "LayoutView",
            "align_content": null,
            "align_items": null,
            "align_self": null,
            "border": null,
            "bottom": null,
            "display": null,
            "flex": null,
            "flex_flow": null,
            "grid_area": null,
            "grid_auto_columns": null,
            "grid_auto_flow": null,
            "grid_auto_rows": null,
            "grid_column": null,
            "grid_gap": null,
            "grid_row": null,
            "grid_template_areas": null,
            "grid_template_columns": null,
            "grid_template_rows": null,
            "height": null,
            "justify_content": null,
            "justify_items": null,
            "left": null,
            "margin": null,
            "max_height": null,
            "max_width": null,
            "min_height": null,
            "min_width": null,
            "object_fit": null,
            "object_position": null,
            "order": null,
            "overflow": null,
            "overflow_x": null,
            "overflow_y": null,
            "padding": null,
            "right": null,
            "top": null,
            "visibility": null,
            "width": null
          }
        },
        "75dc38d49d804a4ab21af9ca22200399": {
          "model_module": "@jupyter-widgets/controls",
          "model_name": "ProgressStyleModel",
          "model_module_version": "1.5.0",
          "state": {
            "_model_module": "@jupyter-widgets/controls",
            "_model_module_version": "1.5.0",
            "_model_name": "ProgressStyleModel",
            "_view_count": null,
            "_view_module": "@jupyter-widgets/base",
            "_view_module_version": "1.2.0",
            "_view_name": "StyleView",
            "bar_color": null,
            "description_width": ""
          }
        },
        "b732474e2f2a4a88942ae95fecd0e2b3": {
          "model_module": "@jupyter-widgets/base",
          "model_name": "LayoutModel",
          "model_module_version": "1.2.0",
          "state": {
            "_model_module": "@jupyter-widgets/base",
            "_model_module_version": "1.2.0",
            "_model_name": "LayoutModel",
            "_view_count": null,
            "_view_module": "@jupyter-widgets/base",
            "_view_module_version": "1.2.0",
            "_view_name": "LayoutView",
            "align_content": null,
            "align_items": null,
            "align_self": null,
            "border": null,
            "bottom": null,
            "display": null,
            "flex": null,
            "flex_flow": null,
            "grid_area": null,
            "grid_auto_columns": null,
            "grid_auto_flow": null,
            "grid_auto_rows": null,
            "grid_column": null,
            "grid_gap": null,
            "grid_row": null,
            "grid_template_areas": null,
            "grid_template_columns": null,
            "grid_template_rows": null,
            "height": null,
            "justify_content": null,
            "justify_items": null,
            "left": null,
            "margin": null,
            "max_height": null,
            "max_width": null,
            "min_height": null,
            "min_width": null,
            "object_fit": null,
            "object_position": null,
            "order": null,
            "overflow": null,
            "overflow_x": null,
            "overflow_y": null,
            "padding": null,
            "right": null,
            "top": null,
            "visibility": null,
            "width": null
          }
        },
        "d767206e45774cd69c685cb43b8a5c47": {
          "model_module": "@jupyter-widgets/controls",
          "model_name": "DescriptionStyleModel",
          "model_module_version": "1.5.0",
          "state": {
            "_model_module": "@jupyter-widgets/controls",
            "_model_module_version": "1.5.0",
            "_model_name": "DescriptionStyleModel",
            "_view_count": null,
            "_view_module": "@jupyter-widgets/base",
            "_view_module_version": "1.2.0",
            "_view_name": "StyleView",
            "description_width": ""
          }
        },
        "664f831fb03a4e8f82498eb8fd4b365d": {
          "model_module": "@jupyter-widgets/controls",
          "model_name": "HBoxModel",
          "model_module_version": "1.5.0",
          "state": {
            "_dom_classes": [],
            "_model_module": "@jupyter-widgets/controls",
            "_model_module_version": "1.5.0",
            "_model_name": "HBoxModel",
            "_view_count": null,
            "_view_module": "@jupyter-widgets/controls",
            "_view_module_version": "1.5.0",
            "_view_name": "HBoxView",
            "box_style": "",
            "children": [
              "IPY_MODEL_9b524db534b04734986d4931532cac43",
              "IPY_MODEL_f58a0c9877d04fe1af5fc6de0a6fd412",
              "IPY_MODEL_c14bc53e0c0e4fab85a183dba98d433c"
            ],
            "layout": "IPY_MODEL_a58d66f3ad9e496fbef65e27ec14713b"
          }
        },
        "9b524db534b04734986d4931532cac43": {
          "model_module": "@jupyter-widgets/controls",
          "model_name": "HTMLModel",
          "model_module_version": "1.5.0",
          "state": {
            "_dom_classes": [],
            "_model_module": "@jupyter-widgets/controls",
            "_model_module_version": "1.5.0",
            "_model_name": "HTMLModel",
            "_view_count": null,
            "_view_module": "@jupyter-widgets/controls",
            "_view_module_version": "1.5.0",
            "_view_name": "HTMLView",
            "description": "",
            "description_tooltip": null,
            "layout": "IPY_MODEL_2bb67d262f8742ef93fcaed2d7641359",
            "placeholder": "​",
            "style": "IPY_MODEL_340f0f2b1eaa414387bb5ec154d5536c",
            "value": "100%"
          }
        },
        "f58a0c9877d04fe1af5fc6de0a6fd412": {
          "model_module": "@jupyter-widgets/controls",
          "model_name": "FloatProgressModel",
          "model_module_version": "1.5.0",
          "state": {
            "_dom_classes": [],
            "_model_module": "@jupyter-widgets/controls",
            "_model_module_version": "1.5.0",
            "_model_name": "FloatProgressModel",
            "_view_count": null,
            "_view_module": "@jupyter-widgets/controls",
            "_view_module_version": "1.5.0",
            "_view_name": "ProgressView",
            "bar_style": "success",
            "description": "",
            "description_tooltip": null,
            "layout": "IPY_MODEL_4040e76f9f86462591b963250ae9be48",
            "max": 20000,
            "min": 0,
            "orientation": "horizontal",
            "style": "IPY_MODEL_e6797feda5cc44168152c7472e2a5d0d",
            "value": 20000
          }
        },
        "c14bc53e0c0e4fab85a183dba98d433c": {
          "model_module": "@jupyter-widgets/controls",
          "model_name": "HTMLModel",
          "model_module_version": "1.5.0",
          "state": {
            "_dom_classes": [],
            "_model_module": "@jupyter-widgets/controls",
            "_model_module_version": "1.5.0",
            "_model_name": "HTMLModel",
            "_view_count": null,
            "_view_module": "@jupyter-widgets/controls",
            "_view_module_version": "1.5.0",
            "_view_name": "HTMLView",
            "description": "",
            "description_tooltip": null,
            "layout": "IPY_MODEL_cc432aa8b868419f847048a06559d824",
            "placeholder": "​",
            "style": "IPY_MODEL_8ac6af929a6d4deda2f7428cb9001c3e",
            "value": " 20000/20000 [00:01&lt;00:00, 15547.30it/s]"
          }
        },
        "a58d66f3ad9e496fbef65e27ec14713b": {
          "model_module": "@jupyter-widgets/base",
          "model_name": "LayoutModel",
          "model_module_version": "1.2.0",
          "state": {
            "_model_module": "@jupyter-widgets/base",
            "_model_module_version": "1.2.0",
            "_model_name": "LayoutModel",
            "_view_count": null,
            "_view_module": "@jupyter-widgets/base",
            "_view_module_version": "1.2.0",
            "_view_name": "LayoutView",
            "align_content": null,
            "align_items": null,
            "align_self": null,
            "border": null,
            "bottom": null,
            "display": null,
            "flex": null,
            "flex_flow": null,
            "grid_area": null,
            "grid_auto_columns": null,
            "grid_auto_flow": null,
            "grid_auto_rows": null,
            "grid_column": null,
            "grid_gap": null,
            "grid_row": null,
            "grid_template_areas": null,
            "grid_template_columns": null,
            "grid_template_rows": null,
            "height": null,
            "justify_content": null,
            "justify_items": null,
            "left": null,
            "margin": null,
            "max_height": null,
            "max_width": null,
            "min_height": null,
            "min_width": null,
            "object_fit": null,
            "object_position": null,
            "order": null,
            "overflow": null,
            "overflow_x": null,
            "overflow_y": null,
            "padding": null,
            "right": null,
            "top": null,
            "visibility": null,
            "width": null
          }
        },
        "2bb67d262f8742ef93fcaed2d7641359": {
          "model_module": "@jupyter-widgets/base",
          "model_name": "LayoutModel",
          "model_module_version": "1.2.0",
          "state": {
            "_model_module": "@jupyter-widgets/base",
            "_model_module_version": "1.2.0",
            "_model_name": "LayoutModel",
            "_view_count": null,
            "_view_module": "@jupyter-widgets/base",
            "_view_module_version": "1.2.0",
            "_view_name": "LayoutView",
            "align_content": null,
            "align_items": null,
            "align_self": null,
            "border": null,
            "bottom": null,
            "display": null,
            "flex": null,
            "flex_flow": null,
            "grid_area": null,
            "grid_auto_columns": null,
            "grid_auto_flow": null,
            "grid_auto_rows": null,
            "grid_column": null,
            "grid_gap": null,
            "grid_row": null,
            "grid_template_areas": null,
            "grid_template_columns": null,
            "grid_template_rows": null,
            "height": null,
            "justify_content": null,
            "justify_items": null,
            "left": null,
            "margin": null,
            "max_height": null,
            "max_width": null,
            "min_height": null,
            "min_width": null,
            "object_fit": null,
            "object_position": null,
            "order": null,
            "overflow": null,
            "overflow_x": null,
            "overflow_y": null,
            "padding": null,
            "right": null,
            "top": null,
            "visibility": null,
            "width": null
          }
        },
        "340f0f2b1eaa414387bb5ec154d5536c": {
          "model_module": "@jupyter-widgets/controls",
          "model_name": "DescriptionStyleModel",
          "model_module_version": "1.5.0",
          "state": {
            "_model_module": "@jupyter-widgets/controls",
            "_model_module_version": "1.5.0",
            "_model_name": "DescriptionStyleModel",
            "_view_count": null,
            "_view_module": "@jupyter-widgets/base",
            "_view_module_version": "1.2.0",
            "_view_name": "StyleView",
            "description_width": ""
          }
        },
        "4040e76f9f86462591b963250ae9be48": {
          "model_module": "@jupyter-widgets/base",
          "model_name": "LayoutModel",
          "model_module_version": "1.2.0",
          "state": {
            "_model_module": "@jupyter-widgets/base",
            "_model_module_version": "1.2.0",
            "_model_name": "LayoutModel",
            "_view_count": null,
            "_view_module": "@jupyter-widgets/base",
            "_view_module_version": "1.2.0",
            "_view_name": "LayoutView",
            "align_content": null,
            "align_items": null,
            "align_self": null,
            "border": null,
            "bottom": null,
            "display": null,
            "flex": null,
            "flex_flow": null,
            "grid_area": null,
            "grid_auto_columns": null,
            "grid_auto_flow": null,
            "grid_auto_rows": null,
            "grid_column": null,
            "grid_gap": null,
            "grid_row": null,
            "grid_template_areas": null,
            "grid_template_columns": null,
            "grid_template_rows": null,
            "height": null,
            "justify_content": null,
            "justify_items": null,
            "left": null,
            "margin": null,
            "max_height": null,
            "max_width": null,
            "min_height": null,
            "min_width": null,
            "object_fit": null,
            "object_position": null,
            "order": null,
            "overflow": null,
            "overflow_x": null,
            "overflow_y": null,
            "padding": null,
            "right": null,
            "top": null,
            "visibility": null,
            "width": null
          }
        },
        "e6797feda5cc44168152c7472e2a5d0d": {
          "model_module": "@jupyter-widgets/controls",
          "model_name": "ProgressStyleModel",
          "model_module_version": "1.5.0",
          "state": {
            "_model_module": "@jupyter-widgets/controls",
            "_model_module_version": "1.5.0",
            "_model_name": "ProgressStyleModel",
            "_view_count": null,
            "_view_module": "@jupyter-widgets/base",
            "_view_module_version": "1.2.0",
            "_view_name": "StyleView",
            "bar_color": null,
            "description_width": ""
          }
        },
        "cc432aa8b868419f847048a06559d824": {
          "model_module": "@jupyter-widgets/base",
          "model_name": "LayoutModel",
          "model_module_version": "1.2.0",
          "state": {
            "_model_module": "@jupyter-widgets/base",
            "_model_module_version": "1.2.0",
            "_model_name": "LayoutModel",
            "_view_count": null,
            "_view_module": "@jupyter-widgets/base",
            "_view_module_version": "1.2.0",
            "_view_name": "LayoutView",
            "align_content": null,
            "align_items": null,
            "align_self": null,
            "border": null,
            "bottom": null,
            "display": null,
            "flex": null,
            "flex_flow": null,
            "grid_area": null,
            "grid_auto_columns": null,
            "grid_auto_flow": null,
            "grid_auto_rows": null,
            "grid_column": null,
            "grid_gap": null,
            "grid_row": null,
            "grid_template_areas": null,
            "grid_template_columns": null,
            "grid_template_rows": null,
            "height": null,
            "justify_content": null,
            "justify_items": null,
            "left": null,
            "margin": null,
            "max_height": null,
            "max_width": null,
            "min_height": null,
            "min_width": null,
            "object_fit": null,
            "object_position": null,
            "order": null,
            "overflow": null,
            "overflow_x": null,
            "overflow_y": null,
            "padding": null,
            "right": null,
            "top": null,
            "visibility": null,
            "width": null
          }
        },
        "8ac6af929a6d4deda2f7428cb9001c3e": {
          "model_module": "@jupyter-widgets/controls",
          "model_name": "DescriptionStyleModel",
          "model_module_version": "1.5.0",
          "state": {
            "_model_module": "@jupyter-widgets/controls",
            "_model_module_version": "1.5.0",
            "_model_name": "DescriptionStyleModel",
            "_view_count": null,
            "_view_module": "@jupyter-widgets/base",
            "_view_module_version": "1.2.0",
            "_view_name": "StyleView",
            "description_width": ""
          }
        },
        "a51272795894488fb7ba6bfb32ffc834": {
          "model_module": "@jupyter-widgets/controls",
          "model_name": "HBoxModel",
          "model_module_version": "1.5.0",
          "state": {
            "_dom_classes": [],
            "_model_module": "@jupyter-widgets/controls",
            "_model_module_version": "1.5.0",
            "_model_name": "HBoxModel",
            "_view_count": null,
            "_view_module": "@jupyter-widgets/controls",
            "_view_module_version": "1.5.0",
            "_view_name": "HBoxView",
            "box_style": "",
            "children": [
              "IPY_MODEL_4fbec5f1a5fe43ffbc4e76359078a8e3",
              "IPY_MODEL_a73a659bf2db45409b055b54b716ec14",
              "IPY_MODEL_d4e03fa46a304bb484ae05520ff93cb0"
            ],
            "layout": "IPY_MODEL_f9dad8dacb454a1d988298e6cd64f4f7"
          }
        },
        "4fbec5f1a5fe43ffbc4e76359078a8e3": {
          "model_module": "@jupyter-widgets/controls",
          "model_name": "HTMLModel",
          "model_module_version": "1.5.0",
          "state": {
            "_dom_classes": [],
            "_model_module": "@jupyter-widgets/controls",
            "_model_module_version": "1.5.0",
            "_model_name": "HTMLModel",
            "_view_count": null,
            "_view_module": "@jupyter-widgets/controls",
            "_view_module_version": "1.5.0",
            "_view_name": "HTMLView",
            "description": "",
            "description_tooltip": null,
            "layout": "IPY_MODEL_61bf83374d2642c6b7de6a0c244744e1",
            "placeholder": "​",
            "style": "IPY_MODEL_61c7e84df93c46fc94dd73134738d688",
            "value": "100%"
          }
        },
        "a73a659bf2db45409b055b54b716ec14": {
          "model_module": "@jupyter-widgets/controls",
          "model_name": "FloatProgressModel",
          "model_module_version": "1.5.0",
          "state": {
            "_dom_classes": [],
            "_model_module": "@jupyter-widgets/controls",
            "_model_module_version": "1.5.0",
            "_model_name": "FloatProgressModel",
            "_view_count": null,
            "_view_module": "@jupyter-widgets/controls",
            "_view_module_version": "1.5.0",
            "_view_name": "ProgressView",
            "bar_style": "success",
            "description": "",
            "description_tooltip": null,
            "layout": "IPY_MODEL_5494ba1626c04dfaa9291799a8a268b5",
            "max": 20000,
            "min": 0,
            "orientation": "horizontal",
            "style": "IPY_MODEL_4d7ca36000d541fe851da8d41b530d8b",
            "value": 20000
          }
        },
        "d4e03fa46a304bb484ae05520ff93cb0": {
          "model_module": "@jupyter-widgets/controls",
          "model_name": "HTMLModel",
          "model_module_version": "1.5.0",
          "state": {
            "_dom_classes": [],
            "_model_module": "@jupyter-widgets/controls",
            "_model_module_version": "1.5.0",
            "_model_name": "HTMLModel",
            "_view_count": null,
            "_view_module": "@jupyter-widgets/controls",
            "_view_module_version": "1.5.0",
            "_view_name": "HTMLView",
            "description": "",
            "description_tooltip": null,
            "layout": "IPY_MODEL_30475295ece44feeb92b4c2e2e15fd03",
            "placeholder": "​",
            "style": "IPY_MODEL_20760ea2700a464a99cb8da40cd64c3a",
            "value": " 20000/20000 [00:05&lt;00:00, 3618.75it/s]"
          }
        },
        "f9dad8dacb454a1d988298e6cd64f4f7": {
          "model_module": "@jupyter-widgets/base",
          "model_name": "LayoutModel",
          "model_module_version": "1.2.0",
          "state": {
            "_model_module": "@jupyter-widgets/base",
            "_model_module_version": "1.2.0",
            "_model_name": "LayoutModel",
            "_view_count": null,
            "_view_module": "@jupyter-widgets/base",
            "_view_module_version": "1.2.0",
            "_view_name": "LayoutView",
            "align_content": null,
            "align_items": null,
            "align_self": null,
            "border": null,
            "bottom": null,
            "display": null,
            "flex": null,
            "flex_flow": null,
            "grid_area": null,
            "grid_auto_columns": null,
            "grid_auto_flow": null,
            "grid_auto_rows": null,
            "grid_column": null,
            "grid_gap": null,
            "grid_row": null,
            "grid_template_areas": null,
            "grid_template_columns": null,
            "grid_template_rows": null,
            "height": null,
            "justify_content": null,
            "justify_items": null,
            "left": null,
            "margin": null,
            "max_height": null,
            "max_width": null,
            "min_height": null,
            "min_width": null,
            "object_fit": null,
            "object_position": null,
            "order": null,
            "overflow": null,
            "overflow_x": null,
            "overflow_y": null,
            "padding": null,
            "right": null,
            "top": null,
            "visibility": null,
            "width": null
          }
        },
        "61bf83374d2642c6b7de6a0c244744e1": {
          "model_module": "@jupyter-widgets/base",
          "model_name": "LayoutModel",
          "model_module_version": "1.2.0",
          "state": {
            "_model_module": "@jupyter-widgets/base",
            "_model_module_version": "1.2.0",
            "_model_name": "LayoutModel",
            "_view_count": null,
            "_view_module": "@jupyter-widgets/base",
            "_view_module_version": "1.2.0",
            "_view_name": "LayoutView",
            "align_content": null,
            "align_items": null,
            "align_self": null,
            "border": null,
            "bottom": null,
            "display": null,
            "flex": null,
            "flex_flow": null,
            "grid_area": null,
            "grid_auto_columns": null,
            "grid_auto_flow": null,
            "grid_auto_rows": null,
            "grid_column": null,
            "grid_gap": null,
            "grid_row": null,
            "grid_template_areas": null,
            "grid_template_columns": null,
            "grid_template_rows": null,
            "height": null,
            "justify_content": null,
            "justify_items": null,
            "left": null,
            "margin": null,
            "max_height": null,
            "max_width": null,
            "min_height": null,
            "min_width": null,
            "object_fit": null,
            "object_position": null,
            "order": null,
            "overflow": null,
            "overflow_x": null,
            "overflow_y": null,
            "padding": null,
            "right": null,
            "top": null,
            "visibility": null,
            "width": null
          }
        },
        "61c7e84df93c46fc94dd73134738d688": {
          "model_module": "@jupyter-widgets/controls",
          "model_name": "DescriptionStyleModel",
          "model_module_version": "1.5.0",
          "state": {
            "_model_module": "@jupyter-widgets/controls",
            "_model_module_version": "1.5.0",
            "_model_name": "DescriptionStyleModel",
            "_view_count": null,
            "_view_module": "@jupyter-widgets/base",
            "_view_module_version": "1.2.0",
            "_view_name": "StyleView",
            "description_width": ""
          }
        },
        "5494ba1626c04dfaa9291799a8a268b5": {
          "model_module": "@jupyter-widgets/base",
          "model_name": "LayoutModel",
          "model_module_version": "1.2.0",
          "state": {
            "_model_module": "@jupyter-widgets/base",
            "_model_module_version": "1.2.0",
            "_model_name": "LayoutModel",
            "_view_count": null,
            "_view_module": "@jupyter-widgets/base",
            "_view_module_version": "1.2.0",
            "_view_name": "LayoutView",
            "align_content": null,
            "align_items": null,
            "align_self": null,
            "border": null,
            "bottom": null,
            "display": null,
            "flex": null,
            "flex_flow": null,
            "grid_area": null,
            "grid_auto_columns": null,
            "grid_auto_flow": null,
            "grid_auto_rows": null,
            "grid_column": null,
            "grid_gap": null,
            "grid_row": null,
            "grid_template_areas": null,
            "grid_template_columns": null,
            "grid_template_rows": null,
            "height": null,
            "justify_content": null,
            "justify_items": null,
            "left": null,
            "margin": null,
            "max_height": null,
            "max_width": null,
            "min_height": null,
            "min_width": null,
            "object_fit": null,
            "object_position": null,
            "order": null,
            "overflow": null,
            "overflow_x": null,
            "overflow_y": null,
            "padding": null,
            "right": null,
            "top": null,
            "visibility": null,
            "width": null
          }
        },
        "4d7ca36000d541fe851da8d41b530d8b": {
          "model_module": "@jupyter-widgets/controls",
          "model_name": "ProgressStyleModel",
          "model_module_version": "1.5.0",
          "state": {
            "_model_module": "@jupyter-widgets/controls",
            "_model_module_version": "1.5.0",
            "_model_name": "ProgressStyleModel",
            "_view_count": null,
            "_view_module": "@jupyter-widgets/base",
            "_view_module_version": "1.2.0",
            "_view_name": "StyleView",
            "bar_color": null,
            "description_width": ""
          }
        },
        "30475295ece44feeb92b4c2e2e15fd03": {
          "model_module": "@jupyter-widgets/base",
          "model_name": "LayoutModel",
          "model_module_version": "1.2.0",
          "state": {
            "_model_module": "@jupyter-widgets/base",
            "_model_module_version": "1.2.0",
            "_model_name": "LayoutModel",
            "_view_count": null,
            "_view_module": "@jupyter-widgets/base",
            "_view_module_version": "1.2.0",
            "_view_name": "LayoutView",
            "align_content": null,
            "align_items": null,
            "align_self": null,
            "border": null,
            "bottom": null,
            "display": null,
            "flex": null,
            "flex_flow": null,
            "grid_area": null,
            "grid_auto_columns": null,
            "grid_auto_flow": null,
            "grid_auto_rows": null,
            "grid_column": null,
            "grid_gap": null,
            "grid_row": null,
            "grid_template_areas": null,
            "grid_template_columns": null,
            "grid_template_rows": null,
            "height": null,
            "justify_content": null,
            "justify_items": null,
            "left": null,
            "margin": null,
            "max_height": null,
            "max_width": null,
            "min_height": null,
            "min_width": null,
            "object_fit": null,
            "object_position": null,
            "order": null,
            "overflow": null,
            "overflow_x": null,
            "overflow_y": null,
            "padding": null,
            "right": null,
            "top": null,
            "visibility": null,
            "width": null
          }
        },
        "20760ea2700a464a99cb8da40cd64c3a": {
          "model_module": "@jupyter-widgets/controls",
          "model_name": "DescriptionStyleModel",
          "model_module_version": "1.5.0",
          "state": {
            "_model_module": "@jupyter-widgets/controls",
            "_model_module_version": "1.5.0",
            "_model_name": "DescriptionStyleModel",
            "_view_count": null,
            "_view_module": "@jupyter-widgets/base",
            "_view_module_version": "1.2.0",
            "_view_name": "StyleView",
            "description_width": ""
          }
        },
        "526ebf52d3074cb4861bc1aa4706cdd5": {
          "model_module": "@jupyter-widgets/controls",
          "model_name": "HBoxModel",
          "model_module_version": "1.5.0",
          "state": {
            "_dom_classes": [],
            "_model_module": "@jupyter-widgets/controls",
            "_model_module_version": "1.5.0",
            "_model_name": "HBoxModel",
            "_view_count": null,
            "_view_module": "@jupyter-widgets/controls",
            "_view_module_version": "1.5.0",
            "_view_name": "HBoxView",
            "box_style": "",
            "children": [
              "IPY_MODEL_e54e397ed08a45f1b52a5c6eec20efa4",
              "IPY_MODEL_8be52abf59d546148665440fc578e822",
              "IPY_MODEL_eccab6d693f44d5280526c655580192a"
            ],
            "layout": "IPY_MODEL_0b29079d183847a0b4ec2a276b2271ee"
          }
        },
        "e54e397ed08a45f1b52a5c6eec20efa4": {
          "model_module": "@jupyter-widgets/controls",
          "model_name": "HTMLModel",
          "model_module_version": "1.5.0",
          "state": {
            "_dom_classes": [],
            "_model_module": "@jupyter-widgets/controls",
            "_model_module_version": "1.5.0",
            "_model_name": "HTMLModel",
            "_view_count": null,
            "_view_module": "@jupyter-widgets/controls",
            "_view_module_version": "1.5.0",
            "_view_name": "HTMLView",
            "description": "",
            "description_tooltip": null,
            "layout": "IPY_MODEL_3af73cc8283c47d88c4d3b250f12f82c",
            "placeholder": "​",
            "style": "IPY_MODEL_cbc5b3c8b33e42ed989bb15880f60169",
            "value": "100%"
          }
        },
        "8be52abf59d546148665440fc578e822": {
          "model_module": "@jupyter-widgets/controls",
          "model_name": "FloatProgressModel",
          "model_module_version": "1.5.0",
          "state": {
            "_dom_classes": [],
            "_model_module": "@jupyter-widgets/controls",
            "_model_module_version": "1.5.0",
            "_model_name": "FloatProgressModel",
            "_view_count": null,
            "_view_module": "@jupyter-widgets/controls",
            "_view_module_version": "1.5.0",
            "_view_name": "ProgressView",
            "bar_style": "success",
            "description": "",
            "description_tooltip": null,
            "layout": "IPY_MODEL_02b959d5899d488b8c628a1193c4cd94",
            "max": 20000,
            "min": 0,
            "orientation": "horizontal",
            "style": "IPY_MODEL_dbf07fc5b7464fdba1012ea7f7441bd7",
            "value": 20000
          }
        },
        "eccab6d693f44d5280526c655580192a": {
          "model_module": "@jupyter-widgets/controls",
          "model_name": "HTMLModel",
          "model_module_version": "1.5.0",
          "state": {
            "_dom_classes": [],
            "_model_module": "@jupyter-widgets/controls",
            "_model_module_version": "1.5.0",
            "_model_name": "HTMLModel",
            "_view_count": null,
            "_view_module": "@jupyter-widgets/controls",
            "_view_module_version": "1.5.0",
            "_view_name": "HTMLView",
            "description": "",
            "description_tooltip": null,
            "layout": "IPY_MODEL_c83b33766f184cc2947c736afbad7b80",
            "placeholder": "​",
            "style": "IPY_MODEL_3b1b689633f048e79a09ef68e8585740",
            "value": " 20000/20000 [00:05&lt;00:00, 2652.79it/s]"
          }
        },
        "0b29079d183847a0b4ec2a276b2271ee": {
          "model_module": "@jupyter-widgets/base",
          "model_name": "LayoutModel",
          "model_module_version": "1.2.0",
          "state": {
            "_model_module": "@jupyter-widgets/base",
            "_model_module_version": "1.2.0",
            "_model_name": "LayoutModel",
            "_view_count": null,
            "_view_module": "@jupyter-widgets/base",
            "_view_module_version": "1.2.0",
            "_view_name": "LayoutView",
            "align_content": null,
            "align_items": null,
            "align_self": null,
            "border": null,
            "bottom": null,
            "display": null,
            "flex": null,
            "flex_flow": null,
            "grid_area": null,
            "grid_auto_columns": null,
            "grid_auto_flow": null,
            "grid_auto_rows": null,
            "grid_column": null,
            "grid_gap": null,
            "grid_row": null,
            "grid_template_areas": null,
            "grid_template_columns": null,
            "grid_template_rows": null,
            "height": null,
            "justify_content": null,
            "justify_items": null,
            "left": null,
            "margin": null,
            "max_height": null,
            "max_width": null,
            "min_height": null,
            "min_width": null,
            "object_fit": null,
            "object_position": null,
            "order": null,
            "overflow": null,
            "overflow_x": null,
            "overflow_y": null,
            "padding": null,
            "right": null,
            "top": null,
            "visibility": null,
            "width": null
          }
        },
        "3af73cc8283c47d88c4d3b250f12f82c": {
          "model_module": "@jupyter-widgets/base",
          "model_name": "LayoutModel",
          "model_module_version": "1.2.0",
          "state": {
            "_model_module": "@jupyter-widgets/base",
            "_model_module_version": "1.2.0",
            "_model_name": "LayoutModel",
            "_view_count": null,
            "_view_module": "@jupyter-widgets/base",
            "_view_module_version": "1.2.0",
            "_view_name": "LayoutView",
            "align_content": null,
            "align_items": null,
            "align_self": null,
            "border": null,
            "bottom": null,
            "display": null,
            "flex": null,
            "flex_flow": null,
            "grid_area": null,
            "grid_auto_columns": null,
            "grid_auto_flow": null,
            "grid_auto_rows": null,
            "grid_column": null,
            "grid_gap": null,
            "grid_row": null,
            "grid_template_areas": null,
            "grid_template_columns": null,
            "grid_template_rows": null,
            "height": null,
            "justify_content": null,
            "justify_items": null,
            "left": null,
            "margin": null,
            "max_height": null,
            "max_width": null,
            "min_height": null,
            "min_width": null,
            "object_fit": null,
            "object_position": null,
            "order": null,
            "overflow": null,
            "overflow_x": null,
            "overflow_y": null,
            "padding": null,
            "right": null,
            "top": null,
            "visibility": null,
            "width": null
          }
        },
        "cbc5b3c8b33e42ed989bb15880f60169": {
          "model_module": "@jupyter-widgets/controls",
          "model_name": "DescriptionStyleModel",
          "model_module_version": "1.5.0",
          "state": {
            "_model_module": "@jupyter-widgets/controls",
            "_model_module_version": "1.5.0",
            "_model_name": "DescriptionStyleModel",
            "_view_count": null,
            "_view_module": "@jupyter-widgets/base",
            "_view_module_version": "1.2.0",
            "_view_name": "StyleView",
            "description_width": ""
          }
        },
        "02b959d5899d488b8c628a1193c4cd94": {
          "model_module": "@jupyter-widgets/base",
          "model_name": "LayoutModel",
          "model_module_version": "1.2.0",
          "state": {
            "_model_module": "@jupyter-widgets/base",
            "_model_module_version": "1.2.0",
            "_model_name": "LayoutModel",
            "_view_count": null,
            "_view_module": "@jupyter-widgets/base",
            "_view_module_version": "1.2.0",
            "_view_name": "LayoutView",
            "align_content": null,
            "align_items": null,
            "align_self": null,
            "border": null,
            "bottom": null,
            "display": null,
            "flex": null,
            "flex_flow": null,
            "grid_area": null,
            "grid_auto_columns": null,
            "grid_auto_flow": null,
            "grid_auto_rows": null,
            "grid_column": null,
            "grid_gap": null,
            "grid_row": null,
            "grid_template_areas": null,
            "grid_template_columns": null,
            "grid_template_rows": null,
            "height": null,
            "justify_content": null,
            "justify_items": null,
            "left": null,
            "margin": null,
            "max_height": null,
            "max_width": null,
            "min_height": null,
            "min_width": null,
            "object_fit": null,
            "object_position": null,
            "order": null,
            "overflow": null,
            "overflow_x": null,
            "overflow_y": null,
            "padding": null,
            "right": null,
            "top": null,
            "visibility": null,
            "width": null
          }
        },
        "dbf07fc5b7464fdba1012ea7f7441bd7": {
          "model_module": "@jupyter-widgets/controls",
          "model_name": "ProgressStyleModel",
          "model_module_version": "1.5.0",
          "state": {
            "_model_module": "@jupyter-widgets/controls",
            "_model_module_version": "1.5.0",
            "_model_name": "ProgressStyleModel",
            "_view_count": null,
            "_view_module": "@jupyter-widgets/base",
            "_view_module_version": "1.2.0",
            "_view_name": "StyleView",
            "bar_color": null,
            "description_width": ""
          }
        },
        "c83b33766f184cc2947c736afbad7b80": {
          "model_module": "@jupyter-widgets/base",
          "model_name": "LayoutModel",
          "model_module_version": "1.2.0",
          "state": {
            "_model_module": "@jupyter-widgets/base",
            "_model_module_version": "1.2.0",
            "_model_name": "LayoutModel",
            "_view_count": null,
            "_view_module": "@jupyter-widgets/base",
            "_view_module_version": "1.2.0",
            "_view_name": "LayoutView",
            "align_content": null,
            "align_items": null,
            "align_self": null,
            "border": null,
            "bottom": null,
            "display": null,
            "flex": null,
            "flex_flow": null,
            "grid_area": null,
            "grid_auto_columns": null,
            "grid_auto_flow": null,
            "grid_auto_rows": null,
            "grid_column": null,
            "grid_gap": null,
            "grid_row": null,
            "grid_template_areas": null,
            "grid_template_columns": null,
            "grid_template_rows": null,
            "height": null,
            "justify_content": null,
            "justify_items": null,
            "left": null,
            "margin": null,
            "max_height": null,
            "max_width": null,
            "min_height": null,
            "min_width": null,
            "object_fit": null,
            "object_position": null,
            "order": null,
            "overflow": null,
            "overflow_x": null,
            "overflow_y": null,
            "padding": null,
            "right": null,
            "top": null,
            "visibility": null,
            "width": null
          }
        },
        "3b1b689633f048e79a09ef68e8585740": {
          "model_module": "@jupyter-widgets/controls",
          "model_name": "DescriptionStyleModel",
          "model_module_version": "1.5.0",
          "state": {
            "_model_module": "@jupyter-widgets/controls",
            "_model_module_version": "1.5.0",
            "_model_name": "DescriptionStyleModel",
            "_view_count": null,
            "_view_module": "@jupyter-widgets/base",
            "_view_module_version": "1.2.0",
            "_view_name": "StyleView",
            "description_width": ""
          }
        },
        "e0156412e4354d548159031f317e15b7": {
          "model_module": "@jupyter-widgets/controls",
          "model_name": "HBoxModel",
          "model_module_version": "1.5.0",
          "state": {
            "_dom_classes": [],
            "_model_module": "@jupyter-widgets/controls",
            "_model_module_version": "1.5.0",
            "_model_name": "HBoxModel",
            "_view_count": null,
            "_view_module": "@jupyter-widgets/controls",
            "_view_module_version": "1.5.0",
            "_view_name": "HBoxView",
            "box_style": "",
            "children": [
              "IPY_MODEL_ec8227cf08b8429c9d9b70d89a92b9e1",
              "IPY_MODEL_bf7fd673fa1546b9a719eb6c4c763dea",
              "IPY_MODEL_d376b83ee534433490c15496342e4c37"
            ],
            "layout": "IPY_MODEL_8a0d69aef833438a883fedb1c08e6371"
          }
        },
        "ec8227cf08b8429c9d9b70d89a92b9e1": {
          "model_module": "@jupyter-widgets/controls",
          "model_name": "HTMLModel",
          "model_module_version": "1.5.0",
          "state": {
            "_dom_classes": [],
            "_model_module": "@jupyter-widgets/controls",
            "_model_module_version": "1.5.0",
            "_model_name": "HTMLModel",
            "_view_count": null,
            "_view_module": "@jupyter-widgets/controls",
            "_view_module_version": "1.5.0",
            "_view_name": "HTMLView",
            "description": "",
            "description_tooltip": null,
            "layout": "IPY_MODEL_d7abe4ca358446fb96785742bdc53b78",
            "placeholder": "​",
            "style": "IPY_MODEL_3860fe691c6447af8845057f2e8ac9f0",
            "value": "100%"
          }
        },
        "bf7fd673fa1546b9a719eb6c4c763dea": {
          "model_module": "@jupyter-widgets/controls",
          "model_name": "FloatProgressModel",
          "model_module_version": "1.5.0",
          "state": {
            "_dom_classes": [],
            "_model_module": "@jupyter-widgets/controls",
            "_model_module_version": "1.5.0",
            "_model_name": "FloatProgressModel",
            "_view_count": null,
            "_view_module": "@jupyter-widgets/controls",
            "_view_module_version": "1.5.0",
            "_view_name": "ProgressView",
            "bar_style": "success",
            "description": "",
            "description_tooltip": null,
            "layout": "IPY_MODEL_e31025d9a52e4c36aa6e9adc37799477",
            "max": 10,
            "min": 0,
            "orientation": "horizontal",
            "style": "IPY_MODEL_4272ad98753f4665b2828d6da4665083",
            "value": 10
          }
        },
        "d376b83ee534433490c15496342e4c37": {
          "model_module": "@jupyter-widgets/controls",
          "model_name": "HTMLModel",
          "model_module_version": "1.5.0",
          "state": {
            "_dom_classes": [],
            "_model_module": "@jupyter-widgets/controls",
            "_model_module_version": "1.5.0",
            "_model_name": "HTMLModel",
            "_view_count": null,
            "_view_module": "@jupyter-widgets/controls",
            "_view_module_version": "1.5.0",
            "_view_name": "HTMLView",
            "description": "",
            "description_tooltip": null,
            "layout": "IPY_MODEL_9921a589d5ec4225bcf8e97e1a4d519e",
            "placeholder": "​",
            "style": "IPY_MODEL_762789cef827401ebb33adcc19678f7f",
            "value": " 10/10 [00:12&lt;00:00,  1.19s/it]"
          }
        },
        "8a0d69aef833438a883fedb1c08e6371": {
          "model_module": "@jupyter-widgets/base",
          "model_name": "LayoutModel",
          "model_module_version": "1.2.0",
          "state": {
            "_model_module": "@jupyter-widgets/base",
            "_model_module_version": "1.2.0",
            "_model_name": "LayoutModel",
            "_view_count": null,
            "_view_module": "@jupyter-widgets/base",
            "_view_module_version": "1.2.0",
            "_view_name": "LayoutView",
            "align_content": null,
            "align_items": null,
            "align_self": null,
            "border": null,
            "bottom": null,
            "display": null,
            "flex": null,
            "flex_flow": null,
            "grid_area": null,
            "grid_auto_columns": null,
            "grid_auto_flow": null,
            "grid_auto_rows": null,
            "grid_column": null,
            "grid_gap": null,
            "grid_row": null,
            "grid_template_areas": null,
            "grid_template_columns": null,
            "grid_template_rows": null,
            "height": null,
            "justify_content": null,
            "justify_items": null,
            "left": null,
            "margin": null,
            "max_height": null,
            "max_width": null,
            "min_height": null,
            "min_width": null,
            "object_fit": null,
            "object_position": null,
            "order": null,
            "overflow": null,
            "overflow_x": null,
            "overflow_y": null,
            "padding": null,
            "right": null,
            "top": null,
            "visibility": null,
            "width": null
          }
        },
        "d7abe4ca358446fb96785742bdc53b78": {
          "model_module": "@jupyter-widgets/base",
          "model_name": "LayoutModel",
          "model_module_version": "1.2.0",
          "state": {
            "_model_module": "@jupyter-widgets/base",
            "_model_module_version": "1.2.0",
            "_model_name": "LayoutModel",
            "_view_count": null,
            "_view_module": "@jupyter-widgets/base",
            "_view_module_version": "1.2.0",
            "_view_name": "LayoutView",
            "align_content": null,
            "align_items": null,
            "align_self": null,
            "border": null,
            "bottom": null,
            "display": null,
            "flex": null,
            "flex_flow": null,
            "grid_area": null,
            "grid_auto_columns": null,
            "grid_auto_flow": null,
            "grid_auto_rows": null,
            "grid_column": null,
            "grid_gap": null,
            "grid_row": null,
            "grid_template_areas": null,
            "grid_template_columns": null,
            "grid_template_rows": null,
            "height": null,
            "justify_content": null,
            "justify_items": null,
            "left": null,
            "margin": null,
            "max_height": null,
            "max_width": null,
            "min_height": null,
            "min_width": null,
            "object_fit": null,
            "object_position": null,
            "order": null,
            "overflow": null,
            "overflow_x": null,
            "overflow_y": null,
            "padding": null,
            "right": null,
            "top": null,
            "visibility": null,
            "width": null
          }
        },
        "3860fe691c6447af8845057f2e8ac9f0": {
          "model_module": "@jupyter-widgets/controls",
          "model_name": "DescriptionStyleModel",
          "model_module_version": "1.5.0",
          "state": {
            "_model_module": "@jupyter-widgets/controls",
            "_model_module_version": "1.5.0",
            "_model_name": "DescriptionStyleModel",
            "_view_count": null,
            "_view_module": "@jupyter-widgets/base",
            "_view_module_version": "1.2.0",
            "_view_name": "StyleView",
            "description_width": ""
          }
        },
        "e31025d9a52e4c36aa6e9adc37799477": {
          "model_module": "@jupyter-widgets/base",
          "model_name": "LayoutModel",
          "model_module_version": "1.2.0",
          "state": {
            "_model_module": "@jupyter-widgets/base",
            "_model_module_version": "1.2.0",
            "_model_name": "LayoutModel",
            "_view_count": null,
            "_view_module": "@jupyter-widgets/base",
            "_view_module_version": "1.2.0",
            "_view_name": "LayoutView",
            "align_content": null,
            "align_items": null,
            "align_self": null,
            "border": null,
            "bottom": null,
            "display": null,
            "flex": null,
            "flex_flow": null,
            "grid_area": null,
            "grid_auto_columns": null,
            "grid_auto_flow": null,
            "grid_auto_rows": null,
            "grid_column": null,
            "grid_gap": null,
            "grid_row": null,
            "grid_template_areas": null,
            "grid_template_columns": null,
            "grid_template_rows": null,
            "height": null,
            "justify_content": null,
            "justify_items": null,
            "left": null,
            "margin": null,
            "max_height": null,
            "max_width": null,
            "min_height": null,
            "min_width": null,
            "object_fit": null,
            "object_position": null,
            "order": null,
            "overflow": null,
            "overflow_x": null,
            "overflow_y": null,
            "padding": null,
            "right": null,
            "top": null,
            "visibility": null,
            "width": null
          }
        },
        "4272ad98753f4665b2828d6da4665083": {
          "model_module": "@jupyter-widgets/controls",
          "model_name": "ProgressStyleModel",
          "model_module_version": "1.5.0",
          "state": {
            "_model_module": "@jupyter-widgets/controls",
            "_model_module_version": "1.5.0",
            "_model_name": "ProgressStyleModel",
            "_view_count": null,
            "_view_module": "@jupyter-widgets/base",
            "_view_module_version": "1.2.0",
            "_view_name": "StyleView",
            "bar_color": null,
            "description_width": ""
          }
        },
        "9921a589d5ec4225bcf8e97e1a4d519e": {
          "model_module": "@jupyter-widgets/base",
          "model_name": "LayoutModel",
          "model_module_version": "1.2.0",
          "state": {
            "_model_module": "@jupyter-widgets/base",
            "_model_module_version": "1.2.0",
            "_model_name": "LayoutModel",
            "_view_count": null,
            "_view_module": "@jupyter-widgets/base",
            "_view_module_version": "1.2.0",
            "_view_name": "LayoutView",
            "align_content": null,
            "align_items": null,
            "align_self": null,
            "border": null,
            "bottom": null,
            "display": null,
            "flex": null,
            "flex_flow": null,
            "grid_area": null,
            "grid_auto_columns": null,
            "grid_auto_flow": null,
            "grid_auto_rows": null,
            "grid_column": null,
            "grid_gap": null,
            "grid_row": null,
            "grid_template_areas": null,
            "grid_template_columns": null,
            "grid_template_rows": null,
            "height": null,
            "justify_content": null,
            "justify_items": null,
            "left": null,
            "margin": null,
            "max_height": null,
            "max_width": null,
            "min_height": null,
            "min_width": null,
            "object_fit": null,
            "object_position": null,
            "order": null,
            "overflow": null,
            "overflow_x": null,
            "overflow_y": null,
            "padding": null,
            "right": null,
            "top": null,
            "visibility": null,
            "width": null
          }
        },
        "762789cef827401ebb33adcc19678f7f": {
          "model_module": "@jupyter-widgets/controls",
          "model_name": "DescriptionStyleModel",
          "model_module_version": "1.5.0",
          "state": {
            "_model_module": "@jupyter-widgets/controls",
            "_model_module_version": "1.5.0",
            "_model_name": "DescriptionStyleModel",
            "_view_count": null,
            "_view_module": "@jupyter-widgets/base",
            "_view_module_version": "1.2.0",
            "_view_name": "StyleView",
            "description_width": ""
          }
        },
        "661711792f4c42c3a0cb97a5146df57d": {
          "model_module": "@jupyter-widgets/controls",
          "model_name": "HBoxModel",
          "model_module_version": "1.5.0",
          "state": {
            "_dom_classes": [],
            "_model_module": "@jupyter-widgets/controls",
            "_model_module_version": "1.5.0",
            "_model_name": "HBoxModel",
            "_view_count": null,
            "_view_module": "@jupyter-widgets/controls",
            "_view_module_version": "1.5.0",
            "_view_name": "HBoxView",
            "box_style": "",
            "children": [
              "IPY_MODEL_fb978b564d044524aef17e26fc954b8b",
              "IPY_MODEL_6bf7812ca5fc4e8eadd9ef1ad3f5a971",
              "IPY_MODEL_07808092e9f246aba7678f10baf5f93c"
            ],
            "layout": "IPY_MODEL_1f4f4f28d7b546908e8f208cc96e8133"
          }
        },
        "fb978b564d044524aef17e26fc954b8b": {
          "model_module": "@jupyter-widgets/controls",
          "model_name": "HTMLModel",
          "model_module_version": "1.5.0",
          "state": {
            "_dom_classes": [],
            "_model_module": "@jupyter-widgets/controls",
            "_model_module_version": "1.5.0",
            "_model_name": "HTMLModel",
            "_view_count": null,
            "_view_module": "@jupyter-widgets/controls",
            "_view_module_version": "1.5.0",
            "_view_name": "HTMLView",
            "description": "",
            "description_tooltip": null,
            "layout": "IPY_MODEL_12aa32f64c6d499f89a58f8c3fe4b1f7",
            "placeholder": "​",
            "style": "IPY_MODEL_5b87dc1161bc4fe890e5dd013fda967d",
            "value": "100%"
          }
        },
        "6bf7812ca5fc4e8eadd9ef1ad3f5a971": {
          "model_module": "@jupyter-widgets/controls",
          "model_name": "FloatProgressModel",
          "model_module_version": "1.5.0",
          "state": {
            "_dom_classes": [],
            "_model_module": "@jupyter-widgets/controls",
            "_model_module_version": "1.5.0",
            "_model_name": "FloatProgressModel",
            "_view_count": null,
            "_view_module": "@jupyter-widgets/controls",
            "_view_module_version": "1.5.0",
            "_view_name": "ProgressView",
            "bar_style": "success",
            "description": "",
            "description_tooltip": null,
            "layout": "IPY_MODEL_79b1f57ccd494320b928993ef0419ee1",
            "max": 500,
            "min": 0,
            "orientation": "horizontal",
            "style": "IPY_MODEL_0b470e8ffe3e4d00b8a1fe096352a0df",
            "value": 500
          }
        },
        "07808092e9f246aba7678f10baf5f93c": {
          "model_module": "@jupyter-widgets/controls",
          "model_name": "HTMLModel",
          "model_module_version": "1.5.0",
          "state": {
            "_dom_classes": [],
            "_model_module": "@jupyter-widgets/controls",
            "_model_module_version": "1.5.0",
            "_model_name": "HTMLModel",
            "_view_count": null,
            "_view_module": "@jupyter-widgets/controls",
            "_view_module_version": "1.5.0",
            "_view_name": "HTMLView",
            "description": "",
            "description_tooltip": null,
            "layout": "IPY_MODEL_d08d6abce5d7453e96bccb931f04ea8f",
            "placeholder": "​",
            "style": "IPY_MODEL_1ad6d211c62948eeaa8d30d1cfc0bfe6",
            "value": " 500/500 [00:00&lt;00:00, 23578.08it/s]"
          }
        },
        "1f4f4f28d7b546908e8f208cc96e8133": {
          "model_module": "@jupyter-widgets/base",
          "model_name": "LayoutModel",
          "model_module_version": "1.2.0",
          "state": {
            "_model_module": "@jupyter-widgets/base",
            "_model_module_version": "1.2.0",
            "_model_name": "LayoutModel",
            "_view_count": null,
            "_view_module": "@jupyter-widgets/base",
            "_view_module_version": "1.2.0",
            "_view_name": "LayoutView",
            "align_content": null,
            "align_items": null,
            "align_self": null,
            "border": null,
            "bottom": null,
            "display": null,
            "flex": null,
            "flex_flow": null,
            "grid_area": null,
            "grid_auto_columns": null,
            "grid_auto_flow": null,
            "grid_auto_rows": null,
            "grid_column": null,
            "grid_gap": null,
            "grid_row": null,
            "grid_template_areas": null,
            "grid_template_columns": null,
            "grid_template_rows": null,
            "height": null,
            "justify_content": null,
            "justify_items": null,
            "left": null,
            "margin": null,
            "max_height": null,
            "max_width": null,
            "min_height": null,
            "min_width": null,
            "object_fit": null,
            "object_position": null,
            "order": null,
            "overflow": null,
            "overflow_x": null,
            "overflow_y": null,
            "padding": null,
            "right": null,
            "top": null,
            "visibility": null,
            "width": null
          }
        },
        "12aa32f64c6d499f89a58f8c3fe4b1f7": {
          "model_module": "@jupyter-widgets/base",
          "model_name": "LayoutModel",
          "model_module_version": "1.2.0",
          "state": {
            "_model_module": "@jupyter-widgets/base",
            "_model_module_version": "1.2.0",
            "_model_name": "LayoutModel",
            "_view_count": null,
            "_view_module": "@jupyter-widgets/base",
            "_view_module_version": "1.2.0",
            "_view_name": "LayoutView",
            "align_content": null,
            "align_items": null,
            "align_self": null,
            "border": null,
            "bottom": null,
            "display": null,
            "flex": null,
            "flex_flow": null,
            "grid_area": null,
            "grid_auto_columns": null,
            "grid_auto_flow": null,
            "grid_auto_rows": null,
            "grid_column": null,
            "grid_gap": null,
            "grid_row": null,
            "grid_template_areas": null,
            "grid_template_columns": null,
            "grid_template_rows": null,
            "height": null,
            "justify_content": null,
            "justify_items": null,
            "left": null,
            "margin": null,
            "max_height": null,
            "max_width": null,
            "min_height": null,
            "min_width": null,
            "object_fit": null,
            "object_position": null,
            "order": null,
            "overflow": null,
            "overflow_x": null,
            "overflow_y": null,
            "padding": null,
            "right": null,
            "top": null,
            "visibility": null,
            "width": null
          }
        },
        "5b87dc1161bc4fe890e5dd013fda967d": {
          "model_module": "@jupyter-widgets/controls",
          "model_name": "DescriptionStyleModel",
          "model_module_version": "1.5.0",
          "state": {
            "_model_module": "@jupyter-widgets/controls",
            "_model_module_version": "1.5.0",
            "_model_name": "DescriptionStyleModel",
            "_view_count": null,
            "_view_module": "@jupyter-widgets/base",
            "_view_module_version": "1.2.0",
            "_view_name": "StyleView",
            "description_width": ""
          }
        },
        "79b1f57ccd494320b928993ef0419ee1": {
          "model_module": "@jupyter-widgets/base",
          "model_name": "LayoutModel",
          "model_module_version": "1.2.0",
          "state": {
            "_model_module": "@jupyter-widgets/base",
            "_model_module_version": "1.2.0",
            "_model_name": "LayoutModel",
            "_view_count": null,
            "_view_module": "@jupyter-widgets/base",
            "_view_module_version": "1.2.0",
            "_view_name": "LayoutView",
            "align_content": null,
            "align_items": null,
            "align_self": null,
            "border": null,
            "bottom": null,
            "display": null,
            "flex": null,
            "flex_flow": null,
            "grid_area": null,
            "grid_auto_columns": null,
            "grid_auto_flow": null,
            "grid_auto_rows": null,
            "grid_column": null,
            "grid_gap": null,
            "grid_row": null,
            "grid_template_areas": null,
            "grid_template_columns": null,
            "grid_template_rows": null,
            "height": null,
            "justify_content": null,
            "justify_items": null,
            "left": null,
            "margin": null,
            "max_height": null,
            "max_width": null,
            "min_height": null,
            "min_width": null,
            "object_fit": null,
            "object_position": null,
            "order": null,
            "overflow": null,
            "overflow_x": null,
            "overflow_y": null,
            "padding": null,
            "right": null,
            "top": null,
            "visibility": null,
            "width": null
          }
        },
        "0b470e8ffe3e4d00b8a1fe096352a0df": {
          "model_module": "@jupyter-widgets/controls",
          "model_name": "ProgressStyleModel",
          "model_module_version": "1.5.0",
          "state": {
            "_model_module": "@jupyter-widgets/controls",
            "_model_module_version": "1.5.0",
            "_model_name": "ProgressStyleModel",
            "_view_count": null,
            "_view_module": "@jupyter-widgets/base",
            "_view_module_version": "1.2.0",
            "_view_name": "StyleView",
            "bar_color": null,
            "description_width": ""
          }
        },
        "d08d6abce5d7453e96bccb931f04ea8f": {
          "model_module": "@jupyter-widgets/base",
          "model_name": "LayoutModel",
          "model_module_version": "1.2.0",
          "state": {
            "_model_module": "@jupyter-widgets/base",
            "_model_module_version": "1.2.0",
            "_model_name": "LayoutModel",
            "_view_count": null,
            "_view_module": "@jupyter-widgets/base",
            "_view_module_version": "1.2.0",
            "_view_name": "LayoutView",
            "align_content": null,
            "align_items": null,
            "align_self": null,
            "border": null,
            "bottom": null,
            "display": null,
            "flex": null,
            "flex_flow": null,
            "grid_area": null,
            "grid_auto_columns": null,
            "grid_auto_flow": null,
            "grid_auto_rows": null,
            "grid_column": null,
            "grid_gap": null,
            "grid_row": null,
            "grid_template_areas": null,
            "grid_template_columns": null,
            "grid_template_rows": null,
            "height": null,
            "justify_content": null,
            "justify_items": null,
            "left": null,
            "margin": null,
            "max_height": null,
            "max_width": null,
            "min_height": null,
            "min_width": null,
            "object_fit": null,
            "object_position": null,
            "order": null,
            "overflow": null,
            "overflow_x": null,
            "overflow_y": null,
            "padding": null,
            "right": null,
            "top": null,
            "visibility": null,
            "width": null
          }
        },
        "1ad6d211c62948eeaa8d30d1cfc0bfe6": {
          "model_module": "@jupyter-widgets/controls",
          "model_name": "DescriptionStyleModel",
          "model_module_version": "1.5.0",
          "state": {
            "_model_module": "@jupyter-widgets/controls",
            "_model_module_version": "1.5.0",
            "_model_name": "DescriptionStyleModel",
            "_view_count": null,
            "_view_module": "@jupyter-widgets/base",
            "_view_module_version": "1.2.0",
            "_view_name": "StyleView",
            "description_width": ""
          }
        }
      }
    }
  },
  "nbformat": 4,
  "nbformat_minor": 0
}